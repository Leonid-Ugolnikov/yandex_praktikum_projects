{
 "cells": [
  {
   "cell_type": "markdown",
   "metadata": {
    "toc": true
   },
   "source": [
    "<h1>Содержание<span class=\"tocSkip\"></span></h1>\n",
    "<div class=\"toc\"><ul class=\"toc-item\"><li><span><a href=\"#Подготовка-данных\" data-toc-modified-id=\"Подготовка-данных-1\"><span class=\"toc-item-num\">1&nbsp;&nbsp;</span>Подготовка данных</a></span><ul class=\"toc-item\"><li><span><a href=\"#Импорт-библиотек\" data-toc-modified-id=\"Импорт-библиотек-1.1\"><span class=\"toc-item-num\">1.1&nbsp;&nbsp;</span>Импорт библиотек</a></span></li><li><span><a href=\"#Извлечение-и-описание-данных\" data-toc-modified-id=\"Извлечение-и-описание-данных-1.2\"><span class=\"toc-item-num\">1.2&nbsp;&nbsp;</span>Извлечение и описание данных</a></span></li><li><span><a href=\"#Предобработка-данных\" data-toc-modified-id=\"Предобработка-данных-1.3\"><span class=\"toc-item-num\">1.3&nbsp;&nbsp;</span>Предобработка данных</a></span></li><li><span><a href=\"#Вывод\" data-toc-modified-id=\"Вывод-1.4\"><span class=\"toc-item-num\">1.4&nbsp;&nbsp;</span>Вывод</a></span></li></ul></li><li><span><a href=\"#Исследование-задачи\" data-toc-modified-id=\"Исследование-задачи-2\"><span class=\"toc-item-num\">2&nbsp;&nbsp;</span>Исследование задачи</a></span><ul class=\"toc-item\"><li><span><a href=\"#Исследование-дисбаланса\" data-toc-modified-id=\"Исследование-дисбаланса-2.1\"><span class=\"toc-item-num\">2.1&nbsp;&nbsp;</span>Исследование дисбаланса</a></span></li><li><span><a href=\"#Создание-функции-для-обучения-моделей\" data-toc-modified-id=\"Создание-функции-для-обучения-моделей-2.2\"><span class=\"toc-item-num\">2.2&nbsp;&nbsp;</span>Создание функции для обучения моделей</a></span><ul class=\"toc-item\"><li><span><a href=\"#Функция-для-модели-логистической-регрессии\" data-toc-modified-id=\"Функция-для-модели-логистической-регрессии-2.2.1\"><span class=\"toc-item-num\">2.2.1&nbsp;&nbsp;</span>Функция для модели логистической регрессии</a></span></li><li><span><a href=\"#Функция-для-модели-решающего-дерева\" data-toc-modified-id=\"Функция-для-модели-решающего-дерева-2.2.2\"><span class=\"toc-item-num\">2.2.2&nbsp;&nbsp;</span>Функция для модели решающего дерева</a></span></li><li><span><a href=\"#Функции-для-модели-случайного-леса\" data-toc-modified-id=\"Функции-для-модели-случайного-леса-2.2.3\"><span class=\"toc-item-num\">2.2.3&nbsp;&nbsp;</span>Функции для модели случайного леса</a></span></li></ul></li><li><span><a href=\"#Исследование-модели-логистической-регрессии\" data-toc-modified-id=\"Исследование-модели-логистической-регрессии-2.3\"><span class=\"toc-item-num\">2.3&nbsp;&nbsp;</span>Исследование модели логистической регрессии</a></span></li><li><span><a href=\"#Исследование-модели-решающего-дерева\" data-toc-modified-id=\"Исследование-модели-решающего-дерева-2.4\"><span class=\"toc-item-num\">2.4&nbsp;&nbsp;</span>Исследование модели решающего дерева</a></span></li><li><span><a href=\"#Исследование-модели-случайного-леса\" data-toc-modified-id=\"Исследование-модели-случайного-леса-2.5\"><span class=\"toc-item-num\">2.5&nbsp;&nbsp;</span>Исследование модели случайного леса</a></span></li><li><span><a href=\"#Вывод\" data-toc-modified-id=\"Вывод-2.6\"><span class=\"toc-item-num\">2.6&nbsp;&nbsp;</span>Вывод</a></span></li></ul></li><li><span><a href=\"#Борьба-с-дисбалансом\" data-toc-modified-id=\"Борьба-с-дисбалансом-3\"><span class=\"toc-item-num\">3&nbsp;&nbsp;</span>Борьба с дисбалансом</a></span><ul class=\"toc-item\"><li><span><a href=\"#Применение-параметра-class_weight-=-'balanced'\" data-toc-modified-id=\"Применение-параметра-class_weight-=-'balanced'-3.1\"><span class=\"toc-item-num\">3.1&nbsp;&nbsp;</span>Применение параметра <code>class_weight = 'balanced'</code></a></span><ul class=\"toc-item\"><li><span><a href=\"#Модель-логистической-регрессии-c-параметром-class_weight-=-'balanced'\" data-toc-modified-id=\"Модель-логистической-регрессии-c-параметром-class_weight-=-'balanced'-3.1.1\"><span class=\"toc-item-num\">3.1.1&nbsp;&nbsp;</span>Модель логистической регрессии c параметром <code>class_weight = 'balanced'</code></a></span></li><li><span><a href=\"#Модель-решающего-дерева-c-параметром-class_weight-=-'balanced'\" data-toc-modified-id=\"Модель-решающего-дерева-c-параметром-class_weight-=-'balanced'-3.1.2\"><span class=\"toc-item-num\">3.1.2&nbsp;&nbsp;</span>Модель решающего дерева c параметром <code>class_weight = 'balanced'</code></a></span></li><li><span><a href=\"#Модель-случайного-леса-c-параметром-class_weight-=-'balanced'\" data-toc-modified-id=\"Модель-случайного-леса-c-параметром-class_weight-=-'balanced'-3.1.3\"><span class=\"toc-item-num\">3.1.3&nbsp;&nbsp;</span>Модель случайного леса c параметром <code>class_weight = 'balanced'</code></a></span></li><li><span><a href=\"#Вывод\" data-toc-modified-id=\"Вывод-3.1.4\"><span class=\"toc-item-num\">3.1.4&nbsp;&nbsp;</span>Вывод</a></span></li></ul></li><li><span><a href=\"#Увеличение-выборки-(upsampling)\" data-toc-modified-id=\"Увеличение-выборки-(upsampling)-3.2\"><span class=\"toc-item-num\">3.2&nbsp;&nbsp;</span>Увеличение выборки (upsampling)</a></span><ul class=\"toc-item\"><li><span><a href=\"#Модель-логистической-регрессии-на-увеличенной-выборке\" data-toc-modified-id=\"Модель-логистической-регрессии-на-увеличенной-выборке-3.2.1\"><span class=\"toc-item-num\">3.2.1&nbsp;&nbsp;</span>Модель логистической регрессии на увеличенной выборке</a></span></li><li><span><a href=\"#Модель-дерево-решений-на-увеличенной-выборке\" data-toc-modified-id=\"Модель-дерево-решений-на-увеличенной-выборке-3.2.2\"><span class=\"toc-item-num\">3.2.2&nbsp;&nbsp;</span>Модель дерево решений на увеличенной выборке</a></span></li><li><span><a href=\"#Модель-случайного-леса-на-увеличенной-выборке\" data-toc-modified-id=\"Модель-случайного-леса-на-увеличенной-выборке-3.2.3\"><span class=\"toc-item-num\">3.2.3&nbsp;&nbsp;</span>Модель случайного леса на увеличенной выборке</a></span></li><li><span><a href=\"#Вывод\" data-toc-modified-id=\"Вывод-3.2.4\"><span class=\"toc-item-num\">3.2.4&nbsp;&nbsp;</span>Вывод</a></span></li></ul></li><li><span><a href=\"#Уменьшение-выборки\" data-toc-modified-id=\"Уменьшение-выборки-3.3\"><span class=\"toc-item-num\">3.3&nbsp;&nbsp;</span>Уменьшение выборки</a></span><ul class=\"toc-item\"><li><span><a href=\"#Модель-логистической-регрессии-на-уменьшенной-выборке\" data-toc-modified-id=\"Модель-логистической-регрессии-на-уменьшенной-выборке-3.3.1\"><span class=\"toc-item-num\">3.3.1&nbsp;&nbsp;</span>Модель логистической регрессии на уменьшенной выборке</a></span></li><li><span><a href=\"#Модель-дерево-решений-на-уменьшенной-выборке\" data-toc-modified-id=\"Модель-дерево-решений-на-уменьшенной-выборке-3.3.2\"><span class=\"toc-item-num\">3.3.2&nbsp;&nbsp;</span>Модель дерево решений на уменьшенной выборке</a></span></li><li><span><a href=\"#Модель-случайного-леса-на-уменьшенной-выборке\" data-toc-modified-id=\"Модель-случайного-леса-на-уменьшенной-выборке-3.3.3\"><span class=\"toc-item-num\">3.3.3&nbsp;&nbsp;</span>Модель случайного леса на уменьшенной выборке</a></span></li><li><span><a href=\"#Вывод\" data-toc-modified-id=\"Вывод-3.3.4\"><span class=\"toc-item-num\">3.3.4&nbsp;&nbsp;</span>Вывод</a></span></li></ul></li></ul></li><li><span><a href=\"#Тестирование-модели\" data-toc-modified-id=\"Тестирование-модели-4\"><span class=\"toc-item-num\">4&nbsp;&nbsp;</span>Тестирование модели</a></span><ul class=\"toc-item\"><li><span><a href=\"#Вывод\" data-toc-modified-id=\"Вывод-4.1\"><span class=\"toc-item-num\">4.1&nbsp;&nbsp;</span>Вывод</a></span></li></ul></li><li><span><a href=\"#Чек-лист-готовности-проекта\" data-toc-modified-id=\"Чек-лист-готовности-проекта-5\"><span class=\"toc-item-num\">5&nbsp;&nbsp;</span>Чек-лист готовности проекта</a></span></li></ul></div>"
   ]
  },
  {
   "cell_type": "markdown",
   "metadata": {},
   "source": [
    "# Отток клиентов"
   ]
  },
  {
   "cell_type": "markdown",
   "metadata": {},
   "source": [
    "Из «Бета-Банка» стали уходить клиенты. Каждый месяц. Немного, но заметно. Банковские маркетологи посчитали: сохранять текущих клиентов дешевле, чем привлекать новых.\n",
    "\n",
    "Нужно спрогнозировать, уйдёт клиент из банка в ближайшее время или нет. Вам предоставлены исторические данные о поведении клиентов и расторжении договоров с банком. \n",
    "\n",
    "Постройте модель с предельно большим значением *F1*-меры. Чтобы сдать проект успешно, нужно довести метрику до 0.59. Проверьте *F1*-меру на тестовой выборке самостоятельно.\n",
    "\n",
    "Дополнительно измеряйте *AUC-ROC*, сравнивайте её значение с *F1*-мерой.\n",
    "\n",
    "Источник данных: [https://www.kaggle.com/barelydedicated/bank-customer-churn-modeling](https://www.kaggle.com/barelydedicated/bank-customer-churn-modeling)"
   ]
  },
  {
   "cell_type": "markdown",
   "metadata": {},
   "source": [
    "## Подготовка данных"
   ]
  },
  {
   "cell_type": "markdown",
   "metadata": {},
   "source": [
    "### Импорт библиотек"
   ]
  },
  {
   "cell_type": "code",
   "execution_count": 1,
   "metadata": {},
   "outputs": [],
   "source": [
    "import pandas as pd\n",
    "import numpy as np\n",
    "import warnings\n",
    "warnings.filterwarnings('ignore')\n",
    "import matplotlib.pyplot as plt\n",
    "import seaborn as sns\n",
    "from sklearn.linear_model import LogisticRegression, LinearRegression\n",
    "from sklearn.ensemble import RandomForestClassifier, RandomForestRegressor\n",
    "from sklearn.tree import DecisionTreeClassifier\n",
    "from sklearn.model_selection import train_test_split\n",
    "from sklearn.preprocessing import StandardScaler\n",
    "from sklearn.utils import shuffle\n",
    "from sklearn.metrics import roc_curve, accuracy_score, confusion_matrix, f1_score, roc_auc_score, r2_score\n",
    "# импорт необходимых библиотек\n"
   ]
  },
  {
   "cell_type": "markdown",
   "metadata": {},
   "source": [
    "<div class=\"alert alert-block alert-success\">\n",
    "<b>Комментарий от ревьюера v1</b>\n",
    "    \n",
    "<b>Успех:</b> Хорошее начало работы. \n",
    "<br> Есть описание данных, содержание и все библиотеки вынесены в одну ячейку)\n",
    "</div>"
   ]
  },
  {
   "cell_type": "markdown",
   "metadata": {},
   "source": [
    "### Извлечение и описание данных"
   ]
  },
  {
   "cell_type": "code",
   "execution_count": 2,
   "metadata": {
    "scrolled": true
   },
   "outputs": [
    {
     "name": "stdout",
     "output_type": "stream",
     "text": [
      "<class 'pandas.core.frame.DataFrame'>\n",
      "RangeIndex: 10000 entries, 0 to 9999\n",
      "Data columns (total 14 columns):\n",
      " #   Column           Non-Null Count  Dtype  \n",
      "---  ------           --------------  -----  \n",
      " 0   RowNumber        10000 non-null  int64  \n",
      " 1   CustomerId       10000 non-null  int64  \n",
      " 2   Surname          10000 non-null  object \n",
      " 3   CreditScore      10000 non-null  int64  \n",
      " 4   Geography        10000 non-null  object \n",
      " 5   Gender           10000 non-null  object \n",
      " 6   Age              10000 non-null  int64  \n",
      " 7   Tenure           9091 non-null   float64\n",
      " 8   Balance          10000 non-null  float64\n",
      " 9   NumOfProducts    10000 non-null  int64  \n",
      " 10  HasCrCard        10000 non-null  int64  \n",
      " 11  IsActiveMember   10000 non-null  int64  \n",
      " 12  EstimatedSalary  10000 non-null  float64\n",
      " 13  Exited           10000 non-null  int64  \n",
      "dtypes: float64(3), int64(8), object(3)\n",
      "memory usage: 1.1+ MB\n"
     ]
    },
    {
     "data": {
      "text/html": [
       "<div>\n",
       "<style scoped>\n",
       "    .dataframe tbody tr th:only-of-type {\n",
       "        vertical-align: middle;\n",
       "    }\n",
       "\n",
       "    .dataframe tbody tr th {\n",
       "        vertical-align: top;\n",
       "    }\n",
       "\n",
       "    .dataframe thead th {\n",
       "        text-align: right;\n",
       "    }\n",
       "</style>\n",
       "<table border=\"1\" class=\"dataframe\">\n",
       "  <thead>\n",
       "    <tr style=\"text-align: right;\">\n",
       "      <th></th>\n",
       "      <th>RowNumber</th>\n",
       "      <th>CustomerId</th>\n",
       "      <th>Surname</th>\n",
       "      <th>CreditScore</th>\n",
       "      <th>Geography</th>\n",
       "      <th>Gender</th>\n",
       "      <th>Age</th>\n",
       "      <th>Tenure</th>\n",
       "      <th>Balance</th>\n",
       "      <th>NumOfProducts</th>\n",
       "      <th>HasCrCard</th>\n",
       "      <th>IsActiveMember</th>\n",
       "      <th>EstimatedSalary</th>\n",
       "      <th>Exited</th>\n",
       "    </tr>\n",
       "  </thead>\n",
       "  <tbody>\n",
       "    <tr>\n",
       "      <th>0</th>\n",
       "      <td>1</td>\n",
       "      <td>15634602</td>\n",
       "      <td>Hargrave</td>\n",
       "      <td>619</td>\n",
       "      <td>France</td>\n",
       "      <td>Female</td>\n",
       "      <td>42</td>\n",
       "      <td>2.0</td>\n",
       "      <td>0.00</td>\n",
       "      <td>1</td>\n",
       "      <td>1</td>\n",
       "      <td>1</td>\n",
       "      <td>101348.88</td>\n",
       "      <td>1</td>\n",
       "    </tr>\n",
       "    <tr>\n",
       "      <th>1</th>\n",
       "      <td>2</td>\n",
       "      <td>15647311</td>\n",
       "      <td>Hill</td>\n",
       "      <td>608</td>\n",
       "      <td>Spain</td>\n",
       "      <td>Female</td>\n",
       "      <td>41</td>\n",
       "      <td>1.0</td>\n",
       "      <td>83807.86</td>\n",
       "      <td>1</td>\n",
       "      <td>0</td>\n",
       "      <td>1</td>\n",
       "      <td>112542.58</td>\n",
       "      <td>0</td>\n",
       "    </tr>\n",
       "    <tr>\n",
       "      <th>2</th>\n",
       "      <td>3</td>\n",
       "      <td>15619304</td>\n",
       "      <td>Onio</td>\n",
       "      <td>502</td>\n",
       "      <td>France</td>\n",
       "      <td>Female</td>\n",
       "      <td>42</td>\n",
       "      <td>8.0</td>\n",
       "      <td>159660.80</td>\n",
       "      <td>3</td>\n",
       "      <td>1</td>\n",
       "      <td>0</td>\n",
       "      <td>113931.57</td>\n",
       "      <td>1</td>\n",
       "    </tr>\n",
       "    <tr>\n",
       "      <th>3</th>\n",
       "      <td>4</td>\n",
       "      <td>15701354</td>\n",
       "      <td>Boni</td>\n",
       "      <td>699</td>\n",
       "      <td>France</td>\n",
       "      <td>Female</td>\n",
       "      <td>39</td>\n",
       "      <td>1.0</td>\n",
       "      <td>0.00</td>\n",
       "      <td>2</td>\n",
       "      <td>0</td>\n",
       "      <td>0</td>\n",
       "      <td>93826.63</td>\n",
       "      <td>0</td>\n",
       "    </tr>\n",
       "    <tr>\n",
       "      <th>4</th>\n",
       "      <td>5</td>\n",
       "      <td>15737888</td>\n",
       "      <td>Mitchell</td>\n",
       "      <td>850</td>\n",
       "      <td>Spain</td>\n",
       "      <td>Female</td>\n",
       "      <td>43</td>\n",
       "      <td>2.0</td>\n",
       "      <td>125510.82</td>\n",
       "      <td>1</td>\n",
       "      <td>1</td>\n",
       "      <td>1</td>\n",
       "      <td>79084.10</td>\n",
       "      <td>0</td>\n",
       "    </tr>\n",
       "  </tbody>\n",
       "</table>\n",
       "</div>"
      ],
      "text/plain": [
       "   RowNumber  CustomerId   Surname  CreditScore Geography  Gender  Age  \\\n",
       "0          1    15634602  Hargrave          619    France  Female   42   \n",
       "1          2    15647311      Hill          608     Spain  Female   41   \n",
       "2          3    15619304      Onio          502    France  Female   42   \n",
       "3          4    15701354      Boni          699    France  Female   39   \n",
       "4          5    15737888  Mitchell          850     Spain  Female   43   \n",
       "\n",
       "   Tenure    Balance  NumOfProducts  HasCrCard  IsActiveMember  \\\n",
       "0     2.0       0.00              1          1               1   \n",
       "1     1.0   83807.86              1          0               1   \n",
       "2     8.0  159660.80              3          1               0   \n",
       "3     1.0       0.00              2          0               0   \n",
       "4     2.0  125510.82              1          1               1   \n",
       "\n",
       "   EstimatedSalary  Exited  \n",
       "0        101348.88       1  \n",
       "1        112542.58       0  \n",
       "2        113931.57       1  \n",
       "3         93826.63       0  \n",
       "4         79084.10       0  "
      ]
     },
     "execution_count": 2,
     "metadata": {},
     "output_type": "execute_result"
    }
   ],
   "source": [
    "df = pd.read_csv('/datasets/Churn.csv')\n",
    "\n",
    "df.info()\n",
    "df.head()\n",
    "# считываем датафрейм и выводим информацию по нему"
   ]
  },
  {
   "cell_type": "markdown",
   "metadata": {},
   "source": [
    "Исходя из полученных данных мы видим, что данные состоят из 13 признаков и 1 целевого признака. При этом пропуски в данных обнаруженны только в столбце `Tenure` (сколько лет человек является клиентом банка).\n",
    "**Признаки**\n",
    "- `RowNumber` — индекс строки в данных\n",
    "- `CustomerId` — уникальный идентификатор клиента\n",
    "- `Surname` — фамилия\n",
    "- `CreditScore` — кредитный рейтинг\n",
    "- `Geography` — страна проживания\n",
    "- `Gender` — пол\n",
    "- `Age` — возраст\n",
    "- `Tenure` — сколько лет человек является клиентом банка\n",
    "- `Balance` — баланс на счёте\n",
    "- `NumOfProducts` — количество продуктов банка, используемых клиентом\n",
    "- `HasCrCard` — наличие кредитной карты\n",
    "- `IsActiveMember` — активность клиента\n",
    "- `EstimatedSalary` — предполагаемая зарплата\n",
    "\n",
    "**Целевой признак**\n",
    "- `Exited` — факт ухода клиента"
   ]
  },
  {
   "cell_type": "markdown",
   "metadata": {},
   "source": [
    "### Предобработка данных"
   ]
  },
  {
   "cell_type": "code",
   "execution_count": 3,
   "metadata": {
    "scrolled": false
   },
   "outputs": [
    {
     "data": {
      "text/html": [
       "<div>\n",
       "<style scoped>\n",
       "    .dataframe tbody tr th:only-of-type {\n",
       "        vertical-align: middle;\n",
       "    }\n",
       "\n",
       "    .dataframe tbody tr th {\n",
       "        vertical-align: top;\n",
       "    }\n",
       "\n",
       "    .dataframe thead th {\n",
       "        text-align: right;\n",
       "    }\n",
       "</style>\n",
       "<table border=\"1\" class=\"dataframe\">\n",
       "  <thead>\n",
       "    <tr style=\"text-align: right;\">\n",
       "      <th></th>\n",
       "      <th>CreditScore</th>\n",
       "      <th>Geography</th>\n",
       "      <th>Gender</th>\n",
       "      <th>Age</th>\n",
       "      <th>Tenure</th>\n",
       "      <th>Balance</th>\n",
       "      <th>NumOfProducts</th>\n",
       "      <th>HasCrCard</th>\n",
       "      <th>IsActiveMember</th>\n",
       "      <th>EstimatedSalary</th>\n",
       "      <th>Exited</th>\n",
       "    </tr>\n",
       "  </thead>\n",
       "  <tbody>\n",
       "    <tr>\n",
       "      <th>0</th>\n",
       "      <td>619</td>\n",
       "      <td>France</td>\n",
       "      <td>Female</td>\n",
       "      <td>42</td>\n",
       "      <td>2.0</td>\n",
       "      <td>0.00</td>\n",
       "      <td>1</td>\n",
       "      <td>1</td>\n",
       "      <td>1</td>\n",
       "      <td>101348.88</td>\n",
       "      <td>1</td>\n",
       "    </tr>\n",
       "    <tr>\n",
       "      <th>1</th>\n",
       "      <td>608</td>\n",
       "      <td>Spain</td>\n",
       "      <td>Female</td>\n",
       "      <td>41</td>\n",
       "      <td>1.0</td>\n",
       "      <td>83807.86</td>\n",
       "      <td>1</td>\n",
       "      <td>0</td>\n",
       "      <td>1</td>\n",
       "      <td>112542.58</td>\n",
       "      <td>0</td>\n",
       "    </tr>\n",
       "    <tr>\n",
       "      <th>2</th>\n",
       "      <td>502</td>\n",
       "      <td>France</td>\n",
       "      <td>Female</td>\n",
       "      <td>42</td>\n",
       "      <td>8.0</td>\n",
       "      <td>159660.80</td>\n",
       "      <td>3</td>\n",
       "      <td>1</td>\n",
       "      <td>0</td>\n",
       "      <td>113931.57</td>\n",
       "      <td>1</td>\n",
       "    </tr>\n",
       "    <tr>\n",
       "      <th>3</th>\n",
       "      <td>699</td>\n",
       "      <td>France</td>\n",
       "      <td>Female</td>\n",
       "      <td>39</td>\n",
       "      <td>1.0</td>\n",
       "      <td>0.00</td>\n",
       "      <td>2</td>\n",
       "      <td>0</td>\n",
       "      <td>0</td>\n",
       "      <td>93826.63</td>\n",
       "      <td>0</td>\n",
       "    </tr>\n",
       "    <tr>\n",
       "      <th>4</th>\n",
       "      <td>850</td>\n",
       "      <td>Spain</td>\n",
       "      <td>Female</td>\n",
       "      <td>43</td>\n",
       "      <td>2.0</td>\n",
       "      <td>125510.82</td>\n",
       "      <td>1</td>\n",
       "      <td>1</td>\n",
       "      <td>1</td>\n",
       "      <td>79084.10</td>\n",
       "      <td>0</td>\n",
       "    </tr>\n",
       "  </tbody>\n",
       "</table>\n",
       "</div>"
      ],
      "text/plain": [
       "   CreditScore Geography  Gender  Age  Tenure    Balance  NumOfProducts  \\\n",
       "0          619    France  Female   42     2.0       0.00              1   \n",
       "1          608     Spain  Female   41     1.0   83807.86              1   \n",
       "2          502    France  Female   42     8.0  159660.80              3   \n",
       "3          699    France  Female   39     1.0       0.00              2   \n",
       "4          850     Spain  Female   43     2.0  125510.82              1   \n",
       "\n",
       "   HasCrCard  IsActiveMember  EstimatedSalary  Exited  \n",
       "0          1               1        101348.88       1  \n",
       "1          0               1        112542.58       0  \n",
       "2          1               0        113931.57       1  \n",
       "3          0               0         93826.63       0  \n",
       "4          1               1         79084.10       0  "
      ]
     },
     "execution_count": 3,
     "metadata": {},
     "output_type": "execute_result"
    }
   ],
   "source": [
    "df = df.drop(['RowNumber','CustomerId','Surname'], axis=1)\n",
    "df.head()\n",
    "#удаляем столбцы которые не портребуются для дальнейшей работы"
   ]
  },
  {
   "cell_type": "markdown",
   "metadata": {},
   "source": [
    "Удалили столбцы `RowNumber`,`CustomerId`,`Surname`. При дальнейшей работе они нам непонадобятся!"
   ]
  },
  {
   "cell_type": "code",
   "execution_count": 4,
   "metadata": {
    "scrolled": true
   },
   "outputs": [
    {
     "name": "stdout",
     "output_type": "stream",
     "text": [
      "<class 'pandas.core.frame.DataFrame'>\n",
      "RangeIndex: 10000 entries, 0 to 9999\n",
      "Data columns (total 11 columns):\n",
      " #   Column           Non-Null Count  Dtype  \n",
      "---  ------           --------------  -----  \n",
      " 0   CreditScore      10000 non-null  int64  \n",
      " 1   Geography        10000 non-null  object \n",
      " 2   Gender           10000 non-null  object \n",
      " 3   Age              10000 non-null  int64  \n",
      " 4   Tenure           10000 non-null  float64\n",
      " 5   Balance          10000 non-null  float64\n",
      " 6   NumOfProducts    10000 non-null  int64  \n",
      " 7   HasCrCard        10000 non-null  int64  \n",
      " 8   IsActiveMember   10000 non-null  int64  \n",
      " 9   EstimatedSalary  10000 non-null  float64\n",
      " 10  Exited           10000 non-null  int64  \n",
      "dtypes: float64(3), int64(6), object(2)\n",
      "memory usage: 859.5+ KB\n"
     ]
    }
   ],
   "source": [
    "\n",
    "df = df.fillna(method='ffill')\n",
    "df.info()\n",
    "#заменяем пропуски в колонке Tenure, пропуски заменили предыдущим непропущенным значением\n"
   ]
  },
  {
   "cell_type": "markdown",
   "metadata": {},
   "source": [
    "Заменили пропуски в столбце `Tenure`. Пропуски заменили предыдущим непропущенным значением в cтолбце."
   ]
  },
  {
   "cell_type": "code",
   "execution_count": 5,
   "metadata": {
    "scrolled": true
   },
   "outputs": [
    {
     "data": {
      "text/html": [
       "<div>\n",
       "<style scoped>\n",
       "    .dataframe tbody tr th:only-of-type {\n",
       "        vertical-align: middle;\n",
       "    }\n",
       "\n",
       "    .dataframe tbody tr th {\n",
       "        vertical-align: top;\n",
       "    }\n",
       "\n",
       "    .dataframe thead th {\n",
       "        text-align: right;\n",
       "    }\n",
       "</style>\n",
       "<table border=\"1\" class=\"dataframe\">\n",
       "  <thead>\n",
       "    <tr style=\"text-align: right;\">\n",
       "      <th></th>\n",
       "      <th>CreditScore</th>\n",
       "      <th>Age</th>\n",
       "      <th>Tenure</th>\n",
       "      <th>Balance</th>\n",
       "      <th>NumOfProducts</th>\n",
       "      <th>HasCrCard</th>\n",
       "      <th>IsActiveMember</th>\n",
       "      <th>EstimatedSalary</th>\n",
       "      <th>Exited</th>\n",
       "      <th>Geography_Germany</th>\n",
       "      <th>Geography_Spain</th>\n",
       "      <th>Gender_Male</th>\n",
       "    </tr>\n",
       "  </thead>\n",
       "  <tbody>\n",
       "    <tr>\n",
       "      <th>0</th>\n",
       "      <td>619</td>\n",
       "      <td>42</td>\n",
       "      <td>2.0</td>\n",
       "      <td>0.00</td>\n",
       "      <td>1</td>\n",
       "      <td>1</td>\n",
       "      <td>1</td>\n",
       "      <td>101348.88</td>\n",
       "      <td>1</td>\n",
       "      <td>0</td>\n",
       "      <td>0</td>\n",
       "      <td>0</td>\n",
       "    </tr>\n",
       "    <tr>\n",
       "      <th>1</th>\n",
       "      <td>608</td>\n",
       "      <td>41</td>\n",
       "      <td>1.0</td>\n",
       "      <td>83807.86</td>\n",
       "      <td>1</td>\n",
       "      <td>0</td>\n",
       "      <td>1</td>\n",
       "      <td>112542.58</td>\n",
       "      <td>0</td>\n",
       "      <td>0</td>\n",
       "      <td>1</td>\n",
       "      <td>0</td>\n",
       "    </tr>\n",
       "    <tr>\n",
       "      <th>2</th>\n",
       "      <td>502</td>\n",
       "      <td>42</td>\n",
       "      <td>8.0</td>\n",
       "      <td>159660.80</td>\n",
       "      <td>3</td>\n",
       "      <td>1</td>\n",
       "      <td>0</td>\n",
       "      <td>113931.57</td>\n",
       "      <td>1</td>\n",
       "      <td>0</td>\n",
       "      <td>0</td>\n",
       "      <td>0</td>\n",
       "    </tr>\n",
       "    <tr>\n",
       "      <th>3</th>\n",
       "      <td>699</td>\n",
       "      <td>39</td>\n",
       "      <td>1.0</td>\n",
       "      <td>0.00</td>\n",
       "      <td>2</td>\n",
       "      <td>0</td>\n",
       "      <td>0</td>\n",
       "      <td>93826.63</td>\n",
       "      <td>0</td>\n",
       "      <td>0</td>\n",
       "      <td>0</td>\n",
       "      <td>0</td>\n",
       "    </tr>\n",
       "    <tr>\n",
       "      <th>4</th>\n",
       "      <td>850</td>\n",
       "      <td>43</td>\n",
       "      <td>2.0</td>\n",
       "      <td>125510.82</td>\n",
       "      <td>1</td>\n",
       "      <td>1</td>\n",
       "      <td>1</td>\n",
       "      <td>79084.10</td>\n",
       "      <td>0</td>\n",
       "      <td>0</td>\n",
       "      <td>1</td>\n",
       "      <td>0</td>\n",
       "    </tr>\n",
       "  </tbody>\n",
       "</table>\n",
       "</div>"
      ],
      "text/plain": [
       "   CreditScore  Age  Tenure    Balance  NumOfProducts  HasCrCard  \\\n",
       "0          619   42     2.0       0.00              1          1   \n",
       "1          608   41     1.0   83807.86              1          0   \n",
       "2          502   42     8.0  159660.80              3          1   \n",
       "3          699   39     1.0       0.00              2          0   \n",
       "4          850   43     2.0  125510.82              1          1   \n",
       "\n",
       "   IsActiveMember  EstimatedSalary  Exited  Geography_Germany  \\\n",
       "0               1        101348.88       1                  0   \n",
       "1               1        112542.58       0                  0   \n",
       "2               0        113931.57       1                  0   \n",
       "3               0         93826.63       0                  0   \n",
       "4               1         79084.10       0                  0   \n",
       "\n",
       "   Geography_Spain  Gender_Male  \n",
       "0                0            0  \n",
       "1                1            0  \n",
       "2                0            0  \n",
       "3                0            0  \n",
       "4                1            0  "
      ]
     },
     "execution_count": 5,
     "metadata": {},
     "output_type": "execute_result"
    }
   ],
   "source": [
    "df_ohe = pd.get_dummies(df, drop_first=True)\n",
    "# кодируем признаки методом ohe\n",
    "df_ohe.head()\n",
    "# смотрим что получилось"
   ]
  },
  {
   "cell_type": "markdown",
   "metadata": {},
   "source": [
    "Закодировали признаки, такие как: `Geography` и `Gender` методом `OHE`."
   ]
  },
  {
   "cell_type": "code",
   "execution_count": 6,
   "metadata": {},
   "outputs": [],
   "source": [
    "features = df_ohe.drop(['Exited'], axis=1)\n",
    "target = df_ohe['Exited']\n",
    "# Делим выборки на целевой и признаки"
   ]
  },
  {
   "cell_type": "markdown",
   "metadata": {},
   "source": [
    "Поделили выборки на целевой и нецелевые признаки."
   ]
  },
  {
   "cell_type": "code",
   "execution_count": 7,
   "metadata": {
    "scrolled": true
   },
   "outputs": [
    {
     "data": {
      "text/plain": [
       "'Размер тренировочной выборки (строк/столбцов):(6000, 11)'"
      ]
     },
     "metadata": {},
     "output_type": "display_data"
    },
    {
     "data": {
      "text/plain": [
       "'Размер валидационной выборки (строк/столбцов):(2000, 11)'"
      ]
     },
     "metadata": {},
     "output_type": "display_data"
    },
    {
     "data": {
      "text/plain": [
       "'Размер тестовой выборки (строк/столбцов):(2000, 11)'"
      ]
     },
     "metadata": {},
     "output_type": "display_data"
    }
   ],
   "source": [
    "\n",
    "features_train, features_valid, target_train, target_valid = train_test_split(features,\n",
    "                                                                              target,\n",
    "                                                                              test_size=.4,\n",
    "                                                                              random_state=12345)\n",
    "features_valid, features_test, target_valid, target_test = train_test_split(features_valid,\n",
    "                                                                            target_valid,\n",
    "                                                                            test_size=.5,\n",
    "                                                                            random_state=12345)\n",
    "display(f'Размер тренировочной выборки (строк/столбцов):{features_train.shape}')\n",
    "display(f'Размер валидационной выборки (строк/столбцов):{features_valid.shape}')\n",
    "display(f'Размер тестовой выборки (строк/столбцов):{features_test.shape}')\n",
    "# < разделяем данные на обучающую, валидационную и тестовую выборки и проверяем их размеры>\n"
   ]
  },
  {
   "cell_type": "markdown",
   "metadata": {},
   "source": [
    "Поделили на тренировочную, валидационную и тестовую выборку. По итогу деления посмотрели результат, чтобы исключить возожность ошибки."
   ]
  },
  {
   "cell_type": "code",
   "execution_count": 8,
   "metadata": {
    "scrolled": true
   },
   "outputs": [
    {
     "data": {
      "text/html": [
       "<div>\n",
       "<style scoped>\n",
       "    .dataframe tbody tr th:only-of-type {\n",
       "        vertical-align: middle;\n",
       "    }\n",
       "\n",
       "    .dataframe tbody tr th {\n",
       "        vertical-align: top;\n",
       "    }\n",
       "\n",
       "    .dataframe thead th {\n",
       "        text-align: right;\n",
       "    }\n",
       "</style>\n",
       "<table border=\"1\" class=\"dataframe\">\n",
       "  <thead>\n",
       "    <tr style=\"text-align: right;\">\n",
       "      <th></th>\n",
       "      <th>CreditScore</th>\n",
       "      <th>Age</th>\n",
       "      <th>Tenure</th>\n",
       "      <th>Balance</th>\n",
       "      <th>NumOfProducts</th>\n",
       "      <th>HasCrCard</th>\n",
       "      <th>IsActiveMember</th>\n",
       "      <th>EstimatedSalary</th>\n",
       "      <th>Geography_Germany</th>\n",
       "      <th>Geography_Spain</th>\n",
       "      <th>Gender_Male</th>\n",
       "    </tr>\n",
       "  </thead>\n",
       "  <tbody>\n",
       "    <tr>\n",
       "      <th>7479</th>\n",
       "      <td>-0.886751</td>\n",
       "      <td>-0.373192</td>\n",
       "      <td>1.033117</td>\n",
       "      <td>1.232271</td>\n",
       "      <td>-0.891560</td>\n",
       "      <td>1</td>\n",
       "      <td>0</td>\n",
       "      <td>-0.187705</td>\n",
       "      <td>0</td>\n",
       "      <td>1</td>\n",
       "      <td>1</td>\n",
       "    </tr>\n",
       "    <tr>\n",
       "      <th>3411</th>\n",
       "      <td>0.608663</td>\n",
       "      <td>-0.183385</td>\n",
       "      <td>1.033117</td>\n",
       "      <td>0.600563</td>\n",
       "      <td>-0.891560</td>\n",
       "      <td>0</td>\n",
       "      <td>0</td>\n",
       "      <td>-0.333945</td>\n",
       "      <td>0</td>\n",
       "      <td>0</td>\n",
       "      <td>0</td>\n",
       "    </tr>\n",
       "    <tr>\n",
       "      <th>6027</th>\n",
       "      <td>2.052152</td>\n",
       "      <td>0.480939</td>\n",
       "      <td>-0.701659</td>\n",
       "      <td>1.027098</td>\n",
       "      <td>0.830152</td>\n",
       "      <td>0</td>\n",
       "      <td>1</td>\n",
       "      <td>1.503095</td>\n",
       "      <td>1</td>\n",
       "      <td>0</td>\n",
       "      <td>1</td>\n",
       "    </tr>\n",
       "    <tr>\n",
       "      <th>1247</th>\n",
       "      <td>-1.457915</td>\n",
       "      <td>-1.417129</td>\n",
       "      <td>0.339207</td>\n",
       "      <td>-1.233163</td>\n",
       "      <td>0.830152</td>\n",
       "      <td>1</td>\n",
       "      <td>0</td>\n",
       "      <td>-1.071061</td>\n",
       "      <td>0</td>\n",
       "      <td>0</td>\n",
       "      <td>1</td>\n",
       "    </tr>\n",
       "    <tr>\n",
       "      <th>3716</th>\n",
       "      <td>0.130961</td>\n",
       "      <td>-1.132419</td>\n",
       "      <td>-1.048615</td>\n",
       "      <td>1.140475</td>\n",
       "      <td>-0.891560</td>\n",
       "      <td>0</td>\n",
       "      <td>0</td>\n",
       "      <td>1.524268</td>\n",
       "      <td>1</td>\n",
       "      <td>0</td>\n",
       "      <td>0</td>\n",
       "    </tr>\n",
       "  </tbody>\n",
       "</table>\n",
       "</div>"
      ],
      "text/plain": [
       "      CreditScore       Age    Tenure   Balance  NumOfProducts  HasCrCard  \\\n",
       "7479    -0.886751 -0.373192  1.033117  1.232271      -0.891560          1   \n",
       "3411     0.608663 -0.183385  1.033117  0.600563      -0.891560          0   \n",
       "6027     2.052152  0.480939 -0.701659  1.027098       0.830152          0   \n",
       "1247    -1.457915 -1.417129  0.339207 -1.233163       0.830152          1   \n",
       "3716     0.130961 -1.132419 -1.048615  1.140475      -0.891560          0   \n",
       "\n",
       "      IsActiveMember  EstimatedSalary  Geography_Germany  Geography_Spain  \\\n",
       "7479               0        -0.187705                  0                1   \n",
       "3411               0        -0.333945                  0                0   \n",
       "6027               1         1.503095                  1                0   \n",
       "1247               0        -1.071061                  0                0   \n",
       "3716               0         1.524268                  1                0   \n",
       "\n",
       "      Gender_Male  \n",
       "7479            1  \n",
       "3411            0  \n",
       "6027            1  \n",
       "1247            1  \n",
       "3716            0  "
      ]
     },
     "execution_count": 8,
     "metadata": {},
     "output_type": "execute_result"
    }
   ],
   "source": [
    "numeric = ['CreditScore', 'Age', 'Tenure', 'Balance', 'NumOfProducts', 'EstimatedSalary']\n",
    "scaler = StandardScaler()\n",
    "scaler.fit(features_train[numeric])\n",
    "\n",
    "features_train[numeric] = scaler.transform(features_train[numeric])\n",
    "features_valid[numeric] = scaler.transform(features_valid[numeric]) \n",
    "features_test[numeric] = scaler.transform(features_test[numeric])\n",
    "\n",
    "pd.options.mode.chained_assignment = None\n",
    "features_train.head()"
   ]
  },
  {
   "cell_type": "markdown",
   "metadata": {},
   "source": [
    "Промасштабировали признаки для правильной работы алгоритма. Вывели на экран 5 строк таблицы для проверки правильности масштабиования. "
   ]
  },
  {
   "cell_type": "markdown",
   "metadata": {},
   "source": [
    "### Вывод"
   ]
  },
  {
   "cell_type": "markdown",
   "metadata": {},
   "source": [
    "Исходя из полученных данных мы увидили, что данные состоят из 13 признаков и 1 целевого признака. При этом пропуски в данных обнаруженны только в столбце `Tenure` (сколько лет человек является клиентом банка).\n",
    "Мы далили столбцы `RowNumber`,`CustomerId`,`Surname`. При дальнейшей работе они нам непонадобятся!\n",
    "Заменили пропуски в столбце `Tenure`. Пропуски заменили предыдущим непропущенным значением в cтолбце.\n",
    "Закодировали признаки, такие как: `Geography` и `Gender` методом `OHE`.\n",
    "Поделили выборки на целевой и нецелевые признаки. Поделили на тренировочную, валидационную и тестовую выборку. Промасштабировали признаки для правильной работы алгоритма. "
   ]
  },
  {
   "cell_type": "markdown",
   "metadata": {},
   "source": [
    "## Исследование задачи"
   ]
  },
  {
   "cell_type": "markdown",
   "metadata": {},
   "source": [
    "### Исследование дисбаланса"
   ]
  },
  {
   "cell_type": "code",
   "execution_count": 9,
   "metadata": {
    "scrolled": true
   },
   "outputs": [
    {
     "data": {
      "text/plain": [
       "0    79.63\n",
       "1    20.37\n",
       "Name: Exited, dtype: float64"
      ]
     },
     "execution_count": 9,
     "metadata": {},
     "output_type": "execute_result"
    }
   ],
   "source": [
    "target.value_counts(normalize=True)*100\n",
    "# смотрим соотношение целевого признака"
   ]
  },
  {
   "cell_type": "markdown",
   "metadata": {},
   "source": [
    "В процентном соотношении явный дисбаланс ушедших и оставшихся клиентов (20% | 80%)"
   ]
  },
  {
   "cell_type": "code",
   "execution_count": 10,
   "metadata": {
    "scrolled": true
   },
   "outputs": [
    {
     "data": {
      "text/plain": [
       "<AxesSubplot:title={'center':'Соотношение ушедших и оставшихся клиентов'}>"
      ]
     },
     "execution_count": 10,
     "metadata": {},
     "output_type": "execute_result"
    },
    {
     "data": {
      "image/png": "[encoded data removed]",
      "text/plain": [
       "<Figure size 864x432 with 1 Axes>"
      ]
     },
     "metadata": {
      "needs_background": "light"
     },
     "output_type": "display_data"
    }
   ],
   "source": [
    "target.value_counts().plot(kind='bar',\n",
    "                                     title = 'Соотношение ушедших и оставшихся клиентов',\n",
    "                                     color = 'green',\n",
    "                                     figsize = (12,6))\n",
    "# строим график соотношения целевого признака"
   ]
  },
  {
   "cell_type": "markdown",
   "metadata": {},
   "source": [
    "Построив график, мы еще раз убедились в дисбалансе."
   ]
  },
  {
   "cell_type": "markdown",
   "metadata": {},
   "source": [
    "### Создание функции для обучения моделей"
   ]
  },
  {
   "cell_type": "markdown",
   "metadata": {},
   "source": [
    "Поскольку в дальнейшей работе, для нахождения лучшего значения F1 нам потребуется по несколько раз обучать одни и те же модели с разными параметрами, мы создадим функцию для нахождения параметров лучшей модели по заданной выборке и нахождения F1 и auc-roc."
   ]
  },
  {
   "cell_type": "markdown",
   "metadata": {},
   "source": [
    "#### Функция для модели логистической регрессии"
   ]
  },
  {
   "cell_type": "code",
   "execution_count": 11,
   "metadata": {},
   "outputs": [],
   "source": [
    "def f1_auc_roc_lr(features, target,name_selection,class_w):\n",
    "    best_model = None\n",
    "    best_f1 = 0\n",
    "    solve = ['newton-cg', 'lbfgs', 'liblinear', 'sag', 'saga']\n",
    "    for item in solve:\n",
    "        model = LogisticRegression(random_state=12345,\n",
    "                                       solver = item)\n",
    "                               \n",
    "        model.fit(features, target)\n",
    "        # проходим циклом обучая модель\n",
    "        predictions_valid = model.predict(features_valid)\n",
    "        f1 = f1_score(target_valid, predictions_valid)\n",
    "        # строим предсказания и получаем значение F1 \n",
    "        probabilities_valid = model.predict_proba(features_valid)\n",
    "        probabilities_one_valid = probabilities_valid[:, 1]\n",
    "        auc = roc_auc_score(target_valid, probabilities_one_valid)\n",
    "        # получае значение auc_roc\n",
    "        if f1 > best_f1:\n",
    "            best_model = model\n",
    "            auc_roc = auc\n",
    "            best_f1 = f1\n",
    "            # фильтруем параметры лучшей модели и значения F1        \n",
    "    print(f'Параметры лучшей модели: {best_model}',\n",
    "          f'F1 наилучшей модели \"дерево решений\" обученной на {name_selection} выборке: {best_f1}',\n",
    "          f'AUC-ROC лучшей модели \"дерево решений\" обученной на {name_selection} выборке: {auc_roc}',\n",
    "          sep='\\n')\n",
    "    # выводим результат на экран\n"
   ]
  },
  {
   "cell_type": "markdown",
   "metadata": {},
   "source": [
    "#### Функция для модели решающего дерева"
   ]
  },
  {
   "cell_type": "code",
   "execution_count": 12,
   "metadata": {},
   "outputs": [],
   "source": [
    "def f1_auc_roc_dtc(features,target,name_selection,class_w):\n",
    "    best_model = None\n",
    "    best_f1 = 0\n",
    "   \n",
    "    for dep in range(1,50):\n",
    "        model = DecisionTreeClassifier(random_state=12345,\n",
    "                                        max_depth = dep,\n",
    "                                        class_weight =class_w)\n",
    "                                             \n",
    "        model.fit(features,target)\n",
    "        # проходим циклом обучая модель\n",
    "        predictions_valid = model.predict(features_valid)\n",
    "        f1 = f1_score(target_valid, predictions_valid)\n",
    "        # строим предсказания и получаем значение F1        \n",
    "        probabilities_valid = model.predict_proba(features_valid)\n",
    "        probabilities_one_valid = probabilities_valid[:, 1]\n",
    "        auc = roc_auc_score(target_valid, probabilities_one_valid)            \n",
    "        # получае значение auc_roc\n",
    "        if f1 > best_f1:\n",
    "            best_model = model\n",
    "            auc_roc = auc\n",
    "            best_f1 = f1\n",
    "         # фильтруем параметры лучшей модели и значения F1           \n",
    "    print(f'Параметры лучшей модели: {best_model}',\n",
    "          f'F1 наилучшей модели \"дерево решений\" обученной на {name_selection} выборке: {best_f1}',\n",
    "          f'AUC-ROC лучшей модели \"дерево решений\" обученной на {name_selection} выборке: {auc_roc}',\n",
    "          sep='\\n')\n",
    "    # выводим результат на экран\n"
   ]
  },
  {
   "cell_type": "markdown",
   "metadata": {},
   "source": [
    "#### Функции для модели случайного леса"
   ]
  },
  {
   "cell_type": "code",
   "execution_count": 13,
   "metadata": {},
   "outputs": [],
   "source": [
    "def f1_auc_roc_rfc(features, target, name_selection, class_w):\n",
    "    best_model = None\n",
    "    best_f1 = 0\n",
    "    for est in range(1, 120,5):\n",
    "        for dep in range(5, 10):\n",
    "            model = RandomForestClassifier(random_state=12345,\n",
    "                                           max_depth=dep,\n",
    "                                           n_estimators=est,\n",
    "                                           class_weight =class_w) \n",
    "            model.fit(features,target)\n",
    "        # проходим циклом обучая модель\n",
    "        predictions_valid = model.predict(features_valid)\n",
    "        f1 = f1_score(target_valid, predictions_valid)\n",
    "        # строим предсказания и получаем значение F1       \n",
    "        probabilities_valid = model.predict_proba(features_valid)\n",
    "        probabilities_one_valid = probabilities_valid[:, 1]\n",
    "        auc = roc_auc_score(target_valid, probabilities_one_valid)            \n",
    "        # получае значение auc_roc\n",
    "        if f1 > best_f1:\n",
    "            best_model = model\n",
    "            auc_roc = auc\n",
    "            best_f1 = f1\n",
    "            # фильтруем параметры лучшей модели и значения F1            \n",
    "    print(f'Параметры лучшей модели: {best_model}',\n",
    "          f'F1 наилучшей модели \"дерево решений\" обученной на {name_selection} выборке: {best_f1}',\n",
    "          f'AUC-ROC лучшей модели \"дерево решений\" обученной на {name_selection} выборке: {auc_roc}',\n",
    "          sep='\\n')\n",
    "    # выводим результат на экран\n"
   ]
  },
  {
   "cell_type": "markdown",
   "metadata": {},
   "source": [
    "Мы создали три функции, которые будут выводить значения F1, auc_roc, и параметры лучшей модели для значения F1"
   ]
  },
  {
   "cell_type": "markdown",
   "metadata": {},
   "source": [
    "### Исследование модели логистической регрессии"
   ]
  },
  {
   "cell_type": "code",
   "execution_count": 14,
   "metadata": {},
   "outputs": [
    {
     "name": "stdout",
     "output_type": "stream",
     "text": [
      "Параметры лучшей модели: LogisticRegression(random_state=12345, solver='newton-cg')\n",
      "F1 наилучшей модели \"дерево решений\" обученной на тренировочной выборке: 0.3333333333333333\n",
      "AUC-ROC лучшей модели \"дерево решений\" обученной на тренировочной выборке: 0.7592155166677758\n"
     ]
    }
   ],
   "source": [
    "f1_auc_roc_lr(features_train, target_train, 'тренировочной',None)"
   ]
  },
  {
   "cell_type": "markdown",
   "metadata": {},
   "source": [
    "### Исследование модели решающего дерева"
   ]
  },
  {
   "cell_type": "code",
   "execution_count": 15,
   "metadata": {
    "scrolled": true
   },
   "outputs": [
    {
     "name": "stdout",
     "output_type": "stream",
     "text": [
      "Параметры лучшей модели: DecisionTreeClassifier(max_depth=9, random_state=12345)\n",
      "F1 наилучшей модели \"дерево решений\" обученной на тренировочной выборке: 0.5766526019690578\n",
      "AUC-ROC лучшей модели \"дерево решений\" обученной на тренировочной выборке: 0.7806105166375311\n"
     ]
    }
   ],
   "source": [
    "f1_auc_roc_dtc(features_train, target_train, 'тренировочной', None)"
   ]
  },
  {
   "cell_type": "markdown",
   "metadata": {},
   "source": [
    "### Исследование модели случайного леса"
   ]
  },
  {
   "cell_type": "code",
   "execution_count": 16,
   "metadata": {
    "scrolled": true
   },
   "outputs": [
    {
     "name": "stdout",
     "output_type": "stream",
     "text": [
      "Параметры лучшей модели: RandomForestClassifier(max_depth=9, n_estimators=81, random_state=12345)\n",
      "F1 наилучшей модели \"дерево решений\" обученной на тренировочной выборке: 0.5871271585557299\n",
      "AUC-ROC лучшей модели \"дерево решений\" обученной на тренировочной выборке: 0.8510289198458737\n"
     ]
    }
   ],
   "source": [
    "f1_auc_roc_rfc(features_train, target_train, 'тренировочной', None)"
   ]
  },
  {
   "cell_type": "markdown",
   "metadata": {},
   "source": [
    "### Вывод"
   ]
  },
  {
   "cell_type": "markdown",
   "metadata": {},
   "source": [
    "Построив график и посчитав соотношение классов, мы увидили явный дисбаланс в соотношении 1 к 4, после чего мы построили функции и посчитали F1 и AUC_ROC меры для трех моделей.\n",
    "\n",
    "Мы видим, что на данном этапе лучше всего себя показала модель `RandomForestClassifier` ее значения: \n",
    "- F1 - 0.5871271585557299\n",
    "- AUC-ROC - 0.8510289198458737\n",
    "\n",
    "Хуже всего себя показала модель `LogisticRegression`  ее значения: \n",
    "- F1 - 0.3333333333333333\n",
    "- AUC-ROC - 0.7592155166677758"
   ]
  },
  {
   "cell_type": "markdown",
   "metadata": {},
   "source": [
    "## Борьба с дисбалансом"
   ]
  },
  {
   "cell_type": "markdown",
   "metadata": {},
   "source": [
    "### Применение параметра `class_weight = 'balanced'`"
   ]
  },
  {
   "cell_type": "markdown",
   "metadata": {},
   "source": [
    "#### Модель логистической регрессии c параметром `class_weight = 'balanced'`"
   ]
  },
  {
   "cell_type": "code",
   "execution_count": 17,
   "metadata": {},
   "outputs": [
    {
     "name": "stdout",
     "output_type": "stream",
     "text": [
      "Параметры лучшей модели: LogisticRegression(random_state=12345, solver='newton-cg')\n",
      "F1 наилучшей модели \"дерево решений\" обученной на тренировочной выборке: 0.3333333333333333\n",
      "AUC-ROC лучшей модели \"дерево решений\" обученной на тренировочной выборке: 0.7592155166677758\n"
     ]
    }
   ],
   "source": [
    "f1_auc_roc_lr(features_train, target_train, 'тренировочной','balanced')"
   ]
  },
  {
   "cell_type": "markdown",
   "metadata": {},
   "source": [
    "#### Модель решающего дерева c параметром `class_weight = 'balanced'`"
   ]
  },
  {
   "cell_type": "code",
   "execution_count": 18,
   "metadata": {},
   "outputs": [
    {
     "name": "stdout",
     "output_type": "stream",
     "text": [
      "Параметры лучшей модели: DecisionTreeClassifier(class_weight='balanced', max_depth=5, random_state=12345)\n",
      "F1 наилучшей модели \"дерево решений\" обученной на тренировочной выборке: 0.5963791267305644\n",
      "AUC-ROC лучшей модели \"дерево решений\" обученной на тренировочной выборке: 0.8310244134068074\n"
     ]
    }
   ],
   "source": [
    "f1_auc_roc_dtc(features_train, target_train, 'тренировочной', 'balanced')"
   ]
  },
  {
   "cell_type": "markdown",
   "metadata": {},
   "source": [
    "#### Модель случайного леса c параметром `class_weight = 'balanced'`"
   ]
  },
  {
   "cell_type": "code",
   "execution_count": 19,
   "metadata": {
    "scrolled": true
   },
   "outputs": [
    {
     "name": "stdout",
     "output_type": "stream",
     "text": [
      "Параметры лучшей модели: RandomForestClassifier(class_weight='balanced', max_depth=9, n_estimators=31,\n",
      "                       random_state=12345)\n",
      "F1 наилучшей модели \"дерево решений\" обученной на тренировочной выборке: 0.6329113924050632\n",
      "AUC-ROC лучшей модели \"дерево решений\" обученной на тренировочной выборке: 0.8537509300201429\n"
     ]
    }
   ],
   "source": [
    "f1_auc_roc_rfc(features_train, target_train, 'тренировочной', 'balanced')"
   ]
  },
  {
   "cell_type": "markdown",
   "metadata": {},
   "source": [
    "#### Вывод"
   ]
  },
  {
   "cell_type": "markdown",
   "metadata": {},
   "source": [
    "Мы видим, что на данном этапе лучше всего себя показала модель RandomForestClassifier ее значения:\n",
    "\n",
    "F1 - 0.6329113924050632\n",
    "AUC-ROC - 0.8537509300201429\n",
    "\n",
    "Хуже всего себя показала модель LogisticRegression ее значения:\n",
    "\n",
    "F1 - 0.3333333333333333\n",
    "AUC-ROC - 0.7592155166677758"
   ]
  },
  {
   "cell_type": "markdown",
   "metadata": {},
   "source": [
    "### Увеличение выборки (upsampling)"
   ]
  },
  {
   "cell_type": "code",
   "execution_count": 20,
   "metadata": {},
   "outputs": [],
   "source": [
    "def upsample(features, target, repeat):\n",
    "    features_zeros = features[target == 0]\n",
    "    features_ones = features[target == 1]\n",
    "    target_zeros = target[target == 0]\n",
    "    target_ones = target[target == 1]\n",
    "\n",
    "    features_upsampled = pd.concat([features_zeros] + [features_ones] * repeat)\n",
    "    target_upsampled = pd.concat([target_zeros] + [target_ones] * repeat)\n",
    "    \n",
    "    features_upsampled, target_upsampled = shuffle(features_upsampled,\n",
    "                                                   target_upsampled, \n",
    "                                                   random_state=12345)\n",
    "    \n",
    "    return features_upsampled, target_upsampled\n",
    "\n",
    "features_upsampled, target_upsampled = upsample(features_train, target_train, 4)\n",
    "# создаем функцию для увеличения выборки"
   ]
  },
  {
   "cell_type": "code",
   "execution_count": 21,
   "metadata": {},
   "outputs": [
    {
     "data": {
      "text/plain": [
       "0    50.104297\n",
       "1    49.895703\n",
       "Name: Exited, dtype: float64"
      ]
     },
     "execution_count": 21,
     "metadata": {},
     "output_type": "execute_result"
    }
   ],
   "source": [
    "target_upsampled.value_counts(normalize=True)*100\n",
    "# смотрим соотношение целевого признака"
   ]
  },
  {
   "cell_type": "code",
   "execution_count": 22,
   "metadata": {},
   "outputs": [
    {
     "data": {
      "text/plain": [
       "<AxesSubplot:title={'center':'Соотношение ушедших и оставшихся клиентов'}>"
      ]
     },
     "execution_count": 22,
     "metadata": {},
     "output_type": "execute_result"
    },
    {
     "data": {
      "image/png": "[encoded data removed]",
      "text/plain": [
       "<Figure size 864x432 with 1 Axes>"
      ]
     },
     "metadata": {
      "needs_background": "light"
     },
     "output_type": "display_data"
    }
   ],
   "source": [
    "target_upsampled.value_counts().plot(kind='bar',\n",
    "                                     title = 'Соотношение ушедших и оставшихся клиентов',\n",
    "                                     color = 'orange',\n",
    "                                     figsize = (12,6))\n",
    "# строим график соотношения целевого признака"
   ]
  },
  {
   "cell_type": "markdown",
   "metadata": {},
   "source": [
    "Построив график, мы убедились в балансе классов."
   ]
  },
  {
   "cell_type": "markdown",
   "metadata": {},
   "source": [
    "#### Модель логистической регрессии на увеличенной выборке"
   ]
  },
  {
   "cell_type": "code",
   "execution_count": 23,
   "metadata": {},
   "outputs": [
    {
     "name": "stdout",
     "output_type": "stream",
     "text": [
      "Параметры лучшей модели: LogisticRegression(random_state=12345, solver='newton-cg')\n",
      "F1 наилучшей модели \"дерево решений\" обученной на увеличенной выборке: 0.488013698630137\n",
      "AUC-ROC лучшей модели \"дерево решений\" обученной на увеличенной выборке: 0.7640909393354666\n"
     ]
    }
   ],
   "source": [
    "f1_auc_roc_lr(features_upsampled, target_upsampled, 'увеличенной', None)"
   ]
  },
  {
   "cell_type": "markdown",
   "metadata": {},
   "source": [
    "#### Модель дерево решений на увеличенной выборке"
   ]
  },
  {
   "cell_type": "code",
   "execution_count": 24,
   "metadata": {
    "scrolled": true
   },
   "outputs": [
    {
     "name": "stdout",
     "output_type": "stream",
     "text": [
      "Параметры лучшей модели: DecisionTreeClassifier(max_depth=5, random_state=12345)\n",
      "F1 наилучшей модели \"дерево решений\" обученной на увеличенной выборке: 0.5963791267305644\n",
      "AUC-ROC лучшей модели \"дерево решений\" обученной на увеличенной выборке: 0.8310244134068074\n"
     ]
    }
   ],
   "source": [
    "f1_auc_roc_dtc(features_upsampled, target_upsampled, 'увеличенной',None)\n"
   ]
  },
  {
   "cell_type": "markdown",
   "metadata": {},
   "source": [
    "#### Модель случайного леса на увеличенной выборке"
   ]
  },
  {
   "cell_type": "code",
   "execution_count": 25,
   "metadata": {},
   "outputs": [
    {
     "name": "stdout",
     "output_type": "stream",
     "text": [
      "Параметры лучшей модели: RandomForestClassifier(max_depth=9, n_estimators=96, random_state=12345)\n",
      "F1 наилучшей модели \"дерево решений\" обученной на увеличенной выборке: 0.6231578947368421\n",
      "AUC-ROC лучшей модели \"дерево решений\" обученной на увеличенной выборке: 0.852733200660541\n"
     ]
    }
   ],
   "source": [
    "f1_auc_roc_rfc(features_upsampled, target_upsampled, 'увеличенной', None)"
   ]
  },
  {
   "cell_type": "markdown",
   "metadata": {},
   "source": [
    "#### Вывод"
   ]
  },
  {
   "cell_type": "markdown",
   "metadata": {},
   "source": [
    "Мы видим, что на данном этапе лучше всего себя показала модель RandomForestClassifier ее значения:\n",
    "\n",
    "- F1 -  0.6231578947368421\n",
    "- AUC-ROC - 0.852733200660541\n",
    "\n",
    "Хуже всего себя показала модель LogisticRegression ее значения:\n",
    "\n",
    "- F1 - 0.488013698630137 \n",
    "- AUC-ROC - 0.7640909393354666"
   ]
  },
  {
   "cell_type": "markdown",
   "metadata": {},
   "source": [
    "### Уменьшение выборки"
   ]
  },
  {
   "cell_type": "code",
   "execution_count": 26,
   "metadata": {},
   "outputs": [],
   "source": [
    "def downsample(features, target, fraction):\n",
    "    features_zeros = features[target == 0]\n",
    "    features_ones = features[target == 1]\n",
    "    target_zeros = target[target == 0]\n",
    "    target_ones = target[target == 1]\n",
    "\n",
    "    features_downsampled = pd.concat(\n",
    "        [features_zeros.sample(frac=fraction, random_state=12345)] + [features_ones])\n",
    "    target_downsampled = pd.concat(\n",
    "        [target_zeros.sample(frac=fraction, random_state=12345)] + [target_ones])\n",
    "    \n",
    "    features_downsampled, target_downsampled = shuffle(\n",
    "        features_downsampled, target_downsampled, random_state=12345)\n",
    "    \n",
    "    return features_downsampled, target_downsampled\n",
    "#создаем функцию уменьшение выборки\n",
    "features_downsampled, target_downsampled = downsample(features_train, target_train, 0.25)"
   ]
  },
  {
   "cell_type": "code",
   "execution_count": 27,
   "metadata": {},
   "outputs": [
    {
     "data": {
      "text/plain": [
       "0    50.104297\n",
       "1    49.895703\n",
       "Name: Exited, dtype: float64"
      ]
     },
     "execution_count": 27,
     "metadata": {},
     "output_type": "execute_result"
    }
   ],
   "source": [
    "target_downsampled.value_counts(normalize=True)*100\n",
    "# смотрим соотношение целевого признака"
   ]
  },
  {
   "cell_type": "code",
   "execution_count": 28,
   "metadata": {},
   "outputs": [
    {
     "data": {
      "text/plain": [
       "<AxesSubplot:title={'center':'Соотношение ушедших и оставшихся клиентов'}>"
      ]
     },
     "execution_count": 28,
     "metadata": {},
     "output_type": "execute_result"
    },
    {
     "data": {
      "image/png": "[encoded data removed]",
      "text/plain": [
       "<Figure size 864x432 with 1 Axes>"
      ]
     },
     "metadata": {
      "needs_background": "light"
     },
     "output_type": "display_data"
    }
   ],
   "source": [
    "target_downsampled.value_counts().plot(kind='bar',\n",
    "                                     title = 'Соотношение ушедших и оставшихся клиентов',\n",
    "                                     color = 'grey',\n",
    "                                     figsize = (12,6))\n",
    "# строим график соотношения целевого признака"
   ]
  },
  {
   "cell_type": "markdown",
   "metadata": {},
   "source": [
    "Построив график, мы убедились в балансе классов."
   ]
  },
  {
   "cell_type": "markdown",
   "metadata": {},
   "source": [
    "#### Модель логистической регрессии на уменьшенной выборке"
   ]
  },
  {
   "cell_type": "code",
   "execution_count": 29,
   "metadata": {},
   "outputs": [
    {
     "name": "stdout",
     "output_type": "stream",
     "text": [
      "Параметры лучшей модели: LogisticRegression(random_state=12345, solver='newton-cg')\n",
      "F1 наилучшей модели \"дерево решений\" обученной на уменьшенной выборке: 0.4905335628227194\n",
      "AUC-ROC лучшей модели \"дерево решений\" обученной на уменьшенной выборке: 0.7628297412880553\n"
     ]
    }
   ],
   "source": [
    "f1_auc_roc_lr(features_downsampled, target_downsampled , 'уменьшенной',None)"
   ]
  },
  {
   "cell_type": "markdown",
   "metadata": {},
   "source": [
    "#### Модель дерево решений на уменьшенной выборке"
   ]
  },
  {
   "cell_type": "code",
   "execution_count": 30,
   "metadata": {},
   "outputs": [
    {
     "name": "stdout",
     "output_type": "stream",
     "text": [
      "Параметры лучшей модели: DecisionTreeClassifier(max_depth=5, random_state=12345)\n",
      "F1 наилучшей модели \"дерево решений\" обученной на уменьшенной выборке: 0.5965621840242669\n",
      "AUC-ROC лучшей модели \"дерево решений\" обученной на уменьшенной выборке: 0.8288218535074614\n"
     ]
    }
   ],
   "source": [
    "f1_auc_roc_dtc(features_downsampled, target_downsampled , 'уменьшенной',None)"
   ]
  },
  {
   "cell_type": "markdown",
   "metadata": {},
   "source": [
    "#### Модель случайного леса на уменьшенной выборке"
   ]
  },
  {
   "cell_type": "code",
   "execution_count": 31,
   "metadata": {
    "scrolled": false
   },
   "outputs": [
    {
     "name": "stdout",
     "output_type": "stream",
     "text": [
      "Параметры лучшей модели: RandomForestClassifier(max_depth=9, n_estimators=116, random_state=12345)\n",
      "F1 наилучшей модели \"дерево решений\" обученной на уменьшенной выборке: 0.6020892687559355\n",
      "AUC-ROC лучшей модели \"дерево решений\" обученной на уменьшенной выборке: 0.8507733533350674\n"
     ]
    }
   ],
   "source": [
    "f1_auc_roc_rfc(features_downsampled, target_downsampled , 'уменьшенной', None)"
   ]
  },
  {
   "cell_type": "markdown",
   "metadata": {},
   "source": [
    "Мы видим, что на данном этапе лучше всего себя показала модель RandomForestClassifier ее значения:\n",
    "\n",
    "- F1 - 0.6020892687559355\n",
    "- AUC-ROC - 0.8507733533350674\n",
    "\n",
    "Хуже всего себя показала модель LogisticRegression ее значения:\n",
    "\n",
    "- F1 - 0.4905335628227194\n",
    "- AUC-ROC - 0.7628297412880553"
   ]
  },
  {
   "cell_type": "markdown",
   "metadata": {},
   "source": [
    "**Построим таблицу метрик всех моделей на валидационных выборках, для нахождения лучших из них.**"
   ]
  },
  {
   "cell_type": "code",
   "execution_count": 32,
   "metadata": {
    "scrolled": true
   },
   "outputs": [
    {
     "data": {
      "text/html": [
       "<style  type=\"text/css\" >\n",
       "    #T_350dd_ caption {\n",
       "          color: brown;\n",
       "          font-size: 20px;\n",
       "    }#T_350dd_row0_col1,#T_350dd_row0_col2,#T_350dd_row0_col3,#T_350dd_row0_col4,#T_350dd_row0_col5,#T_350dd_row0_col6,#T_350dd_row0_col7,#T_350dd_row0_col8{\n",
       "            background-color:  #fff5eb;\n",
       "            color:  #000000;\n",
       "        }#T_350dd_row1_col1{\n",
       "            background-color:  #8b2c04;\n",
       "            color:  #f1f1f1;\n",
       "        }#T_350dd_row1_col2{\n",
       "            background-color:  #fdd3a9;\n",
       "            color:  #000000;\n",
       "        }#T_350dd_row1_col3{\n",
       "            background-color:  #a53603;\n",
       "            color:  #f1f1f1;\n",
       "        }#T_350dd_row1_col4{\n",
       "            background-color:  #d54601;\n",
       "            color:  #f1f1f1;\n",
       "        }#T_350dd_row1_col5{\n",
       "            background-color:  #c34002;\n",
       "            color:  #f1f1f1;\n",
       "        }#T_350dd_row1_col6{\n",
       "            background-color:  #d64701;\n",
       "            color:  #f1f1f1;\n",
       "        }#T_350dd_row1_col7{\n",
       "            background-color:  #8e2d04;\n",
       "            color:  #f1f1f1;\n",
       "        }#T_350dd_row1_col8{\n",
       "            background-color:  #d94801;\n",
       "            color:  #f1f1f1;\n",
       "        }#T_350dd_row2_col1,#T_350dd_row2_col2,#T_350dd_row2_col3,#T_350dd_row2_col4,#T_350dd_row2_col5,#T_350dd_row2_col6,#T_350dd_row2_col7,#T_350dd_row2_col8{\n",
       "            background-color:  #7f2704;\n",
       "            color:  #f1f1f1;\n",
       "        }</style><table id=\"T_350dd_\" ><caption>Таблица метрик моделей на валидационных выборках</caption><thead>    <tr>        <th class=\"blank level0\" ></th>        <th class=\"col_heading level0 col0\" >Model</th>        <th class=\"col_heading level0 col1\" >F1_raw</th>        <th class=\"col_heading level0 col2\" >AUC_ROC_raw</th>        <th class=\"col_heading level0 col3\" >F1_balance</th>        <th class=\"col_heading level0 col4\" >AUC_ROC_balance</th>        <th class=\"col_heading level0 col5\" >F1_up</th>        <th class=\"col_heading level0 col6\" >AUC_ROC_up</th>        <th class=\"col_heading level0 col7\" >F1_down</th>        <th class=\"col_heading level0 col8\" >AUC_ROC_down</th>    </tr></thead><tbody>\n",
       "                <tr>\n",
       "                        <th id=\"T_350dd_level0_row0\" class=\"row_heading level0 row0\" >0</th>\n",
       "                        <td id=\"T_350dd_row0_col0\" class=\"data row0 col0\" >L_R</td>\n",
       "                        <td id=\"T_350dd_row0_col1\" class=\"data row0 col1\" >0.333300</td>\n",
       "                        <td id=\"T_350dd_row0_col2\" class=\"data row0 col2\" >0.759200</td>\n",
       "                        <td id=\"T_350dd_row0_col3\" class=\"data row0 col3\" >0.333300</td>\n",
       "                        <td id=\"T_350dd_row0_col4\" class=\"data row0 col4\" >0.759200</td>\n",
       "                        <td id=\"T_350dd_row0_col5\" class=\"data row0 col5\" >0.488000</td>\n",
       "                        <td id=\"T_350dd_row0_col6\" class=\"data row0 col6\" >0.764100</td>\n",
       "                        <td id=\"T_350dd_row0_col7\" class=\"data row0 col7\" >0.490500</td>\n",
       "                        <td id=\"T_350dd_row0_col8\" class=\"data row0 col8\" >0.762800</td>\n",
       "            </tr>\n",
       "            <tr>\n",
       "                        <th id=\"T_350dd_level0_row1\" class=\"row_heading level0 row1\" >1</th>\n",
       "                        <td id=\"T_350dd_row1_col0\" class=\"data row1 col0\" >D_T_C</td>\n",
       "                        <td id=\"T_350dd_row1_col1\" class=\"data row1 col1\" >0.576700</td>\n",
       "                        <td id=\"T_350dd_row1_col2\" class=\"data row1 col2\" >0.780600</td>\n",
       "                        <td id=\"T_350dd_row1_col3\" class=\"data row1 col3\" >0.596400</td>\n",
       "                        <td id=\"T_350dd_row1_col4\" class=\"data row1 col4\" >0.831000</td>\n",
       "                        <td id=\"T_350dd_row1_col5\" class=\"data row1 col5\" >0.596400</td>\n",
       "                        <td id=\"T_350dd_row1_col6\" class=\"data row1 col6\" >0.831000</td>\n",
       "                        <td id=\"T_350dd_row1_col7\" class=\"data row1 col7\" >0.596600</td>\n",
       "                        <td id=\"T_350dd_row1_col8\" class=\"data row1 col8\" >0.828800</td>\n",
       "            </tr>\n",
       "            <tr>\n",
       "                        <th id=\"T_350dd_level0_row2\" class=\"row_heading level0 row2\" >2</th>\n",
       "                        <td id=\"T_350dd_row2_col0\" class=\"data row2 col0\" >R_F_C</td>\n",
       "                        <td id=\"T_350dd_row2_col1\" class=\"data row2 col1\" >0.587100</td>\n",
       "                        <td id=\"T_350dd_row2_col2\" class=\"data row2 col2\" >0.851000</td>\n",
       "                        <td id=\"T_350dd_row2_col3\" class=\"data row2 col3\" >0.632900</td>\n",
       "                        <td id=\"T_350dd_row2_col4\" class=\"data row2 col4\" >0.853800</td>\n",
       "                        <td id=\"T_350dd_row2_col5\" class=\"data row2 col5\" >0.623200</td>\n",
       "                        <td id=\"T_350dd_row2_col6\" class=\"data row2 col6\" >0.852700</td>\n",
       "                        <td id=\"T_350dd_row2_col7\" class=\"data row2 col7\" >0.602100</td>\n",
       "                        <td id=\"T_350dd_row2_col8\" class=\"data row2 col8\" >0.850800</td>\n",
       "            </tr>\n",
       "    </tbody></table>"
      ],
      "text/plain": [
       "<pandas.io.formats.style.Styler at 0x7f788be18040>"
      ]
     },
     "execution_count": 32,
     "metadata": {},
     "output_type": "execute_result"
    }
   ],
   "source": [
    "tabledata = [['L_R',\n",
    "              round(0.3333333333333333, 4), round(0.7592155166677758, 4),\n",
    "              round(0.3333333333333333, 4), round(0.7592155166677758, 4),\n",
    "              round(0.488013698630137, 4),  round(0.7640909393354666, 4),\n",
    "              round(0.4905335628227194, 4), round(0.7628297412880553, 4)],\n",
    "             ['D_T_C', \n",
    "              round(0.5766526019690578, 4), round(0.7806105166375311, 4),\n",
    "              round(0.5963791267305644, 4), round(0.8310244134068074, 4),\n",
    "              round(0.5963791267305644, 4), round(0.8310244134068074, 4),\n",
    "              round(0.5965621840242669, 4), round(0.8288218535074614, 4)],\n",
    "             ['R_F_C',\n",
    "              round(0.5871271585557299, 4), round(0.8510289198458737, 4),\n",
    "              round(0.6329113924050632, 4), round(0.8537509300201429, 4),\n",
    "              round(0.6231578947368421, 4), round(0.852733200660541, 4),\n",
    "              round(0.6020892687559355, 4), round(0.8507733533350674, 4)]]\n",
    "\n",
    "data = pd.DataFrame(tabledata,columns=['Model',\n",
    "                                       'F1_raw','AUC_ROC_raw',\n",
    "                                       'F1_balance', 'AUC_ROC_balance',\n",
    "                                       'F1_up', 'AUC_ROC_up',\n",
    "                                       'F1_down', 'AUC_ROC_down'])\n",
    "# создаем таблицу\n",
    "(data\n",
    " .style\n",
    " .background_gradient(subset=[ 'F1_raw','AUC_ROC_raw',\n",
    "                               'F1_balance', 'AUC_ROC_balance',\n",
    "                               'F1_up', 'AUC_ROC_up',\n",
    "                               'F1_down', 'AUC_ROC_down'],\n",
    "                               cmap='Oranges')\n",
    " .set_caption('Таблица метрик моделей на валидационных выборках')\n",
    " .set_table_styles([{'selector' : 'caption',\n",
    "                     'props' : [('color','brown'), ('font-size', '20px')]}])\n",
    ")\n",
    "# задаем необходимые параметры для нашей таблицы"
   ]
  },
  {
   "cell_type": "markdown",
   "metadata": {},
   "source": [
    "#### Вывод"
   ]
  },
  {
   "cell_type": "markdown",
   "metadata": {},
   "source": [
    "Подводя итоги, можно выделить модель `RandomForestClassifier`, как модель с наилучшими показателями F1  и Ф"
   ]
  },
  {
   "cell_type": "markdown",
   "metadata": {},
   "source": [
    "## Тестирование модели"
   ]
  },
  {
   "cell_type": "code",
   "execution_count": 33,
   "metadata": {
    "scrolled": true
   },
   "outputs": [
    {
     "name": "stdout",
     "output_type": "stream",
     "text": [
      "F1 наилучшей модели \"случайный лес\" на тестовой выборке: 0.612668743509865\n",
      "AUC-ROC лучшей модели \"случайный лес\"  на тестовой выборке: 0.8544217931824348\n"
     ]
    }
   ],
   "source": [
    "#def f1_auc_roc_rfc_test(features, target, name_selection, dep, est, clas):\n",
    "model = RandomForestClassifier(random_state = 12345,\n",
    "                               class_weight = None,\n",
    "                               max_depth = 9,\n",
    "                               n_estimators = 96) \n",
    "model.fit(features_upsampled, target_upsampled)\n",
    "# обучаем модель    \n",
    "predictions_test = model.predict(features_test)\n",
    "f1 = f1_score(target_test, predictions_test)\n",
    "# строим предсказания и получаем значение F1          \n",
    "probabilities_test = model.predict_proba(features_test)\n",
    "probabilities_one_test = probabilities_test[:, 1]\n",
    "    \n",
    "fpr, tpr, thresholds = roc_curve(target_test, probabilities_one_test) \n",
    "print(f'F1 наилучшей модели \"случайный лес\" на тестовой выборке: {f1}',\n",
    "      f'AUC-ROC лучшей модели \"случайный лес\"  на тестовой выборке: { roc_auc_score(target_test, probabilities_one_test)}',\n",
    "      sep='\\n')\n",
    "# return fpr, tpr\n",
    "    \n",
    "# выводим данные из нашей функции"
   ]
  },
  {
   "cell_type": "markdown",
   "metadata": {},
   "source": [
    "Мы видим, что на на тестовых данных модель обученная на увеличенной выборке, сохранила свои значения на уровне не менее 0.59 при этом имея достаточно высокие показания AUC_ROC:\n",
    "\n",
    "- F1 - 0.612668743509865 \n",
    "- AUC-ROC - 0.854421793182434"
   ]
  },
  {
   "cell_type": "code",
   "execution_count": 34,
   "metadata": {},
   "outputs": [
    {
     "data": {
      "image/png": "[encoded data removed]",
      "text/plain": [
       "<Figure size 864x432 with 1 Axes>"
      ]
     },
     "metadata": {
      "needs_background": "light"
     },
     "output_type": "display_data"
    }
   ],
   "source": [
    "plt.figure(figsize=(12, 6))\n",
    "plt.plot(fpr, tpr,color='darkorange',\n",
    "         label='ROC кривая на увеличенной выборке')\n",
    "plt.plot([0, 1], [0, 1], color='navy', linestyle='--')\n",
    "plt.xlim([0.0, 1.0])\n",
    "plt.ylim([0.0, 1.0])\n",
    "plt.xlabel('False Positive Rate')\n",
    "plt.ylabel('True Positive Rate')\n",
    "plt.title('ROC-кривая увеличенной выборки')\n",
    "plt.legend(loc=\"lower right\")\n",
    "plt.show()    \n",
    "# строим ROC кривую"
   ]
  },
  {
   "cell_type": "markdown",
   "metadata": {},
   "source": [
    "\n",
    "Согласно условиям задания, мы нашли наилучшую модель с предельно большим значением F1-меры. ROC кривая на увеличенной выборке так же по казала лучший результат."
   ]
  },
  {
   "cell_type": "markdown",
   "metadata": {},
   "source": [
    "### Вывод\n"
   ]
  },
  {
   "cell_type": "markdown",
   "metadata": {},
   "source": [
    "Подводя итоги, можно уверенно сказать, что обучив разные модели на разных выборках, лучше всего себя показала модель `RandomForestClassifier`  с параметрами (random_state = 12345, class_weight = None, max_depth = 9, n_estimators = 96), как на валидационной, так и на тестовой выборке."
   ]
  }
 ],
 "metadata": {
  "ExecuteTimeLog": [
   {
    "duration": 1315,
    "start_time": "2022-03-18T20:15:10.689Z"
   },
   {
    "duration": 4,
    "start_time": "2022-03-18T20:15:33.499Z"
   },
   {
    "duration": 38,
    "start_time": "2022-03-18T20:17:18.420Z"
   },
   {
    "duration": 49,
    "start_time": "2022-03-18T20:25:18.291Z"
   },
   {
    "duration": 52,
    "start_time": "2022-03-18T20:27:17.085Z"
   },
   {
    "duration": 7,
    "start_time": "2022-03-18T20:37:59.240Z"
   },
   {
    "duration": 18,
    "start_time": "2022-03-18T20:38:39.110Z"
   },
   {
    "duration": 12,
    "start_time": "2022-03-18T20:38:51.015Z"
   },
   {
    "duration": 11,
    "start_time": "2022-03-18T20:39:12.806Z"
   },
   {
    "duration": 332,
    "start_time": "2022-03-18T20:40:01.726Z"
   },
   {
    "duration": 12,
    "start_time": "2022-03-18T20:40:07.752Z"
   },
   {
    "duration": 12,
    "start_time": "2022-03-18T20:41:27.594Z"
   },
   {
    "duration": 12,
    "start_time": "2022-03-18T20:41:34.546Z"
   },
   {
    "duration": 12,
    "start_time": "2022-03-18T20:41:54.130Z"
   },
   {
    "duration": 12,
    "start_time": "2022-03-18T20:42:01.946Z"
   },
   {
    "duration": 13,
    "start_time": "2022-03-18T20:42:26.265Z"
   },
   {
    "duration": 12,
    "start_time": "2022-03-18T20:42:37.508Z"
   },
   {
    "duration": 11,
    "start_time": "2022-03-18T20:42:55.326Z"
   },
   {
    "duration": 13,
    "start_time": "2022-03-18T20:43:02.441Z"
   },
   {
    "duration": 3,
    "start_time": "2022-03-18T20:43:06.957Z"
   },
   {
    "duration": 52,
    "start_time": "2022-03-18T20:43:06.962Z"
   },
   {
    "duration": 11,
    "start_time": "2022-03-18T20:43:07.016Z"
   },
   {
    "duration": 12,
    "start_time": "2022-03-18T20:43:49.178Z"
   },
   {
    "duration": 15,
    "start_time": "2022-03-18T20:44:02.222Z"
   },
   {
    "duration": 2,
    "start_time": "2022-03-18T20:44:46.499Z"
   },
   {
    "duration": 7,
    "start_time": "2022-03-18T20:56:29.229Z"
   },
   {
    "duration": 8,
    "start_time": "2022-03-18T20:56:34.921Z"
   },
   {
    "duration": 9,
    "start_time": "2022-03-18T21:04:49.523Z"
   },
   {
    "duration": 11,
    "start_time": "2022-03-18T21:04:54.861Z"
   },
   {
    "duration": 12,
    "start_time": "2022-03-18T21:05:23.699Z"
   },
   {
    "duration": 14,
    "start_time": "2022-03-18T21:05:29.549Z"
   },
   {
    "duration": 30,
    "start_time": "2022-03-18T21:05:37.660Z"
   },
   {
    "duration": 24,
    "start_time": "2022-03-18T21:06:04.234Z"
   },
   {
    "duration": 9,
    "start_time": "2022-03-18T21:06:16.950Z"
   },
   {
    "duration": 10,
    "start_time": "2022-03-18T21:06:34.806Z"
   },
   {
    "duration": 10,
    "start_time": "2022-03-18T21:06:40.815Z"
   },
   {
    "duration": 4,
    "start_time": "2022-03-18T21:06:43.724Z"
   },
   {
    "duration": 44,
    "start_time": "2022-03-18T21:06:43.740Z"
   },
   {
    "duration": 12,
    "start_time": "2022-03-18T21:06:43.786Z"
   },
   {
    "duration": 42,
    "start_time": "2022-03-18T21:06:43.799Z"
   },
   {
    "duration": 10,
    "start_time": "2022-03-18T21:07:00.024Z"
   },
   {
    "duration": 10,
    "start_time": "2022-03-18T21:07:08.082Z"
   },
   {
    "duration": 3,
    "start_time": "2022-03-18T21:08:46.592Z"
   },
   {
    "duration": 46,
    "start_time": "2022-03-18T21:08:46.606Z"
   },
   {
    "duration": 10,
    "start_time": "2022-03-18T21:08:46.654Z"
   },
   {
    "duration": 30,
    "start_time": "2022-03-18T21:08:46.666Z"
   },
   {
    "duration": 9,
    "start_time": "2022-03-18T21:10:43.469Z"
   },
   {
    "duration": 9,
    "start_time": "2022-03-18T21:10:59.197Z"
   },
   {
    "duration": 9,
    "start_time": "2022-03-18T21:12:58.463Z"
   },
   {
    "duration": 9,
    "start_time": "2022-03-18T21:13:16.944Z"
   },
   {
    "duration": 8,
    "start_time": "2022-03-18T21:13:23.811Z"
   },
   {
    "duration": 10,
    "start_time": "2022-03-18T21:14:04.102Z"
   },
   {
    "duration": 9,
    "start_time": "2022-03-18T21:14:11.857Z"
   },
   {
    "duration": 9,
    "start_time": "2022-03-18T21:14:20.641Z"
   },
   {
    "duration": 9,
    "start_time": "2022-03-18T21:15:34.417Z"
   },
   {
    "duration": 9,
    "start_time": "2022-03-18T21:15:36.597Z"
   },
   {
    "duration": 8,
    "start_time": "2022-03-18T21:15:55.407Z"
   },
   {
    "duration": 8,
    "start_time": "2022-03-18T21:16:06.421Z"
   },
   {
    "duration": 9,
    "start_time": "2022-03-18T21:16:17.394Z"
   },
   {
    "duration": 10,
    "start_time": "2022-03-18T21:16:22.474Z"
   },
   {
    "duration": 10,
    "start_time": "2022-03-18T21:16:30.839Z"
   },
   {
    "duration": 7,
    "start_time": "2022-03-18T21:17:07.330Z"
   },
   {
    "duration": 8,
    "start_time": "2022-03-18T21:17:10.733Z"
   },
   {
    "duration": 3,
    "start_time": "2022-03-18T21:17:14.502Z"
   },
   {
    "duration": 44,
    "start_time": "2022-03-18T21:17:14.517Z"
   },
   {
    "duration": 11,
    "start_time": "2022-03-18T21:17:14.562Z"
   },
   {
    "duration": 12,
    "start_time": "2022-03-18T21:17:14.574Z"
   },
   {
    "duration": 19,
    "start_time": "2022-03-18T21:17:21.524Z"
   },
   {
    "duration": 4,
    "start_time": "2022-03-18T21:17:25.161Z"
   },
   {
    "duration": 56,
    "start_time": "2022-03-18T21:17:25.176Z"
   },
   {
    "duration": 11,
    "start_time": "2022-03-18T21:17:25.234Z"
   },
   {
    "duration": 39,
    "start_time": "2022-03-18T21:17:25.246Z"
   },
   {
    "duration": 22,
    "start_time": "2022-03-18T21:17:40.696Z"
   },
   {
    "duration": 11,
    "start_time": "2022-03-18T21:17:52.415Z"
   },
   {
    "duration": 3,
    "start_time": "2022-03-18T21:17:55.486Z"
   },
   {
    "duration": 44,
    "start_time": "2022-03-18T21:17:55.502Z"
   },
   {
    "duration": 13,
    "start_time": "2022-03-18T21:17:55.548Z"
   },
   {
    "duration": 23,
    "start_time": "2022-03-18T21:17:55.562Z"
   },
   {
    "duration": 11,
    "start_time": "2022-03-18T21:18:09.349Z"
   },
   {
    "duration": 3,
    "start_time": "2022-03-18T21:18:11.528Z"
   },
   {
    "duration": 44,
    "start_time": "2022-03-18T21:18:11.543Z"
   },
   {
    "duration": 17,
    "start_time": "2022-03-18T21:18:11.589Z"
   },
   {
    "duration": 26,
    "start_time": "2022-03-18T21:18:11.607Z"
   },
   {
    "duration": 29,
    "start_time": "2022-03-18T21:18:32.468Z"
   },
   {
    "duration": 14,
    "start_time": "2022-03-18T21:18:48.580Z"
   },
   {
    "duration": 11,
    "start_time": "2022-03-18T21:18:53.184Z"
   },
   {
    "duration": 3,
    "start_time": "2022-03-18T21:19:03.749Z"
   },
   {
    "duration": 44,
    "start_time": "2022-03-18T21:19:03.758Z"
   },
   {
    "duration": 3,
    "start_time": "2022-03-18T21:19:03.805Z"
   },
   {
    "duration": 0,
    "start_time": "2022-03-18T21:19:03.810Z"
   },
   {
    "duration": 11,
    "start_time": "2022-03-18T21:19:08.502Z"
   },
   {
    "duration": 12,
    "start_time": "2022-03-18T21:19:10.617Z"
   },
   {
    "duration": 11,
    "start_time": "2022-03-18T21:23:16.197Z"
   },
   {
    "duration": 11,
    "start_time": "2022-03-18T21:23:34.170Z"
   },
   {
    "duration": 259,
    "start_time": "2022-03-18T21:26:31.156Z"
   },
   {
    "duration": 18,
    "start_time": "2022-03-18T21:35:13.686Z"
   },
   {
    "duration": 7,
    "start_time": "2022-03-18T21:35:18.286Z"
   },
   {
    "duration": 15,
    "start_time": "2022-03-18T21:35:33.261Z"
   },
   {
    "duration": 10,
    "start_time": "2022-03-18T21:35:50.798Z"
   },
   {
    "duration": 12,
    "start_time": "2022-03-18T21:36:38.382Z"
   },
   {
    "duration": 18,
    "start_time": "2022-03-18T21:37:40.553Z"
   },
   {
    "duration": 16,
    "start_time": "2022-03-18T21:38:11.826Z"
   },
   {
    "duration": 5,
    "start_time": "2022-03-18T21:46:59.054Z"
   },
   {
    "duration": 4,
    "start_time": "2022-03-18T21:47:15.921Z"
   },
   {
    "duration": 4,
    "start_time": "2022-03-18T21:47:27.735Z"
   },
   {
    "duration": 0,
    "start_time": "2022-03-19T16:17:56.208Z"
   },
   {
    "duration": 0,
    "start_time": "2022-03-19T16:17:56.210Z"
   },
   {
    "duration": 0,
    "start_time": "2022-03-19T16:17:56.213Z"
   },
   {
    "duration": 0,
    "start_time": "2022-03-19T16:17:56.215Z"
   },
   {
    "duration": 0,
    "start_time": "2022-03-19T16:17:56.217Z"
   },
   {
    "duration": 0,
    "start_time": "2022-03-19T16:17:56.219Z"
   },
   {
    "duration": 0,
    "start_time": "2022-03-19T16:17:56.222Z"
   },
   {
    "duration": 0,
    "start_time": "2022-03-19T16:17:56.223Z"
   },
   {
    "duration": 0,
    "start_time": "2022-03-19T16:17:56.225Z"
   },
   {
    "duration": 1733,
    "start_time": "2022-03-19T16:18:02.028Z"
   },
   {
    "duration": 74,
    "start_time": "2022-03-19T16:18:03.764Z"
   },
   {
    "duration": 45,
    "start_time": "2022-03-19T16:18:03.841Z"
   },
   {
    "duration": 34,
    "start_time": "2022-03-19T16:18:03.891Z"
   },
   {
    "duration": 31,
    "start_time": "2022-03-19T16:18:03.928Z"
   },
   {
    "duration": 17,
    "start_time": "2022-03-19T16:18:03.982Z"
   },
   {
    "duration": 9,
    "start_time": "2022-03-19T16:18:04.001Z"
   },
   {
    "duration": 8,
    "start_time": "2022-03-19T16:18:04.013Z"
   },
   {
    "duration": 5,
    "start_time": "2022-03-19T16:18:04.023Z"
   },
   {
    "duration": 97,
    "start_time": "2022-03-19T16:25:57.542Z"
   },
   {
    "duration": 68,
    "start_time": "2022-03-19T16:26:45.102Z"
   },
   {
    "duration": 138,
    "start_time": "2022-03-19T16:29:58.558Z"
   },
   {
    "duration": 7,
    "start_time": "2022-03-19T16:33:45.007Z"
   },
   {
    "duration": 163,
    "start_time": "2022-03-19T16:39:03.024Z"
   },
   {
    "duration": 13,
    "start_time": "2022-03-19T16:39:57.936Z"
   },
   {
    "duration": 6,
    "start_time": "2022-03-19T16:40:14.093Z"
   },
   {
    "duration": 17,
    "start_time": "2022-03-19T16:40:15.412Z"
   },
   {
    "duration": 20,
    "start_time": "2022-03-19T16:40:56.312Z"
   },
   {
    "duration": 20,
    "start_time": "2022-03-19T16:41:03.804Z"
   },
   {
    "duration": 17,
    "start_time": "2022-03-19T16:41:08.531Z"
   },
   {
    "duration": 16,
    "start_time": "2022-03-19T16:41:59.858Z"
   },
   {
    "duration": 58,
    "start_time": "2022-03-19T16:42:23.299Z"
   },
   {
    "duration": 6,
    "start_time": "2022-03-19T16:42:30.702Z"
   },
   {
    "duration": 79,
    "start_time": "2022-03-19T16:42:30.716Z"
   },
   {
    "duration": 19,
    "start_time": "2022-03-19T16:42:30.799Z"
   },
   {
    "duration": 47,
    "start_time": "2022-03-19T16:42:30.822Z"
   },
   {
    "duration": 34,
    "start_time": "2022-03-19T16:42:30.872Z"
   },
   {
    "duration": 6,
    "start_time": "2022-03-19T16:42:30.909Z"
   },
   {
    "duration": 22,
    "start_time": "2022-03-19T16:42:31.117Z"
   },
   {
    "duration": 87,
    "start_time": "2022-03-19T16:42:31.162Z"
   },
   {
    "duration": 50,
    "start_time": "2022-03-19T16:42:54.361Z"
   },
   {
    "duration": 36,
    "start_time": "2022-03-19T16:43:06.442Z"
   },
   {
    "duration": 35,
    "start_time": "2022-03-19T16:43:31.472Z"
   },
   {
    "duration": 5,
    "start_time": "2022-03-19T16:43:34.232Z"
   },
   {
    "duration": 62,
    "start_time": "2022-03-19T16:43:34.243Z"
   },
   {
    "duration": 19,
    "start_time": "2022-03-19T16:43:34.308Z"
   },
   {
    "duration": 23,
    "start_time": "2022-03-19T16:43:34.329Z"
   },
   {
    "duration": 50,
    "start_time": "2022-03-19T16:43:34.355Z"
   },
   {
    "duration": 7,
    "start_time": "2022-03-19T16:43:34.407Z"
   },
   {
    "duration": 22,
    "start_time": "2022-03-19T16:43:34.416Z"
   },
   {
    "duration": 68,
    "start_time": "2022-03-19T16:43:34.440Z"
   },
   {
    "duration": 51,
    "start_time": "2022-03-19T16:43:54.528Z"
   },
   {
    "duration": 21,
    "start_time": "2022-03-19T17:14:43.412Z"
   },
   {
    "duration": 27,
    "start_time": "2022-03-19T17:15:00.365Z"
   },
   {
    "duration": 148,
    "start_time": "2022-03-19T17:27:19.571Z"
   },
   {
    "duration": 185,
    "start_time": "2022-03-19T17:27:53.484Z"
   },
   {
    "duration": 45,
    "start_time": "2022-03-19T17:28:09.172Z"
   },
   {
    "duration": 644,
    "start_time": "2022-03-19T17:28:57.600Z"
   },
   {
    "duration": 654,
    "start_time": "2022-03-19T17:29:13.148Z"
   },
   {
    "duration": 640,
    "start_time": "2022-03-19T17:36:22.198Z"
   },
   {
    "duration": 31,
    "start_time": "2022-03-19T17:37:50.498Z"
   },
   {
    "duration": 677,
    "start_time": "2022-03-19T17:38:21.462Z"
   },
   {
    "duration": 30,
    "start_time": "2022-03-19T17:38:26.743Z"
   },
   {
    "duration": 48982,
    "start_time": "2022-03-19T17:38:36.306Z"
   },
   {
    "duration": 4798,
    "start_time": "2022-03-19T17:47:49.810Z"
   },
   {
    "duration": 0,
    "start_time": "2022-03-19T17:47:54.995Z"
   },
   {
    "duration": 0,
    "start_time": "2022-03-19T17:47:55.001Z"
   },
   {
    "duration": 390,
    "start_time": "2022-03-19T17:48:06.099Z"
   },
   {
    "duration": 642,
    "start_time": "2022-03-19T17:48:21.040Z"
   },
   {
    "duration": 4720,
    "start_time": "2022-03-19T17:48:38.137Z"
   },
   {
    "duration": 32600,
    "start_time": "2022-03-19T17:48:57.911Z"
   },
   {
    "duration": 1113,
    "start_time": "2022-03-19T17:49:30.514Z"
   },
   {
    "duration": 118,
    "start_time": "2022-03-19T17:58:17.368Z"
   },
   {
    "duration": 46,
    "start_time": "2022-03-19T17:58:37.538Z"
   },
   {
    "duration": 152,
    "start_time": "2022-03-19T17:58:41.982Z"
   },
   {
    "duration": 56,
    "start_time": "2022-03-19T17:58:49.030Z"
   },
   {
    "duration": 32402,
    "start_time": "2022-03-19T17:59:00.945Z"
   },
   {
    "duration": 127345,
    "start_time": "2022-03-19T18:00:01.474Z"
   },
   {
    "duration": 550416,
    "start_time": "2022-03-19T18:02:12.504Z"
   },
   {
    "duration": 5,
    "start_time": "2022-03-19T18:27:51.623Z"
   },
   {
    "duration": 7,
    "start_time": "2022-03-19T18:27:55.541Z"
   },
   {
    "duration": 98,
    "start_time": "2022-03-19T18:27:55.553Z"
   },
   {
    "duration": 40,
    "start_time": "2022-03-19T18:27:55.655Z"
   },
   {
    "duration": 30,
    "start_time": "2022-03-19T18:27:55.698Z"
   },
   {
    "duration": 57,
    "start_time": "2022-03-19T18:27:55.731Z"
   },
   {
    "duration": 7,
    "start_time": "2022-03-19T18:27:55.791Z"
   },
   {
    "duration": 19,
    "start_time": "2022-03-19T18:27:55.800Z"
   },
   {
    "duration": 91,
    "start_time": "2022-03-19T18:27:55.821Z"
   },
   {
    "duration": 302,
    "start_time": "2022-03-19T18:27:55.916Z"
   },
   {
    "duration": 1142,
    "start_time": "2022-03-19T18:27:56.220Z"
   },
   {
    "duration": 14818,
    "start_time": "2022-03-19T18:27:57.364Z"
   },
   {
    "duration": 652439,
    "start_time": "2022-03-19T18:30:31.062Z"
   },
   {
    "duration": 44245,
    "start_time": "2022-03-19T18:44:51.576Z"
   },
   {
    "duration": 13,
    "start_time": "2022-03-19T18:46:54.406Z"
   },
   {
    "duration": 6,
    "start_time": "2022-03-19T18:46:57.307Z"
   },
   {
    "duration": 46603,
    "start_time": "2022-03-19T18:47:47.414Z"
   },
   {
    "duration": 153,
    "start_time": "2022-03-19T18:58:58.241Z"
   },
   {
    "duration": 229,
    "start_time": "2022-03-19T18:59:32.955Z"
   },
   {
    "duration": 156,
    "start_time": "2022-03-19T19:01:59.451Z"
   },
   {
    "duration": 419,
    "start_time": "2022-03-19T19:37:28.266Z"
   },
   {
    "duration": 414,
    "start_time": "2022-03-19T19:38:01.847Z"
   },
   {
    "duration": 402,
    "start_time": "2022-03-19T19:38:13.041Z"
   },
   {
    "duration": 6,
    "start_time": "2022-03-19T19:38:17.254Z"
   },
   {
    "duration": 60,
    "start_time": "2022-03-19T19:38:17.285Z"
   },
   {
    "duration": 45,
    "start_time": "2022-03-19T19:38:17.348Z"
   },
   {
    "duration": 29,
    "start_time": "2022-03-19T19:38:17.396Z"
   },
   {
    "duration": 27,
    "start_time": "2022-03-19T19:38:17.427Z"
   },
   {
    "duration": 29,
    "start_time": "2022-03-19T19:38:17.459Z"
   },
   {
    "duration": 21,
    "start_time": "2022-03-19T19:38:17.491Z"
   },
   {
    "duration": 88,
    "start_time": "2022-03-19T19:38:17.515Z"
   },
   {
    "duration": 43211,
    "start_time": "2022-03-19T19:38:17.606Z"
   },
   {
    "duration": 279,
    "start_time": "2022-03-19T19:39:00.819Z"
   },
   {
    "duration": 1132,
    "start_time": "2022-03-19T19:39:01.100Z"
   },
   {
    "duration": 462,
    "start_time": "2022-03-19T19:39:02.234Z"
   },
   {
    "duration": 0,
    "start_time": "2022-03-19T19:50:12.081Z"
   },
   {
    "duration": 0,
    "start_time": "2022-03-19T19:50:12.084Z"
   },
   {
    "duration": 0,
    "start_time": "2022-03-19T19:50:12.087Z"
   },
   {
    "duration": 0,
    "start_time": "2022-03-19T19:50:12.091Z"
   },
   {
    "duration": 0,
    "start_time": "2022-03-19T19:50:12.094Z"
   },
   {
    "duration": 0,
    "start_time": "2022-03-19T19:50:12.097Z"
   },
   {
    "duration": 0,
    "start_time": "2022-03-19T19:50:12.100Z"
   },
   {
    "duration": 0,
    "start_time": "2022-03-19T19:50:12.102Z"
   },
   {
    "duration": 0,
    "start_time": "2022-03-19T19:50:12.105Z"
   },
   {
    "duration": 0,
    "start_time": "2022-03-19T19:50:12.109Z"
   },
   {
    "duration": 0,
    "start_time": "2022-03-19T19:50:12.112Z"
   },
   {
    "duration": 0,
    "start_time": "2022-03-19T19:50:12.115Z"
   },
   {
    "duration": 0,
    "start_time": "2022-03-19T19:50:12.118Z"
   },
   {
    "duration": 0,
    "start_time": "2022-03-19T19:50:12.121Z"
   },
   {
    "duration": 5,
    "start_time": "2022-03-19T19:51:10.283Z"
   },
   {
    "duration": 68,
    "start_time": "2022-03-19T19:51:10.294Z"
   },
   {
    "duration": 32,
    "start_time": "2022-03-19T19:51:10.365Z"
   },
   {
    "duration": 36,
    "start_time": "2022-03-19T19:51:10.399Z"
   },
   {
    "duration": 39,
    "start_time": "2022-03-19T19:51:10.438Z"
   },
   {
    "duration": 6,
    "start_time": "2022-03-19T19:51:10.480Z"
   },
   {
    "duration": 25,
    "start_time": "2022-03-19T19:51:10.488Z"
   },
   {
    "duration": 71,
    "start_time": "2022-03-19T19:51:10.515Z"
   },
   {
    "duration": 17,
    "start_time": "2022-03-19T19:51:10.588Z"
   },
   {
    "duration": 0,
    "start_time": "2022-03-19T19:51:10.607Z"
   },
   {
    "duration": 0,
    "start_time": "2022-03-19T19:51:10.609Z"
   },
   {
    "duration": 0,
    "start_time": "2022-03-19T19:51:10.611Z"
   },
   {
    "duration": 0,
    "start_time": "2022-03-19T19:51:10.612Z"
   },
   {
    "duration": 0,
    "start_time": "2022-03-19T19:51:10.614Z"
   },
   {
    "duration": 43618,
    "start_time": "2022-03-19T19:52:29.495Z"
   },
   {
    "duration": 235,
    "start_time": "2022-03-19T19:59:25.861Z"
   },
   {
    "duration": 40,
    "start_time": "2022-03-19T20:01:45.549Z"
   },
   {
    "duration": 36,
    "start_time": "2022-03-19T20:02:10.471Z"
   },
   {
    "duration": 61528,
    "start_time": "2022-03-19T20:03:19.948Z"
   },
   {
    "duration": 7,
    "start_time": "2022-03-19T20:05:52.227Z"
   },
   {
    "duration": 62,
    "start_time": "2022-03-19T20:05:52.269Z"
   },
   {
    "duration": 19,
    "start_time": "2022-03-19T20:05:52.333Z"
   },
   {
    "duration": 42,
    "start_time": "2022-03-19T20:05:52.354Z"
   },
   {
    "duration": 27,
    "start_time": "2022-03-19T20:05:52.398Z"
   },
   {
    "duration": 7,
    "start_time": "2022-03-19T20:05:52.428Z"
   },
   {
    "duration": 47,
    "start_time": "2022-03-19T20:05:52.436Z"
   },
   {
    "duration": 53,
    "start_time": "2022-03-19T20:05:52.485Z"
   },
   {
    "duration": 43276,
    "start_time": "2022-03-19T20:05:52.540Z"
   },
   {
    "duration": 279,
    "start_time": "2022-03-19T20:06:35.819Z"
   },
   {
    "duration": 60337,
    "start_time": "2022-03-19T20:06:36.100Z"
   },
   {
    "duration": 1076,
    "start_time": "2022-03-19T20:07:36.439Z"
   },
   {
    "duration": 1564,
    "start_time": "2022-03-19T20:12:37.131Z"
   },
   {
    "duration": 69,
    "start_time": "2022-03-19T20:12:38.698Z"
   },
   {
    "duration": 26,
    "start_time": "2022-03-19T20:12:38.769Z"
   },
   {
    "duration": 20,
    "start_time": "2022-03-19T20:12:38.799Z"
   },
   {
    "duration": 27,
    "start_time": "2022-03-19T20:12:38.821Z"
   },
   {
    "duration": 7,
    "start_time": "2022-03-19T20:12:38.882Z"
   },
   {
    "duration": 18,
    "start_time": "2022-03-19T20:12:38.892Z"
   },
   {
    "duration": 82,
    "start_time": "2022-03-19T20:12:38.912Z"
   },
   {
    "duration": 44916,
    "start_time": "2022-03-19T20:12:38.997Z"
   },
   {
    "duration": 391,
    "start_time": "2022-03-19T20:13:23.916Z"
   },
   {
    "duration": 0,
    "start_time": "2022-03-19T20:13:24.309Z"
   },
   {
    "duration": 0,
    "start_time": "2022-03-19T20:13:24.311Z"
   },
   {
    "duration": 0,
    "start_time": "2022-03-19T20:13:24.314Z"
   },
   {
    "duration": 0,
    "start_time": "2022-03-19T20:13:24.315Z"
   },
   {
    "duration": 154,
    "start_time": "2022-03-19T20:13:44.736Z"
   },
   {
    "duration": 5,
    "start_time": "2022-03-19T20:13:55.562Z"
   },
   {
    "duration": 58,
    "start_time": "2022-03-19T20:13:55.574Z"
   },
   {
    "duration": 18,
    "start_time": "2022-03-19T20:13:55.635Z"
   },
   {
    "duration": 39,
    "start_time": "2022-03-19T20:13:55.655Z"
   },
   {
    "duration": 28,
    "start_time": "2022-03-19T20:13:55.696Z"
   },
   {
    "duration": 8,
    "start_time": "2022-03-19T20:13:55.728Z"
   },
   {
    "duration": 54,
    "start_time": "2022-03-19T20:13:55.738Z"
   },
   {
    "duration": 53,
    "start_time": "2022-03-19T20:13:55.794Z"
   },
   {
    "duration": 43067,
    "start_time": "2022-03-19T20:13:55.849Z"
   },
   {
    "duration": 166,
    "start_time": "2022-03-19T20:14:38.918Z"
   },
   {
    "duration": 63004,
    "start_time": "2022-03-19T20:14:39.087Z"
   },
   {
    "duration": 14,
    "start_time": "2022-03-19T20:15:42.094Z"
   },
   {
    "duration": 0,
    "start_time": "2022-03-19T20:15:42.110Z"
   },
   {
    "duration": 0,
    "start_time": "2022-03-19T20:15:42.111Z"
   },
   {
    "duration": 13,
    "start_time": "2022-03-19T20:16:19.735Z"
   },
   {
    "duration": 35,
    "start_time": "2022-03-19T20:16:31.835Z"
   },
   {
    "duration": 29,
    "start_time": "2022-03-19T20:16:47.714Z"
   },
   {
    "duration": 1879,
    "start_time": "2022-03-19T20:26:11.461Z"
   },
   {
    "duration": 76,
    "start_time": "2022-03-19T20:26:13.344Z"
   },
   {
    "duration": 24,
    "start_time": "2022-03-19T20:26:13.423Z"
   },
   {
    "duration": 43,
    "start_time": "2022-03-19T20:26:13.449Z"
   },
   {
    "duration": 33,
    "start_time": "2022-03-19T20:26:13.494Z"
   },
   {
    "duration": 9,
    "start_time": "2022-03-19T20:26:13.530Z"
   },
   {
    "duration": 53,
    "start_time": "2022-03-19T20:26:13.542Z"
   },
   {
    "duration": 55,
    "start_time": "2022-03-19T20:26:13.597Z"
   },
   {
    "duration": 754,
    "start_time": "2022-03-19T20:26:13.655Z"
   },
   {
    "duration": 44899,
    "start_time": "2022-03-19T20:26:14.413Z"
   },
   {
    "duration": 170,
    "start_time": "2022-03-19T20:26:59.314Z"
   },
   {
    "duration": 61300,
    "start_time": "2022-03-19T20:26:59.488Z"
   },
   {
    "duration": 32,
    "start_time": "2022-03-19T20:28:00.790Z"
   },
   {
    "duration": 1784,
    "start_time": "2022-03-19T20:31:59.364Z"
   },
   {
    "duration": 71,
    "start_time": "2022-03-19T20:32:01.151Z"
   },
   {
    "duration": 21,
    "start_time": "2022-03-19T20:32:01.224Z"
   },
   {
    "duration": 45,
    "start_time": "2022-03-19T20:32:01.248Z"
   },
   {
    "duration": 29,
    "start_time": "2022-03-19T20:32:01.295Z"
   },
   {
    "duration": 29,
    "start_time": "2022-03-19T20:32:01.326Z"
   },
   {
    "duration": 41,
    "start_time": "2022-03-19T20:32:01.357Z"
   },
   {
    "duration": 75,
    "start_time": "2022-03-19T20:32:01.401Z"
   },
   {
    "duration": 153,
    "start_time": "2022-03-19T20:32:01.479Z"
   },
   {
    "duration": 0,
    "start_time": "2022-03-19T20:32:01.636Z"
   },
   {
    "duration": 0,
    "start_time": "2022-03-19T20:32:01.638Z"
   },
   {
    "duration": 0,
    "start_time": "2022-03-19T20:32:01.640Z"
   },
   {
    "duration": 0,
    "start_time": "2022-03-19T20:32:01.643Z"
   },
   {
    "duration": 0,
    "start_time": "2022-03-19T20:32:01.645Z"
   },
   {
    "duration": 0,
    "start_time": "2022-03-19T20:32:01.647Z"
   },
   {
    "duration": 35,
    "start_time": "2022-03-19T20:33:00.546Z"
   },
   {
    "duration": 0,
    "start_time": "2022-03-19T20:33:00.585Z"
   },
   {
    "duration": 0,
    "start_time": "2022-03-19T20:33:00.588Z"
   },
   {
    "duration": 0,
    "start_time": "2022-03-19T20:33:00.590Z"
   },
   {
    "duration": 0,
    "start_time": "2022-03-19T20:33:00.592Z"
   },
   {
    "duration": 0,
    "start_time": "2022-03-19T20:33:00.594Z"
   },
   {
    "duration": 0,
    "start_time": "2022-03-19T20:33:00.596Z"
   },
   {
    "duration": 0,
    "start_time": "2022-03-19T20:33:00.598Z"
   },
   {
    "duration": 0,
    "start_time": "2022-03-19T20:33:00.600Z"
   },
   {
    "duration": 0,
    "start_time": "2022-03-19T20:33:00.602Z"
   },
   {
    "duration": 186,
    "start_time": "2022-03-19T20:33:00.607Z"
   },
   {
    "duration": 0,
    "start_time": "2022-03-19T20:43:19.535Z"
   },
   {
    "duration": 0,
    "start_time": "2022-03-19T20:43:19.537Z"
   },
   {
    "duration": 0,
    "start_time": "2022-03-19T20:43:19.538Z"
   },
   {
    "duration": 0,
    "start_time": "2022-03-19T20:43:19.540Z"
   },
   {
    "duration": 0,
    "start_time": "2022-03-19T20:43:19.542Z"
   },
   {
    "duration": 0,
    "start_time": "2022-03-19T20:43:19.544Z"
   },
   {
    "duration": 0,
    "start_time": "2022-03-19T20:43:19.545Z"
   },
   {
    "duration": 0,
    "start_time": "2022-03-19T20:43:19.547Z"
   },
   {
    "duration": 0,
    "start_time": "2022-03-19T20:43:19.549Z"
   },
   {
    "duration": 0,
    "start_time": "2022-03-19T20:43:19.550Z"
   },
   {
    "duration": 0,
    "start_time": "2022-03-19T20:43:19.552Z"
   },
   {
    "duration": 0,
    "start_time": "2022-03-19T20:43:19.583Z"
   },
   {
    "duration": 0,
    "start_time": "2022-03-19T20:43:19.585Z"
   },
   {
    "duration": 0,
    "start_time": "2022-03-19T20:43:19.587Z"
   },
   {
    "duration": 0,
    "start_time": "2022-03-19T20:43:19.588Z"
   },
   {
    "duration": 0,
    "start_time": "2022-03-19T20:43:19.590Z"
   },
   {
    "duration": 6,
    "start_time": "2022-03-19T20:46:28.292Z"
   },
   {
    "duration": 70,
    "start_time": "2022-03-19T20:46:28.300Z"
   },
   {
    "duration": 19,
    "start_time": "2022-03-19T20:46:28.372Z"
   },
   {
    "duration": 19,
    "start_time": "2022-03-19T20:46:28.393Z"
   },
   {
    "duration": 27,
    "start_time": "2022-03-19T20:46:28.416Z"
   },
   {
    "duration": 39,
    "start_time": "2022-03-19T20:46:28.445Z"
   },
   {
    "duration": 18,
    "start_time": "2022-03-19T20:46:28.486Z"
   },
   {
    "duration": 78,
    "start_time": "2022-03-19T20:46:28.506Z"
   },
   {
    "duration": 12,
    "start_time": "2022-03-19T20:46:28.587Z"
   },
   {
    "duration": 0,
    "start_time": "2022-03-19T20:46:28.601Z"
   },
   {
    "duration": 0,
    "start_time": "2022-03-19T20:46:28.603Z"
   },
   {
    "duration": 0,
    "start_time": "2022-03-19T20:46:28.605Z"
   },
   {
    "duration": 0,
    "start_time": "2022-03-19T20:46:28.607Z"
   },
   {
    "duration": 0,
    "start_time": "2022-03-19T20:46:28.608Z"
   },
   {
    "duration": 0,
    "start_time": "2022-03-19T20:46:28.610Z"
   },
   {
    "duration": 13,
    "start_time": "2022-03-19T20:46:55.244Z"
   },
   {
    "duration": 156,
    "start_time": "2022-03-19T20:47:15.602Z"
   },
   {
    "duration": 14,
    "start_time": "2022-03-19T20:47:19.044Z"
   },
   {
    "duration": 156,
    "start_time": "2022-03-19T20:48:23.204Z"
   },
   {
    "duration": 13,
    "start_time": "2022-03-19T20:48:30.062Z"
   },
   {
    "duration": 15,
    "start_time": "2022-03-19T20:53:11.271Z"
   },
   {
    "duration": 15,
    "start_time": "2022-03-19T20:53:14.363Z"
   },
   {
    "duration": 14,
    "start_time": "2022-03-19T20:53:33.582Z"
   },
   {
    "duration": 611,
    "start_time": "2022-03-19T20:55:24.550Z"
   },
   {
    "duration": 206,
    "start_time": "2022-03-19T20:56:00.683Z"
   },
   {
    "duration": 204,
    "start_time": "2022-03-19T20:56:53.572Z"
   },
   {
    "duration": 186,
    "start_time": "2022-03-19T20:57:27.702Z"
   },
   {
    "duration": 165,
    "start_time": "2022-03-19T20:57:35.890Z"
   },
   {
    "duration": 239,
    "start_time": "2022-03-19T20:57:41.843Z"
   },
   {
    "duration": 203,
    "start_time": "2022-03-19T20:57:44.931Z"
   },
   {
    "duration": 313,
    "start_time": "2022-03-19T20:58:07.042Z"
   },
   {
    "duration": 156,
    "start_time": "2022-03-19T20:58:44.811Z"
   },
   {
    "duration": 239,
    "start_time": "2022-03-19T20:58:50.234Z"
   },
   {
    "duration": 242,
    "start_time": "2022-03-19T20:58:59.553Z"
   },
   {
    "duration": 215,
    "start_time": "2022-03-19T20:59:05.913Z"
   },
   {
    "duration": 230,
    "start_time": "2022-03-19T20:59:20.252Z"
   },
   {
    "duration": 229,
    "start_time": "2022-03-19T20:59:42.163Z"
   },
   {
    "duration": 219,
    "start_time": "2022-03-19T21:00:11.799Z"
   },
   {
    "duration": 227,
    "start_time": "2022-03-19T21:00:45.271Z"
   },
   {
    "duration": 231,
    "start_time": "2022-03-19T21:00:49.556Z"
   },
   {
    "duration": 226,
    "start_time": "2022-03-19T21:01:12.158Z"
   },
   {
    "duration": 244,
    "start_time": "2022-03-19T21:04:28.917Z"
   },
   {
    "duration": 233,
    "start_time": "2022-03-19T21:04:37.525Z"
   },
   {
    "duration": 159,
    "start_time": "2022-03-19T21:04:49.110Z"
   },
   {
    "duration": 224,
    "start_time": "2022-03-19T21:04:52.307Z"
   },
   {
    "duration": 164,
    "start_time": "2022-03-19T21:06:04.382Z"
   },
   {
    "duration": 226,
    "start_time": "2022-03-19T21:06:12.357Z"
   },
   {
    "duration": 332,
    "start_time": "2022-03-19T21:06:36.718Z"
   },
   {
    "duration": 8,
    "start_time": "2022-03-19T21:06:59.317Z"
   },
   {
    "duration": 213,
    "start_time": "2022-03-19T21:07:03.519Z"
   },
   {
    "duration": 153,
    "start_time": "2022-03-19T21:12:30.521Z"
   },
   {
    "duration": 5,
    "start_time": "2022-03-19T21:13:51.587Z"
   },
   {
    "duration": 67,
    "start_time": "2022-03-19T21:13:51.600Z"
   },
   {
    "duration": 26,
    "start_time": "2022-03-19T21:13:51.671Z"
   },
   {
    "duration": 65,
    "start_time": "2022-03-19T21:13:51.699Z"
   },
   {
    "duration": 36,
    "start_time": "2022-03-19T21:13:51.767Z"
   },
   {
    "duration": 6,
    "start_time": "2022-03-19T21:13:51.806Z"
   },
   {
    "duration": 25,
    "start_time": "2022-03-19T21:13:51.815Z"
   },
   {
    "duration": 92,
    "start_time": "2022-03-19T21:13:51.843Z"
   },
   {
    "duration": 7,
    "start_time": "2022-03-19T21:13:51.938Z"
   },
   {
    "duration": 257,
    "start_time": "2022-03-19T21:13:51.947Z"
   },
   {
    "duration": 41507,
    "start_time": "2022-03-19T21:13:52.207Z"
   },
   {
    "duration": 168,
    "start_time": "2022-03-19T21:14:33.716Z"
   },
   {
    "duration": 62171,
    "start_time": "2022-03-19T21:14:33.887Z"
   },
   {
    "duration": 41,
    "start_time": "2022-03-19T21:15:36.060Z"
   },
   {
    "duration": 53106,
    "start_time": "2022-03-19T21:15:36.106Z"
   },
   {
    "duration": 433,
    "start_time": "2022-03-19T21:16:29.215Z"
   },
   {
    "duration": 0,
    "start_time": "2022-03-19T21:16:29.652Z"
   },
   {
    "duration": 400,
    "start_time": "2022-03-19T21:16:56.690Z"
   },
   {
    "duration": 230,
    "start_time": "2022-03-19T21:17:16.353Z"
   },
   {
    "duration": 224,
    "start_time": "2022-03-19T21:17:25.023Z"
   },
   {
    "duration": 27,
    "start_time": "2022-03-19T21:17:31.265Z"
   },
   {
    "duration": 59556,
    "start_time": "2022-03-19T21:17:52.511Z"
   },
   {
    "duration": 26,
    "start_time": "2022-03-19T21:19:16.995Z"
   },
   {
    "duration": 2614,
    "start_time": "2022-03-19T21:28:29.132Z"
   },
   {
    "duration": 76,
    "start_time": "2022-03-19T21:28:31.749Z"
   },
   {
    "duration": 19,
    "start_time": "2022-03-19T21:28:31.827Z"
   },
   {
    "duration": 42,
    "start_time": "2022-03-19T21:28:31.849Z"
   },
   {
    "duration": 30,
    "start_time": "2022-03-19T21:28:31.894Z"
   },
   {
    "duration": 7,
    "start_time": "2022-03-19T21:28:31.926Z"
   },
   {
    "duration": 47,
    "start_time": "2022-03-19T21:28:31.936Z"
   },
   {
    "duration": 58,
    "start_time": "2022-03-19T21:28:31.986Z"
   },
   {
    "duration": 37,
    "start_time": "2022-03-19T21:28:32.047Z"
   },
   {
    "duration": 258,
    "start_time": "2022-03-19T21:28:32.088Z"
   },
   {
    "duration": 40962,
    "start_time": "2022-03-19T21:28:32.349Z"
   },
   {
    "duration": 171,
    "start_time": "2022-03-19T21:29:13.313Z"
   },
   {
    "duration": 59980,
    "start_time": "2022-03-19T21:29:13.488Z"
   },
   {
    "duration": 30,
    "start_time": "2022-03-19T21:30:13.470Z"
   },
   {
    "duration": 98294,
    "start_time": "2022-03-19T21:30:13.502Z"
   },
   {
    "duration": 508,
    "start_time": "2022-03-19T21:31:51.799Z"
   },
   {
    "duration": 387,
    "start_time": "2022-03-19T21:34:26.795Z"
   },
   {
    "duration": 387,
    "start_time": "2022-03-19T21:34:32.674Z"
   },
   {
    "duration": 2289,
    "start_time": "2022-03-20T00:09:27.482Z"
   },
   {
    "duration": 182,
    "start_time": "2022-03-20T00:09:35.985Z"
   },
   {
    "duration": 6,
    "start_time": "2022-03-20T00:09:56.781Z"
   },
   {
    "duration": 88,
    "start_time": "2022-03-20T00:09:56.797Z"
   },
   {
    "duration": 21,
    "start_time": "2022-03-20T00:09:56.889Z"
   },
   {
    "duration": 23,
    "start_time": "2022-03-20T00:09:56.913Z"
   },
   {
    "duration": 69,
    "start_time": "2022-03-20T00:09:56.939Z"
   },
   {
    "duration": 9,
    "start_time": "2022-03-20T00:09:57.012Z"
   },
   {
    "duration": 20,
    "start_time": "2022-03-20T00:09:57.023Z"
   },
   {
    "duration": 90,
    "start_time": "2022-03-20T00:09:57.045Z"
   },
   {
    "duration": 1836,
    "start_time": "2022-03-20T00:09:57.137Z"
   },
   {
    "duration": 11,
    "start_time": "2022-03-20T00:09:58.975Z"
   },
   {
    "duration": 251,
    "start_time": "2022-03-20T00:09:58.988Z"
   },
   {
    "duration": 41785,
    "start_time": "2022-03-20T00:09:59.241Z"
   },
   {
    "duration": 158,
    "start_time": "2022-03-20T00:10:41.028Z"
   },
   {
    "duration": 66128,
    "start_time": "2022-03-20T00:10:41.189Z"
   },
   {
    "duration": 74,
    "start_time": "2022-03-20T00:11:47.321Z"
   },
   {
    "duration": 113938,
    "start_time": "2022-03-20T00:11:47.397Z"
   },
   {
    "duration": 433,
    "start_time": "2022-03-20T00:13:41.337Z"
   },
   {
    "duration": 4,
    "start_time": "2022-03-20T00:13:57.081Z"
   },
   {
    "duration": 21,
    "start_time": "2022-03-20T00:14:24.496Z"
   },
   {
    "duration": 6,
    "start_time": "2022-03-20T00:24:45.703Z"
   },
   {
    "duration": 7,
    "start_time": "2022-03-20T00:25:00.046Z"
   },
   {
    "duration": 20,
    "start_time": "2022-03-20T00:25:38.140Z"
   },
   {
    "duration": 7,
    "start_time": "2022-03-20T00:25:40.241Z"
   },
   {
    "duration": 6,
    "start_time": "2022-03-20T00:25:49.615Z"
   },
   {
    "duration": 16,
    "start_time": "2022-03-20T00:25:55.600Z"
   },
   {
    "duration": 6,
    "start_time": "2022-03-20T00:25:57.218Z"
   },
   {
    "duration": 113,
    "start_time": "2022-03-20T00:26:35.891Z"
   },
   {
    "duration": 9,
    "start_time": "2022-03-20T00:26:39.801Z"
   },
   {
    "duration": 233,
    "start_time": "2022-03-20T00:27:16.526Z"
   },
   {
    "duration": 201,
    "start_time": "2022-03-20T00:27:32.606Z"
   },
   {
    "duration": 201,
    "start_time": "2022-03-20T00:27:48.031Z"
   },
   {
    "duration": 4,
    "start_time": "2022-03-20T00:29:23.261Z"
   },
   {
    "duration": 48733,
    "start_time": "2022-03-20T00:29:57.188Z"
   },
   {
    "duration": 90,
    "start_time": "2022-03-20T00:33:29.601Z"
   },
   {
    "duration": 73,
    "start_time": "2022-03-20T00:36:38.118Z"
   },
   {
    "duration": 82754,
    "start_time": "2022-03-20T00:36:59.898Z"
   },
   {
    "duration": 230,
    "start_time": "2022-03-20T00:38:22.654Z"
   },
   {
    "duration": 100,
    "start_time": "2022-03-20T00:41:12.091Z"
   },
   {
    "duration": 49785,
    "start_time": "2022-03-20T00:42:06.531Z"
   },
   {
    "duration": 42260,
    "start_time": "2022-03-20T00:43:09.961Z"
   },
   {
    "duration": 34,
    "start_time": "2022-03-20T00:45:27.712Z"
   },
   {
    "duration": 146750,
    "start_time": "2022-03-20T00:47:28.082Z"
   },
   {
    "duration": 606,
    "start_time": "2022-03-20T00:50:07.328Z"
   },
   {
    "duration": 6,
    "start_time": "2022-03-20T00:50:15.934Z"
   },
   {
    "duration": 62,
    "start_time": "2022-03-20T00:50:15.959Z"
   },
   {
    "duration": 19,
    "start_time": "2022-03-20T00:50:16.024Z"
   },
   {
    "duration": 48,
    "start_time": "2022-03-20T00:50:16.045Z"
   },
   {
    "duration": 30,
    "start_time": "2022-03-20T00:50:16.095Z"
   },
   {
    "duration": 8,
    "start_time": "2022-03-20T00:50:16.129Z"
   },
   {
    "duration": 58,
    "start_time": "2022-03-20T00:50:16.140Z"
   },
   {
    "duration": 55,
    "start_time": "2022-03-20T00:50:16.201Z"
   },
   {
    "duration": 10,
    "start_time": "2022-03-20T00:50:16.285Z"
   },
   {
    "duration": 249,
    "start_time": "2022-03-20T00:50:16.298Z"
   },
   {
    "duration": 43571,
    "start_time": "2022-03-20T00:50:16.550Z"
   },
   {
    "duration": 162,
    "start_time": "2022-03-20T00:51:00.124Z"
   },
   {
    "duration": 65556,
    "start_time": "2022-03-20T00:51:00.289Z"
   },
   {
    "duration": 38,
    "start_time": "2022-03-20T00:52:05.847Z"
   },
   {
    "duration": 106316,
    "start_time": "2022-03-20T00:52:05.889Z"
   },
   {
    "duration": 396,
    "start_time": "2022-03-20T00:53:52.207Z"
   },
   {
    "duration": 23,
    "start_time": "2022-03-20T00:53:52.606Z"
   },
   {
    "duration": 11,
    "start_time": "2022-03-20T00:53:52.632Z"
   },
   {
    "duration": 337,
    "start_time": "2022-03-20T00:53:52.646Z"
   },
   {
    "duration": 52621,
    "start_time": "2022-03-20T00:53:52.986Z"
   },
   {
    "duration": 81,
    "start_time": "2022-03-20T00:54:45.610Z"
   },
   {
    "duration": 81341,
    "start_time": "2022-03-20T00:54:45.694Z"
   },
   {
    "duration": 36,
    "start_time": "2022-03-20T00:56:07.037Z"
   },
   {
    "duration": 147994,
    "start_time": "2022-03-20T00:56:07.085Z"
   },
   {
    "duration": 622,
    "start_time": "2022-03-20T00:58:35.084Z"
   },
   {
    "duration": 4,
    "start_time": "2022-03-20T00:58:35.711Z"
   },
   {
    "duration": 17,
    "start_time": "2022-03-20T00:58:48.276Z"
   },
   {
    "duration": 7,
    "start_time": "2022-03-20T00:59:17.096Z"
   },
   {
    "duration": 19,
    "start_time": "2022-03-20T00:59:25.311Z"
   },
   {
    "duration": 6,
    "start_time": "2022-03-20T00:59:26.786Z"
   },
   {
    "duration": 15168,
    "start_time": "2022-03-20T01:01:05.608Z"
   },
   {
    "duration": 97,
    "start_time": "2022-03-20T01:02:33.095Z"
   },
   {
    "duration": 50571,
    "start_time": "2022-03-20T01:04:09.572Z"
   },
   {
    "duration": 27,
    "start_time": "2022-03-20T01:05:24.455Z"
   },
   {
    "duration": 59435,
    "start_time": "2022-03-20T01:06:03.293Z"
   },
   {
    "duration": 270,
    "start_time": "2022-03-20T01:07:15.326Z"
   },
   {
    "duration": 18,
    "start_time": "2022-03-20T01:07:50.615Z"
   },
   {
    "duration": 6,
    "start_time": "2022-03-20T01:07:51.487Z"
   },
   {
    "duration": 15360,
    "start_time": "2022-03-20T01:07:55.026Z"
   },
   {
    "duration": 202,
    "start_time": "2022-03-20T01:08:10.389Z"
   },
   {
    "duration": 44893,
    "start_time": "2022-03-20T01:08:10.594Z"
   },
   {
    "duration": 25,
    "start_time": "2022-03-20T01:08:55.491Z"
   },
   {
    "duration": 51572,
    "start_time": "2022-03-20T01:08:55.519Z"
   },
   {
    "duration": 228,
    "start_time": "2022-03-20T01:09:47.093Z"
   },
   {
    "duration": 116,
    "start_time": "2022-03-20T01:09:47.787Z"
   },
   {
    "duration": 381,
    "start_time": "2022-03-20T01:09:47.905Z"
   },
   {
    "duration": 174,
    "start_time": "2022-03-20T01:10:23.878Z"
   },
   {
    "duration": 170,
    "start_time": "2022-03-20T01:10:39.430Z"
   },
   {
    "duration": 153,
    "start_time": "2022-03-20T01:11:12.985Z"
   },
   {
    "duration": 65522,
    "start_time": "2022-03-20T01:12:21.207Z"
   },
   {
    "duration": 29,
    "start_time": "2022-03-20T01:14:14.097Z"
   },
   {
    "duration": 43459,
    "start_time": "2022-03-20T01:15:52.561Z"
   },
   {
    "duration": 107138,
    "start_time": "2022-03-20T01:17:35.285Z"
   },
   {
    "duration": 591,
    "start_time": "2022-03-20T01:21:35.896Z"
   },
   {
    "duration": 2508,
    "start_time": "2022-03-20T13:39:19.196Z"
   },
   {
    "duration": 73,
    "start_time": "2022-03-20T13:39:21.707Z"
   },
   {
    "duration": 18,
    "start_time": "2022-03-20T13:39:21.782Z"
   },
   {
    "duration": 39,
    "start_time": "2022-03-20T13:39:21.805Z"
   },
   {
    "duration": 37,
    "start_time": "2022-03-20T13:39:21.847Z"
   },
   {
    "duration": 9,
    "start_time": "2022-03-20T13:39:21.887Z"
   },
   {
    "duration": 58,
    "start_time": "2022-03-20T13:39:21.898Z"
   },
   {
    "duration": 89,
    "start_time": "2022-03-20T13:39:21.959Z"
   },
   {
    "duration": 21,
    "start_time": "2022-03-20T13:39:22.050Z"
   },
   {
    "duration": 315,
    "start_time": "2022-03-20T13:39:22.076Z"
   },
   {
    "duration": 64074,
    "start_time": "2022-03-20T13:39:22.394Z"
   },
   {
    "duration": 176,
    "start_time": "2022-03-20T13:40:26.470Z"
   },
   {
    "duration": 65739,
    "start_time": "2022-03-20T13:40:26.652Z"
   },
   {
    "duration": 28,
    "start_time": "2022-03-20T13:41:32.393Z"
   },
   {
    "duration": 101848,
    "start_time": "2022-03-20T13:41:32.423Z"
   },
   {
    "duration": 0,
    "start_time": "2022-03-20T13:43:14.275Z"
   },
   {
    "duration": 0,
    "start_time": "2022-03-20T13:43:14.278Z"
   },
   {
    "duration": 0,
    "start_time": "2022-03-20T13:43:14.280Z"
   },
   {
    "duration": 0,
    "start_time": "2022-03-20T13:43:14.281Z"
   },
   {
    "duration": 0,
    "start_time": "2022-03-20T13:43:14.284Z"
   },
   {
    "duration": 0,
    "start_time": "2022-03-20T13:43:14.287Z"
   },
   {
    "duration": 0,
    "start_time": "2022-03-20T13:43:14.290Z"
   },
   {
    "duration": 0,
    "start_time": "2022-03-20T13:43:14.292Z"
   },
   {
    "duration": 1,
    "start_time": "2022-03-20T13:43:14.294Z"
   },
   {
    "duration": 0,
    "start_time": "2022-03-20T13:43:14.296Z"
   },
   {
    "duration": 0,
    "start_time": "2022-03-20T13:43:14.297Z"
   },
   {
    "duration": 0,
    "start_time": "2022-03-20T13:43:14.299Z"
   },
   {
    "duration": 0,
    "start_time": "2022-03-20T13:43:14.301Z"
   },
   {
    "duration": 0,
    "start_time": "2022-03-20T13:43:14.302Z"
   },
   {
    "duration": 0,
    "start_time": "2022-03-20T13:43:14.304Z"
   },
   {
    "duration": 0,
    "start_time": "2022-03-20T13:43:14.305Z"
   },
   {
    "duration": 0,
    "start_time": "2022-03-20T13:43:14.307Z"
   },
   {
    "duration": 0,
    "start_time": "2022-03-20T13:43:14.309Z"
   },
   {
    "duration": 0,
    "start_time": "2022-03-20T13:43:14.310Z"
   },
   {
    "duration": 14,
    "start_time": "2022-03-20T13:43:18.171Z"
   },
   {
    "duration": 12,
    "start_time": "2022-03-20T13:45:10.349Z"
   },
   {
    "duration": 175,
    "start_time": "2022-03-20T13:45:10.363Z"
   },
   {
    "duration": 22,
    "start_time": "2022-03-20T13:45:10.541Z"
   },
   {
    "duration": 21,
    "start_time": "2022-03-20T13:45:10.565Z"
   },
   {
    "duration": 27,
    "start_time": "2022-03-20T13:45:10.588Z"
   },
   {
    "duration": 37,
    "start_time": "2022-03-20T13:45:10.618Z"
   },
   {
    "duration": 17,
    "start_time": "2022-03-20T13:45:10.658Z"
   },
   {
    "duration": 68,
    "start_time": "2022-03-20T13:45:10.678Z"
   },
   {
    "duration": 8,
    "start_time": "2022-03-20T13:45:10.754Z"
   },
   {
    "duration": 249,
    "start_time": "2022-03-20T13:45:10.765Z"
   },
   {
    "duration": 59141,
    "start_time": "2022-03-20T13:45:11.016Z"
   },
   {
    "duration": 293,
    "start_time": "2022-03-20T13:46:10.160Z"
   },
   {
    "duration": 71931,
    "start_time": "2022-03-20T13:46:10.456Z"
   },
   {
    "duration": 25,
    "start_time": "2022-03-20T13:47:22.390Z"
   },
   {
    "duration": 111489,
    "start_time": "2022-03-20T13:47:22.418Z"
   },
   {
    "duration": 408,
    "start_time": "2022-03-20T13:49:13.910Z"
   },
   {
    "duration": 35,
    "start_time": "2022-03-20T13:49:14.321Z"
   },
   {
    "duration": 8,
    "start_time": "2022-03-20T13:49:14.359Z"
   },
   {
    "duration": 229,
    "start_time": "2022-03-20T13:49:14.370Z"
   },
   {
    "duration": 63080,
    "start_time": "2022-03-20T13:49:14.601Z"
   },
   {
    "duration": 71,
    "start_time": "2022-03-20T13:50:17.684Z"
   },
   {
    "duration": 68964,
    "start_time": "2022-03-20T13:50:17.760Z"
   },
   {
    "duration": 35,
    "start_time": "2022-03-20T13:51:26.726Z"
   },
   {
    "duration": 113164,
    "start_time": "2022-03-20T13:51:26.764Z"
   },
   {
    "duration": 0,
    "start_time": "2022-03-20T13:53:19.932Z"
   },
   {
    "duration": 0,
    "start_time": "2022-03-20T13:53:19.944Z"
   },
   {
    "duration": 0,
    "start_time": "2022-03-20T13:53:19.946Z"
   },
   {
    "duration": 0,
    "start_time": "2022-03-20T13:53:19.948Z"
   },
   {
    "duration": 0,
    "start_time": "2022-03-20T13:53:19.950Z"
   },
   {
    "duration": 0,
    "start_time": "2022-03-20T13:53:19.952Z"
   },
   {
    "duration": 0,
    "start_time": "2022-03-20T13:53:19.953Z"
   },
   {
    "duration": 0,
    "start_time": "2022-03-20T13:53:19.955Z"
   },
   {
    "duration": 0,
    "start_time": "2022-03-20T13:53:19.959Z"
   },
   {
    "duration": 0,
    "start_time": "2022-03-20T13:53:19.961Z"
   },
   {
    "duration": 836,
    "start_time": "2022-03-20T13:53:30.416Z"
   },
   {
    "duration": 2687,
    "start_time": "2022-03-20T13:55:04.831Z"
   },
   {
    "duration": 32,
    "start_time": "2022-03-20T13:55:07.520Z"
   },
   {
    "duration": 394,
    "start_time": "2022-03-20T13:55:49.628Z"
   },
   {
    "duration": 3182,
    "start_time": "2022-03-20T13:57:06.870Z"
   },
   {
    "duration": 34,
    "start_time": "2022-03-20T13:57:29.573Z"
   },
   {
    "duration": 16,
    "start_time": "2022-03-20T13:58:04.871Z"
   },
   {
    "duration": 5,
    "start_time": "2022-03-20T13:58:05.574Z"
   },
   {
    "duration": 16950,
    "start_time": "2022-03-20T13:58:30.296Z"
   },
   {
    "duration": 1894,
    "start_time": "2022-03-20T13:58:57.428Z"
   },
   {
    "duration": 26,
    "start_time": "2022-03-20T13:59:08.994Z"
   },
   {
    "duration": 9072,
    "start_time": "2022-03-20T14:00:14.322Z"
   },
   {
    "duration": 25,
    "start_time": "2022-03-20T14:00:49.420Z"
   },
   {
    "duration": 10258,
    "start_time": "2022-03-20T14:01:00.063Z"
   },
   {
    "duration": 29,
    "start_time": "2022-03-20T14:01:16.566Z"
   },
   {
    "duration": 27102,
    "start_time": "2022-03-20T14:01:33.633Z"
   },
   {
    "duration": 27430,
    "start_time": "2022-03-20T14:02:09.055Z"
   },
   {
    "duration": 28,
    "start_time": "2022-03-20T14:02:55.524Z"
   },
   {
    "duration": 0,
    "start_time": "2022-03-20T14:06:51.499Z"
   },
   {
    "duration": 0,
    "start_time": "2022-03-20T14:19:41.360Z"
   },
   {
    "duration": 306539,
    "start_time": "2022-03-20T14:19:47.029Z"
   },
   {
    "duration": 183,
    "start_time": "2022-03-20T14:25:18.056Z"
   },
   {
    "duration": 259,
    "start_time": "2022-03-20T14:25:23.403Z"
   },
   {
    "duration": 53426,
    "start_time": "2022-03-20T14:25:43.900Z"
   },
   {
    "duration": 9527,
    "start_time": "2022-03-20T14:26:42.460Z"
   },
   {
    "duration": 175,
    "start_time": "2022-03-20T14:27:00.875Z"
   },
   {
    "duration": 37,
    "start_time": "2022-03-20T14:27:21.140Z"
   },
   {
    "duration": 9,
    "start_time": "2022-03-20T14:27:41.540Z"
   },
   {
    "duration": 9,
    "start_time": "2022-03-20T14:27:47.268Z"
   },
   {
    "duration": 24,
    "start_time": "2022-03-20T14:27:55.970Z"
   },
   {
    "duration": 0,
    "start_time": "2022-03-20T14:27:55.997Z"
   },
   {
    "duration": 25,
    "start_time": "2022-03-20T14:28:08.542Z"
   },
   {
    "duration": 10,
    "start_time": "2022-03-20T14:28:12.056Z"
   },
   {
    "duration": 19,
    "start_time": "2022-03-20T14:28:15.732Z"
   },
   {
    "duration": 9,
    "start_time": "2022-03-20T14:28:16.823Z"
   },
   {
    "duration": 16,
    "start_time": "2022-03-20T14:28:21.516Z"
   },
   {
    "duration": 10,
    "start_time": "2022-03-20T14:28:22.495Z"
   },
   {
    "duration": 220,
    "start_time": "2022-03-20T14:28:24.103Z"
   },
   {
    "duration": 493293,
    "start_time": "2022-03-20T14:29:25.283Z"
   },
   {
    "duration": 0,
    "start_time": "2022-03-20T14:37:38.579Z"
   },
   {
    "duration": 196,
    "start_time": "2022-03-20T14:37:40.239Z"
   },
   {
    "duration": 239,
    "start_time": "2022-03-20T14:38:04.044Z"
   },
   {
    "duration": 166,
    "start_time": "2022-03-20T14:38:11.121Z"
   },
   {
    "duration": 318,
    "start_time": "2022-03-20T14:38:56.890Z"
   },
   {
    "duration": 27065,
    "start_time": "2022-03-20T14:39:12.299Z"
   },
   {
    "duration": 0,
    "start_time": "2022-03-20T14:39:39.368Z"
   },
   {
    "duration": 208,
    "start_time": "2022-03-20T14:39:48.297Z"
   },
   {
    "duration": 64622,
    "start_time": "2022-03-20T14:52:49.983Z"
   },
   {
    "duration": 748476,
    "start_time": "2022-03-20T14:53:54.608Z"
   },
   {
    "duration": 3,
    "start_time": "2022-03-20T15:06:23.087Z"
   },
   {
    "duration": 10,
    "start_time": "2022-03-20T15:06:23.092Z"
   },
   {
    "duration": 304,
    "start_time": "2022-03-20T15:13:54.217Z"
   },
   {
    "duration": 0,
    "start_time": "2022-03-20T15:15:07.748Z"
   },
   {
    "duration": 53960,
    "start_time": "2022-03-20T15:16:09.766Z"
   },
   {
    "duration": 46505,
    "start_time": "2022-03-20T15:17:39.484Z"
   },
   {
    "duration": 51320,
    "start_time": "2022-03-20T15:18:34.229Z"
   },
   {
    "duration": 18,
    "start_time": "2022-03-20T15:20:08.811Z"
   },
   {
    "duration": 52042,
    "start_time": "2022-03-20T15:20:34.641Z"
   },
   {
    "duration": 50195,
    "start_time": "2022-03-20T15:25:00.669Z"
   },
   {
    "duration": 171,
    "start_time": "2022-03-20T15:26:16.717Z"
   },
   {
    "duration": 50170,
    "start_time": "2022-03-20T15:32:05.573Z"
   },
   {
    "duration": 1516,
    "start_time": "2022-03-20T17:28:19.390Z"
   },
   {
    "duration": 51,
    "start_time": "2022-03-20T17:28:20.908Z"
   },
   {
    "duration": 11,
    "start_time": "2022-03-20T17:28:20.961Z"
   },
   {
    "duration": 17,
    "start_time": "2022-03-20T17:28:20.974Z"
   },
   {
    "duration": 18,
    "start_time": "2022-03-20T17:28:20.993Z"
   },
   {
    "duration": 24,
    "start_time": "2022-03-20T17:28:21.013Z"
   },
   {
    "duration": 15,
    "start_time": "2022-03-20T17:28:21.039Z"
   },
   {
    "duration": 33,
    "start_time": "2022-03-20T17:28:21.056Z"
   },
   {
    "duration": 7,
    "start_time": "2022-03-20T17:28:21.091Z"
   },
   {
    "duration": 166,
    "start_time": "2022-03-20T17:28:21.101Z"
   },
   {
    "duration": 3,
    "start_time": "2022-03-20T17:28:21.269Z"
   },
   {
    "duration": 102,
    "start_time": "2022-03-20T17:28:21.273Z"
   },
   {
    "duration": 0,
    "start_time": "2022-03-20T17:28:21.377Z"
   },
   {
    "duration": 0,
    "start_time": "2022-03-20T17:28:21.379Z"
   },
   {
    "duration": 0,
    "start_time": "2022-03-20T17:28:21.380Z"
   },
   {
    "duration": 0,
    "start_time": "2022-03-20T17:28:21.381Z"
   },
   {
    "duration": 0,
    "start_time": "2022-03-20T17:28:21.382Z"
   },
   {
    "duration": 0,
    "start_time": "2022-03-20T17:28:21.383Z"
   },
   {
    "duration": 0,
    "start_time": "2022-03-20T17:28:21.384Z"
   },
   {
    "duration": 0,
    "start_time": "2022-03-20T17:28:21.385Z"
   },
   {
    "duration": 0,
    "start_time": "2022-03-20T17:28:21.386Z"
   },
   {
    "duration": 0,
    "start_time": "2022-03-20T17:28:21.387Z"
   },
   {
    "duration": 0,
    "start_time": "2022-03-20T17:28:21.388Z"
   },
   {
    "duration": 0,
    "start_time": "2022-03-20T17:28:21.389Z"
   },
   {
    "duration": 0,
    "start_time": "2022-03-20T17:28:21.390Z"
   },
   {
    "duration": 0,
    "start_time": "2022-03-20T17:28:21.391Z"
   },
   {
    "duration": 0,
    "start_time": "2022-03-20T17:28:21.392Z"
   },
   {
    "duration": 0,
    "start_time": "2022-03-20T17:28:21.393Z"
   },
   {
    "duration": 0,
    "start_time": "2022-03-20T17:28:21.394Z"
   },
   {
    "duration": 0,
    "start_time": "2022-03-20T17:28:21.395Z"
   },
   {
    "duration": 0,
    "start_time": "2022-03-20T17:28:21.396Z"
   },
   {
    "duration": 0,
    "start_time": "2022-03-20T17:28:21.397Z"
   },
   {
    "duration": 0,
    "start_time": "2022-03-20T17:28:21.398Z"
   },
   {
    "duration": 0,
    "start_time": "2022-03-20T17:28:21.398Z"
   },
   {
    "duration": 0,
    "start_time": "2022-03-20T17:28:21.399Z"
   },
   {
    "duration": 0,
    "start_time": "2022-03-20T17:28:21.400Z"
   },
   {
    "duration": 0,
    "start_time": "2022-03-20T17:28:21.401Z"
   },
   {
    "duration": 0,
    "start_time": "2022-03-20T17:28:21.402Z"
   },
   {
    "duration": 0,
    "start_time": "2022-03-20T17:28:21.403Z"
   },
   {
    "duration": 2,
    "start_time": "2022-03-20T17:28:54.259Z"
   },
   {
    "duration": 4,
    "start_time": "2022-03-20T17:28:56.503Z"
   },
   {
    "duration": 42,
    "start_time": "2022-03-20T17:28:56.528Z"
   },
   {
    "duration": 11,
    "start_time": "2022-03-20T17:28:56.572Z"
   },
   {
    "duration": 14,
    "start_time": "2022-03-20T17:28:56.585Z"
   },
   {
    "duration": 42,
    "start_time": "2022-03-20T17:28:56.601Z"
   },
   {
    "duration": 6,
    "start_time": "2022-03-20T17:28:56.646Z"
   },
   {
    "duration": 12,
    "start_time": "2022-03-20T17:28:56.654Z"
   },
   {
    "duration": 71,
    "start_time": "2022-03-20T17:28:56.668Z"
   },
   {
    "duration": 5,
    "start_time": "2022-03-20T17:28:56.741Z"
   },
   {
    "duration": 144,
    "start_time": "2022-03-20T17:28:56.748Z"
   },
   {
    "duration": 4,
    "start_time": "2022-03-20T17:28:56.893Z"
   },
   {
    "duration": 7,
    "start_time": "2022-03-20T17:28:56.898Z"
   },
   {
    "duration": 5,
    "start_time": "2022-03-20T17:28:56.906Z"
   },
   {
    "duration": 5,
    "start_time": "2022-03-20T17:28:56.912Z"
   },
   {
    "duration": 2,
    "start_time": "2022-03-20T17:28:56.934Z"
   },
   {
    "duration": 5,
    "start_time": "2022-03-20T17:28:56.938Z"
   },
   {
    "duration": 38497,
    "start_time": "2022-03-20T17:28:56.944Z"
   },
   {
    "duration": 500,
    "start_time": "2022-03-20T17:29:35.534Z"
   },
   {
    "duration": 17120,
    "start_time": "2022-03-20T17:29:36.037Z"
   },
   {
    "duration": 16,
    "start_time": "2022-03-20T17:29:53.159Z"
   },
   {
    "duration": 30634,
    "start_time": "2022-03-20T17:29:53.176Z"
   },
   {
    "duration": 110,
    "start_time": "2022-03-20T17:30:23.812Z"
   },
   {
    "duration": 17,
    "start_time": "2022-03-20T17:30:23.923Z"
   },
   {
    "duration": 5,
    "start_time": "2022-03-20T17:30:23.941Z"
   },
   {
    "duration": 123,
    "start_time": "2022-03-20T17:30:23.948Z"
   },
   {
    "duration": 34968,
    "start_time": "2022-03-20T17:30:24.073Z"
   },
   {
    "duration": 91,
    "start_time": "2022-03-20T17:30:59.043Z"
   },
   {
    "duration": 4833,
    "start_time": "2022-03-20T17:30:59.136Z"
   },
   {
    "duration": 21,
    "start_time": "2022-03-20T17:31:03.971Z"
   },
   {
    "duration": 31945,
    "start_time": "2022-03-20T17:31:03.993Z"
   },
   {
    "duration": 0,
    "start_time": "2022-03-20T17:31:35.940Z"
   },
   {
    "duration": 0,
    "start_time": "2022-03-20T17:31:35.941Z"
   },
   {
    "duration": 0,
    "start_time": "2022-03-20T17:31:35.943Z"
   },
   {
    "duration": 0,
    "start_time": "2022-03-20T17:31:35.944Z"
   },
   {
    "duration": 0,
    "start_time": "2022-03-20T17:31:35.945Z"
   },
   {
    "duration": 0,
    "start_time": "2022-03-20T17:31:35.946Z"
   },
   {
    "duration": 0,
    "start_time": "2022-03-20T17:31:35.947Z"
   },
   {
    "duration": 0,
    "start_time": "2022-03-20T17:31:35.949Z"
   },
   {
    "duration": 0,
    "start_time": "2022-03-20T17:31:35.950Z"
   },
   {
    "duration": 101,
    "start_time": "2022-03-20T17:32:23.087Z"
   },
   {
    "duration": 12,
    "start_time": "2022-03-20T17:32:29.486Z"
   },
   {
    "duration": 12,
    "start_time": "2022-03-20T17:33:54.707Z"
   },
   {
    "duration": 30016,
    "start_time": "2022-03-20T17:34:06.634Z"
   },
   {
    "duration": 34527,
    "start_time": "2022-03-20T17:35:00.345Z"
   },
   {
    "duration": 4,
    "start_time": "2022-03-20T17:46:25.417Z"
   },
   {
    "duration": 4,
    "start_time": "2022-03-20T17:46:27.003Z"
   },
   {
    "duration": 4,
    "start_time": "2022-03-20T17:46:27.679Z"
   },
   {
    "duration": 37522,
    "start_time": "2022-03-20T17:46:58.020Z"
   },
   {
    "duration": 105,
    "start_time": "2022-03-20T17:50:25.630Z"
   },
   {
    "duration": 13,
    "start_time": "2022-03-20T17:50:34.296Z"
   },
   {
    "duration": 4,
    "start_time": "2022-03-20T17:53:14.490Z"
   },
   {
    "duration": 485,
    "start_time": "2022-03-20T17:53:22.264Z"
   },
   {
    "duration": 4,
    "start_time": "2022-03-20T17:55:15.069Z"
   },
   {
    "duration": 46,
    "start_time": "2022-03-20T17:55:15.081Z"
   },
   {
    "duration": 12,
    "start_time": "2022-03-20T17:55:15.129Z"
   },
   {
    "duration": 15,
    "start_time": "2022-03-20T17:55:15.144Z"
   },
   {
    "duration": 20,
    "start_time": "2022-03-20T17:55:15.161Z"
   },
   {
    "duration": 7,
    "start_time": "2022-03-20T17:55:15.183Z"
   },
   {
    "duration": 46,
    "start_time": "2022-03-20T17:55:15.191Z"
   },
   {
    "duration": 36,
    "start_time": "2022-03-20T17:55:15.239Z"
   },
   {
    "duration": 7,
    "start_time": "2022-03-20T17:55:15.277Z"
   },
   {
    "duration": 177,
    "start_time": "2022-03-20T17:55:15.286Z"
   },
   {
    "duration": 4,
    "start_time": "2022-03-20T17:55:15.464Z"
   },
   {
    "duration": 7,
    "start_time": "2022-03-20T17:55:15.470Z"
   },
   {
    "duration": 38361,
    "start_time": "2022-03-20T17:55:15.479Z"
   },
   {
    "duration": 690,
    "start_time": "2022-03-20T17:55:53.843Z"
   },
   {
    "duration": 0,
    "start_time": "2022-03-20T17:55:54.535Z"
   },
   {
    "duration": 0,
    "start_time": "2022-03-20T17:55:54.536Z"
   },
   {
    "duration": 0,
    "start_time": "2022-03-20T17:55:54.537Z"
   },
   {
    "duration": 0,
    "start_time": "2022-03-20T17:55:54.538Z"
   },
   {
    "duration": 0,
    "start_time": "2022-03-20T17:55:54.539Z"
   },
   {
    "duration": 0,
    "start_time": "2022-03-20T17:55:54.540Z"
   },
   {
    "duration": 0,
    "start_time": "2022-03-20T17:55:54.541Z"
   },
   {
    "duration": 0,
    "start_time": "2022-03-20T17:55:54.542Z"
   },
   {
    "duration": 0,
    "start_time": "2022-03-20T17:55:54.543Z"
   },
   {
    "duration": 0,
    "start_time": "2022-03-20T17:55:54.544Z"
   },
   {
    "duration": 0,
    "start_time": "2022-03-20T17:55:54.545Z"
   },
   {
    "duration": 0,
    "start_time": "2022-03-20T17:55:54.546Z"
   },
   {
    "duration": 0,
    "start_time": "2022-03-20T17:55:54.547Z"
   },
   {
    "duration": 0,
    "start_time": "2022-03-20T17:55:54.548Z"
   },
   {
    "duration": 0,
    "start_time": "2022-03-20T17:55:54.549Z"
   },
   {
    "duration": 0,
    "start_time": "2022-03-20T17:55:54.550Z"
   },
   {
    "duration": 0,
    "start_time": "2022-03-20T17:55:54.551Z"
   },
   {
    "duration": 0,
    "start_time": "2022-03-20T17:55:54.552Z"
   },
   {
    "duration": 0,
    "start_time": "2022-03-20T17:55:54.553Z"
   },
   {
    "duration": 0,
    "start_time": "2022-03-20T17:55:54.554Z"
   },
   {
    "duration": 0,
    "start_time": "2022-03-20T17:55:54.555Z"
   },
   {
    "duration": 0,
    "start_time": "2022-03-20T17:55:54.556Z"
   },
   {
    "duration": 0,
    "start_time": "2022-03-20T17:55:54.557Z"
   },
   {
    "duration": 0,
    "start_time": "2022-03-20T17:55:54.558Z"
   },
   {
    "duration": 0,
    "start_time": "2022-03-20T17:55:54.559Z"
   },
   {
    "duration": 0,
    "start_time": "2022-03-20T17:55:54.560Z"
   },
   {
    "duration": 0,
    "start_time": "2022-03-20T17:55:54.561Z"
   },
   {
    "duration": 4,
    "start_time": "2022-03-20T17:57:45.743Z"
   },
   {
    "duration": 4,
    "start_time": "2022-03-20T17:58:44.932Z"
   },
   {
    "duration": 4,
    "start_time": "2022-03-20T17:58:45.826Z"
   },
   {
    "duration": 36501,
    "start_time": "2022-03-20T17:58:47.638Z"
   },
   {
    "duration": 692,
    "start_time": "2022-03-20T17:59:24.142Z"
   },
   {
    "duration": 4,
    "start_time": "2022-03-20T18:00:02.394Z"
   },
   {
    "duration": 325,
    "start_time": "2022-03-20T18:00:05.309Z"
   },
   {
    "duration": 37020,
    "start_time": "2022-03-20T18:01:16.020Z"
   },
   {
    "duration": 696,
    "start_time": "2022-03-20T18:01:53.043Z"
   },
   {
    "duration": 136,
    "start_time": "2022-03-20T18:07:57.086Z"
   },
   {
    "duration": 103,
    "start_time": "2022-03-20T18:08:06.223Z"
   },
   {
    "duration": 4,
    "start_time": "2022-03-20T18:08:16.678Z"
   },
   {
    "duration": 35170,
    "start_time": "2022-03-20T18:08:20.064Z"
   },
   {
    "duration": 4,
    "start_time": "2022-03-20T18:09:14.851Z"
   },
   {
    "duration": 36394,
    "start_time": "2022-03-20T18:09:20.046Z"
   },
   {
    "duration": 4,
    "start_time": "2022-03-20T18:11:13.093Z"
   },
   {
    "duration": 3,
    "start_time": "2022-03-20T18:11:14.467Z"
   },
   {
    "duration": 4,
    "start_time": "2022-03-20T18:11:31.924Z"
   },
   {
    "duration": 5,
    "start_time": "2022-03-20T18:11:32.748Z"
   },
   {
    "duration": 35770,
    "start_time": "2022-03-20T18:11:42.070Z"
   },
   {
    "duration": 695,
    "start_time": "2022-03-20T18:12:17.844Z"
   },
   {
    "duration": 4,
    "start_time": "2022-03-20T18:12:37.569Z"
   },
   {
    "duration": 36567,
    "start_time": "2022-03-20T18:12:42.469Z"
   },
   {
    "duration": 599,
    "start_time": "2022-03-20T18:13:19.041Z"
   },
   {
    "duration": 4,
    "start_time": "2022-03-20T18:19:14.475Z"
   },
   {
    "duration": 3,
    "start_time": "2022-03-20T18:20:57.607Z"
   },
   {
    "duration": 121,
    "start_time": "2022-03-20T18:20:59.649Z"
   },
   {
    "duration": 5,
    "start_time": "2022-03-20T18:26:48.885Z"
   },
   {
    "duration": 512,
    "start_time": "2022-03-20T18:26:56.327Z"
   },
   {
    "duration": 4,
    "start_time": "2022-03-20T18:27:19.646Z"
   },
   {
    "duration": 370,
    "start_time": "2022-03-20T18:27:26.268Z"
   },
   {
    "duration": 4,
    "start_time": "2022-03-20T18:30:40.303Z"
   },
   {
    "duration": 4,
    "start_time": "2022-03-20T18:30:46.163Z"
   },
   {
    "duration": 4,
    "start_time": "2022-03-20T18:30:48.764Z"
   },
   {
    "duration": 5,
    "start_time": "2022-03-20T18:30:50.192Z"
   },
   {
    "duration": 37003,
    "start_time": "2022-03-20T18:31:24.931Z"
   },
   {
    "duration": 400,
    "start_time": "2022-03-20T18:32:01.936Z"
   },
   {
    "duration": 104,
    "start_time": "2022-03-20T19:47:44.400Z"
   },
   {
    "duration": 243,
    "start_time": "2022-03-20T19:48:00.050Z"
   },
   {
    "duration": 16440,
    "start_time": "2022-03-20T19:48:04.378Z"
   },
   {
    "duration": 106,
    "start_time": "2022-03-20T19:49:18.872Z"
   },
   {
    "duration": 15,
    "start_time": "2022-03-20T19:49:30.865Z"
   },
   {
    "duration": 3,
    "start_time": "2022-03-20T19:51:57.216Z"
   },
   {
    "duration": 4,
    "start_time": "2022-03-20T19:56:22.654Z"
   },
   {
    "duration": 4,
    "start_time": "2022-03-20T19:56:25.539Z"
   },
   {
    "duration": 0,
    "start_time": "2022-03-20T20:02:28.695Z"
   },
   {
    "duration": 0,
    "start_time": "2022-03-20T20:02:28.696Z"
   },
   {
    "duration": 0,
    "start_time": "2022-03-20T20:02:28.698Z"
   },
   {
    "duration": 4,
    "start_time": "2022-03-20T20:02:34.689Z"
   },
   {
    "duration": 165237,
    "start_time": "2022-03-20T20:02:37.987Z"
   },
   {
    "duration": 0,
    "start_time": "2022-03-20T20:05:23.227Z"
   },
   {
    "duration": 235495,
    "start_time": "2022-03-20T20:05:27.619Z"
   },
   {
    "duration": 18,
    "start_time": "2022-03-20T20:09:55.896Z"
   },
   {
    "duration": 4,
    "start_time": "2022-03-20T20:10:52.800Z"
   },
   {
    "duration": 4,
    "start_time": "2022-03-20T20:10:54.015Z"
   },
   {
    "duration": 336589,
    "start_time": "2022-03-20T20:10:59.944Z"
   },
   {
    "duration": 32,
    "start_time": "2022-03-20T20:16:36.535Z"
   },
   {
    "duration": 41472,
    "start_time": "2022-03-20T20:16:36.569Z"
   },
   {
    "duration": 113,
    "start_time": "2022-03-20T20:17:18.043Z"
   },
   {
    "duration": 12,
    "start_time": "2022-03-20T20:17:32.890Z"
   },
   {
    "duration": 5,
    "start_time": "2022-03-20T20:17:33.590Z"
   },
   {
    "duration": 105,
    "start_time": "2022-03-20T20:17:34.422Z"
   },
   {
    "duration": 45411,
    "start_time": "2022-03-20T20:17:39.533Z"
   },
   {
    "duration": 588,
    "start_time": "2022-03-20T20:18:24.946Z"
   },
   {
    "duration": 23326,
    "start_time": "2022-03-20T20:18:25.536Z"
   },
   {
    "duration": 34,
    "start_time": "2022-03-20T20:19:43.402Z"
   },
   {
    "duration": 34,
    "start_time": "2022-03-20T20:19:48.438Z"
   },
   {
    "duration": 19,
    "start_time": "2022-03-20T20:20:19.648Z"
   },
   {
    "duration": 0,
    "start_time": "2022-03-20T20:23:55.781Z"
   },
   {
    "duration": 0,
    "start_time": "2022-03-20T20:23:55.782Z"
   },
   {
    "duration": 0,
    "start_time": "2022-03-20T20:23:55.783Z"
   },
   {
    "duration": 0,
    "start_time": "2022-03-20T20:23:55.784Z"
   },
   {
    "duration": 0,
    "start_time": "2022-03-20T20:23:55.785Z"
   },
   {
    "duration": 0,
    "start_time": "2022-03-20T20:23:55.787Z"
   },
   {
    "duration": 0,
    "start_time": "2022-03-20T20:23:55.788Z"
   },
   {
    "duration": 0,
    "start_time": "2022-03-20T20:23:55.789Z"
   },
   {
    "duration": 0,
    "start_time": "2022-03-20T20:23:55.789Z"
   },
   {
    "duration": 0,
    "start_time": "2022-03-20T20:23:55.790Z"
   },
   {
    "duration": 0,
    "start_time": "2022-03-20T20:23:55.791Z"
   },
   {
    "duration": 0,
    "start_time": "2022-03-20T20:23:55.792Z"
   },
   {
    "duration": 0,
    "start_time": "2022-03-20T20:23:55.793Z"
   },
   {
    "duration": 0,
    "start_time": "2022-03-20T20:23:55.794Z"
   },
   {
    "duration": 0,
    "start_time": "2022-03-20T20:23:55.796Z"
   },
   {
    "duration": 0,
    "start_time": "2022-03-20T20:23:55.796Z"
   },
   {
    "duration": 0,
    "start_time": "2022-03-20T20:23:55.797Z"
   },
   {
    "duration": 0,
    "start_time": "2022-03-20T20:23:55.799Z"
   },
   {
    "duration": 0,
    "start_time": "2022-03-20T20:23:55.800Z"
   },
   {
    "duration": 0,
    "start_time": "2022-03-20T20:23:55.801Z"
   },
   {
    "duration": 0,
    "start_time": "2022-03-20T20:23:55.801Z"
   },
   {
    "duration": 0,
    "start_time": "2022-03-20T20:23:55.808Z"
   },
   {
    "duration": 0,
    "start_time": "2022-03-20T20:23:55.832Z"
   },
   {
    "duration": 0,
    "start_time": "2022-03-20T20:23:55.833Z"
   },
   {
    "duration": 0,
    "start_time": "2022-03-20T20:23:55.834Z"
   },
   {
    "duration": 0,
    "start_time": "2022-03-20T20:23:55.835Z"
   },
   {
    "duration": 0,
    "start_time": "2022-03-20T20:23:55.836Z"
   },
   {
    "duration": 0,
    "start_time": "2022-03-20T20:23:55.837Z"
   },
   {
    "duration": 0,
    "start_time": "2022-03-20T20:23:55.838Z"
   },
   {
    "duration": 0,
    "start_time": "2022-03-20T20:23:55.839Z"
   },
   {
    "duration": 0,
    "start_time": "2022-03-20T20:23:55.840Z"
   },
   {
    "duration": 0,
    "start_time": "2022-03-20T20:23:55.841Z"
   },
   {
    "duration": 0,
    "start_time": "2022-03-20T20:23:55.842Z"
   },
   {
    "duration": 0,
    "start_time": "2022-03-20T20:23:55.843Z"
   },
   {
    "duration": 0,
    "start_time": "2022-03-20T20:23:55.844Z"
   },
   {
    "duration": 0,
    "start_time": "2022-03-20T20:23:55.845Z"
   },
   {
    "duration": 0,
    "start_time": "2022-03-20T20:23:55.846Z"
   },
   {
    "duration": 0,
    "start_time": "2022-03-20T20:23:55.847Z"
   },
   {
    "duration": 0,
    "start_time": "2022-03-20T20:23:55.848Z"
   },
   {
    "duration": 1455,
    "start_time": "2022-03-20T20:24:04.239Z"
   },
   {
    "duration": 47,
    "start_time": "2022-03-20T20:24:05.695Z"
   },
   {
    "duration": 12,
    "start_time": "2022-03-20T20:24:05.743Z"
   },
   {
    "duration": 15,
    "start_time": "2022-03-20T20:24:05.757Z"
   },
   {
    "duration": 19,
    "start_time": "2022-03-20T20:24:05.774Z"
   },
   {
    "duration": 5,
    "start_time": "2022-03-20T20:24:05.795Z"
   },
   {
    "duration": 42,
    "start_time": "2022-03-20T20:24:05.802Z"
   },
   {
    "duration": 32,
    "start_time": "2022-03-20T20:24:05.845Z"
   },
   {
    "duration": 7,
    "start_time": "2022-03-20T20:24:05.879Z"
   },
   {
    "duration": 172,
    "start_time": "2022-03-20T20:24:05.889Z"
   },
   {
    "duration": 4,
    "start_time": "2022-03-20T20:24:06.063Z"
   },
   {
    "duration": 7,
    "start_time": "2022-03-20T20:24:06.068Z"
   },
   {
    "duration": 7,
    "start_time": "2022-03-20T20:24:06.076Z"
   },
   {
    "duration": 6,
    "start_time": "2022-03-20T20:24:06.085Z"
   },
   {
    "duration": 10,
    "start_time": "2022-03-20T20:24:06.093Z"
   },
   {
    "duration": 7,
    "start_time": "2022-03-20T20:24:06.105Z"
   },
   {
    "duration": 41129,
    "start_time": "2022-03-20T20:24:06.113Z"
   },
   {
    "duration": 687,
    "start_time": "2022-03-20T20:24:47.334Z"
   },
   {
    "duration": 0,
    "start_time": "2022-03-20T20:24:48.033Z"
   },
   {
    "duration": 0,
    "start_time": "2022-03-20T20:24:48.036Z"
   },
   {
    "duration": 0,
    "start_time": "2022-03-20T20:24:48.036Z"
   },
   {
    "duration": 0,
    "start_time": "2022-03-20T20:24:48.038Z"
   },
   {
    "duration": 1,
    "start_time": "2022-03-20T20:24:48.038Z"
   },
   {
    "duration": 0,
    "start_time": "2022-03-20T20:24:48.039Z"
   },
   {
    "duration": 0,
    "start_time": "2022-03-20T20:24:48.041Z"
   },
   {
    "duration": 0,
    "start_time": "2022-03-20T20:24:48.042Z"
   },
   {
    "duration": 0,
    "start_time": "2022-03-20T20:24:48.042Z"
   },
   {
    "duration": 0,
    "start_time": "2022-03-20T20:24:48.043Z"
   },
   {
    "duration": 0,
    "start_time": "2022-03-20T20:24:48.045Z"
   },
   {
    "duration": 0,
    "start_time": "2022-03-20T20:24:48.046Z"
   },
   {
    "duration": 0,
    "start_time": "2022-03-20T20:24:48.046Z"
   },
   {
    "duration": 0,
    "start_time": "2022-03-20T20:24:48.047Z"
   },
   {
    "duration": 0,
    "start_time": "2022-03-20T20:24:48.049Z"
   },
   {
    "duration": 0,
    "start_time": "2022-03-20T20:24:48.049Z"
   },
   {
    "duration": 0,
    "start_time": "2022-03-20T20:24:48.051Z"
   },
   {
    "duration": 0,
    "start_time": "2022-03-20T20:24:48.051Z"
   },
   {
    "duration": 0,
    "start_time": "2022-03-20T20:24:48.052Z"
   },
   {
    "duration": 0,
    "start_time": "2022-03-20T20:24:48.053Z"
   },
   {
    "duration": 0,
    "start_time": "2022-03-20T20:24:48.054Z"
   },
   {
    "duration": 4,
    "start_time": "2022-03-20T20:25:25.794Z"
   },
   {
    "duration": 3,
    "start_time": "2022-03-20T20:25:44.373Z"
   },
   {
    "duration": 40,
    "start_time": "2022-03-20T20:25:44.391Z"
   },
   {
    "duration": 11,
    "start_time": "2022-03-20T20:25:44.433Z"
   },
   {
    "duration": 17,
    "start_time": "2022-03-20T20:25:44.446Z"
   },
   {
    "duration": 18,
    "start_time": "2022-03-20T20:25:44.464Z"
   },
   {
    "duration": 4,
    "start_time": "2022-03-20T20:25:44.484Z"
   },
   {
    "duration": 10,
    "start_time": "2022-03-20T20:25:44.490Z"
   },
   {
    "duration": 34,
    "start_time": "2022-03-20T20:25:44.533Z"
   },
   {
    "duration": 5,
    "start_time": "2022-03-20T20:25:44.568Z"
   },
   {
    "duration": 140,
    "start_time": "2022-03-20T20:25:44.575Z"
   },
   {
    "duration": 16,
    "start_time": "2022-03-20T20:25:44.717Z"
   },
   {
    "duration": 5,
    "start_time": "2022-03-20T20:25:44.734Z"
   },
   {
    "duration": 8,
    "start_time": "2022-03-20T20:25:44.740Z"
   },
   {
    "duration": 6,
    "start_time": "2022-03-20T20:25:44.749Z"
   },
   {
    "duration": 6,
    "start_time": "2022-03-20T20:25:44.758Z"
   },
   {
    "duration": 6,
    "start_time": "2022-03-20T20:25:44.765Z"
   },
   {
    "duration": 37668,
    "start_time": "2022-03-20T20:25:44.772Z"
   },
   {
    "duration": 500,
    "start_time": "2022-03-20T20:26:22.442Z"
   },
   {
    "duration": 16436,
    "start_time": "2022-03-20T20:26:23.036Z"
   },
   {
    "duration": 16,
    "start_time": "2022-03-20T20:26:39.474Z"
   },
   {
    "duration": 326218,
    "start_time": "2022-03-20T20:26:39.492Z"
   },
   {
    "duration": 98,
    "start_time": "2022-03-20T20:32:05.712Z"
   },
   {
    "duration": 21,
    "start_time": "2022-03-20T20:32:05.812Z"
   },
   {
    "duration": 6,
    "start_time": "2022-03-20T20:32:05.834Z"
   },
   {
    "duration": 118,
    "start_time": "2022-03-20T20:32:05.841Z"
   },
   {
    "duration": 41481,
    "start_time": "2022-03-20T20:32:05.960Z"
   },
   {
    "duration": 91,
    "start_time": "2022-03-20T20:32:47.443Z"
   },
   {
    "duration": 20070,
    "start_time": "2022-03-20T20:32:47.536Z"
   },
   {
    "duration": 26,
    "start_time": "2022-03-20T20:33:07.607Z"
   },
   {
    "duration": 29828,
    "start_time": "2022-03-20T20:33:07.635Z"
   },
   {
    "duration": 0,
    "start_time": "2022-03-20T20:33:37.465Z"
   },
   {
    "duration": 0,
    "start_time": "2022-03-20T20:33:37.466Z"
   },
   {
    "duration": 0,
    "start_time": "2022-03-20T20:33:37.467Z"
   },
   {
    "duration": 0,
    "start_time": "2022-03-20T20:33:37.468Z"
   },
   {
    "duration": 0,
    "start_time": "2022-03-20T20:33:37.469Z"
   },
   {
    "duration": 0,
    "start_time": "2022-03-20T20:33:37.470Z"
   },
   {
    "duration": 0,
    "start_time": "2022-03-20T20:33:37.471Z"
   },
   {
    "duration": 0,
    "start_time": "2022-03-20T20:33:37.473Z"
   },
   {
    "duration": 0,
    "start_time": "2022-03-20T20:33:37.473Z"
   },
   {
    "duration": 0,
    "start_time": "2022-03-20T20:33:37.474Z"
   },
   {
    "duration": 22,
    "start_time": "2022-03-20T20:33:40.129Z"
   },
   {
    "duration": 451364,
    "start_time": "2022-03-20T20:33:59.902Z"
   },
   {
    "duration": 140,
    "start_time": "2022-03-20T20:43:36.664Z"
   },
   {
    "duration": 11,
    "start_time": "2022-03-20T20:43:47.173Z"
   },
   {
    "duration": 4,
    "start_time": "2022-03-20T20:43:50.242Z"
   },
   {
    "duration": 6,
    "start_time": "2022-03-20T20:44:18.647Z"
   },
   {
    "duration": 11,
    "start_time": "2022-03-20T20:44:24.130Z"
   },
   {
    "duration": 6,
    "start_time": "2022-03-20T20:44:24.811Z"
   },
   {
    "duration": 11,
    "start_time": "2022-03-20T20:44:29.095Z"
   },
   {
    "duration": 5,
    "start_time": "2022-03-20T20:44:29.528Z"
   },
   {
    "duration": 106,
    "start_time": "2022-03-20T20:45:13.649Z"
   },
   {
    "duration": 10911,
    "start_time": "2022-03-20T20:45:26.201Z"
   },
   {
    "duration": 44,
    "start_time": "2022-03-20T20:46:14.201Z"
   },
   {
    "duration": 41,
    "start_time": "2022-03-20T20:46:24.533Z"
   },
   {
    "duration": 10083,
    "start_time": "2022-03-20T20:46:28.219Z"
   },
   {
    "duration": 14,
    "start_time": "2022-03-20T20:46:52.781Z"
   },
   {
    "duration": 191204,
    "start_time": "2022-03-20T20:46:57.514Z"
   },
   {
    "duration": 45,
    "start_time": "2022-03-20T20:50:17.380Z"
   },
   {
    "duration": 4,
    "start_time": "2022-03-20T20:50:34.087Z"
   },
   {
    "duration": 4,
    "start_time": "2022-03-20T20:51:20.714Z"
   },
   {
    "duration": 40,
    "start_time": "2022-03-20T20:51:20.735Z"
   },
   {
    "duration": 12,
    "start_time": "2022-03-20T20:51:20.776Z"
   },
   {
    "duration": 17,
    "start_time": "2022-03-20T20:51:20.790Z"
   },
   {
    "duration": 37,
    "start_time": "2022-03-20T20:51:20.809Z"
   },
   {
    "duration": 6,
    "start_time": "2022-03-20T20:51:20.848Z"
   },
   {
    "duration": 14,
    "start_time": "2022-03-20T20:51:20.856Z"
   },
   {
    "duration": 65,
    "start_time": "2022-03-20T20:51:20.871Z"
   },
   {
    "duration": 6,
    "start_time": "2022-03-20T20:51:20.938Z"
   },
   {
    "duration": 146,
    "start_time": "2022-03-20T20:51:20.946Z"
   },
   {
    "duration": 5,
    "start_time": "2022-03-20T20:51:21.093Z"
   },
   {
    "duration": 10,
    "start_time": "2022-03-20T20:51:21.100Z"
   },
   {
    "duration": 21,
    "start_time": "2022-03-20T20:51:21.111Z"
   },
   {
    "duration": 4,
    "start_time": "2022-03-20T20:51:21.133Z"
   },
   {
    "duration": 4,
    "start_time": "2022-03-20T20:51:21.140Z"
   },
   {
    "duration": 5,
    "start_time": "2022-03-20T20:51:21.145Z"
   },
   {
    "duration": 37289,
    "start_time": "2022-03-20T20:51:21.151Z"
   },
   {
    "duration": 591,
    "start_time": "2022-03-20T20:51:58.442Z"
   },
   {
    "duration": 15669,
    "start_time": "2022-03-20T20:51:59.035Z"
   },
   {
    "duration": 13,
    "start_time": "2022-03-20T20:52:14.706Z"
   },
   {
    "duration": 229854,
    "start_time": "2022-03-20T20:52:14.721Z"
   },
   {
    "duration": 99,
    "start_time": "2022-03-20T20:56:04.576Z"
   },
   {
    "duration": 10,
    "start_time": "2022-03-20T20:56:04.676Z"
   },
   {
    "duration": 6,
    "start_time": "2022-03-20T20:56:04.687Z"
   },
   {
    "duration": 125,
    "start_time": "2022-03-20T20:56:04.694Z"
   },
   {
    "duration": 39726,
    "start_time": "2022-03-20T20:56:04.820Z"
   },
   {
    "duration": 86,
    "start_time": "2022-03-20T20:56:44.548Z"
   },
   {
    "duration": 19576,
    "start_time": "2022-03-20T20:56:44.637Z"
   },
   {
    "duration": 25,
    "start_time": "2022-03-20T20:57:04.214Z"
   },
   {
    "duration": 296800,
    "start_time": "2022-03-20T20:57:04.240Z"
   },
   {
    "duration": 152,
    "start_time": "2022-03-20T21:02:01.042Z"
   },
   {
    "duration": 11,
    "start_time": "2022-03-20T21:02:01.196Z"
   },
   {
    "duration": 10,
    "start_time": "2022-03-20T21:02:01.208Z"
   },
   {
    "duration": 128,
    "start_time": "2022-03-20T21:02:01.220Z"
   },
   {
    "duration": 11177,
    "start_time": "2022-03-20T21:02:01.350Z"
   },
   {
    "duration": 102,
    "start_time": "2022-03-20T21:02:12.532Z"
   },
   {
    "duration": 11594,
    "start_time": "2022-03-20T21:02:12.639Z"
   },
   {
    "duration": 14,
    "start_time": "2022-03-20T21:02:24.234Z"
   },
   {
    "duration": 12966,
    "start_time": "2022-03-20T21:02:24.250Z"
   },
   {
    "duration": 0,
    "start_time": "2022-03-20T21:02:37.218Z"
   },
   {
    "duration": 0,
    "start_time": "2022-03-20T21:02:37.219Z"
   },
   {
    "duration": 49,
    "start_time": "2022-03-20T21:02:39.546Z"
   },
   {
    "duration": 4,
    "start_time": "2022-03-20T21:03:32.849Z"
   },
   {
    "duration": 14,
    "start_time": "2022-03-20T21:03:41.882Z"
   },
   {
    "duration": 4,
    "start_time": "2022-03-20T21:04:06.818Z"
   },
   {
    "duration": 132262,
    "start_time": "2022-03-20T21:04:12.613Z"
   },
   {
    "duration": 33,
    "start_time": "2022-03-20T21:06:36.582Z"
   },
   {
    "duration": 47,
    "start_time": "2022-03-20T21:06:40.355Z"
   },
   {
    "duration": 79,
    "start_time": "2022-03-20T21:06:44.223Z"
   },
   {
    "duration": 30,
    "start_time": "2022-03-20T21:06:47.354Z"
   },
   {
    "duration": 19,
    "start_time": "2022-03-20T21:06:50.354Z"
   },
   {
    "duration": 15,
    "start_time": "2022-03-20T21:06:53.526Z"
   },
   {
    "duration": 41,
    "start_time": "2022-03-20T21:06:57.958Z"
   },
   {
    "duration": 46,
    "start_time": "2022-03-20T21:07:01.172Z"
   },
   {
    "duration": 52,
    "start_time": "2022-03-20T21:07:07.900Z"
   },
   {
    "duration": 54,
    "start_time": "2022-03-20T21:07:14.956Z"
   },
   {
    "duration": 55,
    "start_time": "2022-03-20T21:07:20.049Z"
   },
   {
    "duration": 55,
    "start_time": "2022-03-20T21:07:25.495Z"
   },
   {
    "duration": 60,
    "start_time": "2022-03-20T21:07:29.015Z"
   },
   {
    "duration": 61,
    "start_time": "2022-03-20T21:07:33.852Z"
   },
   {
    "duration": 68,
    "start_time": "2022-03-20T21:07:37.165Z"
   },
   {
    "duration": 74,
    "start_time": "2022-03-20T21:07:43.297Z"
   },
   {
    "duration": 81,
    "start_time": "2022-03-20T21:07:47.348Z"
   },
   {
    "duration": 88,
    "start_time": "2022-03-20T21:07:52.044Z"
   },
   {
    "duration": 94,
    "start_time": "2022-03-20T21:07:57.582Z"
   },
   {
    "duration": 103,
    "start_time": "2022-03-20T21:08:01.161Z"
   },
   {
    "duration": 115,
    "start_time": "2022-03-20T21:08:04.891Z"
   },
   {
    "duration": 114,
    "start_time": "2022-03-20T21:08:08.726Z"
   },
   {
    "duration": 116,
    "start_time": "2022-03-20T21:08:22.646Z"
   },
   {
    "duration": 98,
    "start_time": "2022-03-20T21:08:25.828Z"
   },
   {
    "duration": 85,
    "start_time": "2022-03-20T21:08:33.070Z"
   },
   {
    "duration": 3,
    "start_time": "2022-03-20T21:09:13.802Z"
   },
   {
    "duration": 14772,
    "start_time": "2022-03-20T21:09:22.081Z"
   },
   {
    "duration": 4,
    "start_time": "2022-03-20T21:09:51.563Z"
   },
   {
    "duration": 99426,
    "start_time": "2022-03-20T21:09:56.250Z"
   },
   {
    "duration": 150,
    "start_time": "2022-03-20T21:16:52.916Z"
   },
   {
    "duration": 130001,
    "start_time": "2022-03-20T21:17:07.457Z"
   },
   {
    "duration": 0,
    "start_time": "2022-03-20T21:19:17.460Z"
   },
   {
    "duration": 118,
    "start_time": "2022-03-20T21:19:19.756Z"
   },
   {
    "duration": 113,
    "start_time": "2022-03-20T21:19:47.555Z"
   },
   {
    "duration": 5,
    "start_time": "2022-03-20T21:20:12.455Z"
   },
   {
    "duration": 8,
    "start_time": "2022-03-20T21:20:23.439Z"
   },
   {
    "duration": 851,
    "start_time": "2022-03-20T21:20:35.683Z"
   },
   {
    "duration": 316,
    "start_time": "2022-03-20T21:20:49.026Z"
   },
   {
    "duration": 363,
    "start_time": "2022-03-20T21:20:58.574Z"
   },
   {
    "duration": 27,
    "start_time": "2022-03-20T21:21:20.296Z"
   },
   {
    "duration": 22,
    "start_time": "2022-03-20T21:21:39.248Z"
   },
   {
    "duration": 36,
    "start_time": "2022-03-20T21:21:56.690Z"
   },
   {
    "duration": 124,
    "start_time": "2022-03-20T21:22:01.014Z"
   },
   {
    "duration": 7667,
    "start_time": "2022-03-20T21:22:08.199Z"
   },
   {
    "duration": 0,
    "start_time": "2022-03-20T21:22:15.868Z"
   },
   {
    "duration": 270,
    "start_time": "2022-03-20T21:22:18.772Z"
   },
   {
    "duration": 318,
    "start_time": "2022-03-20T21:22:27.625Z"
   },
   {
    "duration": 173,
    "start_time": "2022-03-20T21:22:44.260Z"
   },
   {
    "duration": 4,
    "start_time": "2022-03-20T21:25:53.556Z"
   },
   {
    "duration": 17,
    "start_time": "2022-03-20T21:26:18.107Z"
   },
   {
    "duration": 26,
    "start_time": "2022-03-20T21:29:04.391Z"
   },
   {
    "duration": 8,
    "start_time": "2022-03-20T21:29:25.904Z"
   },
   {
    "duration": 20,
    "start_time": "2022-03-20T21:29:33.580Z"
   },
   {
    "duration": 22,
    "start_time": "2022-03-20T21:29:57.265Z"
   },
   {
    "duration": 4,
    "start_time": "2022-03-20T21:30:51.902Z"
   },
   {
    "duration": 22354,
    "start_time": "2022-03-20T21:31:10.190Z"
   },
   {
    "duration": 22398,
    "start_time": "2022-03-20T21:31:45.945Z"
   },
   {
    "duration": 23,
    "start_time": "2022-03-20T21:32:19.404Z"
   },
   {
    "duration": 3,
    "start_time": "2022-03-20T21:33:14.725Z"
   },
   {
    "duration": 5,
    "start_time": "2022-03-20T21:33:15.415Z"
   },
   {
    "duration": 144194,
    "start_time": "2022-03-20T21:33:47.151Z"
   },
   {
    "duration": 197,
    "start_time": "2022-03-20T21:36:40.129Z"
   },
   {
    "duration": 9,
    "start_time": "2022-03-20T21:37:20.515Z"
   },
   {
    "duration": 4,
    "start_time": "2022-03-20T21:37:44.572Z"
   },
   {
    "duration": 41125,
    "start_time": "2022-03-20T21:37:49.619Z"
   },
   {
    "duration": 50,
    "start_time": "2022-03-20T21:38:40.982Z"
   },
   {
    "duration": 189,
    "start_time": "2022-03-20T21:38:53.878Z"
   },
   {
    "duration": 139,
    "start_time": "2022-03-20T21:38:57.980Z"
   },
   {
    "duration": 135,
    "start_time": "2022-03-20T21:39:01.272Z"
   },
   {
    "duration": 148,
    "start_time": "2022-03-20T21:39:05.889Z"
   },
   {
    "duration": 145,
    "start_time": "2022-03-20T21:39:13.744Z"
   },
   {
    "duration": 158,
    "start_time": "2022-03-20T21:39:19.914Z"
   },
   {
    "duration": 166,
    "start_time": "2022-03-20T21:39:28.241Z"
   },
   {
    "duration": 166,
    "start_time": "2022-03-20T21:39:33.974Z"
   },
   {
    "duration": 177,
    "start_time": "2022-03-20T21:39:38.356Z"
   },
   {
    "duration": 52,
    "start_time": "2022-03-20T21:39:42.238Z"
   },
   {
    "duration": 64,
    "start_time": "2022-03-20T21:39:45.989Z"
   },
   {
    "duration": 117,
    "start_time": "2022-03-20T21:39:49.482Z"
   },
   {
    "duration": 138,
    "start_time": "2022-03-20T21:39:53.802Z"
   },
   {
    "duration": 135,
    "start_time": "2022-03-20T21:39:58.196Z"
   },
   {
    "duration": 11230,
    "start_time": "2022-03-20T21:40:21.917Z"
   },
   {
    "duration": 34,
    "start_time": "2022-03-20T21:41:06.702Z"
   },
   {
    "duration": 9,
    "start_time": "2022-03-20T21:41:15.233Z"
   },
   {
    "duration": 11336,
    "start_time": "2022-03-20T21:41:27.489Z"
   },
   {
    "duration": 15,
    "start_time": "2022-03-20T21:41:49.908Z"
   },
   {
    "duration": 60337,
    "start_time": "2022-03-20T21:42:02.335Z"
   },
   {
    "duration": 36118,
    "start_time": "2022-03-20T21:43:03.724Z"
   },
   {
    "duration": 72,
    "start_time": "2022-03-20T21:43:58.127Z"
   },
   {
    "duration": 42788,
    "start_time": "2022-03-20T21:44:38.850Z"
   },
   {
    "duration": 94,
    "start_time": "2022-03-20T21:45:21.640Z"
   },
   {
    "duration": 5,
    "start_time": "2022-03-20T21:45:35.991Z"
   },
   {
    "duration": 43,
    "start_time": "2022-03-20T21:45:36.014Z"
   },
   {
    "duration": 13,
    "start_time": "2022-03-20T21:45:36.059Z"
   },
   {
    "duration": 16,
    "start_time": "2022-03-20T21:45:36.073Z"
   },
   {
    "duration": 46,
    "start_time": "2022-03-20T21:45:36.091Z"
   },
   {
    "duration": 5,
    "start_time": "2022-03-20T21:45:36.139Z"
   },
   {
    "duration": 11,
    "start_time": "2022-03-20T21:45:36.146Z"
   },
   {
    "duration": 35,
    "start_time": "2022-03-20T21:45:36.158Z"
   },
   {
    "duration": 40,
    "start_time": "2022-03-20T21:45:36.194Z"
   },
   {
    "duration": 140,
    "start_time": "2022-03-20T21:45:36.235Z"
   },
   {
    "duration": 4,
    "start_time": "2022-03-20T21:45:36.376Z"
   },
   {
    "duration": 7,
    "start_time": "2022-03-20T21:45:36.381Z"
   },
   {
    "duration": 7,
    "start_time": "2022-03-20T21:45:36.389Z"
   },
   {
    "duration": 7,
    "start_time": "2022-03-20T21:45:36.398Z"
   },
   {
    "duration": 6,
    "start_time": "2022-03-20T21:45:36.407Z"
   },
   {
    "duration": 4,
    "start_time": "2022-03-20T21:45:36.433Z"
   },
   {
    "duration": 35998,
    "start_time": "2022-03-20T21:45:36.439Z"
   },
   {
    "duration": 503,
    "start_time": "2022-03-20T21:46:12.439Z"
   },
   {
    "duration": 15553,
    "start_time": "2022-03-20T21:46:13.034Z"
   },
   {
    "duration": 14,
    "start_time": "2022-03-20T21:46:28.589Z"
   },
   {
    "duration": 220353,
    "start_time": "2022-03-20T21:46:28.605Z"
   },
   {
    "duration": 111,
    "start_time": "2022-03-20T21:50:08.960Z"
   },
   {
    "duration": 11,
    "start_time": "2022-03-20T21:50:09.073Z"
   },
   {
    "duration": 6,
    "start_time": "2022-03-20T21:50:09.085Z"
   },
   {
    "duration": 126,
    "start_time": "2022-03-20T21:50:09.092Z"
   },
   {
    "duration": 40230,
    "start_time": "2022-03-20T21:50:09.220Z"
   },
   {
    "duration": 85,
    "start_time": "2022-03-20T21:50:49.452Z"
   },
   {
    "duration": 22110,
    "start_time": "2022-03-20T21:50:49.540Z"
   },
   {
    "duration": 23,
    "start_time": "2022-03-20T21:51:11.652Z"
   },
   {
    "duration": 304228,
    "start_time": "2022-03-20T21:51:11.676Z"
   },
   {
    "duration": 143,
    "start_time": "2022-03-20T21:56:15.906Z"
   },
   {
    "duration": 11,
    "start_time": "2022-03-20T21:56:16.050Z"
   },
   {
    "duration": 20,
    "start_time": "2022-03-20T21:56:16.063Z"
   },
   {
    "duration": 110,
    "start_time": "2022-03-20T21:56:16.085Z"
   },
   {
    "duration": 10906,
    "start_time": "2022-03-20T21:56:16.196Z"
   },
   {
    "duration": 37,
    "start_time": "2022-03-20T21:56:27.103Z"
   },
   {
    "duration": 10991,
    "start_time": "2022-03-20T21:56:27.142Z"
   },
   {
    "duration": 15,
    "start_time": "2022-03-20T21:56:38.135Z"
   },
   {
    "duration": 125603,
    "start_time": "2022-03-20T21:56:38.151Z"
   },
   {
    "duration": 53,
    "start_time": "2022-03-20T21:58:43.756Z"
   },
   {
    "duration": 110,
    "start_time": "2022-03-20T21:58:43.812Z"
   },
   {
    "duration": 145,
    "start_time": "2022-03-20T21:58:43.924Z"
   },
   {
    "duration": 20707,
    "start_time": "2022-03-20T22:04:05.818Z"
   },
   {
    "duration": 22,
    "start_time": "2022-03-20T22:04:33.916Z"
   },
   {
    "duration": 21,
    "start_time": "2022-03-20T22:04:38.380Z"
   },
   {
    "duration": 307797,
    "start_time": "2022-03-20T22:04:52.126Z"
   },
   {
    "duration": 2372,
    "start_time": "2022-03-21T06:34:16.142Z"
   },
   {
    "duration": 172,
    "start_time": "2022-03-21T06:34:18.517Z"
   },
   {
    "duration": 21,
    "start_time": "2022-03-21T06:34:18.692Z"
   },
   {
    "duration": 26,
    "start_time": "2022-03-21T06:34:18.716Z"
   },
   {
    "duration": 47,
    "start_time": "2022-03-21T06:34:18.745Z"
   },
   {
    "duration": 7,
    "start_time": "2022-03-21T06:34:18.794Z"
   },
   {
    "duration": 27,
    "start_time": "2022-03-21T06:34:18.803Z"
   },
   {
    "duration": 76,
    "start_time": "2022-03-21T06:34:18.832Z"
   },
   {
    "duration": 15,
    "start_time": "2022-03-21T06:34:18.911Z"
   },
   {
    "duration": 266,
    "start_time": "2022-03-21T06:34:18.932Z"
   },
   {
    "duration": 7,
    "start_time": "2022-03-21T06:34:19.200Z"
   },
   {
    "duration": 35,
    "start_time": "2022-03-21T06:34:19.210Z"
   },
   {
    "duration": 23,
    "start_time": "2022-03-21T06:34:19.247Z"
   },
   {
    "duration": 26,
    "start_time": "2022-03-21T06:34:19.273Z"
   },
   {
    "duration": 9,
    "start_time": "2022-03-21T06:34:19.301Z"
   },
   {
    "duration": 19,
    "start_time": "2022-03-21T06:34:19.312Z"
   },
   {
    "duration": 56536,
    "start_time": "2022-03-21T06:34:19.334Z"
   },
   {
    "duration": 603,
    "start_time": "2022-03-21T06:35:15.873Z"
   },
   {
    "duration": 26215,
    "start_time": "2022-03-21T06:35:16.479Z"
   },
   {
    "duration": 32,
    "start_time": "2022-03-21T06:35:42.697Z"
   },
   {
    "duration": 411504,
    "start_time": "2022-03-21T06:35:42.732Z"
   },
   {
    "duration": 175,
    "start_time": "2022-03-21T06:42:34.239Z"
   },
   {
    "duration": 15,
    "start_time": "2022-03-21T06:42:34.417Z"
   },
   {
    "duration": 7,
    "start_time": "2022-03-21T06:42:34.435Z"
   },
   {
    "duration": 237,
    "start_time": "2022-03-21T06:42:34.444Z"
   },
   {
    "duration": 7,
    "start_time": "2022-03-21T06:43:01.789Z"
   },
   {
    "duration": 66,
    "start_time": "2022-03-21T06:43:01.815Z"
   },
   {
    "duration": 19,
    "start_time": "2022-03-21T06:43:01.884Z"
   },
   {
    "duration": 28,
    "start_time": "2022-03-21T06:43:01.905Z"
   },
   {
    "duration": 58,
    "start_time": "2022-03-21T06:43:01.935Z"
   },
   {
    "duration": 7,
    "start_time": "2022-03-21T06:43:01.996Z"
   },
   {
    "duration": 18,
    "start_time": "2022-03-21T06:43:02.005Z"
   },
   {
    "duration": 143,
    "start_time": "2022-03-21T06:43:02.026Z"
   },
   {
    "duration": 12,
    "start_time": "2022-03-21T06:43:02.172Z"
   },
   {
    "duration": 285,
    "start_time": "2022-03-21T06:43:02.187Z"
   },
   {
    "duration": 6,
    "start_time": "2022-03-21T06:43:02.474Z"
   },
   {
    "duration": 7,
    "start_time": "2022-03-21T06:43:02.483Z"
   },
   {
    "duration": 9,
    "start_time": "2022-03-21T06:43:02.493Z"
   },
   {
    "duration": 7,
    "start_time": "2022-03-21T06:43:02.504Z"
   },
   {
    "duration": 5,
    "start_time": "2022-03-21T06:43:02.516Z"
   },
   {
    "duration": 6,
    "start_time": "2022-03-21T06:43:02.568Z"
   },
   {
    "duration": 55292,
    "start_time": "2022-03-21T06:43:02.577Z"
   },
   {
    "duration": 1101,
    "start_time": "2022-03-21T06:43:57.872Z"
   },
   {
    "duration": 26426,
    "start_time": "2022-03-21T06:43:58.976Z"
   },
   {
    "duration": 24,
    "start_time": "2022-03-21T06:44:25.404Z"
   },
   {
    "duration": 41014,
    "start_time": "2022-03-21T06:44:25.430Z"
   },
   {
    "duration": 0,
    "start_time": "2022-03-21T06:45:06.447Z"
   },
   {
    "duration": 0,
    "start_time": "2022-03-21T06:45:06.449Z"
   },
   {
    "duration": 0,
    "start_time": "2022-03-21T06:45:06.451Z"
   },
   {
    "duration": 0,
    "start_time": "2022-03-21T06:45:06.468Z"
   },
   {
    "duration": 0,
    "start_time": "2022-03-21T06:45:06.469Z"
   },
   {
    "duration": 0,
    "start_time": "2022-03-21T06:45:06.471Z"
   },
   {
    "duration": 0,
    "start_time": "2022-03-21T06:45:06.472Z"
   },
   {
    "duration": 0,
    "start_time": "2022-03-21T06:45:06.475Z"
   },
   {
    "duration": 0,
    "start_time": "2022-03-21T06:45:06.476Z"
   },
   {
    "duration": 0,
    "start_time": "2022-03-21T06:45:06.479Z"
   },
   {
    "duration": 0,
    "start_time": "2022-03-21T06:45:06.481Z"
   },
   {
    "duration": 0,
    "start_time": "2022-03-21T06:45:06.483Z"
   },
   {
    "duration": 0,
    "start_time": "2022-03-21T06:45:06.484Z"
   },
   {
    "duration": 0,
    "start_time": "2022-03-21T06:45:06.486Z"
   },
   {
    "duration": 0,
    "start_time": "2022-03-21T06:45:06.488Z"
   },
   {
    "duration": 0,
    "start_time": "2022-03-21T06:45:06.489Z"
   },
   {
    "duration": 0,
    "start_time": "2022-03-21T06:45:06.491Z"
   },
   {
    "duration": 0,
    "start_time": "2022-03-21T06:45:06.493Z"
   },
   {
    "duration": 0,
    "start_time": "2022-03-21T06:45:06.494Z"
   },
   {
    "duration": 6,
    "start_time": "2022-03-21T06:45:30.216Z"
   },
   {
    "duration": 66,
    "start_time": "2022-03-21T06:45:30.239Z"
   },
   {
    "duration": 20,
    "start_time": "2022-03-21T06:45:30.308Z"
   },
   {
    "duration": 49,
    "start_time": "2022-03-21T06:45:30.331Z"
   },
   {
    "duration": 38,
    "start_time": "2022-03-21T06:45:30.383Z"
   },
   {
    "duration": 43,
    "start_time": "2022-03-21T06:45:30.425Z"
   },
   {
    "duration": 20,
    "start_time": "2022-03-21T06:45:30.470Z"
   },
   {
    "duration": 92,
    "start_time": "2022-03-21T06:45:30.492Z"
   },
   {
    "duration": 9,
    "start_time": "2022-03-21T06:45:30.586Z"
   },
   {
    "duration": 253,
    "start_time": "2022-03-21T06:45:30.597Z"
   },
   {
    "duration": 6,
    "start_time": "2022-03-21T06:45:30.853Z"
   },
   {
    "duration": 19,
    "start_time": "2022-03-21T06:45:30.873Z"
   },
   {
    "duration": 25,
    "start_time": "2022-03-21T06:45:30.895Z"
   },
   {
    "duration": 18,
    "start_time": "2022-03-21T06:45:30.922Z"
   },
   {
    "duration": 16,
    "start_time": "2022-03-21T06:45:30.945Z"
   },
   {
    "duration": 12,
    "start_time": "2022-03-21T06:45:30.963Z"
   },
   {
    "duration": 52293,
    "start_time": "2022-03-21T06:45:30.977Z"
   },
   {
    "duration": 1392,
    "start_time": "2022-03-21T06:46:23.276Z"
   },
   {
    "duration": 26670,
    "start_time": "2022-03-21T06:46:24.670Z"
   },
   {
    "duration": 38,
    "start_time": "2022-03-21T06:46:51.342Z"
   },
   {
    "duration": 461886,
    "start_time": "2022-03-21T06:46:51.383Z"
   },
   {
    "duration": 1589,
    "start_time": "2022-03-21T06:54:33.272Z"
   },
   {
    "duration": 16,
    "start_time": "2022-03-21T06:54:34.867Z"
   },
   {
    "duration": 9,
    "start_time": "2022-03-21T06:54:34.885Z"
   },
   {
    "duration": 235,
    "start_time": "2022-03-21T06:54:34.896Z"
   },
   {
    "duration": 50664,
    "start_time": "2022-03-21T06:54:35.134Z"
   },
   {
    "duration": 169,
    "start_time": "2022-03-21T06:55:25.800Z"
   },
   {
    "duration": 19677,
    "start_time": "2022-03-21T06:55:25.973Z"
   },
   {
    "duration": 0,
    "start_time": "2022-03-21T06:55:45.652Z"
   },
   {
    "duration": 0,
    "start_time": "2022-03-21T06:55:45.666Z"
   },
   {
    "duration": 0,
    "start_time": "2022-03-21T06:55:45.668Z"
   },
   {
    "duration": 0,
    "start_time": "2022-03-21T06:55:45.670Z"
   },
   {
    "duration": 0,
    "start_time": "2022-03-21T06:55:45.672Z"
   },
   {
    "duration": 0,
    "start_time": "2022-03-21T06:55:45.673Z"
   },
   {
    "duration": 0,
    "start_time": "2022-03-21T06:55:45.675Z"
   },
   {
    "duration": 0,
    "start_time": "2022-03-21T06:55:45.677Z"
   },
   {
    "duration": 1,
    "start_time": "2022-03-21T06:55:45.678Z"
   },
   {
    "duration": 0,
    "start_time": "2022-03-21T06:55:45.680Z"
   },
   {
    "duration": 0,
    "start_time": "2022-03-21T06:55:45.682Z"
   },
   {
    "duration": 0,
    "start_time": "2022-03-21T06:55:45.684Z"
   },
   {
    "duration": 1020,
    "start_time": "2022-03-21T06:55:48.682Z"
   },
   {
    "duration": 6,
    "start_time": "2022-03-21T06:57:40.618Z"
   },
   {
    "duration": 60,
    "start_time": "2022-03-21T06:57:40.639Z"
   },
   {
    "duration": 21,
    "start_time": "2022-03-21T06:57:40.704Z"
   },
   {
    "duration": 51,
    "start_time": "2022-03-21T06:57:40.728Z"
   },
   {
    "duration": 29,
    "start_time": "2022-03-21T06:57:40.781Z"
   },
   {
    "duration": 7,
    "start_time": "2022-03-21T06:57:40.815Z"
   },
   {
    "duration": 18,
    "start_time": "2022-03-21T06:57:40.868Z"
   },
   {
    "duration": 87,
    "start_time": "2022-03-21T06:57:40.889Z"
   },
   {
    "duration": 9,
    "start_time": "2022-03-21T06:57:40.979Z"
   },
   {
    "duration": 258,
    "start_time": "2022-03-21T06:57:40.991Z"
   },
   {
    "duration": 15,
    "start_time": "2022-03-21T06:57:41.252Z"
   },
   {
    "duration": 7,
    "start_time": "2022-03-21T06:57:41.270Z"
   },
   {
    "duration": 6,
    "start_time": "2022-03-21T06:57:41.279Z"
   },
   {
    "duration": 7,
    "start_time": "2022-03-21T06:57:41.288Z"
   },
   {
    "duration": 6,
    "start_time": "2022-03-21T06:57:41.300Z"
   },
   {
    "duration": 13,
    "start_time": "2022-03-21T06:57:41.308Z"
   },
   {
    "duration": 43946,
    "start_time": "2022-03-21T06:57:41.323Z"
   },
   {
    "duration": 500,
    "start_time": "2022-03-21T06:58:25.272Z"
   },
   {
    "duration": 26559,
    "start_time": "2022-03-21T06:58:25.775Z"
   },
   {
    "duration": 35,
    "start_time": "2022-03-21T06:58:52.337Z"
   },
   {
    "duration": 19120,
    "start_time": "2022-03-21T06:58:52.374Z"
   },
   {
    "duration": 30,
    "start_time": "2022-03-21T06:59:11.496Z"
   },
   {
    "duration": 38,
    "start_time": "2022-03-21T06:59:11.529Z"
   },
   {
    "duration": 10,
    "start_time": "2022-03-21T06:59:11.570Z"
   },
   {
    "duration": 231,
    "start_time": "2022-03-21T06:59:11.582Z"
   },
   {
    "duration": 51290,
    "start_time": "2022-03-21T06:59:11.815Z"
   },
   {
    "duration": 271,
    "start_time": "2022-03-21T07:00:03.108Z"
   },
   {
    "duration": 33467,
    "start_time": "2022-03-21T07:00:03.470Z"
   },
   {
    "duration": 47,
    "start_time": "2022-03-21T07:00:36.940Z"
   },
   {
    "duration": 24399,
    "start_time": "2022-03-21T07:00:36.989Z"
   },
   {
    "duration": 12,
    "start_time": "2022-03-21T07:01:01.391Z"
   },
   {
    "duration": 0,
    "start_time": "2022-03-21T07:01:01.406Z"
   },
   {
    "duration": 0,
    "start_time": "2022-03-21T07:01:01.408Z"
   },
   {
    "duration": 0,
    "start_time": "2022-03-21T07:01:01.409Z"
   },
   {
    "duration": 0,
    "start_time": "2022-03-21T07:01:01.411Z"
   },
   {
    "duration": 1,
    "start_time": "2022-03-21T07:01:01.412Z"
   },
   {
    "duration": 0,
    "start_time": "2022-03-21T07:01:01.414Z"
   },
   {
    "duration": 0,
    "start_time": "2022-03-21T07:01:01.415Z"
   },
   {
    "duration": 0,
    "start_time": "2022-03-21T07:01:01.417Z"
   },
   {
    "duration": 0,
    "start_time": "2022-03-21T07:01:01.419Z"
   },
   {
    "duration": 102,
    "start_time": "2022-03-21T07:01:28.409Z"
   },
   {
    "duration": 33,
    "start_time": "2022-03-21T07:02:08.389Z"
   },
   {
    "duration": 145,
    "start_time": "2022-03-21T07:02:29.914Z"
   },
   {
    "duration": 16,
    "start_time": "2022-03-21T07:02:57.656Z"
   },
   {
    "duration": 8,
    "start_time": "2022-03-21T07:02:58.610Z"
   },
   {
    "duration": 272,
    "start_time": "2022-03-21T07:02:59.729Z"
   },
   {
    "duration": 17928,
    "start_time": "2022-03-21T07:03:02.908Z"
   },
   {
    "duration": 102,
    "start_time": "2022-03-21T07:03:26.466Z"
   },
   {
    "duration": 19108,
    "start_time": "2022-03-21T07:03:31.210Z"
   },
   {
    "duration": 24,
    "start_time": "2022-03-21T07:03:57.903Z"
   },
   {
    "duration": 13596,
    "start_time": "2022-03-21T07:04:01.371Z"
   },
   {
    "duration": 55,
    "start_time": "2022-03-21T07:04:27.281Z"
   },
   {
    "duration": 6,
    "start_time": "2022-03-21T07:05:42.623Z"
   },
   {
    "duration": 64,
    "start_time": "2022-03-21T07:05:42.647Z"
   },
   {
    "duration": 53,
    "start_time": "2022-03-21T07:05:42.715Z"
   },
   {
    "duration": 29,
    "start_time": "2022-03-21T07:05:42.771Z"
   },
   {
    "duration": 70,
    "start_time": "2022-03-21T07:05:42.804Z"
   },
   {
    "duration": 9,
    "start_time": "2022-03-21T07:05:42.879Z"
   },
   {
    "duration": 24,
    "start_time": "2022-03-21T07:05:42.891Z"
   },
   {
    "duration": 124,
    "start_time": "2022-03-21T07:05:42.918Z"
   },
   {
    "duration": 25,
    "start_time": "2022-03-21T07:05:43.044Z"
   },
   {
    "duration": 236,
    "start_time": "2022-03-21T07:05:43.072Z"
   },
   {
    "duration": 7,
    "start_time": "2022-03-21T07:05:43.310Z"
   },
   {
    "duration": 9,
    "start_time": "2022-03-21T07:05:43.319Z"
   },
   {
    "duration": 6,
    "start_time": "2022-03-21T07:05:43.330Z"
   },
   {
    "duration": 7,
    "start_time": "2022-03-21T07:05:43.368Z"
   },
   {
    "duration": 10,
    "start_time": "2022-03-21T07:05:43.383Z"
   },
   {
    "duration": 16,
    "start_time": "2022-03-21T07:05:43.395Z"
   },
   {
    "duration": 48856,
    "start_time": "2022-03-21T07:05:43.413Z"
   },
   {
    "duration": 1395,
    "start_time": "2022-03-21T07:06:32.272Z"
   },
   {
    "duration": 26278,
    "start_time": "2022-03-21T07:06:33.669Z"
   },
   {
    "duration": 40,
    "start_time": "2022-03-21T07:06:59.950Z"
   },
   {
    "duration": 125302,
    "start_time": "2022-03-21T07:06:59.993Z"
   },
   {
    "duration": 118,
    "start_time": "2022-03-21T07:09:05.298Z"
   },
   {
    "duration": 17,
    "start_time": "2022-03-21T07:09:05.418Z"
   },
   {
    "duration": 8,
    "start_time": "2022-03-21T07:09:05.437Z"
   },
   {
    "duration": 254,
    "start_time": "2022-03-21T07:09:05.448Z"
   },
   {
    "duration": 57694,
    "start_time": "2022-03-21T07:09:05.704Z"
   },
   {
    "duration": 179,
    "start_time": "2022-03-21T07:10:03.400Z"
   },
   {
    "duration": 33375,
    "start_time": "2022-03-21T07:10:03.582Z"
   },
   {
    "duration": 41,
    "start_time": "2022-03-21T07:10:36.960Z"
   },
   {
    "duration": 170737,
    "start_time": "2022-03-21T07:10:37.004Z"
   },
   {
    "duration": 150,
    "start_time": "2022-03-21T07:13:27.744Z"
   },
   {
    "duration": 16,
    "start_time": "2022-03-21T07:13:27.897Z"
   },
   {
    "duration": 9,
    "start_time": "2022-03-21T07:13:27.915Z"
   },
   {
    "duration": 247,
    "start_time": "2022-03-21T07:13:27.927Z"
   },
   {
    "duration": 19223,
    "start_time": "2022-03-21T07:13:28.176Z"
   },
   {
    "duration": 72,
    "start_time": "2022-03-21T07:13:47.402Z"
   },
   {
    "duration": 19188,
    "start_time": "2022-03-21T07:13:47.479Z"
   },
   {
    "duration": 23,
    "start_time": "2022-03-21T07:14:06.670Z"
   },
   {
    "duration": 101093,
    "start_time": "2022-03-21T07:14:06.695Z"
   },
   {
    "duration": 60,
    "start_time": "2022-03-21T07:15:47.790Z"
   },
   {
    "duration": 157,
    "start_time": "2022-03-21T07:15:47.871Z"
   },
   {
    "duration": 170,
    "start_time": "2022-03-21T07:16:32.842Z"
   },
   {
    "duration": 58,
    "start_time": "2022-03-21T07:16:52.308Z"
   },
   {
    "duration": 61,
    "start_time": "2022-03-21T07:17:01.114Z"
   },
   {
    "duration": 61,
    "start_time": "2022-03-21T07:17:09.255Z"
   },
   {
    "duration": 90,
    "start_time": "2022-03-21T07:17:14.054Z"
   },
   {
    "duration": 91,
    "start_time": "2022-03-21T07:17:17.237Z"
   },
   {
    "duration": 94,
    "start_time": "2022-03-21T07:17:19.537Z"
   },
   {
    "duration": 88,
    "start_time": "2022-03-21T07:17:21.800Z"
   },
   {
    "duration": 90,
    "start_time": "2022-03-21T07:17:24.619Z"
   },
   {
    "duration": 88,
    "start_time": "2022-03-21T07:17:27.137Z"
   },
   {
    "duration": 60,
    "start_time": "2022-03-21T07:17:31.481Z"
   },
   {
    "duration": 51,
    "start_time": "2022-03-21T07:17:33.709Z"
   },
   {
    "duration": 6,
    "start_time": "2022-03-21T07:18:17.751Z"
   },
   {
    "duration": 66,
    "start_time": "2022-03-21T07:18:17.775Z"
   },
   {
    "duration": 28,
    "start_time": "2022-03-21T07:18:17.844Z"
   },
   {
    "duration": 23,
    "start_time": "2022-03-21T07:18:17.874Z"
   },
   {
    "duration": 30,
    "start_time": "2022-03-21T07:18:17.899Z"
   },
   {
    "duration": 40,
    "start_time": "2022-03-21T07:18:17.933Z"
   },
   {
    "duration": 18,
    "start_time": "2022-03-21T07:18:17.975Z"
   },
   {
    "duration": 91,
    "start_time": "2022-03-21T07:18:17.995Z"
   },
   {
    "duration": 8,
    "start_time": "2022-03-21T07:18:18.089Z"
   },
   {
    "duration": 255,
    "start_time": "2022-03-21T07:18:18.100Z"
   },
   {
    "duration": 11,
    "start_time": "2022-03-21T07:18:18.358Z"
   },
   {
    "duration": 7,
    "start_time": "2022-03-21T07:18:18.371Z"
   },
   {
    "duration": 10,
    "start_time": "2022-03-21T07:18:18.380Z"
   },
   {
    "duration": 7,
    "start_time": "2022-03-21T07:18:18.392Z"
   },
   {
    "duration": 6,
    "start_time": "2022-03-21T07:18:18.405Z"
   },
   {
    "duration": 9,
    "start_time": "2022-03-21T07:18:18.413Z"
   },
   {
    "duration": 46451,
    "start_time": "2022-03-21T07:18:18.424Z"
   },
   {
    "duration": 901,
    "start_time": "2022-03-21T07:19:04.878Z"
   },
   {
    "duration": 26427,
    "start_time": "2022-03-21T07:19:05.783Z"
   },
   {
    "duration": 23,
    "start_time": "2022-03-21T07:19:32.213Z"
   },
   {
    "duration": 325232,
    "start_time": "2022-03-21T07:19:32.238Z"
   },
   {
    "duration": 135,
    "start_time": "2022-03-21T07:24:57.472Z"
   },
   {
    "duration": 16,
    "start_time": "2022-03-21T07:24:57.610Z"
   },
   {
    "duration": 8,
    "start_time": "2022-03-21T07:24:57.628Z"
   },
   {
    "duration": 237,
    "start_time": "2022-03-21T07:24:57.638Z"
   },
   {
    "duration": 48025,
    "start_time": "2022-03-21T07:24:57.877Z"
   },
   {
    "duration": 165,
    "start_time": "2022-03-21T07:25:45.905Z"
   },
   {
    "duration": 34653,
    "start_time": "2022-03-21T07:25:46.074Z"
   },
   {
    "duration": 46,
    "start_time": "2022-03-21T07:26:20.729Z"
   },
   {
    "duration": 431114,
    "start_time": "2022-03-21T07:26:20.777Z"
   },
   {
    "duration": 170,
    "start_time": "2022-03-21T07:33:31.893Z"
   },
   {
    "duration": 19,
    "start_time": "2022-03-21T07:33:32.068Z"
   },
   {
    "duration": 9,
    "start_time": "2022-03-21T07:33:32.089Z"
   },
   {
    "duration": 240,
    "start_time": "2022-03-21T07:33:32.101Z"
   },
   {
    "duration": 16540,
    "start_time": "2022-03-21T07:33:32.344Z"
   },
   {
    "duration": 90,
    "start_time": "2022-03-21T07:33:48.887Z"
   },
   {
    "duration": 18702,
    "start_time": "2022-03-21T07:33:49.068Z"
   },
   {
    "duration": 21,
    "start_time": "2022-03-21T07:34:07.773Z"
   },
   {
    "duration": 177554,
    "start_time": "2022-03-21T07:34:07.796Z"
   },
   {
    "duration": 56,
    "start_time": "2022-03-21T07:37:05.353Z"
   },
   {
    "duration": 185,
    "start_time": "2022-03-21T07:38:44.809Z"
   },
   {
    "duration": 314,
    "start_time": "2022-03-21T07:39:00.232Z"
   },
   {
    "duration": 82,
    "start_time": "2022-03-21T07:39:17.937Z"
   },
   {
    "duration": 6,
    "start_time": "2022-03-21T07:41:37.404Z"
   },
   {
    "duration": 8,
    "start_time": "2022-03-21T07:41:42.072Z"
   },
   {
    "duration": 64,
    "start_time": "2022-03-21T07:41:42.129Z"
   },
   {
    "duration": 20,
    "start_time": "2022-03-21T07:41:42.197Z"
   },
   {
    "duration": 53,
    "start_time": "2022-03-21T07:41:42.220Z"
   },
   {
    "duration": 30,
    "start_time": "2022-03-21T07:41:42.275Z"
   },
   {
    "duration": 7,
    "start_time": "2022-03-21T07:41:42.308Z"
   },
   {
    "duration": 59,
    "start_time": "2022-03-21T07:41:42.317Z"
   },
   {
    "duration": 59,
    "start_time": "2022-03-21T07:41:42.379Z"
   },
   {
    "duration": 9,
    "start_time": "2022-03-21T07:41:42.468Z"
   },
   {
    "duration": 243,
    "start_time": "2022-03-21T07:41:42.480Z"
   },
   {
    "duration": 6,
    "start_time": "2022-03-21T07:41:42.725Z"
   },
   {
    "duration": 8,
    "start_time": "2022-03-21T07:41:42.734Z"
   },
   {
    "duration": 25,
    "start_time": "2022-03-21T07:41:42.744Z"
   },
   {
    "duration": 12,
    "start_time": "2022-03-21T07:41:42.771Z"
   },
   {
    "duration": 5,
    "start_time": "2022-03-21T07:41:42.788Z"
   },
   {
    "duration": 8,
    "start_time": "2022-03-21T07:41:42.796Z"
   },
   {
    "duration": 45666,
    "start_time": "2022-03-21T07:41:42.806Z"
   },
   {
    "duration": 1093,
    "start_time": "2022-03-21T07:42:28.475Z"
   },
   {
    "duration": 25440,
    "start_time": "2022-03-21T07:42:29.571Z"
   },
   {
    "duration": 22,
    "start_time": "2022-03-21T07:42:55.014Z"
   },
   {
    "duration": 181530,
    "start_time": "2022-03-21T07:42:55.038Z"
   },
   {
    "duration": 208,
    "start_time": "2022-03-21T07:45:56.570Z"
   },
   {
    "duration": 16,
    "start_time": "2022-03-21T07:45:56.781Z"
   },
   {
    "duration": 9,
    "start_time": "2022-03-21T07:45:56.799Z"
   },
   {
    "duration": 237,
    "start_time": "2022-03-21T07:45:56.811Z"
   },
   {
    "duration": 47942,
    "start_time": "2022-03-21T07:45:57.051Z"
   },
   {
    "duration": 78,
    "start_time": "2022-03-21T07:46:44.996Z"
   },
   {
    "duration": 32517,
    "start_time": "2022-03-21T07:46:45.167Z"
   },
   {
    "duration": 33,
    "start_time": "2022-03-21T07:47:17.686Z"
   },
   {
    "duration": 238817,
    "start_time": "2022-03-21T07:47:17.721Z"
   },
   {
    "duration": 296,
    "start_time": "2022-03-21T07:51:16.540Z"
   },
   {
    "duration": 29,
    "start_time": "2022-03-21T07:51:16.838Z"
   },
   {
    "duration": 9,
    "start_time": "2022-03-21T07:51:16.869Z"
   },
   {
    "duration": 219,
    "start_time": "2022-03-21T07:51:16.880Z"
   },
   {
    "duration": 16859,
    "start_time": "2022-03-21T07:51:17.101Z"
   },
   {
    "duration": 109,
    "start_time": "2022-03-21T07:51:33.966Z"
   },
   {
    "duration": 18188,
    "start_time": "2022-03-21T07:51:34.168Z"
   },
   {
    "duration": 22,
    "start_time": "2022-03-21T07:51:52.367Z"
   },
   {
    "duration": 119942,
    "start_time": "2022-03-21T07:51:52.391Z"
   },
   {
    "duration": 89,
    "start_time": "2022-03-21T07:53:52.335Z"
   },
   {
    "duration": 104,
    "start_time": "2022-03-21T07:57:16.991Z"
   },
   {
    "duration": 150,
    "start_time": "2022-03-21T07:57:31.390Z"
   },
   {
    "duration": 71,
    "start_time": "2022-03-21T07:57:51.114Z"
   },
   {
    "duration": 6,
    "start_time": "2022-03-21T07:58:26.930Z"
   },
   {
    "duration": 64,
    "start_time": "2022-03-21T07:58:26.962Z"
   },
   {
    "duration": 41,
    "start_time": "2022-03-21T07:58:27.030Z"
   },
   {
    "duration": 24,
    "start_time": "2022-03-21T07:58:27.074Z"
   },
   {
    "duration": 69,
    "start_time": "2022-03-21T07:58:27.100Z"
   },
   {
    "duration": 6,
    "start_time": "2022-03-21T07:58:27.173Z"
   },
   {
    "duration": 17,
    "start_time": "2022-03-21T07:58:27.181Z"
   },
   {
    "duration": 94,
    "start_time": "2022-03-21T07:58:27.200Z"
   },
   {
    "duration": 8,
    "start_time": "2022-03-21T07:58:27.296Z"
   },
   {
    "duration": 254,
    "start_time": "2022-03-21T07:58:27.306Z"
   },
   {
    "duration": 10,
    "start_time": "2022-03-21T07:58:27.562Z"
   },
   {
    "duration": 9,
    "start_time": "2022-03-21T07:58:27.574Z"
   },
   {
    "duration": 5,
    "start_time": "2022-03-21T07:58:27.586Z"
   },
   {
    "duration": 7,
    "start_time": "2022-03-21T07:58:27.594Z"
   },
   {
    "duration": 6,
    "start_time": "2022-03-21T07:58:27.606Z"
   },
   {
    "duration": 7,
    "start_time": "2022-03-21T07:58:27.614Z"
   },
   {
    "duration": 43553,
    "start_time": "2022-03-21T07:58:27.624Z"
   },
   {
    "duration": 705,
    "start_time": "2022-03-21T07:59:11.270Z"
   },
   {
    "duration": 25876,
    "start_time": "2022-03-21T07:59:12.069Z"
   },
   {
    "duration": 31,
    "start_time": "2022-03-21T07:59:37.947Z"
   },
   {
    "duration": 285227,
    "start_time": "2022-03-21T07:59:37.980Z"
   },
   {
    "duration": 122,
    "start_time": "2022-03-21T08:04:23.210Z"
   },
   {
    "duration": 16,
    "start_time": "2022-03-21T08:04:23.334Z"
   },
   {
    "duration": 21,
    "start_time": "2022-03-21T08:04:23.353Z"
   },
   {
    "duration": 228,
    "start_time": "2022-03-21T08:04:23.376Z"
   },
   {
    "duration": 51990,
    "start_time": "2022-03-21T08:04:23.611Z"
   },
   {
    "duration": 173,
    "start_time": "2022-03-21T08:05:15.605Z"
   },
   {
    "duration": 33725,
    "start_time": "2022-03-21T08:05:15.867Z"
   },
   {
    "duration": 35,
    "start_time": "2022-03-21T08:05:49.594Z"
   },
   {
    "duration": 364697,
    "start_time": "2022-03-21T08:05:49.631Z"
   },
   {
    "duration": 0,
    "start_time": "2022-03-21T08:11:54.332Z"
   },
   {
    "duration": 0,
    "start_time": "2022-03-21T08:11:54.334Z"
   },
   {
    "duration": 0,
    "start_time": "2022-03-21T08:11:54.336Z"
   },
   {
    "duration": 0,
    "start_time": "2022-03-21T08:11:54.339Z"
   },
   {
    "duration": 0,
    "start_time": "2022-03-21T08:11:54.341Z"
   },
   {
    "duration": 0,
    "start_time": "2022-03-21T08:11:54.367Z"
   },
   {
    "duration": 0,
    "start_time": "2022-03-21T08:11:54.369Z"
   },
   {
    "duration": 0,
    "start_time": "2022-03-21T08:11:54.371Z"
   },
   {
    "duration": 0,
    "start_time": "2022-03-21T08:11:54.374Z"
   },
   {
    "duration": 0,
    "start_time": "2022-03-21T08:11:54.376Z"
   },
   {
    "duration": 113,
    "start_time": "2022-03-21T08:12:00.837Z"
   },
   {
    "duration": 6,
    "start_time": "2022-03-21T08:12:11.840Z"
   },
   {
    "duration": 63,
    "start_time": "2022-03-21T08:12:11.861Z"
   },
   {
    "duration": 19,
    "start_time": "2022-03-21T08:12:11.928Z"
   },
   {
    "duration": 19,
    "start_time": "2022-03-21T08:12:11.967Z"
   },
   {
    "duration": 28,
    "start_time": "2022-03-21T08:12:11.989Z"
   },
   {
    "duration": 45,
    "start_time": "2022-03-21T08:12:12.022Z"
   },
   {
    "duration": 22,
    "start_time": "2022-03-21T08:12:12.070Z"
   },
   {
    "duration": 97,
    "start_time": "2022-03-21T08:12:12.094Z"
   },
   {
    "duration": 9,
    "start_time": "2022-03-21T08:12:12.193Z"
   },
   {
    "duration": 249,
    "start_time": "2022-03-21T08:12:12.204Z"
   },
   {
    "duration": 14,
    "start_time": "2022-03-21T08:12:12.455Z"
   },
   {
    "duration": 13,
    "start_time": "2022-03-21T08:12:12.472Z"
   },
   {
    "duration": 9,
    "start_time": "2022-03-21T08:12:12.487Z"
   },
   {
    "duration": 10,
    "start_time": "2022-03-21T08:12:12.498Z"
   },
   {
    "duration": 7,
    "start_time": "2022-03-21T08:12:12.512Z"
   },
   {
    "duration": 9,
    "start_time": "2022-03-21T08:12:12.521Z"
   },
   {
    "duration": 44737,
    "start_time": "2022-03-21T08:12:12.532Z"
   },
   {
    "duration": 697,
    "start_time": "2022-03-21T08:12:57.272Z"
   },
   {
    "duration": 26042,
    "start_time": "2022-03-21T08:12:57.979Z"
   },
   {
    "duration": 23,
    "start_time": "2022-03-21T08:13:24.023Z"
   },
   {
    "duration": 287970,
    "start_time": "2022-03-21T08:13:24.048Z"
   },
   {
    "duration": 125,
    "start_time": "2022-03-21T08:18:12.020Z"
   },
   {
    "duration": 25,
    "start_time": "2022-03-21T08:18:12.148Z"
   },
   {
    "duration": 9,
    "start_time": "2022-03-21T08:18:12.175Z"
   },
   {
    "duration": 242,
    "start_time": "2022-03-21T08:18:12.187Z"
   },
   {
    "duration": 49269,
    "start_time": "2022-03-21T08:18:12.432Z"
   },
   {
    "duration": 166,
    "start_time": "2022-03-21T08:19:01.703Z"
   },
   {
    "duration": 31917,
    "start_time": "2022-03-21T08:19:01.873Z"
   },
   {
    "duration": 32,
    "start_time": "2022-03-21T08:19:33.792Z"
   },
   {
    "duration": 386034,
    "start_time": "2022-03-21T08:19:33.827Z"
   },
   {
    "duration": 162,
    "start_time": "2022-03-21T08:25:59.864Z"
   },
   {
    "duration": 16,
    "start_time": "2022-03-21T08:26:00.029Z"
   },
   {
    "duration": 27,
    "start_time": "2022-03-21T08:26:00.047Z"
   },
   {
    "duration": 222,
    "start_time": "2022-03-21T08:26:00.077Z"
   },
   {
    "duration": 17411,
    "start_time": "2022-03-21T08:26:00.302Z"
   },
   {
    "duration": 155,
    "start_time": "2022-03-21T08:26:17.717Z"
   },
   {
    "duration": 18515,
    "start_time": "2022-03-21T08:26:17.876Z"
   },
   {
    "duration": 20,
    "start_time": "2022-03-21T08:26:36.393Z"
   },
   {
    "duration": 179905,
    "start_time": "2022-03-21T08:26:36.416Z"
   },
   {
    "duration": 84,
    "start_time": "2022-03-21T08:29:36.323Z"
   },
   {
    "duration": 116,
    "start_time": "2022-03-21T09:54:35.122Z"
   },
   {
    "duration": 148,
    "start_time": "2022-03-21T09:54:45.389Z"
   },
   {
    "duration": 62,
    "start_time": "2022-03-21T09:55:01.074Z"
   },
   {
    "duration": 6,
    "start_time": "2022-03-21T10:12:47.377Z"
   },
   {
    "duration": 60,
    "start_time": "2022-03-21T10:12:47.399Z"
   },
   {
    "duration": 21,
    "start_time": "2022-03-21T10:12:47.462Z"
   },
   {
    "duration": 22,
    "start_time": "2022-03-21T10:12:47.485Z"
   },
   {
    "duration": 73,
    "start_time": "2022-03-21T10:12:47.510Z"
   },
   {
    "duration": 8,
    "start_time": "2022-03-21T10:12:47.588Z"
   },
   {
    "duration": 22,
    "start_time": "2022-03-21T10:12:47.599Z"
   },
   {
    "duration": 97,
    "start_time": "2022-03-21T10:12:47.624Z"
   },
   {
    "duration": 9,
    "start_time": "2022-03-21T10:12:47.723Z"
   },
   {
    "duration": 243,
    "start_time": "2022-03-21T10:12:47.767Z"
   },
   {
    "duration": 7,
    "start_time": "2022-03-21T10:12:48.013Z"
   },
   {
    "duration": 10,
    "start_time": "2022-03-21T10:12:48.022Z"
   },
   {
    "duration": 7,
    "start_time": "2022-03-21T10:12:48.034Z"
   },
   {
    "duration": 6,
    "start_time": "2022-03-21T10:12:48.068Z"
   },
   {
    "duration": 6,
    "start_time": "2022-03-21T10:12:48.081Z"
   },
   {
    "duration": 10,
    "start_time": "2022-03-21T10:12:48.090Z"
   },
   {
    "duration": 45569,
    "start_time": "2022-03-21T10:12:48.102Z"
   },
   {
    "duration": 695,
    "start_time": "2022-03-21T10:13:33.674Z"
   },
   {
    "duration": 26950,
    "start_time": "2022-03-21T10:13:34.373Z"
   },
   {
    "duration": 24,
    "start_time": "2022-03-21T10:14:01.325Z"
   },
   {
    "duration": 0,
    "start_time": "2022-03-21T12:31:19.270Z"
   },
   {
    "duration": 0,
    "start_time": "2022-03-21T12:31:19.272Z"
   },
   {
    "duration": 0,
    "start_time": "2022-03-21T12:31:19.273Z"
   },
   {
    "duration": 0,
    "start_time": "2022-03-21T12:31:19.275Z"
   },
   {
    "duration": 0,
    "start_time": "2022-03-21T12:31:19.276Z"
   },
   {
    "duration": 0,
    "start_time": "2022-03-21T12:31:19.279Z"
   },
   {
    "duration": 0,
    "start_time": "2022-03-21T12:31:19.281Z"
   },
   {
    "duration": 0,
    "start_time": "2022-03-21T12:31:19.282Z"
   },
   {
    "duration": 0,
    "start_time": "2022-03-21T12:31:19.284Z"
   },
   {
    "duration": 0,
    "start_time": "2022-03-21T12:31:19.285Z"
   },
   {
    "duration": 0,
    "start_time": "2022-03-21T12:31:19.287Z"
   },
   {
    "duration": 1,
    "start_time": "2022-03-21T12:31:19.288Z"
   },
   {
    "duration": 0,
    "start_time": "2022-03-21T12:31:19.290Z"
   },
   {
    "duration": 0,
    "start_time": "2022-03-21T12:31:19.291Z"
   },
   {
    "duration": 0,
    "start_time": "2022-03-21T12:31:19.293Z"
   },
   {
    "duration": 0,
    "start_time": "2022-03-21T12:31:19.295Z"
   },
   {
    "duration": 0,
    "start_time": "2022-03-21T12:31:19.297Z"
   },
   {
    "duration": 0,
    "start_time": "2022-03-21T12:31:19.300Z"
   },
   {
    "duration": 0,
    "start_time": "2022-03-21T12:31:19.367Z"
   },
   {
    "duration": 0,
    "start_time": "2022-03-21T12:31:19.368Z"
   },
   {
    "duration": 0,
    "start_time": "2022-03-21T12:31:19.370Z"
   },
   {
    "duration": 0,
    "start_time": "2022-03-21T12:31:19.371Z"
   },
   {
    "duration": 0,
    "start_time": "2022-03-21T12:31:19.373Z"
   },
   {
    "duration": 0,
    "start_time": "2022-03-21T12:31:19.375Z"
   },
   {
    "duration": 0,
    "start_time": "2022-03-21T12:31:19.377Z"
   },
   {
    "duration": 0,
    "start_time": "2022-03-21T12:31:19.379Z"
   },
   {
    "duration": 0,
    "start_time": "2022-03-21T12:31:19.381Z"
   },
   {
    "duration": 0,
    "start_time": "2022-03-21T12:31:19.383Z"
   },
   {
    "duration": 0,
    "start_time": "2022-03-21T12:31:19.384Z"
   },
   {
    "duration": 0,
    "start_time": "2022-03-21T12:31:19.386Z"
   },
   {
    "duration": 0,
    "start_time": "2022-03-21T12:31:19.387Z"
   },
   {
    "duration": 1,
    "start_time": "2022-03-21T12:31:19.388Z"
   },
   {
    "duration": 0,
    "start_time": "2022-03-21T12:31:19.390Z"
   },
   {
    "duration": 0,
    "start_time": "2022-03-21T12:31:19.391Z"
   },
   {
    "duration": 0,
    "start_time": "2022-03-21T12:31:19.393Z"
   },
   {
    "duration": 0,
    "start_time": "2022-03-21T12:31:19.394Z"
   },
   {
    "duration": 0,
    "start_time": "2022-03-21T12:31:19.395Z"
   },
   {
    "duration": 0,
    "start_time": "2022-03-21T12:31:19.397Z"
   },
   {
    "duration": 0,
    "start_time": "2022-03-21T12:31:19.401Z"
   },
   {
    "duration": 0,
    "start_time": "2022-03-21T12:31:19.403Z"
   },
   {
    "duration": 7,
    "start_time": "2022-03-21T12:31:22.380Z"
   },
   {
    "duration": 63,
    "start_time": "2022-03-21T12:31:22.398Z"
   },
   {
    "duration": 21,
    "start_time": "2022-03-21T12:31:22.476Z"
   },
   {
    "duration": 49,
    "start_time": "2022-03-21T12:31:22.499Z"
   },
   {
    "duration": 47,
    "start_time": "2022-03-21T12:31:22.551Z"
   },
   {
    "duration": 9,
    "start_time": "2022-03-21T12:31:22.603Z"
   },
   {
    "duration": 53,
    "start_time": "2022-03-21T12:31:22.615Z"
   },
   {
    "duration": 55,
    "start_time": "2022-03-21T12:31:22.671Z"
   },
   {
    "duration": 38,
    "start_time": "2022-03-21T12:31:22.729Z"
   },
   {
    "duration": 256,
    "start_time": "2022-03-21T12:31:22.769Z"
   },
   {
    "duration": 7,
    "start_time": "2022-03-21T12:31:23.028Z"
   },
   {
    "duration": 29,
    "start_time": "2022-03-21T12:31:23.038Z"
   },
   {
    "duration": 8,
    "start_time": "2022-03-21T12:31:23.071Z"
   },
   {
    "duration": 10,
    "start_time": "2022-03-21T12:31:23.082Z"
   },
   {
    "duration": 8,
    "start_time": "2022-03-21T12:31:23.101Z"
   },
   {
    "duration": 15,
    "start_time": "2022-03-21T12:31:23.112Z"
   },
   {
    "duration": 55139,
    "start_time": "2022-03-21T12:31:23.130Z"
   },
   {
    "duration": 701,
    "start_time": "2022-03-21T12:32:18.273Z"
   },
   {
    "duration": 27204,
    "start_time": "2022-03-21T12:32:18.978Z"
   },
   {
    "duration": 23,
    "start_time": "2022-03-21T12:32:46.185Z"
   },
   {
    "duration": 170707,
    "start_time": "2022-03-21T12:32:46.210Z"
   },
   {
    "duration": 130,
    "start_time": "2022-03-21T12:35:36.920Z"
   },
   {
    "duration": 33,
    "start_time": "2022-03-21T12:35:37.053Z"
   },
   {
    "duration": 10,
    "start_time": "2022-03-21T12:35:37.089Z"
   },
   {
    "duration": 253,
    "start_time": "2022-03-21T12:35:37.102Z"
   },
   {
    "duration": 53038,
    "start_time": "2022-03-21T12:35:37.357Z"
   },
   {
    "duration": 172,
    "start_time": "2022-03-21T12:36:30.397Z"
   },
   {
    "duration": 34327,
    "start_time": "2022-03-21T12:36:30.573Z"
   },
   {
    "duration": 38,
    "start_time": "2022-03-21T12:37:04.903Z"
   },
   {
    "duration": 219949,
    "start_time": "2022-03-21T12:37:04.944Z"
   },
   {
    "duration": 168,
    "start_time": "2022-03-21T12:40:44.896Z"
   },
   {
    "duration": 23,
    "start_time": "2022-03-21T12:40:45.068Z"
   },
   {
    "duration": 11,
    "start_time": "2022-03-21T12:40:45.094Z"
   },
   {
    "duration": 251,
    "start_time": "2022-03-21T12:40:45.108Z"
   },
   {
    "duration": 25926,
    "start_time": "2022-03-21T12:40:45.361Z"
   },
   {
    "duration": 180,
    "start_time": "2022-03-21T12:41:11.290Z"
   },
   {
    "duration": 19889,
    "start_time": "2022-03-21T12:41:11.473Z"
   },
   {
    "duration": 22,
    "start_time": "2022-03-21T12:41:31.368Z"
   },
   {
    "duration": 108818,
    "start_time": "2022-03-21T12:41:31.393Z"
   },
   {
    "duration": 78,
    "start_time": "2022-03-21T12:43:20.214Z"
   },
   {
    "duration": 120,
    "start_time": "2022-03-21T12:47:11.368Z"
   },
   {
    "duration": 64,
    "start_time": "2022-03-21T12:47:45.924Z"
   },
   {
    "duration": 6,
    "start_time": "2022-03-21T12:48:25.339Z"
   },
   {
    "duration": 7,
    "start_time": "2022-03-21T12:48:29.059Z"
   },
   {
    "duration": 63,
    "start_time": "2022-03-21T12:48:29.075Z"
   },
   {
    "duration": 39,
    "start_time": "2022-03-21T12:48:29.142Z"
   },
   {
    "duration": 30,
    "start_time": "2022-03-21T12:48:29.184Z"
   },
   {
    "duration": 78,
    "start_time": "2022-03-21T12:48:29.219Z"
   },
   {
    "duration": 8,
    "start_time": "2022-03-21T12:48:29.300Z"
   },
   {
    "duration": 18,
    "start_time": "2022-03-21T12:48:29.310Z"
   },
   {
    "duration": 53,
    "start_time": "2022-03-21T12:48:29.367Z"
   },
   {
    "duration": 9,
    "start_time": "2022-03-21T12:48:29.422Z"
   },
   {
    "duration": 261,
    "start_time": "2022-03-21T12:48:29.433Z"
   },
   {
    "duration": 6,
    "start_time": "2022-03-21T12:48:29.700Z"
   },
   {
    "duration": 9,
    "start_time": "2022-03-21T12:48:29.709Z"
   },
   {
    "duration": 20,
    "start_time": "2022-03-21T12:48:29.720Z"
   },
   {
    "duration": 27,
    "start_time": "2022-03-21T12:48:29.743Z"
   },
   {
    "duration": 11,
    "start_time": "2022-03-21T12:48:29.772Z"
   },
   {
    "duration": 9,
    "start_time": "2022-03-21T12:48:29.786Z"
   },
   {
    "duration": 56175,
    "start_time": "2022-03-21T12:48:29.798Z"
   },
   {
    "duration": 700,
    "start_time": "2022-03-21T12:49:25.976Z"
   },
   {
    "duration": 40629,
    "start_time": "2022-03-21T12:49:26.679Z"
   },
   {
    "duration": 33,
    "start_time": "2022-03-21T12:50:07.311Z"
   },
   {
    "duration": 567582,
    "start_time": "2022-03-21T12:50:07.346Z"
   },
   {
    "duration": 0,
    "start_time": "2022-03-21T12:59:34.933Z"
   },
   {
    "duration": 0,
    "start_time": "2022-03-21T12:59:34.935Z"
   },
   {
    "duration": 0,
    "start_time": "2022-03-21T12:59:34.938Z"
   },
   {
    "duration": 0,
    "start_time": "2022-03-21T12:59:34.940Z"
   },
   {
    "duration": 0,
    "start_time": "2022-03-21T12:59:34.942Z"
   },
   {
    "duration": 0,
    "start_time": "2022-03-21T12:59:34.968Z"
   },
   {
    "duration": 0,
    "start_time": "2022-03-21T12:59:34.970Z"
   },
   {
    "duration": 0,
    "start_time": "2022-03-21T12:59:34.973Z"
   },
   {
    "duration": 0,
    "start_time": "2022-03-21T12:59:34.975Z"
   },
   {
    "duration": 0,
    "start_time": "2022-03-21T12:59:34.977Z"
   },
   {
    "duration": 0,
    "start_time": "2022-03-21T12:59:34.979Z"
   },
   {
    "duration": 0,
    "start_time": "2022-03-21T12:59:34.982Z"
   },
   {
    "duration": 0,
    "start_time": "2022-03-21T12:59:34.984Z"
   },
   {
    "duration": 0,
    "start_time": "2022-03-21T12:59:34.986Z"
   },
   {
    "duration": 0,
    "start_time": "2022-03-21T12:59:34.988Z"
   },
   {
    "duration": 0,
    "start_time": "2022-03-21T12:59:34.990Z"
   },
   {
    "duration": 0,
    "start_time": "2022-03-21T12:59:34.993Z"
   },
   {
    "duration": 0,
    "start_time": "2022-03-21T12:59:34.995Z"
   },
   {
    "duration": 0,
    "start_time": "2022-03-21T12:59:34.998Z"
   },
   {
    "duration": 25,
    "start_time": "2022-03-21T12:59:40.843Z"
   },
   {
    "duration": 30,
    "start_time": "2022-03-21T12:59:43.603Z"
   },
   {
    "duration": 30,
    "start_time": "2022-03-21T12:59:48.205Z"
   },
   {
    "duration": 31,
    "start_time": "2022-03-21T12:59:52.613Z"
   },
   {
    "duration": 31,
    "start_time": "2022-03-21T12:59:56.323Z"
   },
   {
    "duration": 33,
    "start_time": "2022-03-21T13:00:03.722Z"
   },
   {
    "duration": 32,
    "start_time": "2022-03-21T13:00:06.910Z"
   },
   {
    "duration": 34,
    "start_time": "2022-03-21T13:00:09.612Z"
   },
   {
    "duration": 32,
    "start_time": "2022-03-21T13:00:12.327Z"
   },
   {
    "duration": 24,
    "start_time": "2022-03-21T13:00:15.101Z"
   },
   {
    "duration": 32,
    "start_time": "2022-03-21T13:00:18.981Z"
   },
   {
    "duration": 29,
    "start_time": "2022-03-21T13:00:21.814Z"
   },
   {
    "duration": 45,
    "start_time": "2022-03-21T13:00:25.920Z"
   },
   {
    "duration": 34,
    "start_time": "2022-03-21T13:00:31.764Z"
   },
   {
    "duration": 30,
    "start_time": "2022-03-21T13:00:37.835Z"
   },
   {
    "duration": 31,
    "start_time": "2022-03-21T13:00:40.074Z"
   },
   {
    "duration": 31,
    "start_time": "2022-03-21T13:00:42.517Z"
   },
   {
    "duration": 33,
    "start_time": "2022-03-21T13:00:44.210Z"
   },
   {
    "duration": 47,
    "start_time": "2022-03-21T13:00:46.253Z"
   },
   {
    "duration": 33,
    "start_time": "2022-03-21T13:00:48.199Z"
   },
   {
    "duration": 33,
    "start_time": "2022-03-21T13:00:50.106Z"
   },
   {
    "duration": 31,
    "start_time": "2022-03-21T13:00:52.766Z"
   },
   {
    "duration": 31,
    "start_time": "2022-03-21T13:00:56.889Z"
   },
   {
    "duration": 32,
    "start_time": "2022-03-21T13:00:59.431Z"
   },
   {
    "duration": 33,
    "start_time": "2022-03-21T13:01:03.011Z"
   },
   {
    "duration": 28,
    "start_time": "2022-03-21T13:01:05.254Z"
   },
   {
    "duration": 31,
    "start_time": "2022-03-21T13:01:07.604Z"
   },
   {
    "duration": 30,
    "start_time": "2022-03-21T13:01:10.219Z"
   },
   {
    "duration": 33,
    "start_time": "2022-03-21T13:01:12.336Z"
   },
   {
    "duration": 33,
    "start_time": "2022-03-21T13:01:14.170Z"
   },
   {
    "duration": 26,
    "start_time": "2022-03-21T13:01:16.336Z"
   },
   {
    "duration": 25,
    "start_time": "2022-03-21T13:01:25.925Z"
   },
   {
    "duration": 34,
    "start_time": "2022-03-21T13:01:29.745Z"
   },
   {
    "duration": 29,
    "start_time": "2022-03-21T13:01:32.699Z"
   },
   {
    "duration": 28,
    "start_time": "2022-03-21T13:01:35.553Z"
   },
   {
    "duration": 30,
    "start_time": "2022-03-21T13:01:38.939Z"
   },
   {
    "duration": 46,
    "start_time": "2022-03-21T13:01:41.262Z"
   },
   {
    "duration": 26,
    "start_time": "2022-03-21T13:01:48.380Z"
   },
   {
    "duration": 30,
    "start_time": "2022-03-21T13:01:51.815Z"
   },
   {
    "duration": 33,
    "start_time": "2022-03-21T13:01:55.137Z"
   },
   {
    "duration": 35,
    "start_time": "2022-03-21T13:01:58.441Z"
   },
   {
    "duration": 49,
    "start_time": "2022-03-21T13:02:03.026Z"
   },
   {
    "duration": 33,
    "start_time": "2022-03-21T13:02:07.925Z"
   },
   {
    "duration": 34,
    "start_time": "2022-03-21T13:02:11.440Z"
   },
   {
    "duration": 30,
    "start_time": "2022-03-21T13:02:17.077Z"
   },
   {
    "duration": 6,
    "start_time": "2022-03-21T13:02:37.895Z"
   },
   {
    "duration": 70,
    "start_time": "2022-03-21T13:02:37.912Z"
   },
   {
    "duration": 22,
    "start_time": "2022-03-21T13:02:37.985Z"
   },
   {
    "duration": 60,
    "start_time": "2022-03-21T13:02:38.009Z"
   },
   {
    "duration": 32,
    "start_time": "2022-03-21T13:02:38.072Z"
   },
   {
    "duration": 7,
    "start_time": "2022-03-21T13:02:38.108Z"
   },
   {
    "duration": 60,
    "start_time": "2022-03-21T13:02:38.118Z"
   },
   {
    "duration": 59,
    "start_time": "2022-03-21T13:02:38.181Z"
   },
   {
    "duration": 10,
    "start_time": "2022-03-21T13:02:38.268Z"
   },
   {
    "duration": 263,
    "start_time": "2022-03-21T13:02:38.281Z"
   },
   {
    "duration": 6,
    "start_time": "2022-03-21T13:02:38.547Z"
   },
   {
    "duration": 16,
    "start_time": "2022-03-21T13:02:38.556Z"
   },
   {
    "duration": 26,
    "start_time": "2022-03-21T13:02:38.575Z"
   },
   {
    "duration": 38,
    "start_time": "2022-03-21T13:02:38.604Z"
   },
   {
    "duration": 22,
    "start_time": "2022-03-21T13:02:38.648Z"
   },
   {
    "duration": 63,
    "start_time": "2022-03-21T13:02:38.672Z"
   },
   {
    "duration": 51443,
    "start_time": "2022-03-21T13:02:38.737Z"
   },
   {
    "duration": 887,
    "start_time": "2022-03-21T13:03:30.182Z"
   },
   {
    "duration": 13008,
    "start_time": "2022-03-21T13:03:31.072Z"
   },
   {
    "duration": 30,
    "start_time": "2022-03-21T13:03:44.083Z"
   },
   {
    "duration": 10171,
    "start_time": "2022-03-21T13:03:44.115Z"
   },
   {
    "duration": 0,
    "start_time": "2022-03-21T13:03:54.289Z"
   },
   {
    "duration": 0,
    "start_time": "2022-03-21T13:03:54.292Z"
   },
   {
    "duration": 0,
    "start_time": "2022-03-21T13:03:54.294Z"
   },
   {
    "duration": 0,
    "start_time": "2022-03-21T13:03:54.296Z"
   },
   {
    "duration": 0,
    "start_time": "2022-03-21T13:03:54.298Z"
   },
   {
    "duration": 0,
    "start_time": "2022-03-21T13:03:54.299Z"
   },
   {
    "duration": 0,
    "start_time": "2022-03-21T13:03:54.301Z"
   },
   {
    "duration": 0,
    "start_time": "2022-03-21T13:03:54.302Z"
   },
   {
    "duration": 0,
    "start_time": "2022-03-21T13:03:54.304Z"
   },
   {
    "duration": 0,
    "start_time": "2022-03-21T13:03:54.305Z"
   },
   {
    "duration": 0,
    "start_time": "2022-03-21T13:03:54.307Z"
   },
   {
    "duration": 0,
    "start_time": "2022-03-21T13:03:54.308Z"
   },
   {
    "duration": 0,
    "start_time": "2022-03-21T13:03:54.310Z"
   },
   {
    "duration": 0,
    "start_time": "2022-03-21T13:03:54.311Z"
   },
   {
    "duration": 0,
    "start_time": "2022-03-21T13:03:54.313Z"
   },
   {
    "duration": 0,
    "start_time": "2022-03-21T13:03:54.315Z"
   },
   {
    "duration": 0,
    "start_time": "2022-03-21T13:03:54.317Z"
   },
   {
    "duration": 0,
    "start_time": "2022-03-21T13:03:54.368Z"
   },
   {
    "duration": 0,
    "start_time": "2022-03-21T13:03:54.371Z"
   },
   {
    "duration": 7,
    "start_time": "2022-03-21T13:04:06.676Z"
   },
   {
    "duration": 12703,
    "start_time": "2022-03-21T13:04:11.877Z"
   },
   {
    "duration": 26,
    "start_time": "2022-03-21T13:04:30.927Z"
   },
   {
    "duration": 6,
    "start_time": "2022-03-21T13:06:29.159Z"
   },
   {
    "duration": 64,
    "start_time": "2022-03-21T13:06:29.186Z"
   },
   {
    "duration": 24,
    "start_time": "2022-03-21T13:06:29.253Z"
   },
   {
    "duration": 23,
    "start_time": "2022-03-21T13:06:29.279Z"
   },
   {
    "duration": 68,
    "start_time": "2022-03-21T13:06:29.304Z"
   },
   {
    "duration": 7,
    "start_time": "2022-03-21T13:06:29.375Z"
   },
   {
    "duration": 21,
    "start_time": "2022-03-21T13:06:29.385Z"
   },
   {
    "duration": 94,
    "start_time": "2022-03-21T13:06:29.408Z"
   },
   {
    "duration": 9,
    "start_time": "2022-03-21T13:06:29.505Z"
   },
   {
    "duration": 380,
    "start_time": "2022-03-21T13:06:29.517Z"
   },
   {
    "duration": 8,
    "start_time": "2022-03-21T13:06:29.901Z"
   },
   {
    "duration": 9,
    "start_time": "2022-03-21T13:06:29.911Z"
   },
   {
    "duration": 10,
    "start_time": "2022-03-21T13:06:29.922Z"
   },
   {
    "duration": 39,
    "start_time": "2022-03-21T13:06:29.934Z"
   },
   {
    "duration": 7,
    "start_time": "2022-03-21T13:06:29.978Z"
   },
   {
    "duration": 12,
    "start_time": "2022-03-21T13:06:29.987Z"
   },
   {
    "duration": 54276,
    "start_time": "2022-03-21T13:06:30.002Z"
   },
   {
    "duration": 704,
    "start_time": "2022-03-21T13:07:24.370Z"
   },
   {
    "duration": 12169,
    "start_time": "2022-03-21T13:07:25.077Z"
   },
   {
    "duration": 31,
    "start_time": "2022-03-21T13:07:37.249Z"
   },
   {
    "duration": 425685,
    "start_time": "2022-03-21T13:07:37.282Z"
   },
   {
    "duration": 12,
    "start_time": "2022-03-21T13:14:42.969Z"
   },
   {
    "duration": 0,
    "start_time": "2022-03-21T13:14:42.983Z"
   },
   {
    "duration": 0,
    "start_time": "2022-03-21T13:14:42.985Z"
   },
   {
    "duration": 0,
    "start_time": "2022-03-21T13:14:42.986Z"
   },
   {
    "duration": 0,
    "start_time": "2022-03-21T13:14:42.988Z"
   },
   {
    "duration": 0,
    "start_time": "2022-03-21T13:14:42.989Z"
   },
   {
    "duration": 0,
    "start_time": "2022-03-21T13:14:42.991Z"
   },
   {
    "duration": 0,
    "start_time": "2022-03-21T13:14:42.992Z"
   },
   {
    "duration": 0,
    "start_time": "2022-03-21T13:14:42.993Z"
   },
   {
    "duration": 0,
    "start_time": "2022-03-21T13:14:42.995Z"
   },
   {
    "duration": 0,
    "start_time": "2022-03-21T13:14:42.996Z"
   },
   {
    "duration": 0,
    "start_time": "2022-03-21T13:14:42.997Z"
   },
   {
    "duration": 0,
    "start_time": "2022-03-21T13:14:42.999Z"
   },
   {
    "duration": 0,
    "start_time": "2022-03-21T13:14:43.000Z"
   },
   {
    "duration": 0,
    "start_time": "2022-03-21T13:14:43.001Z"
   },
   {
    "duration": 0,
    "start_time": "2022-03-21T13:14:43.002Z"
   },
   {
    "duration": 0,
    "start_time": "2022-03-21T13:14:43.004Z"
   },
   {
    "duration": 0,
    "start_time": "2022-03-21T13:14:43.005Z"
   },
   {
    "duration": 0,
    "start_time": "2022-03-21T13:14:43.007Z"
   },
   {
    "duration": 6,
    "start_time": "2022-03-21T13:15:10.437Z"
   },
   {
    "duration": 6,
    "start_time": "2022-03-21T13:15:10.932Z"
   },
   {
    "duration": 101,
    "start_time": "2022-03-21T13:15:14.883Z"
   },
   {
    "duration": 62341,
    "start_time": "2022-03-21T13:15:39.587Z"
   },
   {
    "duration": 0,
    "start_time": "2022-03-21T13:16:41.931Z"
   },
   {
    "duration": 5,
    "start_time": "2022-03-21T13:17:54.262Z"
   },
   {
    "duration": 5,
    "start_time": "2022-03-21T13:18:11.677Z"
   },
   {
    "duration": 238188,
    "start_time": "2022-03-21T13:18:24.861Z"
   },
   {
    "duration": 74,
    "start_time": "2022-03-21T13:22:43.711Z"
   },
   {
    "duration": 12,
    "start_time": "2022-03-21T13:23:14.358Z"
   },
   {
    "duration": 11044,
    "start_time": "2022-03-21T13:23:25.043Z"
   },
   {
    "duration": 36,
    "start_time": "2022-03-21T13:23:55.648Z"
   },
   {
    "duration": 623201,
    "start_time": "2022-03-21T13:24:02.547Z"
   },
   {
    "duration": 212,
    "start_time": "2022-03-21T13:34:32.043Z"
   },
   {
    "duration": 416,
    "start_time": "2022-03-21T13:34:42.103Z"
   },
   {
    "duration": 6,
    "start_time": "2022-03-21T13:35:11.753Z"
   },
   {
    "duration": 13,
    "start_time": "2022-03-21T13:35:17.869Z"
   },
   {
    "duration": 7330,
    "start_time": "2022-03-21T13:35:22.068Z"
   },
   {
    "duration": 42,
    "start_time": "2022-03-21T13:36:11.928Z"
   },
   {
    "duration": 12310,
    "start_time": "2022-03-21T13:36:20.636Z"
   },
   {
    "duration": 295,
    "start_time": "2022-03-21T13:37:03.702Z"
   },
   {
    "duration": 28,
    "start_time": "2022-03-21T13:37:29.169Z"
   },
   {
    "duration": 7456,
    "start_time": "2022-03-21T13:37:45.646Z"
   },
   {
    "duration": 70964,
    "start_time": "2022-03-21T13:38:01.554Z"
   },
   {
    "duration": 72,
    "start_time": "2022-03-21T13:39:20.377Z"
   },
   {
    "duration": 8,
    "start_time": "2022-03-21T13:39:44.164Z"
   },
   {
    "duration": 7,
    "start_time": "2022-03-21T13:41:06.368Z"
   },
   {
    "duration": 70,
    "start_time": "2022-03-21T13:41:06.377Z"
   },
   {
    "duration": 20,
    "start_time": "2022-03-21T13:41:06.469Z"
   },
   {
    "duration": 24,
    "start_time": "2022-03-21T13:41:06.491Z"
   },
   {
    "duration": 66,
    "start_time": "2022-03-21T13:41:06.518Z"
   },
   {
    "duration": 8,
    "start_time": "2022-03-21T13:41:06.587Z"
   },
   {
    "duration": 20,
    "start_time": "2022-03-21T13:41:06.597Z"
   },
   {
    "duration": 89,
    "start_time": "2022-03-21T13:41:06.619Z"
   },
   {
    "duration": 8,
    "start_time": "2022-03-21T13:41:06.710Z"
   },
   {
    "duration": 260,
    "start_time": "2022-03-21T13:41:06.721Z"
   },
   {
    "duration": 6,
    "start_time": "2022-03-21T13:41:06.984Z"
   },
   {
    "duration": 10,
    "start_time": "2022-03-21T13:41:06.992Z"
   },
   {
    "duration": 6,
    "start_time": "2022-03-21T13:41:07.005Z"
   },
   {
    "duration": 7,
    "start_time": "2022-03-21T13:41:07.016Z"
   },
   {
    "duration": 42,
    "start_time": "2022-03-21T13:41:07.026Z"
   },
   {
    "duration": 7,
    "start_time": "2022-03-21T13:41:07.070Z"
   },
   {
    "duration": 22027,
    "start_time": "2022-03-21T13:41:07.079Z"
   },
   {
    "duration": 0,
    "start_time": "2022-03-21T13:41:29.110Z"
   },
   {
    "duration": 0,
    "start_time": "2022-03-21T13:41:29.112Z"
   },
   {
    "duration": 0,
    "start_time": "2022-03-21T13:41:29.115Z"
   },
   {
    "duration": 0,
    "start_time": "2022-03-21T13:41:29.117Z"
   },
   {
    "duration": 0,
    "start_time": "2022-03-21T13:41:29.119Z"
   },
   {
    "duration": 0,
    "start_time": "2022-03-21T13:41:29.120Z"
   },
   {
    "duration": 0,
    "start_time": "2022-03-21T13:41:29.121Z"
   },
   {
    "duration": 0,
    "start_time": "2022-03-21T13:41:29.122Z"
   },
   {
    "duration": 1,
    "start_time": "2022-03-21T13:41:29.123Z"
   },
   {
    "duration": 0,
    "start_time": "2022-03-21T13:41:29.125Z"
   },
   {
    "duration": 0,
    "start_time": "2022-03-21T13:41:29.126Z"
   },
   {
    "duration": 0,
    "start_time": "2022-03-21T13:41:29.127Z"
   },
   {
    "duration": 0,
    "start_time": "2022-03-21T13:41:29.128Z"
   },
   {
    "duration": 0,
    "start_time": "2022-03-21T13:41:29.130Z"
   },
   {
    "duration": 0,
    "start_time": "2022-03-21T13:41:29.168Z"
   },
   {
    "duration": 0,
    "start_time": "2022-03-21T13:41:29.170Z"
   },
   {
    "duration": 0,
    "start_time": "2022-03-21T13:41:29.171Z"
   },
   {
    "duration": 0,
    "start_time": "2022-03-21T13:41:29.173Z"
   },
   {
    "duration": 0,
    "start_time": "2022-03-21T13:41:29.175Z"
   },
   {
    "duration": 0,
    "start_time": "2022-03-21T13:41:29.176Z"
   },
   {
    "duration": 0,
    "start_time": "2022-03-21T13:41:29.178Z"
   },
   {
    "duration": 0,
    "start_time": "2022-03-21T13:41:29.179Z"
   },
   {
    "duration": 0,
    "start_time": "2022-03-21T13:41:29.181Z"
   },
   {
    "duration": 6,
    "start_time": "2022-03-21T13:41:54.608Z"
   },
   {
    "duration": 62,
    "start_time": "2022-03-21T13:41:54.629Z"
   },
   {
    "duration": 20,
    "start_time": "2022-03-21T13:41:54.694Z"
   },
   {
    "duration": 57,
    "start_time": "2022-03-21T13:41:54.717Z"
   },
   {
    "duration": 28,
    "start_time": "2022-03-21T13:41:54.776Z"
   },
   {
    "duration": 6,
    "start_time": "2022-03-21T13:41:54.807Z"
   },
   {
    "duration": 57,
    "start_time": "2022-03-21T13:41:54.816Z"
   },
   {
    "duration": 53,
    "start_time": "2022-03-21T13:41:54.876Z"
   },
   {
    "duration": 10,
    "start_time": "2022-03-21T13:41:54.968Z"
   },
   {
    "duration": 257,
    "start_time": "2022-03-21T13:41:54.981Z"
   },
   {
    "duration": 7,
    "start_time": "2022-03-21T13:41:55.241Z"
   },
   {
    "duration": 20,
    "start_time": "2022-03-21T13:41:55.250Z"
   },
   {
    "duration": 6,
    "start_time": "2022-03-21T13:41:55.273Z"
   },
   {
    "duration": 10,
    "start_time": "2022-03-21T13:41:55.282Z"
   },
   {
    "duration": 6,
    "start_time": "2022-03-21T13:41:55.296Z"
   },
   {
    "duration": 9,
    "start_time": "2022-03-21T13:41:55.305Z"
   },
   {
    "duration": 52654,
    "start_time": "2022-03-21T13:41:55.316Z"
   },
   {
    "duration": 995,
    "start_time": "2022-03-21T13:42:47.974Z"
   },
   {
    "duration": 14652,
    "start_time": "2022-03-21T13:42:48.974Z"
   },
   {
    "duration": 43,
    "start_time": "2022-03-21T13:43:03.629Z"
   },
   {
    "duration": 1173,
    "start_time": "2022-03-21T13:43:03.675Z"
   },
   {
    "duration": 0,
    "start_time": "2022-03-21T13:43:04.851Z"
   },
   {
    "duration": 0,
    "start_time": "2022-03-21T13:43:04.853Z"
   },
   {
    "duration": 0,
    "start_time": "2022-03-21T13:43:04.855Z"
   },
   {
    "duration": 0,
    "start_time": "2022-03-21T13:43:04.868Z"
   },
   {
    "duration": 0,
    "start_time": "2022-03-21T13:43:04.870Z"
   },
   {
    "duration": 0,
    "start_time": "2022-03-21T13:43:04.872Z"
   },
   {
    "duration": 0,
    "start_time": "2022-03-21T13:43:04.874Z"
   },
   {
    "duration": 0,
    "start_time": "2022-03-21T13:43:04.877Z"
   },
   {
    "duration": 0,
    "start_time": "2022-03-21T13:43:04.879Z"
   },
   {
    "duration": 0,
    "start_time": "2022-03-21T13:43:04.881Z"
   },
   {
    "duration": 0,
    "start_time": "2022-03-21T13:43:04.884Z"
   },
   {
    "duration": 0,
    "start_time": "2022-03-21T13:43:04.885Z"
   },
   {
    "duration": 0,
    "start_time": "2022-03-21T13:43:04.886Z"
   },
   {
    "duration": 0,
    "start_time": "2022-03-21T13:43:04.888Z"
   },
   {
    "duration": 0,
    "start_time": "2022-03-21T13:43:04.889Z"
   },
   {
    "duration": 0,
    "start_time": "2022-03-21T13:43:04.890Z"
   },
   {
    "duration": 0,
    "start_time": "2022-03-21T13:43:04.891Z"
   },
   {
    "duration": 0,
    "start_time": "2022-03-21T13:43:04.893Z"
   },
   {
    "duration": 0,
    "start_time": "2022-03-21T13:43:04.894Z"
   },
   {
    "duration": 54149,
    "start_time": "2022-03-21T13:43:26.847Z"
   },
   {
    "duration": 89,
    "start_time": "2022-03-21T13:44:20.999Z"
   },
   {
    "duration": 16,
    "start_time": "2022-03-21T13:44:21.090Z"
   },
   {
    "duration": 9,
    "start_time": "2022-03-21T13:44:21.111Z"
   },
   {
    "duration": 252,
    "start_time": "2022-03-21T13:44:21.123Z"
   },
   {
    "duration": 48299,
    "start_time": "2022-03-21T13:44:21.377Z"
   },
   {
    "duration": 190,
    "start_time": "2022-03-21T13:45:09.679Z"
   },
   {
    "duration": 11732,
    "start_time": "2022-03-21T13:45:09.872Z"
   },
   {
    "duration": 63,
    "start_time": "2022-03-21T13:45:21.608Z"
   },
   {
    "duration": 143563,
    "start_time": "2022-03-21T13:45:21.676Z"
   },
   {
    "duration": 329,
    "start_time": "2022-03-21T13:47:45.242Z"
   },
   {
    "duration": 18,
    "start_time": "2022-03-21T13:47:45.574Z"
   },
   {
    "duration": 9,
    "start_time": "2022-03-21T13:47:45.595Z"
   },
   {
    "duration": 249,
    "start_time": "2022-03-21T13:47:45.607Z"
   },
   {
    "duration": 12197,
    "start_time": "2022-03-21T13:47:45.858Z"
   },
   {
    "duration": 111,
    "start_time": "2022-03-21T13:47:58.058Z"
   },
   {
    "duration": 6825,
    "start_time": "2022-03-21T13:47:58.172Z"
   },
   {
    "duration": 21,
    "start_time": "2022-03-21T13:48:05.000Z"
   },
   {
    "duration": 38045,
    "start_time": "2022-03-21T13:48:05.024Z"
   },
   {
    "duration": 53,
    "start_time": "2022-03-21T13:48:43.071Z"
   },
   {
    "duration": 59463,
    "start_time": "2022-03-21T14:05:39.936Z"
   },
   {
    "duration": 373,
    "start_time": "2022-03-21T14:06:39.402Z"
   },
   {
    "duration": 4,
    "start_time": "2022-03-21T14:15:40.207Z"
   },
   {
    "duration": 53874,
    "start_time": "2022-03-21T14:18:29.915Z"
   },
   {
    "duration": 174,
    "start_time": "2022-03-21T14:20:05.698Z"
   },
   {
    "duration": 10256,
    "start_time": "2022-03-21T14:20:09.215Z"
   },
   {
    "duration": 25,
    "start_time": "2022-03-21T14:20:54.218Z"
   },
   {
    "duration": 61014,
    "start_time": "2022-03-21T14:21:07.540Z"
   },
   {
    "duration": 106,
    "start_time": "2022-03-21T14:22:50.096Z"
   },
   {
    "duration": 1456,
    "start_time": "2022-03-21T14:27:50.681Z"
   },
   {
    "duration": 1508,
    "start_time": "2022-03-21T14:28:05.764Z"
   },
   {
    "duration": 1445,
    "start_time": "2022-03-21T14:28:24.160Z"
   },
   {
    "duration": 1213,
    "start_time": "2022-03-21T14:56:54.164Z"
   },
   {
    "duration": 745,
    "start_time": "2022-03-21T14:57:00.106Z"
   },
   {
    "duration": 812,
    "start_time": "2022-03-21T14:57:06.451Z"
   },
   {
    "duration": 1292,
    "start_time": "2022-03-21T14:57:11.033Z"
   },
   {
    "duration": 1325,
    "start_time": "2022-03-21T14:57:31.811Z"
   },
   {
    "duration": 1704,
    "start_time": "2022-03-21T14:57:44.158Z"
   },
   {
    "duration": 199,
    "start_time": "2022-03-21T14:57:54.415Z"
   },
   {
    "duration": 6,
    "start_time": "2022-03-21T14:58:20.983Z"
   },
   {
    "duration": 3684,
    "start_time": "2022-03-21T14:58:30.480Z"
   },
   {
    "duration": 3811,
    "start_time": "2022-03-21T14:58:43.376Z"
   },
   {
    "duration": 4252,
    "start_time": "2022-03-21T14:59:01.253Z"
   },
   {
    "duration": 32,
    "start_time": "2022-03-21T14:59:11.988Z"
   },
   {
    "duration": 101823,
    "start_time": "2022-03-21T14:59:19.647Z"
   },
   {
    "duration": 6,
    "start_time": "2022-03-21T15:10:39.485Z"
   },
   {
    "duration": 17,
    "start_time": "2022-03-21T15:10:49.994Z"
   },
   {
    "duration": 8,
    "start_time": "2022-03-21T15:14:48.226Z"
   },
   {
    "duration": 38,
    "start_time": "2022-03-21T15:14:56.598Z"
   },
   {
    "duration": 5,
    "start_time": "2022-03-21T15:16:22.833Z"
   },
   {
    "duration": 61269,
    "start_time": "2022-03-21T15:16:27.235Z"
   },
   {
    "duration": 163,
    "start_time": "2022-03-21T15:17:28.507Z"
   },
   {
    "duration": 4583,
    "start_time": "2022-03-21T15:18:30.060Z"
   },
   {
    "duration": 132,
    "start_time": "2022-03-21T15:19:18.398Z"
   },
   {
    "duration": 93709,
    "start_time": "2022-03-21T15:19:27.553Z"
   },
   {
    "duration": 6,
    "start_time": "2022-03-21T15:24:28.401Z"
   },
   {
    "duration": 6,
    "start_time": "2022-03-21T15:27:03.358Z"
   },
   {
    "duration": 54720,
    "start_time": "2022-03-21T15:27:32.016Z"
   },
   {
    "duration": 6,
    "start_time": "2022-03-21T15:34:03.421Z"
   },
   {
    "duration": 20313,
    "start_time": "2022-03-21T15:34:29.476Z"
   },
   {
    "duration": 101933,
    "start_time": "2022-03-21T15:34:53.989Z"
   },
   {
    "duration": 107,
    "start_time": "2022-03-21T15:37:36.998Z"
   },
   {
    "duration": 7,
    "start_time": "2022-03-21T15:37:43.180Z"
   },
   {
    "duration": 5291,
    "start_time": "2022-03-21T15:37:52.928Z"
   },
   {
    "duration": 2375,
    "start_time": "2022-03-21T19:14:36.621Z"
   },
   {
    "duration": 75,
    "start_time": "2022-03-21T19:14:38.999Z"
   },
   {
    "duration": 20,
    "start_time": "2022-03-21T19:14:39.084Z"
   },
   {
    "duration": 22,
    "start_time": "2022-03-21T19:14:39.107Z"
   },
   {
    "duration": 58,
    "start_time": "2022-03-21T19:14:39.131Z"
   },
   {
    "duration": 8,
    "start_time": "2022-03-21T19:14:39.192Z"
   },
   {
    "duration": 17,
    "start_time": "2022-03-21T19:14:39.203Z"
   },
   {
    "duration": 87,
    "start_time": "2022-03-21T19:14:39.222Z"
   },
   {
    "duration": 13,
    "start_time": "2022-03-21T19:14:39.311Z"
   },
   {
    "duration": 274,
    "start_time": "2022-03-21T19:14:39.328Z"
   },
   {
    "duration": 5,
    "start_time": "2022-03-21T19:14:39.605Z"
   },
   {
    "duration": 14,
    "start_time": "2022-03-21T19:14:39.612Z"
   },
   {
    "duration": 11,
    "start_time": "2022-03-21T19:14:39.629Z"
   },
   {
    "duration": 11,
    "start_time": "2022-03-21T19:14:39.642Z"
   },
   {
    "duration": 28,
    "start_time": "2022-03-21T19:14:39.656Z"
   },
   {
    "duration": 6,
    "start_time": "2022-03-21T19:14:39.686Z"
   },
   {
    "duration": 1165,
    "start_time": "2022-03-21T19:14:39.694Z"
   },
   {
    "duration": 0,
    "start_time": "2022-03-21T19:14:40.863Z"
   },
   {
    "duration": 0,
    "start_time": "2022-03-21T19:14:40.866Z"
   },
   {
    "duration": 0,
    "start_time": "2022-03-21T19:14:40.868Z"
   },
   {
    "duration": 0,
    "start_time": "2022-03-21T19:14:40.869Z"
   },
   {
    "duration": 0,
    "start_time": "2022-03-21T19:14:40.884Z"
   },
   {
    "duration": 0,
    "start_time": "2022-03-21T19:14:40.885Z"
   },
   {
    "duration": 0,
    "start_time": "2022-03-21T19:14:40.887Z"
   },
   {
    "duration": 0,
    "start_time": "2022-03-21T19:14:40.888Z"
   },
   {
    "duration": 1,
    "start_time": "2022-03-21T19:14:40.889Z"
   },
   {
    "duration": 0,
    "start_time": "2022-03-21T19:14:40.891Z"
   },
   {
    "duration": 0,
    "start_time": "2022-03-21T19:14:40.892Z"
   },
   {
    "duration": 0,
    "start_time": "2022-03-21T19:14:40.894Z"
   },
   {
    "duration": 0,
    "start_time": "2022-03-21T19:14:40.896Z"
   },
   {
    "duration": 0,
    "start_time": "2022-03-21T19:14:40.898Z"
   },
   {
    "duration": 0,
    "start_time": "2022-03-21T19:14:40.899Z"
   },
   {
    "duration": 0,
    "start_time": "2022-03-21T19:14:40.901Z"
   },
   {
    "duration": 0,
    "start_time": "2022-03-21T19:14:40.903Z"
   },
   {
    "duration": 0,
    "start_time": "2022-03-21T19:14:40.904Z"
   },
   {
    "duration": 0,
    "start_time": "2022-03-21T19:14:40.906Z"
   },
   {
    "duration": 0,
    "start_time": "2022-03-21T19:14:40.908Z"
   },
   {
    "duration": 0,
    "start_time": "2022-03-21T19:14:40.910Z"
   },
   {
    "duration": 0,
    "start_time": "2022-03-21T19:14:40.912Z"
   },
   {
    "duration": 0,
    "start_time": "2022-03-21T19:14:40.913Z"
   },
   {
    "duration": 0,
    "start_time": "2022-03-21T19:14:40.914Z"
   },
   {
    "duration": 0,
    "start_time": "2022-03-21T19:14:40.916Z"
   },
   {
    "duration": 0,
    "start_time": "2022-03-21T19:14:40.918Z"
   },
   {
    "duration": 0,
    "start_time": "2022-03-21T19:14:40.920Z"
   },
   {
    "duration": 0,
    "start_time": "2022-03-21T19:14:40.984Z"
   },
   {
    "duration": 0,
    "start_time": "2022-03-21T19:14:40.986Z"
   },
   {
    "duration": 0,
    "start_time": "2022-03-21T19:14:40.988Z"
   },
   {
    "duration": 6,
    "start_time": "2022-03-21T19:15:24.361Z"
   },
   {
    "duration": 61,
    "start_time": "2022-03-21T19:15:24.396Z"
   },
   {
    "duration": 25,
    "start_time": "2022-03-21T19:15:24.460Z"
   },
   {
    "duration": 33,
    "start_time": "2022-03-21T19:15:24.487Z"
   },
   {
    "duration": 46,
    "start_time": "2022-03-21T19:15:24.522Z"
   },
   {
    "duration": 16,
    "start_time": "2022-03-21T19:15:24.571Z"
   },
   {
    "duration": 27,
    "start_time": "2022-03-21T19:15:24.589Z"
   },
   {
    "duration": 80,
    "start_time": "2022-03-21T19:15:24.618Z"
   },
   {
    "duration": 8,
    "start_time": "2022-03-21T19:15:24.701Z"
   },
   {
    "duration": 261,
    "start_time": "2022-03-21T19:15:24.712Z"
   },
   {
    "duration": 6,
    "start_time": "2022-03-21T19:15:24.983Z"
   },
   {
    "duration": 41,
    "start_time": "2022-03-21T19:15:24.992Z"
   },
   {
    "duration": 26,
    "start_time": "2022-03-21T19:15:25.036Z"
   },
   {
    "duration": 63,
    "start_time": "2022-03-21T19:15:25.064Z"
   },
   {
    "duration": 36,
    "start_time": "2022-03-21T19:15:25.133Z"
   },
   {
    "duration": 38,
    "start_time": "2022-03-21T19:15:25.171Z"
   },
   {
    "duration": 28376,
    "start_time": "2022-03-21T19:15:25.212Z"
   },
   {
    "duration": 793,
    "start_time": "2022-03-21T19:15:53.592Z"
   },
   {
    "duration": 2259,
    "start_time": "2022-03-21T19:15:54.390Z"
   },
   {
    "duration": 36,
    "start_time": "2022-03-21T19:15:56.652Z"
   },
   {
    "duration": 31713,
    "start_time": "2022-03-21T19:15:56.691Z"
   },
   {
    "duration": 87,
    "start_time": "2022-03-21T19:16:28.406Z"
   },
   {
    "duration": 26935,
    "start_time": "2022-03-21T19:16:28.495Z"
   },
   {
    "duration": 151,
    "start_time": "2022-03-21T19:16:55.433Z"
   },
   {
    "duration": 2513,
    "start_time": "2022-03-21T19:16:55.587Z"
   },
   {
    "duration": 27,
    "start_time": "2022-03-21T19:16:58.102Z"
   },
   {
    "duration": 33200,
    "start_time": "2022-03-21T19:16:58.131Z"
   },
   {
    "duration": 100,
    "start_time": "2022-03-21T19:17:31.334Z"
   },
   {
    "duration": 18,
    "start_time": "2022-03-21T19:17:31.436Z"
   },
   {
    "duration": 29,
    "start_time": "2022-03-21T19:17:31.457Z"
   },
   {
    "duration": 227,
    "start_time": "2022-03-21T19:17:31.489Z"
   },
   {
    "duration": 27599,
    "start_time": "2022-03-21T19:17:31.718Z"
   },
   {
    "duration": 173,
    "start_time": "2022-03-21T19:17:59.320Z"
   },
   {
    "duration": 2939,
    "start_time": "2022-03-21T19:17:59.497Z"
   },
   {
    "duration": 51,
    "start_time": "2022-03-21T19:18:02.438Z"
   },
   {
    "duration": 58015,
    "start_time": "2022-03-21T19:18:02.492Z"
   },
   {
    "duration": 156,
    "start_time": "2022-03-21T19:19:00.509Z"
   },
   {
    "duration": 27,
    "start_time": "2022-03-21T19:19:00.668Z"
   },
   {
    "duration": 9,
    "start_time": "2022-03-21T19:19:00.699Z"
   },
   {
    "duration": 241,
    "start_time": "2022-03-21T19:19:00.710Z"
   },
   {
    "duration": 8472,
    "start_time": "2022-03-21T19:19:00.954Z"
   },
   {
    "duration": 60,
    "start_time": "2022-03-21T19:19:09.431Z"
   },
   {
    "duration": 1945,
    "start_time": "2022-03-21T19:19:09.495Z"
   },
   {
    "duration": 21,
    "start_time": "2022-03-21T19:19:11.442Z"
   },
   {
    "duration": 21595,
    "start_time": "2022-03-21T19:19:11.465Z"
   },
   {
    "duration": 58,
    "start_time": "2022-03-21T19:19:33.063Z"
   },
   {
    "duration": 1583,
    "start_time": "2022-03-21T19:19:33.123Z"
   },
   {
    "duration": 72,
    "start_time": "2022-03-21T19:20:06.831Z"
   },
   {
    "duration": 133,
    "start_time": "2022-03-21T19:20:27.559Z"
   },
   {
    "duration": 26,
    "start_time": "2022-03-21T19:20:50.498Z"
   },
   {
    "duration": 30370,
    "start_time": "2022-03-21T19:21:04.062Z"
   },
   {
    "duration": 74,
    "start_time": "2022-03-21T19:21:48.830Z"
   },
   {
    "duration": 410,
    "start_time": "2022-03-21T19:22:28.577Z"
   },
   {
    "duration": 158,
    "start_time": "2022-03-21T19:23:01.569Z"
   },
   {
    "duration": 249,
    "start_time": "2022-03-21T19:23:30.342Z"
   },
   {
    "duration": 22,
    "start_time": "2022-03-21T19:23:48.249Z"
   },
   {
    "duration": 52,
    "start_time": "2022-03-21T19:23:55.292Z"
   },
   {
    "duration": 1024,
    "start_time": "2022-03-21T19:24:24.516Z"
   },
   {
    "duration": 8,
    "start_time": "2022-03-21T19:25:44.092Z"
   },
   {
    "duration": 114,
    "start_time": "2022-03-21T19:25:44.104Z"
   },
   {
    "duration": 30,
    "start_time": "2022-03-21T19:25:44.221Z"
   },
   {
    "duration": 21,
    "start_time": "2022-03-21T19:25:44.285Z"
   },
   {
    "duration": 32,
    "start_time": "2022-03-21T19:25:44.311Z"
   },
   {
    "duration": 43,
    "start_time": "2022-03-21T19:25:44.346Z"
   },
   {
    "duration": 26,
    "start_time": "2022-03-21T19:25:44.392Z"
   },
   {
    "duration": 86,
    "start_time": "2022-03-21T19:25:44.421Z"
   },
   {
    "duration": 10,
    "start_time": "2022-03-21T19:25:44.509Z"
   },
   {
    "duration": 260,
    "start_time": "2022-03-21T19:25:44.523Z"
   },
   {
    "duration": 9,
    "start_time": "2022-03-21T19:25:44.786Z"
   },
   {
    "duration": 13,
    "start_time": "2022-03-21T19:25:44.798Z"
   },
   {
    "duration": 8,
    "start_time": "2022-03-21T19:25:44.814Z"
   },
   {
    "duration": 10,
    "start_time": "2022-03-21T19:25:44.830Z"
   },
   {
    "duration": 41,
    "start_time": "2022-03-21T19:25:44.843Z"
   },
   {
    "duration": 14,
    "start_time": "2022-03-21T19:25:44.887Z"
   },
   {
    "duration": 20388,
    "start_time": "2022-03-21T19:25:44.905Z"
   },
   {
    "duration": 1093,
    "start_time": "2022-03-21T19:26:05.300Z"
   },
   {
    "duration": 1518,
    "start_time": "2022-03-21T19:26:06.397Z"
   },
   {
    "duration": 24,
    "start_time": "2022-03-21T19:26:07.918Z"
   },
   {
    "duration": 21878,
    "start_time": "2022-03-21T19:26:07.944Z"
   },
   {
    "duration": 259,
    "start_time": "2022-03-21T19:26:29.825Z"
   },
   {
    "duration": 22461,
    "start_time": "2022-03-21T19:26:30.087Z"
   },
   {
    "duration": 135,
    "start_time": "2022-03-21T19:26:52.551Z"
   },
   {
    "duration": 1629,
    "start_time": "2022-03-21T19:26:52.690Z"
   },
   {
    "duration": 24,
    "start_time": "2022-03-21T19:26:54.321Z"
   },
   {
    "duration": 18124,
    "start_time": "2022-03-21T19:26:54.347Z"
   },
   {
    "duration": 88,
    "start_time": "2022-03-21T19:27:12.473Z"
   },
   {
    "duration": 34,
    "start_time": "2022-03-21T19:27:12.563Z"
   },
   {
    "duration": 17,
    "start_time": "2022-03-21T19:27:12.600Z"
   },
   {
    "duration": 222,
    "start_time": "2022-03-21T19:27:12.630Z"
   },
   {
    "duration": 18538,
    "start_time": "2022-03-21T19:27:12.856Z"
   },
   {
    "duration": 408,
    "start_time": "2022-03-21T19:27:31.397Z"
   },
   {
    "duration": 1818,
    "start_time": "2022-03-21T19:27:31.885Z"
   },
   {
    "duration": 36,
    "start_time": "2022-03-21T19:27:33.707Z"
   },
   {
    "duration": 34438,
    "start_time": "2022-03-21T19:27:33.746Z"
   },
   {
    "duration": 166,
    "start_time": "2022-03-21T19:28:08.186Z"
   },
   {
    "duration": 29,
    "start_time": "2022-03-21T19:28:08.355Z"
   },
   {
    "duration": 9,
    "start_time": "2022-03-21T19:28:08.386Z"
   },
   {
    "duration": 230,
    "start_time": "2022-03-21T19:28:08.398Z"
   },
   {
    "duration": 13454,
    "start_time": "2022-03-21T19:28:08.634Z"
   },
   {
    "duration": 106,
    "start_time": "2022-03-21T19:28:22.184Z"
   },
   {
    "duration": 1240,
    "start_time": "2022-03-21T19:28:22.295Z"
   },
   {
    "duration": 23,
    "start_time": "2022-03-21T19:28:23.537Z"
   },
   {
    "duration": 13701,
    "start_time": "2022-03-21T19:28:23.563Z"
   },
   {
    "duration": 68,
    "start_time": "2022-03-21T19:28:37.267Z"
   },
   {
    "duration": 1152,
    "start_time": "2022-03-21T19:28:37.337Z"
   },
   {
    "duration": 31,
    "start_time": "2022-03-21T19:29:11.369Z"
   },
   {
    "duration": 19885,
    "start_time": "2022-03-21T19:29:33.205Z"
   },
   {
    "duration": 99,
    "start_time": "2022-03-21T19:30:04.564Z"
   },
   {
    "duration": 363,
    "start_time": "2022-03-21T19:30:51.823Z"
   },
   {
    "duration": 7,
    "start_time": "2022-03-21T19:32:25.748Z"
   },
   {
    "duration": 64,
    "start_time": "2022-03-21T19:32:25.780Z"
   },
   {
    "duration": 43,
    "start_time": "2022-03-21T19:32:25.847Z"
   },
   {
    "duration": 33,
    "start_time": "2022-03-21T19:32:25.893Z"
   },
   {
    "duration": 65,
    "start_time": "2022-03-21T19:32:25.930Z"
   },
   {
    "duration": 8,
    "start_time": "2022-03-21T19:32:25.997Z"
   },
   {
    "duration": 22,
    "start_time": "2022-03-21T19:32:26.008Z"
   },
   {
    "duration": 106,
    "start_time": "2022-03-21T19:32:26.032Z"
   },
   {
    "duration": 9,
    "start_time": "2022-03-21T19:32:26.141Z"
   },
   {
    "duration": 264,
    "start_time": "2022-03-21T19:32:26.152Z"
   },
   {
    "duration": 7,
    "start_time": "2022-03-21T19:32:26.420Z"
   },
   {
    "duration": 9,
    "start_time": "2022-03-21T19:32:26.430Z"
   },
   {
    "duration": 13,
    "start_time": "2022-03-21T19:32:26.442Z"
   },
   {
    "duration": 9,
    "start_time": "2022-03-21T19:32:26.484Z"
   },
   {
    "duration": 9,
    "start_time": "2022-03-21T19:32:26.496Z"
   },
   {
    "duration": 9,
    "start_time": "2022-03-21T19:32:26.508Z"
   },
   {
    "duration": 18587,
    "start_time": "2022-03-21T19:32:26.520Z"
   },
   {
    "duration": 0,
    "start_time": "2022-03-21T19:32:45.110Z"
   },
   {
    "duration": 0,
    "start_time": "2022-03-21T19:32:45.112Z"
   },
   {
    "duration": 0,
    "start_time": "2022-03-21T19:32:45.113Z"
   },
   {
    "duration": 0,
    "start_time": "2022-03-21T19:32:45.115Z"
   },
   {
    "duration": 0,
    "start_time": "2022-03-21T19:32:45.116Z"
   },
   {
    "duration": 0,
    "start_time": "2022-03-21T19:32:45.118Z"
   },
   {
    "duration": 0,
    "start_time": "2022-03-21T19:32:45.120Z"
   },
   {
    "duration": 0,
    "start_time": "2022-03-21T19:32:45.122Z"
   },
   {
    "duration": 0,
    "start_time": "2022-03-21T19:32:45.123Z"
   },
   {
    "duration": 0,
    "start_time": "2022-03-21T19:32:45.125Z"
   },
   {
    "duration": 0,
    "start_time": "2022-03-21T19:32:45.127Z"
   },
   {
    "duration": 0,
    "start_time": "2022-03-21T19:32:45.129Z"
   },
   {
    "duration": 0,
    "start_time": "2022-03-21T19:32:45.131Z"
   },
   {
    "duration": 0,
    "start_time": "2022-03-21T19:32:45.133Z"
   },
   {
    "duration": 0,
    "start_time": "2022-03-21T19:32:45.134Z"
   },
   {
    "duration": 0,
    "start_time": "2022-03-21T19:32:45.136Z"
   },
   {
    "duration": 0,
    "start_time": "2022-03-21T19:32:45.137Z"
   },
   {
    "duration": 0,
    "start_time": "2022-03-21T19:32:45.185Z"
   },
   {
    "duration": 0,
    "start_time": "2022-03-21T19:32:45.187Z"
   },
   {
    "duration": 0,
    "start_time": "2022-03-21T19:32:45.189Z"
   },
   {
    "duration": 0,
    "start_time": "2022-03-21T19:32:45.191Z"
   },
   {
    "duration": 0,
    "start_time": "2022-03-21T19:32:45.194Z"
   },
   {
    "duration": 0,
    "start_time": "2022-03-21T19:32:45.196Z"
   },
   {
    "duration": 0,
    "start_time": "2022-03-21T19:32:45.197Z"
   },
   {
    "duration": 0,
    "start_time": "2022-03-21T19:32:45.199Z"
   },
   {
    "duration": 0,
    "start_time": "2022-03-21T19:32:45.200Z"
   },
   {
    "duration": 0,
    "start_time": "2022-03-21T19:32:45.201Z"
   },
   {
    "duration": 0,
    "start_time": "2022-03-21T19:32:45.203Z"
   },
   {
    "duration": 0,
    "start_time": "2022-03-21T19:32:45.204Z"
   },
   {
    "duration": 0,
    "start_time": "2022-03-21T19:32:45.205Z"
   },
   {
    "duration": 7,
    "start_time": "2022-03-21T19:32:58.044Z"
   },
   {
    "duration": 60,
    "start_time": "2022-03-21T19:32:58.068Z"
   },
   {
    "duration": 20,
    "start_time": "2022-03-21T19:32:58.131Z"
   },
   {
    "duration": 51,
    "start_time": "2022-03-21T19:32:58.153Z"
   },
   {
    "duration": 30,
    "start_time": "2022-03-21T19:32:58.206Z"
   },
   {
    "duration": 45,
    "start_time": "2022-03-21T19:32:58.239Z"
   },
   {
    "duration": 18,
    "start_time": "2022-03-21T19:32:58.286Z"
   },
   {
    "duration": 112,
    "start_time": "2022-03-21T19:32:58.306Z"
   },
   {
    "duration": 10,
    "start_time": "2022-03-21T19:32:58.420Z"
   },
   {
    "duration": 264,
    "start_time": "2022-03-21T19:32:58.432Z"
   },
   {
    "duration": 5,
    "start_time": "2022-03-21T19:32:58.699Z"
   },
   {
    "duration": 7,
    "start_time": "2022-03-21T19:32:58.707Z"
   },
   {
    "duration": 9,
    "start_time": "2022-03-21T19:32:58.717Z"
   },
   {
    "duration": 9,
    "start_time": "2022-03-21T19:32:58.729Z"
   },
   {
    "duration": 8,
    "start_time": "2022-03-21T19:32:58.743Z"
   },
   {
    "duration": 7,
    "start_time": "2022-03-21T19:32:58.784Z"
   },
   {
    "duration": 28197,
    "start_time": "2022-03-21T19:32:58.794Z"
   },
   {
    "duration": 695,
    "start_time": "2022-03-21T19:33:26.995Z"
   },
   {
    "duration": 5604,
    "start_time": "2022-03-21T19:33:27.693Z"
   },
   {
    "duration": 25,
    "start_time": "2022-03-21T19:33:33.300Z"
   },
   {
    "duration": 109978,
    "start_time": "2022-03-21T19:33:33.327Z"
   },
   {
    "duration": 139,
    "start_time": "2022-03-21T19:35:23.308Z"
   },
   {
    "duration": 27506,
    "start_time": "2022-03-21T19:35:23.449Z"
   },
   {
    "duration": 525,
    "start_time": "2022-03-21T19:35:50.960Z"
   },
   {
    "duration": 6227,
    "start_time": "2022-03-21T19:35:51.490Z"
   },
   {
    "duration": 25,
    "start_time": "2022-03-21T19:35:57.720Z"
   },
   {
    "duration": 95941,
    "start_time": "2022-03-21T19:35:57.748Z"
   },
   {
    "duration": 76,
    "start_time": "2022-03-21T19:37:33.691Z"
   },
   {
    "duration": 17,
    "start_time": "2022-03-21T19:37:33.784Z"
   },
   {
    "duration": 11,
    "start_time": "2022-03-21T19:37:33.803Z"
   },
   {
    "duration": 259,
    "start_time": "2022-03-21T19:37:33.816Z"
   },
   {
    "duration": 29333,
    "start_time": "2022-03-21T19:37:34.077Z"
   },
   {
    "duration": 182,
    "start_time": "2022-03-21T19:38:03.412Z"
   },
   {
    "duration": 7846,
    "start_time": "2022-03-21T19:38:03.598Z"
   },
   {
    "duration": 47,
    "start_time": "2022-03-21T19:38:11.446Z"
   },
   {
    "duration": 187545,
    "start_time": "2022-03-21T19:38:11.496Z"
   },
   {
    "duration": 171,
    "start_time": "2022-03-21T19:41:19.045Z"
   },
   {
    "duration": 18,
    "start_time": "2022-03-21T19:41:19.218Z"
   },
   {
    "duration": 29,
    "start_time": "2022-03-21T19:41:19.238Z"
   },
   {
    "duration": 235,
    "start_time": "2022-03-21T19:41:19.269Z"
   },
   {
    "duration": 10596,
    "start_time": "2022-03-21T19:41:19.507Z"
   },
   {
    "duration": 83,
    "start_time": "2022-03-21T19:41:30.111Z"
   },
   {
    "duration": 4376,
    "start_time": "2022-03-21T19:41:30.287Z"
   },
   {
    "duration": 33,
    "start_time": "2022-03-21T19:41:34.666Z"
   },
   {
    "duration": 61593,
    "start_time": "2022-03-21T19:41:34.702Z"
   },
   {
    "duration": 54,
    "start_time": "2022-03-21T19:42:36.297Z"
   },
   {
    "duration": 1111,
    "start_time": "2022-03-21T19:42:36.353Z"
   },
   {
    "duration": 23,
    "start_time": "2022-03-21T20:19:48.275Z"
   },
   {
    "duration": 92356,
    "start_time": "2022-03-21T20:19:57.266Z"
   },
   {
    "duration": 161,
    "start_time": "2022-03-21T20:21:29.625Z"
   },
   {
    "duration": 167,
    "start_time": "2022-03-21T20:21:29.789Z"
   },
   {
    "duration": 68,
    "start_time": "2022-03-21T20:21:29.960Z"
   },
   {
    "duration": 77,
    "start_time": "2022-03-21T20:22:00.526Z"
   },
   {
    "duration": 39,
    "start_time": "2022-03-21T20:22:13.459Z"
   },
   {
    "duration": 225707,
    "start_time": "2022-03-21T20:22:17.950Z"
   },
   {
    "duration": 74,
    "start_time": "2022-03-21T20:26:03.660Z"
   },
   {
    "duration": 336,
    "start_time": "2022-03-21T20:36:02.207Z"
   },
   {
    "duration": 81,
    "start_time": "2022-03-21T20:36:22.161Z"
   },
   {
    "duration": 947,
    "start_time": "2022-03-21T20:36:32.161Z"
   },
   {
    "duration": 42,
    "start_time": "2022-03-21T20:37:33.477Z"
   },
   {
    "duration": 75,
    "start_time": "2022-03-21T20:37:36.325Z"
   },
   {
    "duration": 153,
    "start_time": "2022-03-21T20:37:48.698Z"
   },
   {
    "duration": 168,
    "start_time": "2022-03-21T20:37:52.125Z"
   },
   {
    "duration": 169,
    "start_time": "2022-03-21T20:37:54.992Z"
   },
   {
    "duration": 170,
    "start_time": "2022-03-21T20:37:57.571Z"
   },
   {
    "duration": 172,
    "start_time": "2022-03-21T20:38:01.025Z"
   },
   {
    "duration": 97,
    "start_time": "2022-03-21T20:38:03.950Z"
   },
   {
    "duration": 185,
    "start_time": "2022-03-21T20:38:06.691Z"
   },
   {
    "duration": 248,
    "start_time": "2022-03-21T20:38:09.439Z"
   },
   {
    "duration": 233,
    "start_time": "2022-03-21T20:38:15.673Z"
   },
   {
    "duration": 292,
    "start_time": "2022-03-21T20:38:18.505Z"
   },
   {
    "duration": 227,
    "start_time": "2022-03-21T20:38:21.581Z"
   },
   {
    "duration": 226,
    "start_time": "2022-03-21T20:38:24.570Z"
   },
   {
    "duration": 231,
    "start_time": "2022-03-21T20:38:27.442Z"
   },
   {
    "duration": 230,
    "start_time": "2022-03-21T20:38:30.534Z"
   },
   {
    "duration": 232,
    "start_time": "2022-03-21T20:38:34.864Z"
   },
   {
    "duration": 205,
    "start_time": "2022-03-21T20:38:39.031Z"
   },
   {
    "duration": 190,
    "start_time": "2022-03-21T20:38:56.766Z"
   },
   {
    "duration": 172,
    "start_time": "2022-03-21T20:39:01.853Z"
   },
   {
    "duration": 162,
    "start_time": "2022-03-21T20:39:06.269Z"
   },
   {
    "duration": 151,
    "start_time": "2022-03-21T20:39:10.959Z"
   },
   {
    "duration": 180,
    "start_time": "2022-03-21T20:39:14.587Z"
   },
   {
    "duration": 150,
    "start_time": "2022-03-21T20:39:25.818Z"
   },
   {
    "duration": 158,
    "start_time": "2022-03-21T20:39:28.451Z"
   },
   {
    "duration": 6,
    "start_time": "2022-03-21T20:41:30.088Z"
   },
   {
    "duration": 7,
    "start_time": "2022-03-21T20:41:40.059Z"
   },
   {
    "duration": 139,
    "start_time": "2022-03-21T20:41:40.087Z"
   },
   {
    "duration": 22,
    "start_time": "2022-03-21T20:41:40.229Z"
   },
   {
    "duration": 43,
    "start_time": "2022-03-21T20:41:40.253Z"
   },
   {
    "duration": 28,
    "start_time": "2022-03-21T20:41:40.299Z"
   },
   {
    "duration": 8,
    "start_time": "2022-03-21T20:41:40.330Z"
   },
   {
    "duration": 66,
    "start_time": "2022-03-21T20:41:40.340Z"
   },
   {
    "duration": 77,
    "start_time": "2022-03-21T20:41:40.408Z"
   },
   {
    "duration": 8,
    "start_time": "2022-03-21T20:41:40.488Z"
   },
   {
    "duration": 260,
    "start_time": "2022-03-21T20:41:40.498Z"
   },
   {
    "duration": 5,
    "start_time": "2022-03-21T20:41:40.761Z"
   },
   {
    "duration": 20,
    "start_time": "2022-03-21T20:41:40.769Z"
   },
   {
    "duration": 7,
    "start_time": "2022-03-21T20:41:40.791Z"
   },
   {
    "duration": 7,
    "start_time": "2022-03-21T20:41:40.800Z"
   },
   {
    "duration": 6,
    "start_time": "2022-03-21T20:41:40.812Z"
   },
   {
    "duration": 10,
    "start_time": "2022-03-21T20:41:40.820Z"
   },
   {
    "duration": 29154,
    "start_time": "2022-03-21T20:41:40.832Z"
   },
   {
    "duration": 704,
    "start_time": "2022-03-21T20:42:09.989Z"
   },
   {
    "duration": 6220,
    "start_time": "2022-03-21T20:42:10.695Z"
   },
   {
    "duration": 25,
    "start_time": "2022-03-21T20:42:16.918Z"
   },
   {
    "duration": 39,
    "start_time": "2022-03-21T20:42:16.945Z"
   },
   {
    "duration": 0,
    "start_time": "2022-03-21T20:42:16.987Z"
   },
   {
    "duration": 0,
    "start_time": "2022-03-21T20:42:16.989Z"
   },
   {
    "duration": 0,
    "start_time": "2022-03-21T20:42:16.992Z"
   },
   {
    "duration": 0,
    "start_time": "2022-03-21T20:42:16.994Z"
   },
   {
    "duration": 0,
    "start_time": "2022-03-21T20:42:16.996Z"
   },
   {
    "duration": 0,
    "start_time": "2022-03-21T20:42:16.997Z"
   },
   {
    "duration": 0,
    "start_time": "2022-03-21T20:42:16.999Z"
   },
   {
    "duration": 0,
    "start_time": "2022-03-21T20:42:17.001Z"
   },
   {
    "duration": 0,
    "start_time": "2022-03-21T20:42:17.003Z"
   },
   {
    "duration": 0,
    "start_time": "2022-03-21T20:42:17.005Z"
   },
   {
    "duration": 0,
    "start_time": "2022-03-21T20:42:17.007Z"
   },
   {
    "duration": 0,
    "start_time": "2022-03-21T20:42:17.009Z"
   },
   {
    "duration": 0,
    "start_time": "2022-03-21T20:42:17.011Z"
   },
   {
    "duration": 0,
    "start_time": "2022-03-21T20:42:17.013Z"
   },
   {
    "duration": 0,
    "start_time": "2022-03-21T20:42:17.015Z"
   },
   {
    "duration": 0,
    "start_time": "2022-03-21T20:42:17.017Z"
   },
   {
    "duration": 0,
    "start_time": "2022-03-21T20:42:17.019Z"
   },
   {
    "duration": 0,
    "start_time": "2022-03-21T20:42:17.020Z"
   },
   {
    "duration": 0,
    "start_time": "2022-03-21T20:42:17.022Z"
   },
   {
    "duration": 0,
    "start_time": "2022-03-21T20:42:17.085Z"
   },
   {
    "duration": 0,
    "start_time": "2022-03-21T20:42:17.086Z"
   },
   {
    "duration": 0,
    "start_time": "2022-03-21T20:42:17.087Z"
   },
   {
    "duration": 0,
    "start_time": "2022-03-21T20:42:17.089Z"
   },
   {
    "duration": 0,
    "start_time": "2022-03-21T20:42:17.092Z"
   },
   {
    "duration": 0,
    "start_time": "2022-03-21T20:42:17.093Z"
   },
   {
    "duration": 0,
    "start_time": "2022-03-21T20:42:17.096Z"
   },
   {
    "duration": 76504,
    "start_time": "2022-03-21T20:43:43.711Z"
   },
   {
    "duration": 180,
    "start_time": "2022-03-21T20:45:07.834Z"
   },
   {
    "duration": 25551,
    "start_time": "2022-03-21T20:45:15.178Z"
   },
   {
    "duration": 72,
    "start_time": "2022-03-21T20:45:44.221Z"
   },
   {
    "duration": 5927,
    "start_time": "2022-03-21T20:45:46.925Z"
   },
   {
    "duration": 25,
    "start_time": "2022-03-21T20:45:58.111Z"
   },
   {
    "duration": 78834,
    "start_time": "2022-03-21T20:46:05.919Z"
   },
   {
    "duration": 114,
    "start_time": "2022-03-21T20:47:55.546Z"
   },
   {
    "duration": 17,
    "start_time": "2022-03-21T20:48:00.631Z"
   },
   {
    "duration": 9,
    "start_time": "2022-03-21T20:48:01.218Z"
   },
   {
    "duration": 210,
    "start_time": "2022-03-21T20:48:01.700Z"
   },
   {
    "duration": 30771,
    "start_time": "2022-03-21T20:48:03.739Z"
   },
   {
    "duration": 273,
    "start_time": "2022-03-21T20:48:34.512Z"
   },
   {
    "duration": 7230,
    "start_time": "2022-03-21T20:48:34.789Z"
   },
   {
    "duration": 38,
    "start_time": "2022-03-21T20:48:42.022Z"
   },
   {
    "duration": 103467,
    "start_time": "2022-03-21T20:48:42.062Z"
   },
   {
    "duration": 300,
    "start_time": "2022-03-21T20:50:57.405Z"
   },
   {
    "duration": 18,
    "start_time": "2022-03-21T20:51:11.415Z"
   },
   {
    "duration": 9,
    "start_time": "2022-03-21T20:51:13.089Z"
   },
   {
    "duration": 207,
    "start_time": "2022-03-21T20:51:14.549Z"
   },
   {
    "duration": 10910,
    "start_time": "2022-03-21T20:51:16.636Z"
   },
   {
    "duration": 137,
    "start_time": "2022-03-21T20:51:27.549Z"
   },
   {
    "duration": 4219,
    "start_time": "2022-03-21T20:51:27.689Z"
   },
   {
    "duration": 23,
    "start_time": "2022-03-21T20:51:31.911Z"
   },
   {
    "duration": 51674,
    "start_time": "2022-03-21T20:51:31.937Z"
   },
   {
    "duration": 96,
    "start_time": "2022-03-21T20:52:33.218Z"
   },
   {
    "duration": 232,
    "start_time": "2022-03-21T20:52:38.439Z"
   },
   {
    "duration": 249,
    "start_time": "2022-03-21T20:52:49.129Z"
   },
   {
    "duration": 85,
    "start_time": "2022-03-21T20:52:55.881Z"
   },
   {
    "duration": 184,
    "start_time": "2022-03-21T20:52:59.878Z"
   },
   {
    "duration": 216,
    "start_time": "2022-03-21T20:53:05.735Z"
   },
   {
    "duration": 135,
    "start_time": "2022-03-21T20:53:28.046Z"
   },
   {
    "duration": 125,
    "start_time": "2022-03-21T20:53:34.715Z"
   },
   {
    "duration": 8,
    "start_time": "2022-03-21T20:53:43.068Z"
   },
   {
    "duration": 5,
    "start_time": "2022-03-21T20:53:52.349Z"
   },
   {
    "duration": 5,
    "start_time": "2022-03-21T20:53:57.948Z"
   },
   {
    "duration": 37839,
    "start_time": "2022-03-21T20:54:07.029Z"
   },
   {
    "duration": 159,
    "start_time": "2022-03-21T20:54:51.615Z"
   },
   {
    "duration": 168,
    "start_time": "2022-03-21T20:54:55.829Z"
   },
   {
    "duration": 140,
    "start_time": "2022-03-21T20:54:59.922Z"
   },
   {
    "duration": 135,
    "start_time": "2022-03-21T20:55:03.361Z"
   },
   {
    "duration": 132,
    "start_time": "2022-03-21T20:55:11.692Z"
   },
   {
    "duration": 142,
    "start_time": "2022-03-21T20:55:15.936Z"
   },
   {
    "duration": 151,
    "start_time": "2022-03-21T20:55:20.188Z"
   },
   {
    "duration": 72,
    "start_time": "2022-03-21T20:57:25.440Z"
   },
   {
    "duration": 114,
    "start_time": "2022-03-21T20:57:50.282Z"
   },
   {
    "duration": 151,
    "start_time": "2022-03-21T20:59:08.008Z"
   },
   {
    "duration": 8,
    "start_time": "2022-03-22T06:00:05.521Z"
   },
   {
    "duration": 1735,
    "start_time": "2022-03-22T06:00:09.062Z"
   },
   {
    "duration": 65,
    "start_time": "2022-03-22T06:00:10.799Z"
   },
   {
    "duration": 13,
    "start_time": "2022-03-22T06:00:10.865Z"
   },
   {
    "duration": 37,
    "start_time": "2022-03-22T06:00:10.880Z"
   },
   {
    "duration": 21,
    "start_time": "2022-03-22T06:00:10.919Z"
   },
   {
    "duration": 5,
    "start_time": "2022-03-22T06:00:10.942Z"
   },
   {
    "duration": 23,
    "start_time": "2022-03-22T06:00:10.949Z"
   },
   {
    "duration": 75,
    "start_time": "2022-03-22T06:00:10.974Z"
   },
   {
    "duration": 9,
    "start_time": "2022-03-22T06:00:11.051Z"
   },
   {
    "duration": 169,
    "start_time": "2022-03-22T06:00:11.063Z"
   },
   {
    "duration": 4,
    "start_time": "2022-03-22T06:00:11.234Z"
   },
   {
    "duration": 43,
    "start_time": "2022-03-22T06:00:11.240Z"
   },
   {
    "duration": 32,
    "start_time": "2022-03-22T06:00:11.284Z"
   },
   {
    "duration": 54,
    "start_time": "2022-03-22T06:00:11.318Z"
   },
   {
    "duration": 27,
    "start_time": "2022-03-22T06:00:11.373Z"
   },
   {
    "duration": 38,
    "start_time": "2022-03-22T06:00:11.401Z"
   },
   {
    "duration": 21991,
    "start_time": "2022-03-22T06:00:11.441Z"
   },
   {
    "duration": 597,
    "start_time": "2022-03-22T06:00:33.439Z"
   },
   {
    "duration": 3453,
    "start_time": "2022-03-22T06:00:34.042Z"
   },
   {
    "duration": 16,
    "start_time": "2022-03-22T06:00:37.497Z"
   },
   {
    "duration": 136,
    "start_time": "2022-03-22T06:00:37.514Z"
   },
   {
    "duration": 0,
    "start_time": "2022-03-22T06:00:37.652Z"
   },
   {
    "duration": 0,
    "start_time": "2022-03-22T06:00:37.653Z"
   },
   {
    "duration": 0,
    "start_time": "2022-03-22T06:00:37.654Z"
   },
   {
    "duration": 0,
    "start_time": "2022-03-22T06:00:37.655Z"
   },
   {
    "duration": 0,
    "start_time": "2022-03-22T06:00:37.656Z"
   },
   {
    "duration": 0,
    "start_time": "2022-03-22T06:00:37.657Z"
   },
   {
    "duration": 0,
    "start_time": "2022-03-22T06:00:37.659Z"
   },
   {
    "duration": 0,
    "start_time": "2022-03-22T06:00:37.660Z"
   },
   {
    "duration": 0,
    "start_time": "2022-03-22T06:00:37.661Z"
   },
   {
    "duration": 0,
    "start_time": "2022-03-22T06:00:37.662Z"
   },
   {
    "duration": 0,
    "start_time": "2022-03-22T06:00:37.663Z"
   },
   {
    "duration": 0,
    "start_time": "2022-03-22T06:00:37.664Z"
   },
   {
    "duration": 0,
    "start_time": "2022-03-22T06:00:37.665Z"
   },
   {
    "duration": 0,
    "start_time": "2022-03-22T06:00:37.666Z"
   },
   {
    "duration": 0,
    "start_time": "2022-03-22T06:00:37.667Z"
   },
   {
    "duration": 0,
    "start_time": "2022-03-22T06:00:37.668Z"
   },
   {
    "duration": 0,
    "start_time": "2022-03-22T06:00:37.669Z"
   },
   {
    "duration": 0,
    "start_time": "2022-03-22T06:00:37.671Z"
   },
   {
    "duration": 0,
    "start_time": "2022-03-22T06:00:37.672Z"
   },
   {
    "duration": 0,
    "start_time": "2022-03-22T06:00:37.672Z"
   },
   {
    "duration": 0,
    "start_time": "2022-03-22T06:00:37.673Z"
   },
   {
    "duration": 0,
    "start_time": "2022-03-22T06:00:37.674Z"
   },
   {
    "duration": 0,
    "start_time": "2022-03-22T06:00:37.675Z"
   },
   {
    "duration": 0,
    "start_time": "2022-03-22T06:00:37.676Z"
   },
   {
    "duration": 0,
    "start_time": "2022-03-22T06:00:37.677Z"
   },
   {
    "duration": 0,
    "start_time": "2022-03-22T06:00:37.678Z"
   },
   {
    "duration": 4,
    "start_time": "2022-03-22T06:02:29.590Z"
   },
   {
    "duration": 5,
    "start_time": "2022-03-22T06:02:35.284Z"
   },
   {
    "duration": 49,
    "start_time": "2022-03-22T06:02:35.307Z"
   },
   {
    "duration": 13,
    "start_time": "2022-03-22T06:02:35.358Z"
   },
   {
    "duration": 29,
    "start_time": "2022-03-22T06:02:35.373Z"
   },
   {
    "duration": 31,
    "start_time": "2022-03-22T06:02:35.404Z"
   },
   {
    "duration": 6,
    "start_time": "2022-03-22T06:02:35.438Z"
   },
   {
    "duration": 34,
    "start_time": "2022-03-22T06:02:35.445Z"
   },
   {
    "duration": 62,
    "start_time": "2022-03-22T06:02:35.480Z"
   },
   {
    "duration": 6,
    "start_time": "2022-03-22T06:02:35.544Z"
   },
   {
    "duration": 163,
    "start_time": "2022-03-22T06:02:35.552Z"
   },
   {
    "duration": 4,
    "start_time": "2022-03-22T06:02:35.717Z"
   },
   {
    "duration": 17,
    "start_time": "2022-03-22T06:02:35.723Z"
   },
   {
    "duration": 8,
    "start_time": "2022-03-22T06:02:35.742Z"
   },
   {
    "duration": 11,
    "start_time": "2022-03-22T06:02:35.752Z"
   },
   {
    "duration": 7,
    "start_time": "2022-03-22T06:02:35.767Z"
   },
   {
    "duration": 8,
    "start_time": "2022-03-22T06:02:35.776Z"
   },
   {
    "duration": 19877,
    "start_time": "2022-03-22T06:02:35.786Z"
   },
   {
    "duration": 0,
    "start_time": "2022-03-22T06:02:55.665Z"
   },
   {
    "duration": 0,
    "start_time": "2022-03-22T06:02:55.666Z"
   },
   {
    "duration": 0,
    "start_time": "2022-03-22T06:02:55.667Z"
   },
   {
    "duration": 0,
    "start_time": "2022-03-22T06:02:55.668Z"
   },
   {
    "duration": 0,
    "start_time": "2022-03-22T06:02:55.669Z"
   },
   {
    "duration": 0,
    "start_time": "2022-03-22T06:02:55.670Z"
   },
   {
    "duration": 0,
    "start_time": "2022-03-22T06:02:55.671Z"
   },
   {
    "duration": 0,
    "start_time": "2022-03-22T06:02:55.672Z"
   },
   {
    "duration": 0,
    "start_time": "2022-03-22T06:02:55.674Z"
   },
   {
    "duration": 0,
    "start_time": "2022-03-22T06:02:55.675Z"
   },
   {
    "duration": 0,
    "start_time": "2022-03-22T06:02:55.676Z"
   },
   {
    "duration": 0,
    "start_time": "2022-03-22T06:02:55.676Z"
   },
   {
    "duration": 0,
    "start_time": "2022-03-22T06:02:55.677Z"
   },
   {
    "duration": 0,
    "start_time": "2022-03-22T06:02:55.678Z"
   },
   {
    "duration": 0,
    "start_time": "2022-03-22T06:02:55.679Z"
   },
   {
    "duration": 0,
    "start_time": "2022-03-22T06:02:55.680Z"
   },
   {
    "duration": 0,
    "start_time": "2022-03-22T06:02:55.681Z"
   },
   {
    "duration": 0,
    "start_time": "2022-03-22T06:02:55.682Z"
   },
   {
    "duration": 0,
    "start_time": "2022-03-22T06:02:55.683Z"
   },
   {
    "duration": 0,
    "start_time": "2022-03-22T06:02:55.684Z"
   },
   {
    "duration": 0,
    "start_time": "2022-03-22T06:02:55.685Z"
   },
   {
    "duration": 0,
    "start_time": "2022-03-22T06:02:55.686Z"
   },
   {
    "duration": 0,
    "start_time": "2022-03-22T06:02:55.687Z"
   },
   {
    "duration": 0,
    "start_time": "2022-03-22T06:02:55.689Z"
   },
   {
    "duration": 0,
    "start_time": "2022-03-22T06:02:55.732Z"
   },
   {
    "duration": 0,
    "start_time": "2022-03-22T06:02:55.733Z"
   },
   {
    "duration": 0,
    "start_time": "2022-03-22T06:02:55.734Z"
   },
   {
    "duration": 0,
    "start_time": "2022-03-22T06:02:55.735Z"
   },
   {
    "duration": 0,
    "start_time": "2022-03-22T06:02:55.736Z"
   },
   {
    "duration": 0,
    "start_time": "2022-03-22T06:02:55.737Z"
   },
   {
    "duration": 5,
    "start_time": "2022-03-22T06:03:33.689Z"
   },
   {
    "duration": 52,
    "start_time": "2022-03-22T06:03:33.708Z"
   },
   {
    "duration": 15,
    "start_time": "2022-03-22T06:03:33.763Z"
   },
   {
    "duration": 21,
    "start_time": "2022-03-22T06:03:33.779Z"
   },
   {
    "duration": 38,
    "start_time": "2022-03-22T06:03:33.801Z"
   },
   {
    "duration": 5,
    "start_time": "2022-03-22T06:03:33.841Z"
   },
   {
    "duration": 17,
    "start_time": "2022-03-22T06:03:33.848Z"
   },
   {
    "duration": 66,
    "start_time": "2022-03-22T06:03:33.867Z"
   },
   {
    "duration": 7,
    "start_time": "2022-03-22T06:03:33.934Z"
   },
   {
    "duration": 168,
    "start_time": "2022-03-22T06:03:33.942Z"
   },
   {
    "duration": 5,
    "start_time": "2022-03-22T06:03:34.111Z"
   },
   {
    "duration": 8,
    "start_time": "2022-03-22T06:03:34.132Z"
   },
   {
    "duration": 10,
    "start_time": "2022-03-22T06:03:34.142Z"
   },
   {
    "duration": 12,
    "start_time": "2022-03-22T06:03:34.153Z"
   },
   {
    "duration": 7,
    "start_time": "2022-03-22T06:03:34.168Z"
   },
   {
    "duration": 8,
    "start_time": "2022-03-22T06:03:34.176Z"
   },
   {
    "duration": 22249,
    "start_time": "2022-03-22T06:03:34.186Z"
   },
   {
    "duration": 599,
    "start_time": "2022-03-22T06:03:56.438Z"
   },
   {
    "duration": 3513,
    "start_time": "2022-03-22T06:03:57.040Z"
   },
   {
    "duration": 15,
    "start_time": "2022-03-22T06:04:00.555Z"
   },
   {
    "duration": 401837,
    "start_time": "2022-03-22T06:04:00.572Z"
   },
   {
    "duration": 127,
    "start_time": "2022-03-22T06:10:42.410Z"
   },
   {
    "duration": 22116,
    "start_time": "2022-03-22T06:10:42.538Z"
   },
   {
    "duration": 81,
    "start_time": "2022-03-22T06:11:04.656Z"
   },
   {
    "duration": 3804,
    "start_time": "2022-03-22T06:11:04.740Z"
   },
   {
    "duration": 17,
    "start_time": "2022-03-22T06:11:08.545Z"
   },
   {
    "duration": 401512,
    "start_time": "2022-03-22T06:11:08.563Z"
   },
   {
    "duration": 86,
    "start_time": "2022-03-22T06:17:50.076Z"
   },
   {
    "duration": 12,
    "start_time": "2022-03-22T06:17:50.164Z"
   },
   {
    "duration": 6,
    "start_time": "2022-03-22T06:17:50.177Z"
   },
   {
    "duration": 157,
    "start_time": "2022-03-22T06:17:50.185Z"
   },
   {
    "duration": 31794,
    "start_time": "2022-03-22T06:17:50.344Z"
   },
   {
    "duration": 192,
    "start_time": "2022-03-22T06:18:22.140Z"
   },
   {
    "duration": 4535,
    "start_time": "2022-03-22T06:18:22.336Z"
   },
   {
    "duration": 25,
    "start_time": "2022-03-22T06:18:26.873Z"
   },
   {
    "duration": 142101,
    "start_time": "2022-03-22T06:18:26.899Z"
   },
   {
    "duration": 0,
    "start_time": "2022-03-22T06:20:49.002Z"
   },
   {
    "duration": 0,
    "start_time": "2022-03-22T06:20:49.004Z"
   },
   {
    "duration": 0,
    "start_time": "2022-03-22T06:20:49.005Z"
   },
   {
    "duration": 0,
    "start_time": "2022-03-22T06:20:49.006Z"
   },
   {
    "duration": 0,
    "start_time": "2022-03-22T06:20:49.007Z"
   },
   {
    "duration": 0,
    "start_time": "2022-03-22T06:20:49.008Z"
   },
   {
    "duration": 0,
    "start_time": "2022-03-22T06:20:49.009Z"
   },
   {
    "duration": 0,
    "start_time": "2022-03-22T06:20:49.010Z"
   },
   {
    "duration": 0,
    "start_time": "2022-03-22T06:20:49.011Z"
   },
   {
    "duration": 0,
    "start_time": "2022-03-22T06:20:49.032Z"
   },
   {
    "duration": 0,
    "start_time": "2022-03-22T06:20:49.033Z"
   },
   {
    "duration": 76,
    "start_time": "2022-03-22T06:21:00.043Z"
   },
   {
    "duration": 81,
    "start_time": "2022-03-22T06:21:11.798Z"
   },
   {
    "duration": 534047,
    "start_time": "2022-03-22T06:21:24.917Z"
   },
   {
    "duration": 97,
    "start_time": "2022-03-22T06:33:53.481Z"
   },
   {
    "duration": 6,
    "start_time": "2022-03-22T06:51:06.990Z"
   },
   {
    "duration": 13,
    "start_time": "2022-03-22T06:51:24.929Z"
   },
   {
    "duration": 6,
    "start_time": "2022-03-22T06:51:40.185Z"
   },
   {
    "duration": 12,
    "start_time": "2022-03-22T06:51:44.988Z"
   },
   {
    "duration": 6,
    "start_time": "2022-03-22T06:52:05.450Z"
   },
   {
    "duration": 19,
    "start_time": "2022-03-22T06:52:08.801Z"
   },
   {
    "duration": 6,
    "start_time": "2022-03-22T06:54:46.629Z"
   },
   {
    "duration": 18,
    "start_time": "2022-03-22T06:54:50.076Z"
   },
   {
    "duration": 6,
    "start_time": "2022-03-22T06:55:45.094Z"
   },
   {
    "duration": 13,
    "start_time": "2022-03-22T06:55:48.500Z"
   },
   {
    "duration": 6,
    "start_time": "2022-03-22T06:56:28.583Z"
   },
   {
    "duration": 15,
    "start_time": "2022-03-22T06:56:31.852Z"
   },
   {
    "duration": 6,
    "start_time": "2022-03-22T06:57:08.365Z"
   },
   {
    "duration": 18,
    "start_time": "2022-03-22T06:57:12.083Z"
   },
   {
    "duration": 6,
    "start_time": "2022-03-22T06:57:37.716Z"
   },
   {
    "duration": 19,
    "start_time": "2022-03-22T06:57:40.060Z"
   },
   {
    "duration": 18,
    "start_time": "2022-03-22T06:58:39.083Z"
   },
   {
    "duration": 6,
    "start_time": "2022-03-22T07:01:50.772Z"
   },
   {
    "duration": 19,
    "start_time": "2022-03-22T07:01:54.764Z"
   },
   {
    "duration": 6,
    "start_time": "2022-03-22T07:13:43.607Z"
   },
   {
    "duration": 13,
    "start_time": "2022-03-22T07:13:50.663Z"
   },
   {
    "duration": 6,
    "start_time": "2022-03-22T07:14:47.941Z"
   },
   {
    "duration": 16,
    "start_time": "2022-03-22T07:14:51.300Z"
   },
   {
    "duration": 5,
    "start_time": "2022-03-22T07:15:48.634Z"
   },
   {
    "duration": 8,
    "start_time": "2022-03-22T07:16:55.424Z"
   },
   {
    "duration": 21,
    "start_time": "2022-03-22T07:16:58.793Z"
   },
   {
    "duration": 5,
    "start_time": "2022-03-22T07:17:37.509Z"
   },
   {
    "duration": 263,
    "start_time": "2022-03-22T07:17:39.702Z"
   },
   {
    "duration": 5,
    "start_time": "2022-03-22T07:18:13.480Z"
   },
   {
    "duration": 219,
    "start_time": "2022-03-22T07:18:15.763Z"
   },
   {
    "duration": 234,
    "start_time": "2022-03-22T07:18:36.470Z"
   },
   {
    "duration": 316,
    "start_time": "2022-03-22T07:19:01.581Z"
   },
   {
    "duration": 112,
    "start_time": "2022-03-22T07:19:46.825Z"
   },
   {
    "duration": 709,
    "start_time": "2022-03-22T07:19:56.584Z"
   },
   {
    "duration": 786,
    "start_time": "2022-03-22T07:20:08.368Z"
   },
   {
    "duration": 768,
    "start_time": "2022-03-22T07:20:37.515Z"
   },
   {
    "duration": 9,
    "start_time": "2022-03-22T07:20:46.896Z"
   },
   {
    "duration": 13,
    "start_time": "2022-03-22T07:21:14.176Z"
   },
   {
    "duration": 6,
    "start_time": "2022-03-22T07:21:16.524Z"
   },
   {
    "duration": 130,
    "start_time": "2022-03-22T07:21:17.269Z"
   },
   {
    "duration": 446,
    "start_time": "2022-03-22T07:21:23.139Z"
   },
   {
    "duration": 250,
    "start_time": "2022-03-22T08:25:01.777Z"
   },
   {
    "duration": 709,
    "start_time": "2022-03-22T08:25:06.088Z"
   },
   {
    "duration": 6,
    "start_time": "2022-03-22T08:26:57.730Z"
   },
   {
    "duration": 29,
    "start_time": "2022-03-22T08:27:00.473Z"
   },
   {
    "duration": 6,
    "start_time": "2022-03-22T08:29:11.206Z"
   },
   {
    "duration": 19,
    "start_time": "2022-03-22T08:29:17.199Z"
   },
   {
    "duration": 18,
    "start_time": "2022-03-22T08:29:19.609Z"
   },
   {
    "duration": 6,
    "start_time": "2022-03-22T08:29:56.709Z"
   },
   {
    "duration": 19,
    "start_time": "2022-03-22T08:29:59.774Z"
   },
   {
    "duration": 4,
    "start_time": "2022-03-22T08:30:53.758Z"
   },
   {
    "duration": 18,
    "start_time": "2022-03-22T08:30:59.015Z"
   },
   {
    "duration": 20,
    "start_time": "2022-03-22T08:31:03.433Z"
   },
   {
    "duration": 5,
    "start_time": "2022-03-22T08:31:44.572Z"
   },
   {
    "duration": 19,
    "start_time": "2022-03-22T08:31:49.379Z"
   },
   {
    "duration": 7,
    "start_time": "2022-03-22T08:31:56.615Z"
   },
   {
    "duration": 60,
    "start_time": "2022-03-22T08:31:56.631Z"
   },
   {
    "duration": 13,
    "start_time": "2022-03-22T08:31:56.693Z"
   },
   {
    "duration": 18,
    "start_time": "2022-03-22T08:31:56.708Z"
   },
   {
    "duration": 21,
    "start_time": "2022-03-22T08:31:56.728Z"
   },
   {
    "duration": 6,
    "start_time": "2022-03-22T08:31:56.750Z"
   },
   {
    "duration": 15,
    "start_time": "2022-03-22T08:31:56.758Z"
   },
   {
    "duration": 76,
    "start_time": "2022-03-22T08:31:56.775Z"
   },
   {
    "duration": 6,
    "start_time": "2022-03-22T08:31:56.854Z"
   },
   {
    "duration": 185,
    "start_time": "2022-03-22T08:31:56.861Z"
   },
   {
    "duration": 3,
    "start_time": "2022-03-22T08:31:57.048Z"
   },
   {
    "duration": 11,
    "start_time": "2022-03-22T08:31:57.053Z"
   },
   {
    "duration": 7,
    "start_time": "2022-03-22T08:31:57.065Z"
   },
   {
    "duration": 13,
    "start_time": "2022-03-22T08:31:57.074Z"
   },
   {
    "duration": 0,
    "start_time": "2022-03-22T08:31:57.089Z"
   },
   {
    "duration": 0,
    "start_time": "2022-03-22T08:31:57.090Z"
   },
   {
    "duration": 0,
    "start_time": "2022-03-22T08:31:57.092Z"
   },
   {
    "duration": 0,
    "start_time": "2022-03-22T08:31:57.093Z"
   },
   {
    "duration": 1,
    "start_time": "2022-03-22T08:31:57.093Z"
   },
   {
    "duration": 0,
    "start_time": "2022-03-22T08:31:57.094Z"
   },
   {
    "duration": 0,
    "start_time": "2022-03-22T08:31:57.095Z"
   },
   {
    "duration": 0,
    "start_time": "2022-03-22T08:31:57.097Z"
   },
   {
    "duration": 0,
    "start_time": "2022-03-22T08:31:57.098Z"
   },
   {
    "duration": 0,
    "start_time": "2022-03-22T08:31:57.098Z"
   },
   {
    "duration": 0,
    "start_time": "2022-03-22T08:31:57.100Z"
   },
   {
    "duration": 0,
    "start_time": "2022-03-22T08:31:57.100Z"
   },
   {
    "duration": 0,
    "start_time": "2022-03-22T08:31:57.101Z"
   },
   {
    "duration": 0,
    "start_time": "2022-03-22T08:31:57.102Z"
   },
   {
    "duration": 0,
    "start_time": "2022-03-22T08:31:57.103Z"
   },
   {
    "duration": 0,
    "start_time": "2022-03-22T08:31:57.132Z"
   },
   {
    "duration": 0,
    "start_time": "2022-03-22T08:31:57.133Z"
   },
   {
    "duration": 0,
    "start_time": "2022-03-22T08:31:57.134Z"
   },
   {
    "duration": 0,
    "start_time": "2022-03-22T08:31:57.135Z"
   },
   {
    "duration": 0,
    "start_time": "2022-03-22T08:31:57.136Z"
   },
   {
    "duration": 0,
    "start_time": "2022-03-22T08:31:57.136Z"
   },
   {
    "duration": 0,
    "start_time": "2022-03-22T08:31:57.137Z"
   },
   {
    "duration": 0,
    "start_time": "2022-03-22T08:31:57.139Z"
   },
   {
    "duration": 0,
    "start_time": "2022-03-22T08:31:57.140Z"
   },
   {
    "duration": 0,
    "start_time": "2022-03-22T08:31:57.141Z"
   },
   {
    "duration": 0,
    "start_time": "2022-03-22T08:31:57.142Z"
   },
   {
    "duration": 0,
    "start_time": "2022-03-22T08:31:57.143Z"
   },
   {
    "duration": 0,
    "start_time": "2022-03-22T08:31:57.144Z"
   },
   {
    "duration": 0,
    "start_time": "2022-03-22T08:31:57.145Z"
   },
   {
    "duration": 0,
    "start_time": "2022-03-22T08:31:57.146Z"
   },
   {
    "duration": 92876,
    "start_time": "2022-03-22T08:31:58.401Z"
   },
   {
    "duration": 0,
    "start_time": "2022-03-22T08:33:31.279Z"
   },
   {
    "duration": 0,
    "start_time": "2022-03-22T08:33:31.280Z"
   },
   {
    "duration": 0,
    "start_time": "2022-03-22T08:33:31.281Z"
   },
   {
    "duration": 6,
    "start_time": "2022-03-22T08:33:40.237Z"
   },
   {
    "duration": 1516,
    "start_time": "2022-03-22T08:33:48.984Z"
   },
   {
    "duration": 1495,
    "start_time": "2022-03-22T08:34:24.158Z"
   },
   {
    "duration": 248,
    "start_time": "2022-03-22T08:37:56.726Z"
   },
   {
    "duration": 6,
    "start_time": "2022-03-22T08:38:04.802Z"
   },
   {
    "duration": 620,
    "start_time": "2022-03-22T08:38:18.213Z"
   },
   {
    "duration": 7,
    "start_time": "2022-03-22T08:38:43.975Z"
   },
   {
    "duration": 24703,
    "start_time": "2022-03-22T08:38:47.323Z"
   },
   {
    "duration": 6,
    "start_time": "2022-03-22T08:40:18.707Z"
   },
   {
    "duration": 2485,
    "start_time": "2022-03-22T08:40:27.721Z"
   },
   {
    "duration": 1487,
    "start_time": "2022-03-22T08:41:10.846Z"
   },
   {
    "duration": 2504,
    "start_time": "2022-03-22T08:41:26.347Z"
   },
   {
    "duration": 5,
    "start_time": "2022-03-22T08:42:22.018Z"
   },
   {
    "duration": 2527,
    "start_time": "2022-03-22T08:42:29.238Z"
   },
   {
    "duration": 2528,
    "start_time": "2022-03-22T08:42:37.027Z"
   },
   {
    "duration": 1844,
    "start_time": "2022-03-22T08:43:01.740Z"
   },
   {
    "duration": 3374,
    "start_time": "2022-03-22T08:43:44.675Z"
   },
   {
    "duration": 14,
    "start_time": "2022-03-22T08:44:06.064Z"
   },
   {
    "duration": 7,
    "start_time": "2022-03-22T08:44:06.581Z"
   },
   {
    "duration": 133,
    "start_time": "2022-03-22T08:44:07.221Z"
   },
   {
    "duration": 757,
    "start_time": "2022-03-22T08:44:23.398Z"
   },
   {
    "duration": 2,
    "start_time": "2022-03-22T08:44:43.059Z"
   },
   {
    "duration": 1507,
    "start_time": "2022-03-22T08:44:49.932Z"
   },
   {
    "duration": 67,
    "start_time": "2022-03-22T08:45:12.190Z"
   },
   {
    "duration": 6,
    "start_time": "2022-03-22T08:46:20.523Z"
   },
   {
    "duration": 4,
    "start_time": "2022-03-22T08:46:25.987Z"
   },
   {
    "duration": 60,
    "start_time": "2022-03-22T08:46:26.008Z"
   },
   {
    "duration": 14,
    "start_time": "2022-03-22T08:46:26.070Z"
   },
   {
    "duration": 17,
    "start_time": "2022-03-22T08:46:26.085Z"
   },
   {
    "duration": 41,
    "start_time": "2022-03-22T08:46:26.104Z"
   },
   {
    "duration": 5,
    "start_time": "2022-03-22T08:46:26.147Z"
   },
   {
    "duration": 16,
    "start_time": "2022-03-22T08:46:26.154Z"
   },
   {
    "duration": 71,
    "start_time": "2022-03-22T08:46:26.172Z"
   },
   {
    "duration": 6,
    "start_time": "2022-03-22T08:46:26.244Z"
   },
   {
    "duration": 165,
    "start_time": "2022-03-22T08:46:26.252Z"
   },
   {
    "duration": 4,
    "start_time": "2022-03-22T08:46:26.432Z"
   },
   {
    "duration": 11,
    "start_time": "2022-03-22T08:46:26.438Z"
   },
   {
    "duration": 7,
    "start_time": "2022-03-22T08:46:26.451Z"
   },
   {
    "duration": 8,
    "start_time": "2022-03-22T08:46:26.460Z"
   },
   {
    "duration": 13,
    "start_time": "2022-03-22T08:46:26.472Z"
   },
   {
    "duration": 9,
    "start_time": "2022-03-22T08:46:26.487Z"
   },
   {
    "duration": 8,
    "start_time": "2022-03-22T08:46:26.497Z"
   },
   {
    "duration": 530,
    "start_time": "2022-03-22T08:46:26.507Z"
   },
   {
    "duration": 93,
    "start_time": "2022-03-22T08:46:27.039Z"
   },
   {
    "duration": 1585,
    "start_time": "2022-03-22T08:46:27.134Z"
   },
   {
    "duration": 3,
    "start_time": "2022-03-22T08:46:28.721Z"
   },
   {
    "duration": 192540,
    "start_time": "2022-03-22T08:46:28.731Z"
   },
   {
    "duration": 2,
    "start_time": "2022-03-22T08:49:41.273Z"
   },
   {
    "duration": 59,
    "start_time": "2022-03-22T08:49:41.277Z"
   },
   {
    "duration": 93,
    "start_time": "2022-03-22T08:49:41.339Z"
   },
   {
    "duration": 1585,
    "start_time": "2022-03-22T08:49:41.441Z"
   },
   {
    "duration": 4,
    "start_time": "2022-03-22T08:49:43.028Z"
   },
   {
    "duration": 195819,
    "start_time": "2022-03-22T08:49:43.033Z"
   },
   {
    "duration": 13,
    "start_time": "2022-03-22T08:52:58.855Z"
   },
   {
    "duration": 10,
    "start_time": "2022-03-22T08:52:58.870Z"
   },
   {
    "duration": 151,
    "start_time": "2022-03-22T08:52:58.882Z"
   },
   {
    "duration": 3,
    "start_time": "2022-03-22T08:52:59.035Z"
   },
   {
    "duration": 197,
    "start_time": "2022-03-22T08:52:59.040Z"
   },
   {
    "duration": 3,
    "start_time": "2022-03-22T08:52:59.240Z"
   },
   {
    "duration": 1801,
    "start_time": "2022-03-22T08:52:59.332Z"
   },
   {
    "duration": 3,
    "start_time": "2022-03-22T08:53:01.135Z"
   },
   {
    "duration": 267706,
    "start_time": "2022-03-22T08:53:01.140Z"
   },
   {
    "duration": 13,
    "start_time": "2022-03-22T08:57:28.848Z"
   },
   {
    "duration": 37,
    "start_time": "2022-03-22T08:57:28.863Z"
   },
   {
    "duration": 172,
    "start_time": "2022-03-22T08:57:28.902Z"
   },
   {
    "duration": 2,
    "start_time": "2022-03-22T08:57:29.076Z"
   },
   {
    "duration": 54,
    "start_time": "2022-03-22T08:57:29.082Z"
   },
   {
    "duration": 95,
    "start_time": "2022-03-22T08:57:29.138Z"
   },
   {
    "duration": 857,
    "start_time": "2022-03-22T08:57:29.240Z"
   },
   {
    "duration": 3,
    "start_time": "2022-03-22T08:57:30.099Z"
   },
   {
    "duration": 113037,
    "start_time": "2022-03-22T08:57:30.103Z"
   },
   {
    "duration": 67,
    "start_time": "2022-03-22T08:59:23.142Z"
   },
   {
    "duration": 847,
    "start_time": "2022-03-22T09:02:31.343Z"
   },
   {
    "duration": 5,
    "start_time": "2022-03-22T09:05:48.556Z"
   },
   {
    "duration": 64,
    "start_time": "2022-03-22T09:05:48.574Z"
   },
   {
    "duration": 13,
    "start_time": "2022-03-22T09:05:48.640Z"
   },
   {
    "duration": 43,
    "start_time": "2022-03-22T09:05:48.654Z"
   },
   {
    "duration": 24,
    "start_time": "2022-03-22T09:05:48.700Z"
   },
   {
    "duration": 24,
    "start_time": "2022-03-22T09:05:48.725Z"
   },
   {
    "duration": 38,
    "start_time": "2022-03-22T09:05:48.751Z"
   },
   {
    "duration": 68,
    "start_time": "2022-03-22T09:05:48.790Z"
   },
   {
    "duration": 11,
    "start_time": "2022-03-22T09:05:48.860Z"
   },
   {
    "duration": 185,
    "start_time": "2022-03-22T09:05:48.873Z"
   },
   {
    "duration": 5,
    "start_time": "2022-03-22T09:05:49.061Z"
   },
   {
    "duration": 67,
    "start_time": "2022-03-22T09:05:49.068Z"
   },
   {
    "duration": 45,
    "start_time": "2022-03-22T09:05:49.136Z"
   },
   {
    "duration": 36,
    "start_time": "2022-03-22T09:05:49.183Z"
   },
   {
    "duration": 41,
    "start_time": "2022-03-22T09:05:49.221Z"
   },
   {
    "duration": 30,
    "start_time": "2022-03-22T09:05:49.264Z"
   },
   {
    "duration": 37,
    "start_time": "2022-03-22T09:05:49.295Z"
   },
   {
    "duration": 308,
    "start_time": "2022-03-22T09:05:49.334Z"
   },
   {
    "duration": 89,
    "start_time": "2022-03-22T09:05:49.645Z"
   },
   {
    "duration": 1652,
    "start_time": "2022-03-22T09:05:49.736Z"
   },
   {
    "duration": 3,
    "start_time": "2022-03-22T09:05:51.390Z"
   },
   {
    "duration": 152401,
    "start_time": "2022-03-22T09:05:51.396Z"
   },
   {
    "duration": 0,
    "start_time": "2022-03-22T09:08:23.800Z"
   },
   {
    "duration": 0,
    "start_time": "2022-03-22T09:08:23.801Z"
   },
   {
    "duration": 0,
    "start_time": "2022-03-22T09:08:23.803Z"
   },
   {
    "duration": 0,
    "start_time": "2022-03-22T09:08:23.804Z"
   },
   {
    "duration": 0,
    "start_time": "2022-03-22T09:08:23.805Z"
   },
   {
    "duration": 0,
    "start_time": "2022-03-22T09:08:23.806Z"
   },
   {
    "duration": 0,
    "start_time": "2022-03-22T09:08:23.808Z"
   },
   {
    "duration": 0,
    "start_time": "2022-03-22T09:08:23.808Z"
   },
   {
    "duration": 0,
    "start_time": "2022-03-22T09:08:23.809Z"
   },
   {
    "duration": 0,
    "start_time": "2022-03-22T09:08:23.831Z"
   },
   {
    "duration": 0,
    "start_time": "2022-03-22T09:08:23.833Z"
   },
   {
    "duration": 0,
    "start_time": "2022-03-22T09:08:23.834Z"
   },
   {
    "duration": 0,
    "start_time": "2022-03-22T09:08:23.835Z"
   },
   {
    "duration": 0,
    "start_time": "2022-03-22T09:08:23.836Z"
   },
   {
    "duration": 0,
    "start_time": "2022-03-22T09:08:23.837Z"
   },
   {
    "duration": 0,
    "start_time": "2022-03-22T09:08:23.838Z"
   },
   {
    "duration": 0,
    "start_time": "2022-03-22T09:08:23.839Z"
   },
   {
    "duration": 0,
    "start_time": "2022-03-22T09:08:23.840Z"
   },
   {
    "duration": 0,
    "start_time": "2022-03-22T09:08:23.841Z"
   },
   {
    "duration": 0,
    "start_time": "2022-03-22T09:08:23.841Z"
   },
   {
    "duration": 0,
    "start_time": "2022-03-22T09:08:23.843Z"
   },
   {
    "duration": 0,
    "start_time": "2022-03-22T09:08:23.844Z"
   },
   {
    "duration": 0,
    "start_time": "2022-03-22T09:08:23.845Z"
   },
   {
    "duration": 0,
    "start_time": "2022-03-22T09:08:23.846Z"
   },
   {
    "duration": 0,
    "start_time": "2022-03-22T09:08:23.847Z"
   },
   {
    "duration": 0,
    "start_time": "2022-03-22T09:08:23.848Z"
   },
   {
    "duration": 291,
    "start_time": "2022-03-22T09:08:30.963Z"
   },
   {
    "duration": 4,
    "start_time": "2022-03-22T09:08:41.933Z"
   },
   {
    "duration": 9,
    "start_time": "2022-03-22T09:08:51.492Z"
   },
   {
    "duration": 14,
    "start_time": "2022-03-22T09:09:06.316Z"
   },
   {
    "duration": 5,
    "start_time": "2022-03-22T09:09:58.778Z"
   },
   {
    "duration": 13,
    "start_time": "2022-03-22T09:10:07.887Z"
   },
   {
    "duration": 6,
    "start_time": "2022-03-22T09:10:24.631Z"
   },
   {
    "duration": 1340,
    "start_time": "2022-03-22T09:10:30.293Z"
   },
   {
    "duration": 5,
    "start_time": "2022-03-22T09:15:12.549Z"
   },
   {
    "duration": 2527,
    "start_time": "2022-03-22T09:15:21.009Z"
   },
   {
    "duration": 5,
    "start_time": "2022-03-22T09:15:54.511Z"
   },
   {
    "duration": 5,
    "start_time": "2022-03-22T09:16:19.861Z"
   },
   {
    "duration": 2618,
    "start_time": "2022-03-22T09:16:27.615Z"
   },
   {
    "duration": 5,
    "start_time": "2022-03-22T09:24:51.039Z"
   },
   {
    "duration": 5,
    "start_time": "2022-03-22T09:25:35.536Z"
   },
   {
    "duration": 3,
    "start_time": "2022-03-22T09:32:03.890Z"
   },
   {
    "duration": 7,
    "start_time": "2022-03-22T09:32:19.989Z"
   },
   {
    "duration": 753,
    "start_time": "2022-03-22T09:32:24.180Z"
   },
   {
    "duration": 4,
    "start_time": "2022-03-22T09:33:33.410Z"
   },
   {
    "duration": 1315,
    "start_time": "2022-03-22T09:33:48.918Z"
   },
   {
    "duration": 5,
    "start_time": "2022-03-22T09:34:08.647Z"
   },
   {
    "duration": 49,
    "start_time": "2022-03-22T09:34:08.668Z"
   },
   {
    "duration": 14,
    "start_time": "2022-03-22T09:34:08.719Z"
   },
   {
    "duration": 36,
    "start_time": "2022-03-22T09:34:08.735Z"
   },
   {
    "duration": 19,
    "start_time": "2022-03-22T09:34:08.773Z"
   },
   {
    "duration": 9,
    "start_time": "2022-03-22T09:34:08.794Z"
   },
   {
    "duration": 17,
    "start_time": "2022-03-22T09:34:08.805Z"
   },
   {
    "duration": 38,
    "start_time": "2022-03-22T09:34:08.831Z"
   },
   {
    "duration": 13,
    "start_time": "2022-03-22T09:34:08.870Z"
   },
   {
    "duration": 180,
    "start_time": "2022-03-22T09:34:08.884Z"
   },
   {
    "duration": 2,
    "start_time": "2022-03-22T09:34:09.066Z"
   },
   {
    "duration": 39,
    "start_time": "2022-03-22T09:34:09.070Z"
   },
   {
    "duration": 30,
    "start_time": "2022-03-22T09:34:09.110Z"
   },
   {
    "duration": 27,
    "start_time": "2022-03-22T09:34:09.142Z"
   },
   {
    "duration": 42,
    "start_time": "2022-03-22T09:34:09.172Z"
   },
   {
    "duration": 43,
    "start_time": "2022-03-22T09:34:09.216Z"
   },
   {
    "duration": 37,
    "start_time": "2022-03-22T09:34:09.261Z"
   },
   {
    "duration": 1455,
    "start_time": "2022-03-22T09:34:09.299Z"
   },
   {
    "duration": 7,
    "start_time": "2022-03-22T09:34:10.834Z"
   },
   {
    "duration": 1612,
    "start_time": "2022-03-22T09:34:10.843Z"
   },
   {
    "duration": 3,
    "start_time": "2022-03-22T09:34:12.457Z"
   },
   {
    "duration": 590287,
    "start_time": "2022-03-22T09:34:12.461Z"
   },
   {
    "duration": 0,
    "start_time": "2022-03-22T09:44:02.750Z"
   },
   {
    "duration": 0,
    "start_time": "2022-03-22T09:44:02.752Z"
   },
   {
    "duration": 0,
    "start_time": "2022-03-22T09:44:02.753Z"
   },
   {
    "duration": 0,
    "start_time": "2022-03-22T09:44:02.754Z"
   },
   {
    "duration": 0,
    "start_time": "2022-03-22T09:44:02.756Z"
   },
   {
    "duration": 0,
    "start_time": "2022-03-22T09:44:02.757Z"
   },
   {
    "duration": 0,
    "start_time": "2022-03-22T09:44:02.758Z"
   },
   {
    "duration": 0,
    "start_time": "2022-03-22T09:44:02.759Z"
   },
   {
    "duration": 0,
    "start_time": "2022-03-22T09:44:02.759Z"
   },
   {
    "duration": 0,
    "start_time": "2022-03-22T09:44:02.761Z"
   },
   {
    "duration": 0,
    "start_time": "2022-03-22T09:44:02.762Z"
   },
   {
    "duration": 0,
    "start_time": "2022-03-22T09:44:02.763Z"
   },
   {
    "duration": 0,
    "start_time": "2022-03-22T09:44:02.764Z"
   },
   {
    "duration": 0,
    "start_time": "2022-03-22T09:44:02.765Z"
   },
   {
    "duration": 0,
    "start_time": "2022-03-22T09:44:02.766Z"
   },
   {
    "duration": 0,
    "start_time": "2022-03-22T09:44:02.767Z"
   },
   {
    "duration": 0,
    "start_time": "2022-03-22T09:44:02.768Z"
   },
   {
    "duration": 0,
    "start_time": "2022-03-22T09:44:02.769Z"
   },
   {
    "duration": 0,
    "start_time": "2022-03-22T09:44:02.770Z"
   },
   {
    "duration": 0,
    "start_time": "2022-03-22T09:44:02.771Z"
   },
   {
    "duration": 0,
    "start_time": "2022-03-22T09:44:02.772Z"
   },
   {
    "duration": 0,
    "start_time": "2022-03-22T09:44:02.773Z"
   },
   {
    "duration": 0,
    "start_time": "2022-03-22T09:44:02.774Z"
   },
   {
    "duration": 0,
    "start_time": "2022-03-22T09:44:02.775Z"
   },
   {
    "duration": 0,
    "start_time": "2022-03-22T09:44:02.776Z"
   },
   {
    "duration": 5,
    "start_time": "2022-03-22T09:44:22.793Z"
   },
   {
    "duration": 61,
    "start_time": "2022-03-22T09:44:22.810Z"
   },
   {
    "duration": 16,
    "start_time": "2022-03-22T09:44:22.873Z"
   },
   {
    "duration": 44,
    "start_time": "2022-03-22T09:44:22.891Z"
   },
   {
    "duration": 19,
    "start_time": "2022-03-22T09:44:22.937Z"
   },
   {
    "duration": 5,
    "start_time": "2022-03-22T09:44:22.958Z"
   },
   {
    "duration": 31,
    "start_time": "2022-03-22T09:44:22.964Z"
   },
   {
    "duration": 53,
    "start_time": "2022-03-22T09:44:22.997Z"
   },
   {
    "duration": 6,
    "start_time": "2022-03-22T09:44:23.052Z"
   },
   {
    "duration": 177,
    "start_time": "2022-03-22T09:44:23.059Z"
   },
   {
    "duration": 3,
    "start_time": "2022-03-22T09:44:23.238Z"
   },
   {
    "duration": 22,
    "start_time": "2022-03-22T09:44:23.243Z"
   },
   {
    "duration": 14,
    "start_time": "2022-03-22T09:44:23.267Z"
   },
   {
    "duration": 6,
    "start_time": "2022-03-22T09:44:23.283Z"
   },
   {
    "duration": 6,
    "start_time": "2022-03-22T09:44:23.293Z"
   },
   {
    "duration": 9,
    "start_time": "2022-03-22T09:44:23.301Z"
   },
   {
    "duration": 8,
    "start_time": "2022-03-22T09:44:23.312Z"
   },
   {
    "duration": 1511,
    "start_time": "2022-03-22T09:44:23.322Z"
   },
   {
    "duration": 96,
    "start_time": "2022-03-22T09:44:24.836Z"
   },
   {
    "duration": 1509,
    "start_time": "2022-03-22T09:44:24.933Z"
   },
   {
    "duration": 3,
    "start_time": "2022-03-22T09:44:26.444Z"
   },
   {
    "duration": 407676,
    "start_time": "2022-03-22T09:44:26.448Z"
   },
   {
    "duration": 2,
    "start_time": "2022-03-22T09:51:14.126Z"
   },
   {
    "duration": 23,
    "start_time": "2022-03-22T09:51:14.132Z"
   },
   {
    "duration": 0,
    "start_time": "2022-03-22T09:51:14.157Z"
   },
   {
    "duration": 0,
    "start_time": "2022-03-22T09:51:14.158Z"
   },
   {
    "duration": 0,
    "start_time": "2022-03-22T09:51:14.160Z"
   },
   {
    "duration": 0,
    "start_time": "2022-03-22T09:51:14.160Z"
   },
   {
    "duration": 0,
    "start_time": "2022-03-22T09:51:14.162Z"
   },
   {
    "duration": 0,
    "start_time": "2022-03-22T09:51:14.163Z"
   },
   {
    "duration": 0,
    "start_time": "2022-03-22T09:51:14.164Z"
   },
   {
    "duration": 0,
    "start_time": "2022-03-22T09:51:14.165Z"
   },
   {
    "duration": 0,
    "start_time": "2022-03-22T09:51:14.166Z"
   },
   {
    "duration": 0,
    "start_time": "2022-03-22T09:51:14.167Z"
   },
   {
    "duration": 0,
    "start_time": "2022-03-22T09:51:14.168Z"
   },
   {
    "duration": 0,
    "start_time": "2022-03-22T09:51:14.169Z"
   },
   {
    "duration": 0,
    "start_time": "2022-03-22T09:51:14.170Z"
   },
   {
    "duration": 0,
    "start_time": "2022-03-22T09:51:14.171Z"
   },
   {
    "duration": 0,
    "start_time": "2022-03-22T09:51:14.173Z"
   },
   {
    "duration": 0,
    "start_time": "2022-03-22T09:51:14.174Z"
   },
   {
    "duration": 0,
    "start_time": "2022-03-22T09:51:14.174Z"
   },
   {
    "duration": 0,
    "start_time": "2022-03-22T09:51:14.175Z"
   },
   {
    "duration": 0,
    "start_time": "2022-03-22T09:51:14.176Z"
   },
   {
    "duration": 0,
    "start_time": "2022-03-22T09:51:14.177Z"
   },
   {
    "duration": 0,
    "start_time": "2022-03-22T09:51:14.178Z"
   },
   {
    "duration": 0,
    "start_time": "2022-03-22T09:51:14.179Z"
   },
   {
    "duration": 0,
    "start_time": "2022-03-22T09:51:14.180Z"
   },
   {
    "duration": 2196,
    "start_time": "2022-03-22T09:53:02.947Z"
   },
   {
    "duration": 6,
    "start_time": "2022-03-22T09:53:05.145Z"
   },
   {
    "duration": 1615,
    "start_time": "2022-03-22T09:53:05.154Z"
   },
   {
    "duration": 2,
    "start_time": "2022-03-22T09:53:06.771Z"
   },
   {
    "duration": 410494,
    "start_time": "2022-03-22T09:53:06.775Z"
   },
   {
    "duration": 14,
    "start_time": "2022-03-22T09:59:57.271Z"
   },
   {
    "duration": 9,
    "start_time": "2022-03-22T09:59:57.287Z"
   },
   {
    "duration": 146,
    "start_time": "2022-03-22T09:59:57.297Z"
   },
   {
    "duration": 2,
    "start_time": "2022-03-22T09:59:57.445Z"
   },
   {
    "duration": 1783,
    "start_time": "2022-03-22T09:59:57.450Z"
   },
   {
    "duration": 3,
    "start_time": "2022-03-22T09:59:59.235Z"
   },
   {
    "duration": 1885,
    "start_time": "2022-03-22T09:59:59.240Z"
   },
   {
    "duration": 5,
    "start_time": "2022-03-22T10:00:01.127Z"
   },
   {
    "duration": 563532,
    "start_time": "2022-03-22T10:00:01.134Z"
   },
   {
    "duration": 12,
    "start_time": "2022-03-22T10:09:24.668Z"
   },
   {
    "duration": 15,
    "start_time": "2022-03-22T10:09:24.682Z"
   },
   {
    "duration": 135,
    "start_time": "2022-03-22T10:09:24.698Z"
   },
   {
    "duration": 2,
    "start_time": "2022-03-22T10:09:24.835Z"
   },
   {
    "duration": 1193,
    "start_time": "2022-03-22T10:09:24.839Z"
   },
   {
    "duration": 4,
    "start_time": "2022-03-22T10:09:26.034Z"
   },
   {
    "duration": 788,
    "start_time": "2022-03-22T10:09:26.131Z"
   },
   {
    "duration": 3,
    "start_time": "2022-03-22T10:09:26.921Z"
   },
   {
    "duration": 200336,
    "start_time": "2022-03-22T10:09:26.925Z"
   },
   {
    "duration": 834,
    "start_time": "2022-03-22T10:12:47.264Z"
   },
   {
    "duration": 477,
    "start_time": "2022-03-22T10:14:33.494Z"
   },
   {
    "duration": 6,
    "start_time": "2022-03-22T10:15:32.559Z"
   },
   {
    "duration": 4,
    "start_time": "2022-03-22T10:15:35.812Z"
   },
   {
    "duration": 61,
    "start_time": "2022-03-22T10:15:35.833Z"
   },
   {
    "duration": 15,
    "start_time": "2022-03-22T10:15:35.896Z"
   },
   {
    "duration": 24,
    "start_time": "2022-03-22T10:15:35.913Z"
   },
   {
    "duration": 19,
    "start_time": "2022-03-22T10:15:35.939Z"
   },
   {
    "duration": 6,
    "start_time": "2022-03-22T10:15:35.961Z"
   },
   {
    "duration": 21,
    "start_time": "2022-03-22T10:15:35.969Z"
   },
   {
    "duration": 62,
    "start_time": "2022-03-22T10:15:35.992Z"
   },
   {
    "duration": 6,
    "start_time": "2022-03-22T10:15:36.056Z"
   },
   {
    "duration": 178,
    "start_time": "2022-03-22T10:15:36.063Z"
   },
   {
    "duration": 3,
    "start_time": "2022-03-22T10:15:36.243Z"
   },
   {
    "duration": 37,
    "start_time": "2022-03-22T10:15:36.248Z"
   },
   {
    "duration": 33,
    "start_time": "2022-03-22T10:15:36.287Z"
   },
   {
    "duration": 39,
    "start_time": "2022-03-22T10:15:36.322Z"
   },
   {
    "duration": 26,
    "start_time": "2022-03-22T10:15:36.365Z"
   },
   {
    "duration": 20,
    "start_time": "2022-03-22T10:15:36.393Z"
   },
   {
    "duration": 39,
    "start_time": "2022-03-22T10:15:36.415Z"
   },
   {
    "duration": 1375,
    "start_time": "2022-03-22T10:15:36.456Z"
   },
   {
    "duration": 3,
    "start_time": "2022-03-22T10:15:37.836Z"
   },
   {
    "duration": 1558,
    "start_time": "2022-03-22T10:15:37.932Z"
   },
   {
    "duration": 2,
    "start_time": "2022-03-22T10:15:39.492Z"
   },
   {
    "duration": 48681,
    "start_time": "2022-03-22T10:15:39.496Z"
   },
   {
    "duration": 3,
    "start_time": "2022-03-22T10:16:28.179Z"
   },
   {
    "duration": 2150,
    "start_time": "2022-03-22T10:16:28.184Z"
   },
   {
    "duration": 4,
    "start_time": "2022-03-22T10:16:30.337Z"
   },
   {
    "duration": 1551,
    "start_time": "2022-03-22T10:16:30.432Z"
   },
   {
    "duration": 3,
    "start_time": "2022-03-22T10:16:31.985Z"
   },
   {
    "duration": 48410,
    "start_time": "2022-03-22T10:16:31.989Z"
   },
   {
    "duration": 13,
    "start_time": "2022-03-22T10:17:20.402Z"
   },
   {
    "duration": 26,
    "start_time": "2022-03-22T10:17:20.416Z"
   },
   {
    "duration": 129,
    "start_time": "2022-03-22T10:17:20.444Z"
   },
   {
    "duration": 2,
    "start_time": "2022-03-22T10:17:20.575Z"
   },
   {
    "duration": 2461,
    "start_time": "2022-03-22T10:17:20.579Z"
   },
   {
    "duration": 4,
    "start_time": "2022-03-22T10:17:23.042Z"
   },
   {
    "duration": 2058,
    "start_time": "2022-03-22T10:17:23.048Z"
   },
   {
    "duration": 3,
    "start_time": "2022-03-22T10:17:25.108Z"
   },
   {
    "duration": 66305,
    "start_time": "2022-03-22T10:17:25.113Z"
   },
   {
    "duration": 19,
    "start_time": "2022-03-22T10:18:31.419Z"
   },
   {
    "duration": 8,
    "start_time": "2022-03-22T10:18:31.441Z"
   },
   {
    "duration": 151,
    "start_time": "2022-03-22T10:18:31.451Z"
   },
   {
    "duration": 2,
    "start_time": "2022-03-22T10:18:31.604Z"
   },
   {
    "duration": 1822,
    "start_time": "2022-03-22T10:18:31.611Z"
   },
   {
    "duration": 3,
    "start_time": "2022-03-22T10:18:33.435Z"
   },
   {
    "duration": 871,
    "start_time": "2022-03-22T10:18:33.441Z"
   },
   {
    "duration": 3,
    "start_time": "2022-03-22T10:18:34.315Z"
   },
   {
    "duration": 30406,
    "start_time": "2022-03-22T10:18:34.320Z"
   },
   {
    "duration": 498,
    "start_time": "2022-03-22T10:19:04.732Z"
   },
   {
    "duration": 840,
    "start_time": "2022-03-22T10:19:39.052Z"
   },
   {
    "duration": 4,
    "start_time": "2022-03-22T10:20:09.422Z"
   },
   {
    "duration": 7,
    "start_time": "2022-03-22T10:20:19.132Z"
   },
   {
    "duration": 11,
    "start_time": "2022-03-22T10:20:33.108Z"
   },
   {
    "duration": 7,
    "start_time": "2022-03-22T10:20:49.409Z"
   },
   {
    "duration": 8,
    "start_time": "2022-03-22T10:21:10.481Z"
   },
   {
    "duration": 9,
    "start_time": "2022-03-22T10:21:17.959Z"
   },
   {
    "duration": 7,
    "start_time": "2022-03-22T10:21:38.772Z"
   },
   {
    "duration": 7,
    "start_time": "2022-03-22T10:22:25.355Z"
   },
   {
    "duration": 6,
    "start_time": "2022-03-22T10:22:35.291Z"
   },
   {
    "duration": 189,
    "start_time": "2022-03-22T10:23:00.957Z"
   },
   {
    "duration": 16,
    "start_time": "2022-03-22T10:23:05.855Z"
   },
   {
    "duration": 4,
    "start_time": "2022-03-22T11:39:24.907Z"
   },
   {
    "duration": 4,
    "start_time": "2022-03-22T11:39:30.409Z"
   },
   {
    "duration": 15,
    "start_time": "2022-03-22T11:39:35.028Z"
   },
   {
    "duration": 10,
    "start_time": "2022-03-22T11:39:46.566Z"
   },
   {
    "duration": 4,
    "start_time": "2022-03-22T11:40:00.538Z"
   },
   {
    "duration": 176,
    "start_time": "2022-03-22T11:41:21.127Z"
   },
   {
    "duration": 7,
    "start_time": "2022-03-22T11:41:27.172Z"
   },
   {
    "duration": 7,
    "start_time": "2022-03-22T11:42:15.634Z"
   },
   {
    "duration": 12,
    "start_time": "2022-03-22T11:43:28.989Z"
   },
   {
    "duration": 10698,
    "start_time": "2022-03-22T11:44:06.687Z"
   },
   {
    "duration": 10,
    "start_time": "2022-03-22T11:46:04.661Z"
   },
   {
    "duration": 29,
    "start_time": "2022-03-22T11:46:04.673Z"
   },
   {
    "duration": 0,
    "start_time": "2022-03-22T11:46:04.704Z"
   },
   {
    "duration": 12,
    "start_time": "2022-03-22T11:47:55.815Z"
   },
   {
    "duration": 5,
    "start_time": "2022-03-22T11:48:02.223Z"
   },
   {
    "duration": 5,
    "start_time": "2022-03-22T11:49:10.039Z"
   },
   {
    "duration": 5,
    "start_time": "2022-03-22T11:49:14.571Z"
   },
   {
    "duration": 9,
    "start_time": "2022-03-22T11:49:20.156Z"
   },
   {
    "duration": 53,
    "start_time": "2022-03-22T11:50:14.490Z"
   },
   {
    "duration": 11,
    "start_time": "2022-03-22T11:50:50.054Z"
   },
   {
    "duration": 11,
    "start_time": "2022-03-22T11:51:12.921Z"
   },
   {
    "duration": 4,
    "start_time": "2022-03-22T11:56:43.997Z"
   },
   {
    "duration": 62,
    "start_time": "2022-03-22T11:56:44.012Z"
   },
   {
    "duration": 13,
    "start_time": "2022-03-22T11:56:44.076Z"
   },
   {
    "duration": 19,
    "start_time": "2022-03-22T11:56:44.091Z"
   },
   {
    "duration": 36,
    "start_time": "2022-03-22T11:56:44.112Z"
   },
   {
    "duration": 5,
    "start_time": "2022-03-22T11:56:44.150Z"
   },
   {
    "duration": 13,
    "start_time": "2022-03-22T11:56:44.157Z"
   },
   {
    "duration": 70,
    "start_time": "2022-03-22T11:56:44.172Z"
   },
   {
    "duration": 7,
    "start_time": "2022-03-22T11:56:44.243Z"
   },
   {
    "duration": 173,
    "start_time": "2022-03-22T11:56:44.251Z"
   },
   {
    "duration": 3,
    "start_time": "2022-03-22T11:56:44.431Z"
   },
   {
    "duration": 9,
    "start_time": "2022-03-22T11:56:44.436Z"
   },
   {
    "duration": 6,
    "start_time": "2022-03-22T11:56:44.446Z"
   },
   {
    "duration": 7,
    "start_time": "2022-03-22T11:56:44.454Z"
   },
   {
    "duration": 9,
    "start_time": "2022-03-22T11:56:44.463Z"
   },
   {
    "duration": 7,
    "start_time": "2022-03-22T11:56:44.474Z"
   },
   {
    "duration": 17,
    "start_time": "2022-03-22T11:56:44.483Z"
   },
   {
    "duration": 635,
    "start_time": "2022-03-22T11:56:44.502Z"
   },
   {
    "duration": 0,
    "start_time": "2022-03-22T11:56:45.141Z"
   },
   {
    "duration": 0,
    "start_time": "2022-03-22T11:56:45.141Z"
   },
   {
    "duration": 0,
    "start_time": "2022-03-22T11:56:45.142Z"
   },
   {
    "duration": 0,
    "start_time": "2022-03-22T11:56:45.142Z"
   },
   {
    "duration": 0,
    "start_time": "2022-03-22T11:56:45.143Z"
   },
   {
    "duration": 0,
    "start_time": "2022-03-22T11:56:45.143Z"
   },
   {
    "duration": 0,
    "start_time": "2022-03-22T11:56:45.144Z"
   },
   {
    "duration": 0,
    "start_time": "2022-03-22T11:56:45.144Z"
   },
   {
    "duration": 0,
    "start_time": "2022-03-22T11:56:45.145Z"
   },
   {
    "duration": 0,
    "start_time": "2022-03-22T11:56:45.145Z"
   },
   {
    "duration": 0,
    "start_time": "2022-03-22T11:56:45.232Z"
   },
   {
    "duration": 0,
    "start_time": "2022-03-22T11:56:45.233Z"
   },
   {
    "duration": 0,
    "start_time": "2022-03-22T11:56:45.234Z"
   },
   {
    "duration": 0,
    "start_time": "2022-03-22T11:56:45.235Z"
   },
   {
    "duration": 0,
    "start_time": "2022-03-22T11:56:45.237Z"
   },
   {
    "duration": 0,
    "start_time": "2022-03-22T11:56:45.238Z"
   },
   {
    "duration": 0,
    "start_time": "2022-03-22T11:56:45.239Z"
   },
   {
    "duration": 0,
    "start_time": "2022-03-22T11:56:45.240Z"
   },
   {
    "duration": 0,
    "start_time": "2022-03-22T11:56:45.241Z"
   },
   {
    "duration": 0,
    "start_time": "2022-03-22T11:56:45.243Z"
   },
   {
    "duration": 0,
    "start_time": "2022-03-22T11:56:45.243Z"
   },
   {
    "duration": 0,
    "start_time": "2022-03-22T11:56:45.245Z"
   },
   {
    "duration": 0,
    "start_time": "2022-03-22T11:56:45.245Z"
   },
   {
    "duration": 0,
    "start_time": "2022-03-22T11:56:45.247Z"
   },
   {
    "duration": 0,
    "start_time": "2022-03-22T11:56:45.248Z"
   },
   {
    "duration": 0,
    "start_time": "2022-03-22T11:56:45.249Z"
   },
   {
    "duration": 0,
    "start_time": "2022-03-22T11:56:45.250Z"
   },
   {
    "duration": 0,
    "start_time": "2022-03-22T11:56:45.251Z"
   },
   {
    "duration": 0,
    "start_time": "2022-03-22T11:56:45.252Z"
   },
   {
    "duration": 0,
    "start_time": "2022-03-22T11:56:45.253Z"
   },
   {
    "duration": 6,
    "start_time": "2022-03-22T11:58:24.744Z"
   },
   {
    "duration": 5,
    "start_time": "2022-03-22T11:58:36.801Z"
   },
   {
    "duration": 59,
    "start_time": "2022-03-22T11:58:36.824Z"
   },
   {
    "duration": 13,
    "start_time": "2022-03-22T11:58:36.885Z"
   },
   {
    "duration": 17,
    "start_time": "2022-03-22T11:58:36.900Z"
   },
   {
    "duration": 25,
    "start_time": "2022-03-22T11:58:36.919Z"
   },
   {
    "duration": 5,
    "start_time": "2022-03-22T11:58:36.947Z"
   },
   {
    "duration": 14,
    "start_time": "2022-03-22T11:58:36.954Z"
   },
   {
    "duration": 70,
    "start_time": "2022-03-22T11:58:36.970Z"
   },
   {
    "duration": 6,
    "start_time": "2022-03-22T11:58:37.042Z"
   },
   {
    "duration": 170,
    "start_time": "2022-03-22T11:58:37.050Z"
   },
   {
    "duration": 3,
    "start_time": "2022-03-22T11:58:37.221Z"
   },
   {
    "duration": 5,
    "start_time": "2022-03-22T11:58:37.231Z"
   },
   {
    "duration": 11,
    "start_time": "2022-03-22T11:58:37.237Z"
   },
   {
    "duration": 5,
    "start_time": "2022-03-22T11:58:37.250Z"
   },
   {
    "duration": 5,
    "start_time": "2022-03-22T11:58:37.259Z"
   },
   {
    "duration": 6,
    "start_time": "2022-03-22T11:58:37.266Z"
   },
   {
    "duration": 8,
    "start_time": "2022-03-22T11:58:37.273Z"
   },
   {
    "duration": 1550,
    "start_time": "2022-03-22T11:58:37.283Z"
   },
   {
    "duration": 97,
    "start_time": "2022-03-22T11:58:38.835Z"
   },
   {
    "duration": 2129,
    "start_time": "2022-03-22T11:58:38.934Z"
   },
   {
    "duration": 3,
    "start_time": "2022-03-22T11:58:41.064Z"
   },
   {
    "duration": 46780,
    "start_time": "2022-03-22T11:58:41.068Z"
   },
   {
    "duration": 2,
    "start_time": "2022-03-22T11:59:27.850Z"
   },
   {
    "duration": 1478,
    "start_time": "2022-03-22T11:59:27.854Z"
   },
   {
    "duration": 3,
    "start_time": "2022-03-22T11:59:29.336Z"
   },
   {
    "duration": 1650,
    "start_time": "2022-03-22T11:59:29.342Z"
   },
   {
    "duration": 2,
    "start_time": "2022-03-22T11:59:30.994Z"
   },
   {
    "duration": 48330,
    "start_time": "2022-03-22T11:59:30.998Z"
   },
   {
    "duration": 12,
    "start_time": "2022-03-22T12:00:19.331Z"
   },
   {
    "duration": 19,
    "start_time": "2022-03-22T12:00:19.345Z"
   },
   {
    "duration": 142,
    "start_time": "2022-03-22T12:00:19.365Z"
   },
   {
    "duration": 3,
    "start_time": "2022-03-22T12:00:19.509Z"
   },
   {
    "duration": 1726,
    "start_time": "2022-03-22T12:00:19.513Z"
   },
   {
    "duration": 93,
    "start_time": "2022-03-22T12:00:21.241Z"
   },
   {
    "duration": 2062,
    "start_time": "2022-03-22T12:00:21.337Z"
   },
   {
    "duration": 3,
    "start_time": "2022-03-22T12:00:23.400Z"
   },
   {
    "duration": 65611,
    "start_time": "2022-03-22T12:00:23.405Z"
   },
   {
    "duration": 20,
    "start_time": "2022-03-22T12:01:29.018Z"
   },
   {
    "duration": 5,
    "start_time": "2022-03-22T12:01:29.040Z"
   },
   {
    "duration": 145,
    "start_time": "2022-03-22T12:01:29.047Z"
   },
   {
    "duration": 3,
    "start_time": "2022-03-22T12:01:29.194Z"
   },
   {
    "duration": 1231,
    "start_time": "2022-03-22T12:01:29.202Z"
   },
   {
    "duration": 94,
    "start_time": "2022-03-22T12:01:30.437Z"
   },
   {
    "duration": 839,
    "start_time": "2022-03-22T12:01:30.533Z"
   },
   {
    "duration": 2,
    "start_time": "2022-03-22T12:01:31.374Z"
   },
   {
    "duration": 27823,
    "start_time": "2022-03-22T12:01:31.378Z"
   },
   {
    "duration": 9,
    "start_time": "2022-03-22T12:01:59.203Z"
   },
   {
    "duration": 776,
    "start_time": "2022-03-22T12:01:59.214Z"
   },
   {
    "duration": 16,
    "start_time": "2022-03-22T12:07:25.148Z"
   },
   {
    "duration": 296,
    "start_time": "2022-03-22T12:20:49.379Z"
   },
   {
    "duration": 18,
    "start_time": "2022-03-22T12:21:12.543Z"
   },
   {
    "duration": 17,
    "start_time": "2022-03-22T12:21:33.094Z"
   },
   {
    "duration": 18,
    "start_time": "2022-03-22T12:22:01.934Z"
   },
   {
    "duration": 17,
    "start_time": "2022-03-22T12:22:45.150Z"
   },
   {
    "duration": 17,
    "start_time": "2022-03-22T12:22:58.645Z"
   },
   {
    "duration": 19,
    "start_time": "2022-03-22T12:23:09.584Z"
   },
   {
    "duration": 17,
    "start_time": "2022-03-22T12:23:27.693Z"
   },
   {
    "duration": 28,
    "start_time": "2022-03-22T12:25:42.249Z"
   },
   {
    "duration": 24,
    "start_time": "2022-03-22T12:26:27.464Z"
   },
   {
    "duration": 24,
    "start_time": "2022-03-22T12:26:31.146Z"
   },
   {
    "duration": 27,
    "start_time": "2022-03-22T12:26:33.867Z"
   },
   {
    "duration": 17,
    "start_time": "2022-03-22T12:27:09.994Z"
   },
   {
    "duration": 22,
    "start_time": "2022-03-22T12:27:28.673Z"
   },
   {
    "duration": 28,
    "start_time": "2022-03-22T12:30:30.864Z"
   },
   {
    "duration": 10,
    "start_time": "2022-03-22T12:33:30.535Z"
   },
   {
    "duration": 38,
    "start_time": "2022-03-22T12:33:34.512Z"
   },
   {
    "duration": 34,
    "start_time": "2022-03-22T12:35:03.840Z"
   },
   {
    "duration": 716,
    "start_time": "2022-03-22T12:35:22.903Z"
   },
   {
    "duration": 988,
    "start_time": "2022-03-22T12:35:31.296Z"
   },
   {
    "duration": 798,
    "start_time": "2022-03-22T12:35:52.776Z"
   },
   {
    "duration": 26,
    "start_time": "2022-03-22T12:36:08.159Z"
   },
   {
    "duration": 26,
    "start_time": "2022-03-22T12:36:29.685Z"
   },
   {
    "duration": 27,
    "start_time": "2022-03-22T12:39:34.975Z"
   },
   {
    "duration": 27,
    "start_time": "2022-03-22T12:39:39.344Z"
   },
   {
    "duration": 28,
    "start_time": "2022-03-22T12:39:43.313Z"
   },
   {
    "duration": 28,
    "start_time": "2022-03-22T12:39:47.024Z"
   },
   {
    "duration": 29,
    "start_time": "2022-03-22T12:39:59.825Z"
   },
   {
    "duration": 27,
    "start_time": "2022-03-22T12:40:06.115Z"
   },
   {
    "duration": 29,
    "start_time": "2022-03-22T12:40:16.233Z"
   },
   {
    "duration": 37,
    "start_time": "2022-03-22T12:40:25.649Z"
   },
   {
    "duration": 36,
    "start_time": "2022-03-22T12:40:40.621Z"
   },
   {
    "duration": 19,
    "start_time": "2022-03-22T12:45:20.683Z"
   },
   {
    "duration": 29,
    "start_time": "2022-03-22T12:47:08.857Z"
   },
   {
    "duration": 4,
    "start_time": "2022-03-22T13:00:22.474Z"
   },
   {
    "duration": 5,
    "start_time": "2022-03-22T13:01:28.448Z"
   },
   {
    "duration": 10,
    "start_time": "2022-03-22T13:02:15.170Z"
   },
   {
    "duration": 11,
    "start_time": "2022-03-22T13:02:31.337Z"
   },
   {
    "duration": 759,
    "start_time": "2022-03-22T13:02:35.564Z"
   },
   {
    "duration": 4,
    "start_time": "2022-03-22T13:02:50.400Z"
   },
   {
    "duration": 778,
    "start_time": "2022-03-22T13:03:35.335Z"
   },
   {
    "duration": 5,
    "start_time": "2022-03-22T13:04:44.532Z"
   },
   {
    "duration": 771,
    "start_time": "2022-03-22T13:04:48.051Z"
   },
   {
    "duration": 6,
    "start_time": "2022-03-22T13:04:56.723Z"
   },
   {
    "duration": 778,
    "start_time": "2022-03-22T13:04:59.747Z"
   },
   {
    "duration": 271,
    "start_time": "2022-03-22T13:06:16.057Z"
   },
   {
    "duration": 209,
    "start_time": "2022-03-22T13:06:35.624Z"
   },
   {
    "duration": 189,
    "start_time": "2022-03-22T13:06:41.476Z"
   },
   {
    "duration": 4,
    "start_time": "2022-03-22T13:12:14.380Z"
   },
   {
    "duration": 815,
    "start_time": "2022-03-22T13:12:15.344Z"
   },
   {
    "duration": 208,
    "start_time": "2022-03-22T13:12:17.962Z"
   },
   {
    "duration": 123,
    "start_time": "2022-03-22T13:13:42.944Z"
   },
   {
    "duration": 404,
    "start_time": "2022-03-22T13:14:27.165Z"
   },
   {
    "duration": 4,
    "start_time": "2022-03-22T13:14:52.567Z"
   },
   {
    "duration": 913,
    "start_time": "2022-03-22T13:14:57.292Z"
   },
   {
    "duration": 237,
    "start_time": "2022-03-22T13:14:59.530Z"
   },
   {
    "duration": 433,
    "start_time": "2022-03-22T13:15:00.873Z"
   },
   {
    "duration": 2708,
    "start_time": "2022-03-22T20:34:31.148Z"
   },
   {
    "duration": 88,
    "start_time": "2022-03-22T20:34:33.859Z"
   },
   {
    "duration": 33,
    "start_time": "2022-03-22T20:34:33.949Z"
   },
   {
    "duration": 22,
    "start_time": "2022-03-22T20:34:33.985Z"
   },
   {
    "duration": 40,
    "start_time": "2022-03-22T20:34:34.010Z"
   },
   {
    "duration": 35,
    "start_time": "2022-03-22T20:34:34.052Z"
   },
   {
    "duration": 23,
    "start_time": "2022-03-22T20:34:34.090Z"
   },
   {
    "duration": 83,
    "start_time": "2022-03-22T20:34:34.116Z"
   },
   {
    "duration": 14,
    "start_time": "2022-03-22T20:34:34.206Z"
   },
   {
    "duration": 360,
    "start_time": "2022-03-22T20:34:34.226Z"
   },
   {
    "duration": 4,
    "start_time": "2022-03-22T20:34:34.589Z"
   },
   {
    "duration": 19,
    "start_time": "2022-03-22T20:34:34.596Z"
   },
   {
    "duration": 16,
    "start_time": "2022-03-22T20:34:34.618Z"
   },
   {
    "duration": 14,
    "start_time": "2022-03-22T20:34:34.637Z"
   },
   {
    "duration": 11,
    "start_time": "2022-03-22T20:34:34.654Z"
   },
   {
    "duration": 22,
    "start_time": "2022-03-22T20:34:34.667Z"
   },
   {
    "duration": 12,
    "start_time": "2022-03-22T20:34:34.692Z"
   },
   {
    "duration": 1776,
    "start_time": "2022-03-22T20:34:34.706Z"
   },
   {
    "duration": 4,
    "start_time": "2022-03-22T20:34:36.486Z"
   },
   {
    "duration": 2378,
    "start_time": "2022-03-22T20:34:36.493Z"
   },
   {
    "duration": 8,
    "start_time": "2022-03-22T20:34:38.874Z"
   },
   {
    "duration": 50498,
    "start_time": "2022-03-22T20:34:38.884Z"
   },
   {
    "duration": 4,
    "start_time": "2022-03-22T20:35:29.386Z"
   },
   {
    "duration": 2192,
    "start_time": "2022-03-22T20:35:29.393Z"
   },
   {
    "duration": 4,
    "start_time": "2022-03-22T20:35:31.590Z"
   },
   {
    "duration": 2538,
    "start_time": "2022-03-22T20:35:31.598Z"
   },
   {
    "duration": 4,
    "start_time": "2022-03-22T20:35:34.139Z"
   },
   {
    "duration": 60989,
    "start_time": "2022-03-22T20:35:34.151Z"
   },
   {
    "duration": 16,
    "start_time": "2022-03-22T20:36:35.142Z"
   },
   {
    "duration": 24,
    "start_time": "2022-03-22T20:36:35.160Z"
   },
   {
    "duration": 300,
    "start_time": "2022-03-22T20:36:35.187Z"
   },
   {
    "duration": 4,
    "start_time": "2022-03-22T20:36:35.490Z"
   },
   {
    "duration": 1993,
    "start_time": "2022-03-22T20:36:35.497Z"
   },
   {
    "duration": 4,
    "start_time": "2022-03-22T20:36:37.494Z"
   },
   {
    "duration": 2986,
    "start_time": "2022-03-22T20:36:37.586Z"
   },
   {
    "duration": 4,
    "start_time": "2022-03-22T20:36:40.583Z"
   },
   {
    "duration": 74606,
    "start_time": "2022-03-22T20:36:40.589Z"
   },
   {
    "duration": 18,
    "start_time": "2022-03-22T20:37:55.198Z"
   },
   {
    "duration": 21,
    "start_time": "2022-03-22T20:37:55.218Z"
   },
   {
    "duration": 290,
    "start_time": "2022-03-22T20:37:55.241Z"
   },
   {
    "duration": 6,
    "start_time": "2022-03-22T20:37:55.533Z"
   },
   {
    "duration": 2241,
    "start_time": "2022-03-22T20:37:55.542Z"
   },
   {
    "duration": 6,
    "start_time": "2022-03-22T20:37:57.786Z"
   },
   {
    "duration": 1259,
    "start_time": "2022-03-22T20:37:57.797Z"
   },
   {
    "duration": 3,
    "start_time": "2022-03-22T20:37:59.059Z"
   },
   {
    "duration": 29238,
    "start_time": "2022-03-22T20:37:59.065Z"
   },
   {
    "duration": 115,
    "start_time": "2022-03-22T20:38:28.306Z"
   },
   {
    "duration": 7,
    "start_time": "2022-03-22T20:38:28.423Z"
   },
   {
    "duration": 1327,
    "start_time": "2022-03-22T20:38:28.433Z"
   },
   {
    "duration": 391,
    "start_time": "2022-03-22T20:38:29.762Z"
   },
   {
    "duration": 801,
    "start_time": "2022-03-22T20:38:30.156Z"
   },
   {
    "duration": 155,
    "start_time": "2022-03-23T16:03:31.403Z"
   },
   {
    "duration": 6,
    "start_time": "2022-03-23T16:03:59.036Z"
   },
   {
    "duration": 180,
    "start_time": "2022-03-23T16:04:22.373Z"
   },
   {
    "duration": 153,
    "start_time": "2022-03-23T16:04:33.074Z"
   },
   {
    "duration": 4,
    "start_time": "2022-03-23T16:04:57.006Z"
   },
   {
    "duration": 50,
    "start_time": "2022-03-23T16:05:00.272Z"
   },
   {
    "duration": 1814,
    "start_time": "2022-03-23T16:05:07.337Z"
   },
   {
    "duration": 49,
    "start_time": "2022-03-23T16:05:09.153Z"
   },
   {
    "duration": 83,
    "start_time": "2022-03-23T16:05:09.203Z"
   },
   {
    "duration": 86,
    "start_time": "2022-03-23T16:05:09.288Z"
   },
   {
    "duration": 20,
    "start_time": "2022-03-23T16:05:09.376Z"
   },
   {
    "duration": 5,
    "start_time": "2022-03-23T16:05:09.398Z"
   },
   {
    "duration": 15,
    "start_time": "2022-03-23T16:05:09.405Z"
   },
   {
    "duration": 36,
    "start_time": "2022-03-23T16:05:09.422Z"
   },
   {
    "duration": 10,
    "start_time": "2022-03-23T16:05:09.460Z"
   },
   {
    "duration": 180,
    "start_time": "2022-03-23T16:05:09.472Z"
   },
   {
    "duration": 3,
    "start_time": "2022-03-23T16:05:09.654Z"
   },
   {
    "duration": 9,
    "start_time": "2022-03-23T16:05:09.658Z"
   },
   {
    "duration": 15,
    "start_time": "2022-03-23T16:05:09.669Z"
   },
   {
    "duration": 7,
    "start_time": "2022-03-23T16:05:09.687Z"
   },
   {
    "duration": 16,
    "start_time": "2022-03-23T16:05:09.701Z"
   },
   {
    "duration": 10,
    "start_time": "2022-03-23T16:05:09.719Z"
   },
   {
    "duration": 10,
    "start_time": "2022-03-23T16:05:09.731Z"
   },
   {
    "duration": 1459,
    "start_time": "2022-03-23T16:05:09.743Z"
   },
   {
    "duration": 3,
    "start_time": "2022-03-23T16:05:11.205Z"
   },
   {
    "duration": 1791,
    "start_time": "2022-03-23T16:05:11.210Z"
   },
   {
    "duration": 3,
    "start_time": "2022-03-23T16:05:13.003Z"
   },
   {
    "duration": 33638,
    "start_time": "2022-03-23T16:05:13.008Z"
   },
   {
    "duration": 3,
    "start_time": "2022-03-23T16:05:46.648Z"
   },
   {
    "duration": 1650,
    "start_time": "2022-03-23T16:05:46.652Z"
   },
   {
    "duration": 6,
    "start_time": "2022-03-23T16:05:48.305Z"
   },
   {
    "duration": 1637,
    "start_time": "2022-03-23T16:05:48.313Z"
   },
   {
    "duration": 2,
    "start_time": "2022-03-23T16:05:49.952Z"
   },
   {
    "duration": 33704,
    "start_time": "2022-03-23T16:05:49.958Z"
   },
   {
    "duration": 13,
    "start_time": "2022-03-23T16:06:23.664Z"
   },
   {
    "duration": 23,
    "start_time": "2022-03-23T16:06:23.679Z"
   },
   {
    "duration": 137,
    "start_time": "2022-03-23T16:06:23.703Z"
   },
   {
    "duration": 3,
    "start_time": "2022-03-23T16:06:23.842Z"
   },
   {
    "duration": 1755,
    "start_time": "2022-03-23T16:06:23.847Z"
   },
   {
    "duration": 4,
    "start_time": "2022-03-23T16:06:25.604Z"
   },
   {
    "duration": 1944,
    "start_time": "2022-03-23T16:06:25.610Z"
   },
   {
    "duration": 2,
    "start_time": "2022-03-23T16:06:27.556Z"
   },
   {
    "duration": 49284,
    "start_time": "2022-03-23T16:06:27.560Z"
   },
   {
    "duration": 64,
    "start_time": "2022-03-23T16:07:16.846Z"
   },
   {
    "duration": 27,
    "start_time": "2022-03-23T16:07:16.913Z"
   },
   {
    "duration": 280,
    "start_time": "2022-03-23T16:07:16.942Z"
   },
   {
    "duration": 2,
    "start_time": "2022-03-23T16:07:17.224Z"
   },
   {
    "duration": 1274,
    "start_time": "2022-03-23T16:07:17.228Z"
   },
   {
    "duration": 3,
    "start_time": "2022-03-23T16:07:18.505Z"
   },
   {
    "duration": 1265,
    "start_time": "2022-03-23T16:07:18.510Z"
   },
   {
    "duration": 2,
    "start_time": "2022-03-23T16:07:19.777Z"
   },
   {
    "duration": 19396,
    "start_time": "2022-03-23T16:07:19.781Z"
   },
   {
    "duration": 78,
    "start_time": "2022-03-23T16:07:39.179Z"
   },
   {
    "duration": 5,
    "start_time": "2022-03-23T16:07:39.258Z"
   },
   {
    "duration": 914,
    "start_time": "2022-03-23T16:07:39.265Z"
   },
   {
    "duration": 0,
    "start_time": "2022-03-23T16:07:40.181Z"
   },
   {
    "duration": 1,
    "start_time": "2022-03-23T16:07:40.182Z"
   },
   {
    "duration": 6,
    "start_time": "2022-03-23T16:10:07.557Z"
   },
   {
    "duration": 5,
    "start_time": "2022-03-23T16:10:16.940Z"
   },
   {
    "duration": 924,
    "start_time": "2022-03-23T16:10:17.867Z"
   },
   {
    "duration": 6,
    "start_time": "2022-03-23T16:18:50.549Z"
   },
   {
    "duration": 820,
    "start_time": "2022-03-23T16:18:52.426Z"
   },
   {
    "duration": 4,
    "start_time": "2022-03-23T16:19:40.873Z"
   },
   {
    "duration": 5,
    "start_time": "2022-03-23T16:19:54.770Z"
   },
   {
    "duration": 892,
    "start_time": "2022-03-23T16:19:56.151Z"
   },
   {
    "duration": 6,
    "start_time": "2022-03-23T16:22:07.670Z"
   },
   {
    "duration": 932,
    "start_time": "2022-03-23T16:22:09.657Z"
   },
   {
    "duration": 6,
    "start_time": "2022-03-23T16:22:21.399Z"
   },
   {
    "duration": 919,
    "start_time": "2022-03-23T16:22:23.375Z"
   },
   {
    "duration": 327,
    "start_time": "2022-03-23T16:22:26.615Z"
   },
   {
    "duration": 531,
    "start_time": "2022-03-23T16:22:31.096Z"
   },
   {
    "duration": 3,
    "start_time": "2022-03-23T16:22:46.855Z"
   },
   {
    "duration": 7,
    "start_time": "2022-03-23T16:27:11.400Z"
   },
   {
    "duration": 996,
    "start_time": "2022-03-23T16:27:14.573Z"
   },
   {
    "duration": 386,
    "start_time": "2022-03-23T16:27:23.472Z"
   },
   {
    "duration": 7,
    "start_time": "2022-03-23T16:32:04.654Z"
   },
   {
    "duration": 9,
    "start_time": "2022-03-23T16:33:47.794Z"
   },
   {
    "duration": 1145,
    "start_time": "2022-03-23T16:33:50.896Z"
   },
   {
    "duration": 806,
    "start_time": "2022-03-23T16:34:03.870Z"
   },
   {
    "duration": 5,
    "start_time": "2022-03-23T16:34:23.391Z"
   },
   {
    "duration": 933,
    "start_time": "2022-03-23T16:34:25.349Z"
   },
   {
    "duration": 7,
    "start_time": "2022-03-23T16:37:08.906Z"
   },
   {
    "duration": 1004,
    "start_time": "2022-03-23T16:37:30.439Z"
   },
   {
    "duration": 8,
    "start_time": "2022-03-23T16:37:47.550Z"
   },
   {
    "duration": 126,
    "start_time": "2022-03-23T16:38:10.525Z"
   },
   {
    "duration": 5,
    "start_time": "2022-03-23T16:41:29.654Z"
   },
   {
    "duration": 824,
    "start_time": "2022-03-23T16:41:29.661Z"
   },
   {
    "duration": 7,
    "start_time": "2022-03-23T16:41:49.258Z"
   },
   {
    "duration": 228,
    "start_time": "2022-03-23T16:42:24.167Z"
   },
   {
    "duration": 879,
    "start_time": "2022-03-23T16:42:32.618Z"
   },
   {
    "duration": 7,
    "start_time": "2022-03-23T16:42:49.363Z"
   },
   {
    "duration": 821,
    "start_time": "2022-03-23T16:42:52.916Z"
   },
   {
    "duration": 214,
    "start_time": "2022-03-23T16:42:54.455Z"
   },
   {
    "duration": 214,
    "start_time": "2022-03-23T16:43:11.475Z"
   },
   {
    "duration": 429,
    "start_time": "2022-03-23T16:43:28.135Z"
   },
   {
    "duration": 5,
    "start_time": "2022-03-23T16:44:13.372Z"
   },
   {
    "duration": 813,
    "start_time": "2022-03-23T16:44:16.192Z"
   },
   {
    "duration": 222,
    "start_time": "2022-03-23T16:44:17.008Z"
   },
   {
    "duration": 575,
    "start_time": "2022-03-23T16:44:17.584Z"
   },
   {
    "duration": 245,
    "start_time": "2022-03-23T16:45:00.465Z"
   },
   {
    "duration": 24,
    "start_time": "2022-03-23T16:45:12.471Z"
   },
   {
    "duration": 194,
    "start_time": "2022-03-23T16:45:15.912Z"
   },
   {
    "duration": 206,
    "start_time": "2022-03-23T16:45:31.982Z"
   },
   {
    "duration": 202,
    "start_time": "2022-03-23T16:45:35.139Z"
   },
   {
    "duration": 229,
    "start_time": "2022-03-23T16:46:16.829Z"
   },
   {
    "duration": 7,
    "start_time": "2022-03-23T16:50:37.070Z"
   },
   {
    "duration": 840,
    "start_time": "2022-03-23T16:50:39.693Z"
   },
   {
    "duration": 1142,
    "start_time": "2022-03-23T16:51:37.659Z"
   },
   {
    "duration": 314,
    "start_time": "2022-03-23T16:51:45.481Z"
   },
   {
    "duration": 630,
    "start_time": "2022-03-23T16:51:47.191Z"
   },
   {
    "duration": 15,
    "start_time": "2022-03-23T16:51:57.670Z"
   },
   {
    "duration": 230,
    "start_time": "2022-03-23T16:53:57.780Z"
   },
   {
    "duration": 183,
    "start_time": "2022-03-23T16:54:19.837Z"
   },
   {
    "duration": 290,
    "start_time": "2022-03-23T16:55:22.833Z"
   },
   {
    "duration": 24,
    "start_time": "2022-03-23T17:01:14.857Z"
   },
   {
    "duration": 28,
    "start_time": "2022-03-23T17:02:01.069Z"
   },
   {
    "duration": 24,
    "start_time": "2022-03-23T17:02:53.622Z"
   },
   {
    "duration": 22,
    "start_time": "2022-03-23T17:04:33.060Z"
   },
   {
    "duration": 5,
    "start_time": "2022-03-23T17:04:38.733Z"
   },
   {
    "duration": 74,
    "start_time": "2022-03-23T17:04:38.740Z"
   },
   {
    "duration": 14,
    "start_time": "2022-03-23T17:04:38.816Z"
   },
   {
    "duration": 23,
    "start_time": "2022-03-23T17:04:38.834Z"
   },
   {
    "duration": 47,
    "start_time": "2022-03-23T17:04:38.859Z"
   },
   {
    "duration": 6,
    "start_time": "2022-03-23T17:04:38.908Z"
   },
   {
    "duration": 17,
    "start_time": "2022-03-23T17:04:38.916Z"
   },
   {
    "duration": 85,
    "start_time": "2022-03-23T17:04:38.935Z"
   },
   {
    "duration": 9,
    "start_time": "2022-03-23T17:04:39.024Z"
   },
   {
    "duration": 179,
    "start_time": "2022-03-23T17:04:39.035Z"
   },
   {
    "duration": 3,
    "start_time": "2022-03-23T17:04:39.216Z"
   },
   {
    "duration": 14,
    "start_time": "2022-03-23T17:04:39.221Z"
   },
   {
    "duration": 36,
    "start_time": "2022-03-23T17:04:39.237Z"
   },
   {
    "duration": 22,
    "start_time": "2022-03-23T17:04:39.275Z"
   },
   {
    "duration": 20,
    "start_time": "2022-03-23T17:04:39.299Z"
   },
   {
    "duration": 12,
    "start_time": "2022-03-23T17:04:39.322Z"
   },
   {
    "duration": 20,
    "start_time": "2022-03-23T17:04:39.336Z"
   },
   {
    "duration": 2943,
    "start_time": "2022-03-23T17:04:39.358Z"
   },
   {
    "duration": 3,
    "start_time": "2022-03-23T17:04:42.305Z"
   },
   {
    "duration": 1735,
    "start_time": "2022-03-23T17:04:42.312Z"
   },
   {
    "duration": 2,
    "start_time": "2022-03-23T17:04:44.052Z"
   },
   {
    "duration": 41033,
    "start_time": "2022-03-23T17:04:44.056Z"
   },
   {
    "duration": 11,
    "start_time": "2022-03-23T17:05:25.091Z"
   },
   {
    "duration": 1999,
    "start_time": "2022-03-23T17:05:25.104Z"
   },
   {
    "duration": 91,
    "start_time": "2022-03-23T17:05:27.110Z"
   },
   {
    "duration": 1664,
    "start_time": "2022-03-23T17:05:27.204Z"
   },
   {
    "duration": 3,
    "start_time": "2022-03-23T17:05:28.870Z"
   },
   {
    "duration": 35557,
    "start_time": "2022-03-23T17:05:28.875Z"
   },
   {
    "duration": 16,
    "start_time": "2022-03-23T17:06:04.434Z"
   },
   {
    "duration": 9,
    "start_time": "2022-03-23T17:06:04.452Z"
   },
   {
    "duration": 223,
    "start_time": "2022-03-23T17:06:04.463Z"
   },
   {
    "duration": 3,
    "start_time": "2022-03-23T17:06:04.690Z"
   },
   {
    "duration": 2898,
    "start_time": "2022-03-23T17:06:04.702Z"
   },
   {
    "duration": 3,
    "start_time": "2022-03-23T17:06:07.603Z"
   },
   {
    "duration": 1958,
    "start_time": "2022-03-23T17:06:07.608Z"
   },
   {
    "duration": 2,
    "start_time": "2022-03-23T17:06:09.568Z"
   },
   {
    "duration": 47592,
    "start_time": "2022-03-23T17:06:09.571Z"
   },
   {
    "duration": 17,
    "start_time": "2022-03-23T17:06:57.166Z"
   },
   {
    "duration": 17,
    "start_time": "2022-03-23T17:06:57.185Z"
   },
   {
    "duration": 221,
    "start_time": "2022-03-23T17:06:57.205Z"
   },
   {
    "duration": 3,
    "start_time": "2022-03-23T17:06:57.428Z"
   },
   {
    "duration": 1670,
    "start_time": "2022-03-23T17:06:57.432Z"
   },
   {
    "duration": 4,
    "start_time": "2022-03-23T17:06:59.105Z"
   },
   {
    "duration": 947,
    "start_time": "2022-03-23T17:06:59.111Z"
   },
   {
    "duration": 4,
    "start_time": "2022-03-23T17:07:00.060Z"
   },
   {
    "duration": 23837,
    "start_time": "2022-03-23T17:07:00.065Z"
   },
   {
    "duration": 29,
    "start_time": "2022-03-23T17:07:23.904Z"
   },
   {
    "duration": 18,
    "start_time": "2022-03-23T17:07:23.935Z"
   },
   {
    "duration": 1188,
    "start_time": "2022-03-23T17:07:23.955Z"
   },
   {
    "duration": 316,
    "start_time": "2022-03-23T17:07:25.145Z"
   },
   {
    "duration": 470,
    "start_time": "2022-03-23T17:07:25.464Z"
   },
   {
    "duration": 23,
    "start_time": "2022-03-23T17:07:25.936Z"
   },
   {
    "duration": 225,
    "start_time": "2022-03-23T17:07:25.961Z"
   },
   {
    "duration": 30,
    "start_time": "2022-03-23T17:07:37.137Z"
   },
   {
    "duration": 32,
    "start_time": "2022-03-23T17:09:32.370Z"
   },
   {
    "duration": 118,
    "start_time": "2022-03-23T17:11:23.787Z"
   },
   {
    "duration": 148,
    "start_time": "2022-03-23T17:15:06.715Z"
   },
   {
    "duration": 22,
    "start_time": "2022-03-23T17:15:22.293Z"
   },
   {
    "duration": 16,
    "start_time": "2022-03-23T17:15:42.326Z"
   },
   {
    "duration": 16,
    "start_time": "2022-03-23T17:16:34.584Z"
   },
   {
    "duration": 15,
    "start_time": "2022-03-23T17:16:55.867Z"
   },
   {
    "duration": 16,
    "start_time": "2022-03-23T17:17:53.235Z"
   },
   {
    "duration": 14,
    "start_time": "2022-03-23T17:18:09.167Z"
   },
   {
    "duration": 59,
    "start_time": "2022-03-23T17:19:47.620Z"
   },
   {
    "duration": 12,
    "start_time": "2022-03-23T17:44:18.934Z"
   },
   {
    "duration": 142,
    "start_time": "2022-03-23T17:47:12.633Z"
   },
   {
    "duration": 142,
    "start_time": "2022-03-23T17:49:58.786Z"
   },
   {
    "duration": 12,
    "start_time": "2022-03-23T17:50:42.533Z"
   },
   {
    "duration": 128,
    "start_time": "2022-03-23T17:51:13.314Z"
   },
   {
    "duration": 7,
    "start_time": "2022-03-23T17:51:39.361Z"
   },
   {
    "duration": 135,
    "start_time": "2022-03-23T17:51:57.120Z"
   },
   {
    "duration": 42,
    "start_time": "2022-03-23T17:56:30.775Z"
   },
   {
    "duration": 209,
    "start_time": "2022-03-23T18:02:41.138Z"
   },
   {
    "duration": 16,
    "start_time": "2022-03-23T18:05:09.657Z"
   },
   {
    "duration": 15,
    "start_time": "2022-03-23T18:05:15.055Z"
   },
   {
    "duration": 186,
    "start_time": "2022-03-23T18:24:55.880Z"
   },
   {
    "duration": 199,
    "start_time": "2022-03-23T18:25:00.613Z"
   },
   {
    "duration": 1741,
    "start_time": "2022-03-23T18:36:42.099Z"
   },
   {
    "duration": 49,
    "start_time": "2022-03-23T18:36:43.842Z"
   },
   {
    "duration": 16,
    "start_time": "2022-03-23T18:36:43.893Z"
   },
   {
    "duration": 21,
    "start_time": "2022-03-23T18:36:43.912Z"
   },
   {
    "duration": 26,
    "start_time": "2022-03-23T18:36:43.997Z"
   },
   {
    "duration": 7,
    "start_time": "2022-03-23T18:36:44.587Z"
   },
   {
    "duration": 16,
    "start_time": "2022-03-23T18:36:45.192Z"
   },
   {
    "duration": 43,
    "start_time": "2022-03-23T18:36:46.074Z"
   },
   {
    "duration": 10,
    "start_time": "2022-03-23T18:36:46.748Z"
   },
   {
    "duration": 151,
    "start_time": "2022-03-23T18:36:46.821Z"
   },
   {
    "duration": 5,
    "start_time": "2022-03-23T18:36:48.777Z"
   },
   {
    "duration": 12,
    "start_time": "2022-03-23T18:36:48.784Z"
   },
   {
    "duration": 24,
    "start_time": "2022-03-23T18:36:48.798Z"
   },
   {
    "duration": 2201,
    "start_time": "2022-03-23T18:36:48.824Z"
   },
   {
    "duration": 1917,
    "start_time": "2022-03-23T18:36:51.028Z"
   },
   {
    "duration": 36986,
    "start_time": "2022-03-23T18:36:52.947Z"
   },
   {
    "duration": 2688,
    "start_time": "2022-03-23T18:37:29.935Z"
   },
   {
    "duration": 1851,
    "start_time": "2022-03-23T18:37:32.625Z"
   },
   {
    "duration": 39055,
    "start_time": "2022-03-23T18:37:34.477Z"
   },
   {
    "duration": 13,
    "start_time": "2022-03-23T18:38:13.534Z"
   },
   {
    "duration": 9,
    "start_time": "2022-03-23T18:38:13.549Z"
   },
   {
    "duration": 159,
    "start_time": "2022-03-23T18:38:13.559Z"
   },
   {
    "duration": 2490,
    "start_time": "2022-03-23T18:38:13.719Z"
   },
   {
    "duration": 2038,
    "start_time": "2022-03-23T18:38:16.214Z"
   },
   {
    "duration": 49586,
    "start_time": "2022-03-23T18:38:18.256Z"
   },
   {
    "duration": 13,
    "start_time": "2022-03-23T18:39:07.844Z"
   },
   {
    "duration": 8,
    "start_time": "2022-03-23T18:39:07.859Z"
   },
   {
    "duration": 188,
    "start_time": "2022-03-23T18:39:07.869Z"
   },
   {
    "duration": 1874,
    "start_time": "2022-03-23T18:39:08.059Z"
   },
   {
    "duration": 968,
    "start_time": "2022-03-23T18:39:10.010Z"
   },
   {
    "duration": 22263,
    "start_time": "2022-03-23T18:39:10.980Z"
   },
   {
    "duration": 84,
    "start_time": "2022-03-23T18:39:33.245Z"
   },
   {
    "duration": 6,
    "start_time": "2022-03-23T18:39:33.331Z"
   },
   {
    "duration": 855,
    "start_time": "2022-03-23T18:39:33.339Z"
   },
   {
    "duration": 221,
    "start_time": "2022-03-23T18:39:34.201Z"
   },
   {
    "duration": 462,
    "start_time": "2022-03-23T18:39:34.424Z"
   },
   {
    "duration": 32,
    "start_time": "2022-03-23T18:39:34.888Z"
   },
   {
    "duration": 212,
    "start_time": "2022-03-23T18:39:34.923Z"
   },
   {
    "duration": 5,
    "start_time": "2022-03-23T18:40:04.899Z"
   },
   {
    "duration": 1486,
    "start_time": "2022-03-23T19:37:31.198Z"
   },
   {
    "duration": 48,
    "start_time": "2022-03-23T19:37:32.686Z"
   },
   {
    "duration": 11,
    "start_time": "2022-03-23T19:37:32.735Z"
   },
   {
    "duration": 13,
    "start_time": "2022-03-23T19:37:32.748Z"
   },
   {
    "duration": 18,
    "start_time": "2022-03-23T19:37:32.763Z"
   },
   {
    "duration": 5,
    "start_time": "2022-03-23T19:37:32.782Z"
   },
   {
    "duration": 15,
    "start_time": "2022-03-23T19:37:32.788Z"
   },
   {
    "duration": 59,
    "start_time": "2022-03-23T19:37:32.804Z"
   },
   {
    "duration": 9,
    "start_time": "2022-03-23T19:37:32.864Z"
   },
   {
    "duration": 145,
    "start_time": "2022-03-23T19:37:32.876Z"
   },
   {
    "duration": 6,
    "start_time": "2022-03-23T19:37:33.022Z"
   },
   {
    "duration": 6,
    "start_time": "2022-03-23T19:37:33.029Z"
   },
   {
    "duration": 10,
    "start_time": "2022-03-23T19:37:33.037Z"
   },
   {
    "duration": 1416,
    "start_time": "2022-03-23T19:37:33.048Z"
   },
   {
    "duration": 1511,
    "start_time": "2022-03-23T19:37:34.467Z"
   },
   {
    "duration": 29556,
    "start_time": "2022-03-23T19:37:35.980Z"
   },
   {
    "duration": 1427,
    "start_time": "2022-03-23T19:38:05.538Z"
   },
   {
    "duration": 1506,
    "start_time": "2022-03-23T19:38:06.972Z"
   },
   {
    "duration": 29969,
    "start_time": "2022-03-23T19:38:08.480Z"
   },
   {
    "duration": 12,
    "start_time": "2022-03-23T19:38:38.462Z"
   },
   {
    "duration": 6,
    "start_time": "2022-03-23T19:38:38.476Z"
   },
   {
    "duration": 129,
    "start_time": "2022-03-23T19:38:38.484Z"
   },
   {
    "duration": 1148,
    "start_time": "2022-03-23T19:38:38.616Z"
   },
   {
    "duration": 1787,
    "start_time": "2022-03-23T19:38:39.766Z"
   },
   {
    "duration": 42430,
    "start_time": "2022-03-23T19:38:41.554Z"
   },
   {
    "duration": 10,
    "start_time": "2022-03-23T19:39:23.985Z"
   },
   {
    "duration": 8,
    "start_time": "2022-03-23T19:39:23.996Z"
   },
   {
    "duration": 124,
    "start_time": "2022-03-23T19:39:24.007Z"
   },
   {
    "duration": 543,
    "start_time": "2022-03-23T19:39:24.133Z"
   },
   {
    "duration": 900,
    "start_time": "2022-03-23T19:39:24.678Z"
   },
   {
    "duration": 17152,
    "start_time": "2022-03-23T19:39:25.580Z"
   },
   {
    "duration": 68,
    "start_time": "2022-03-23T19:39:42.734Z"
   },
   {
    "duration": 5,
    "start_time": "2022-03-23T19:39:42.804Z"
   },
   {
    "duration": 728,
    "start_time": "2022-03-23T19:39:42.811Z"
   },
   {
    "duration": 191,
    "start_time": "2022-03-23T19:39:43.541Z"
   },
   {
    "duration": 385,
    "start_time": "2022-03-23T19:39:43.734Z"
   },
   {
    "duration": 13,
    "start_time": "2022-03-23T19:39:44.121Z"
   },
   {
    "duration": 176,
    "start_time": "2022-03-23T19:39:44.135Z"
   },
   {
    "duration": 129,
    "start_time": "2022-03-23T20:19:48.775Z"
   },
   {
    "duration": 14,
    "start_time": "2022-03-23T20:23:49.550Z"
   },
   {
    "duration": 6,
    "start_time": "2022-03-23T20:24:08.697Z"
   },
   {
    "duration": 16,
    "start_time": "2022-03-23T20:26:03.754Z"
   },
   {
    "duration": 8,
    "start_time": "2022-03-23T20:26:04.691Z"
   },
   {
    "duration": 196,
    "start_time": "2022-03-23T20:26:06.185Z"
   },
   {
    "duration": 22,
    "start_time": "2022-03-23T20:26:11.850Z"
   },
   {
    "duration": 6,
    "start_time": "2022-03-23T20:26:12.170Z"
   },
   {
    "duration": 303,
    "start_time": "2022-03-23T20:26:12.794Z"
   },
   {
    "duration": 6,
    "start_time": "2022-03-23T20:28:52.432Z"
   },
   {
    "duration": 8,
    "start_time": "2022-03-23T20:29:03.476Z"
   },
   {
    "duration": 7,
    "start_time": "2022-03-23T20:29:09.911Z"
   },
   {
    "duration": 7,
    "start_time": "2022-03-23T20:33:11.082Z"
   },
   {
    "duration": 125,
    "start_time": "2022-03-23T20:36:20.524Z"
   },
   {
    "duration": 1704,
    "start_time": "2022-03-24T14:02:10.297Z"
   },
   {
    "duration": 53,
    "start_time": "2022-03-24T14:02:12.003Z"
   },
   {
    "duration": 14,
    "start_time": "2022-03-24T14:02:12.057Z"
   },
   {
    "duration": 44,
    "start_time": "2022-03-24T14:02:12.073Z"
   },
   {
    "duration": 33,
    "start_time": "2022-03-24T14:02:12.118Z"
   },
   {
    "duration": 16,
    "start_time": "2022-03-24T14:02:12.153Z"
   },
   {
    "duration": 31,
    "start_time": "2022-03-24T14:02:12.171Z"
   },
   {
    "duration": 49,
    "start_time": "2022-03-24T14:02:12.204Z"
   },
   {
    "duration": 12,
    "start_time": "2022-03-24T14:02:12.255Z"
   },
   {
    "duration": 159,
    "start_time": "2022-03-24T14:02:12.270Z"
   },
   {
    "duration": 5,
    "start_time": "2022-03-24T14:02:12.431Z"
   },
   {
    "duration": 37,
    "start_time": "2022-03-24T14:02:12.438Z"
   },
   {
    "duration": 47,
    "start_time": "2022-03-24T14:02:12.476Z"
   },
   {
    "duration": 1257,
    "start_time": "2022-03-24T14:02:12.525Z"
   },
   {
    "duration": 1558,
    "start_time": "2022-03-24T14:02:13.865Z"
   },
   {
    "duration": 30138,
    "start_time": "2022-03-24T14:02:15.426Z"
   },
   {
    "duration": 1296,
    "start_time": "2022-03-24T14:02:45.566Z"
   },
   {
    "duration": 1630,
    "start_time": "2022-03-24T14:02:46.868Z"
   },
   {
    "duration": 30504,
    "start_time": "2022-03-24T14:02:48.499Z"
   },
   {
    "duration": 10,
    "start_time": "2022-03-24T14:03:19.005Z"
   },
   {
    "duration": 19,
    "start_time": "2022-03-24T14:03:19.017Z"
   },
   {
    "duration": 125,
    "start_time": "2022-03-24T14:03:19.038Z"
   },
   {
    "duration": 1301,
    "start_time": "2022-03-24T14:03:19.165Z"
   },
   {
    "duration": 1810,
    "start_time": "2022-03-24T14:03:20.469Z"
   },
   {
    "duration": 41021,
    "start_time": "2022-03-24T14:03:22.281Z"
   },
   {
    "duration": 11,
    "start_time": "2022-03-24T14:04:03.304Z"
   },
   {
    "duration": 9,
    "start_time": "2022-03-24T14:04:03.317Z"
   },
   {
    "duration": 136,
    "start_time": "2022-03-24T14:04:03.329Z"
   },
   {
    "duration": 899,
    "start_time": "2022-03-24T14:04:03.467Z"
   },
   {
    "duration": 777,
    "start_time": "2022-03-24T14:04:04.462Z"
   },
   {
    "duration": 17345,
    "start_time": "2022-03-24T14:04:05.241Z"
   },
   {
    "duration": 59,
    "start_time": "2022-03-24T14:04:22.589Z"
   },
   {
    "duration": 14,
    "start_time": "2022-03-24T14:04:22.650Z"
   },
   {
    "duration": 706,
    "start_time": "2022-03-24T14:04:22.666Z"
   },
   {
    "duration": 190,
    "start_time": "2022-03-24T14:04:23.374Z"
   },
   {
    "duration": 378,
    "start_time": "2022-03-24T14:04:23.566Z"
   },
   {
    "duration": 18,
    "start_time": "2022-03-24T14:04:23.946Z"
   },
   {
    "duration": 174,
    "start_time": "2022-03-24T14:04:23.966Z"
   },
   {
    "duration": 803,
    "start_time": "2022-03-24T14:05:24.580Z"
   },
   {
    "duration": 876,
    "start_time": "2022-03-24T14:06:27.830Z"
   },
   {
    "duration": 155,
    "start_time": "2022-03-24T14:11:50.483Z"
   },
   {
    "duration": 688,
    "start_time": "2022-03-24T14:12:56.159Z"
   },
   {
    "duration": 143,
    "start_time": "2022-03-24T14:13:02.173Z"
   },
   {
    "duration": 147,
    "start_time": "2022-03-24T14:13:13.566Z"
   },
   {
    "duration": 137,
    "start_time": "2022-03-24T14:13:57.218Z"
   },
   {
    "duration": 205,
    "start_time": "2022-03-24T14:15:22.506Z"
   },
   {
    "duration": 122,
    "start_time": "2022-03-24T14:31:35.965Z"
   },
   {
    "duration": 139,
    "start_time": "2022-03-24T14:47:24.260Z"
   },
   {
    "duration": 150,
    "start_time": "2022-03-24T14:47:42.243Z"
   },
   {
    "duration": 145,
    "start_time": "2022-03-24T14:48:24.751Z"
   },
   {
    "duration": 154,
    "start_time": "2022-03-24T14:48:28.790Z"
   },
   {
    "duration": 164,
    "start_time": "2022-03-24T14:49:01.351Z"
   },
   {
    "duration": 164,
    "start_time": "2022-03-24T14:49:07.206Z"
   },
   {
    "duration": 1592,
    "start_time": "2022-03-24T14:50:19.382Z"
   },
   {
    "duration": 53,
    "start_time": "2022-03-24T14:50:20.976Z"
   },
   {
    "duration": 14,
    "start_time": "2022-03-24T14:50:21.032Z"
   },
   {
    "duration": 23,
    "start_time": "2022-03-24T14:50:21.049Z"
   },
   {
    "duration": 21,
    "start_time": "2022-03-24T14:50:21.074Z"
   },
   {
    "duration": 6,
    "start_time": "2022-03-24T14:50:21.097Z"
   },
   {
    "duration": 12,
    "start_time": "2022-03-24T14:50:21.104Z"
   },
   {
    "duration": 66,
    "start_time": "2022-03-24T14:50:21.118Z"
   },
   {
    "duration": 9,
    "start_time": "2022-03-24T14:50:21.186Z"
   },
   {
    "duration": 151,
    "start_time": "2022-03-24T14:50:21.198Z"
   },
   {
    "duration": 13,
    "start_time": "2022-03-24T14:50:21.350Z"
   },
   {
    "duration": 30,
    "start_time": "2022-03-24T14:50:21.364Z"
   },
   {
    "duration": 35,
    "start_time": "2022-03-24T14:50:21.396Z"
   },
   {
    "duration": 1406,
    "start_time": "2022-03-24T14:50:21.460Z"
   },
   {
    "duration": 1526,
    "start_time": "2022-03-24T14:50:22.869Z"
   },
   {
    "duration": 30285,
    "start_time": "2022-03-24T14:50:24.397Z"
   },
   {
    "duration": 1379,
    "start_time": "2022-03-24T14:50:54.684Z"
   },
   {
    "duration": 1520,
    "start_time": "2022-03-24T14:50:56.066Z"
   },
   {
    "duration": 30165,
    "start_time": "2022-03-24T14:50:57.588Z"
   },
   {
    "duration": 10,
    "start_time": "2022-03-24T14:51:27.763Z"
   },
   {
    "duration": 5,
    "start_time": "2022-03-24T14:51:27.775Z"
   },
   {
    "duration": 118,
    "start_time": "2022-03-24T14:51:27.781Z"
   },
   {
    "duration": 1663,
    "start_time": "2022-03-24T14:51:27.901Z"
   },
   {
    "duration": 1880,
    "start_time": "2022-03-24T14:51:29.567Z"
   },
   {
    "duration": 42114,
    "start_time": "2022-03-24T14:51:31.449Z"
   },
   {
    "duration": 11,
    "start_time": "2022-03-24T14:52:13.564Z"
   },
   {
    "duration": 20,
    "start_time": "2022-03-24T14:52:13.577Z"
   },
   {
    "duration": 130,
    "start_time": "2022-03-24T14:52:13.599Z"
   },
   {
    "duration": 942,
    "start_time": "2022-03-24T14:52:13.730Z"
   },
   {
    "duration": 833,
    "start_time": "2022-03-24T14:52:14.764Z"
   },
   {
    "duration": 16943,
    "start_time": "2022-03-24T14:52:15.599Z"
   },
   {
    "duration": 66,
    "start_time": "2022-03-24T14:52:32.543Z"
   },
   {
    "duration": 710,
    "start_time": "2022-03-24T14:52:32.610Z"
   },
   {
    "duration": 124,
    "start_time": "2022-03-24T14:52:33.322Z"
   },
   {
    "duration": 1729,
    "start_time": "2022-03-24T18:09:47.538Z"
   },
   {
    "duration": 52,
    "start_time": "2022-03-24T18:09:49.269Z"
   },
   {
    "duration": 13,
    "start_time": "2022-03-24T18:09:49.323Z"
   },
   {
    "duration": 21,
    "start_time": "2022-03-24T18:09:49.339Z"
   },
   {
    "duration": 19,
    "start_time": "2022-03-24T18:09:49.361Z"
   },
   {
    "duration": 5,
    "start_time": "2022-03-24T18:09:49.382Z"
   },
   {
    "duration": 15,
    "start_time": "2022-03-24T18:09:49.388Z"
   },
   {
    "duration": 34,
    "start_time": "2022-03-24T18:09:49.432Z"
   },
   {
    "duration": 8,
    "start_time": "2022-03-24T18:09:49.467Z"
   },
   {
    "duration": 239,
    "start_time": "2022-03-24T18:09:49.479Z"
   },
   {
    "duration": 13,
    "start_time": "2022-03-24T18:09:49.720Z"
   },
   {
    "duration": 8,
    "start_time": "2022-03-24T18:09:49.736Z"
   },
   {
    "duration": 11,
    "start_time": "2022-03-24T18:09:49.746Z"
   },
   {
    "duration": 1573,
    "start_time": "2022-03-24T18:09:49.759Z"
   },
   {
    "duration": 1548,
    "start_time": "2022-03-24T18:09:51.335Z"
   },
   {
    "duration": 31438,
    "start_time": "2022-03-24T18:09:52.885Z"
   },
   {
    "duration": 1329,
    "start_time": "2022-03-24T18:10:24.324Z"
   },
   {
    "duration": 1617,
    "start_time": "2022-03-24T18:10:25.654Z"
   },
   {
    "duration": 29571,
    "start_time": "2022-03-24T18:10:27.272Z"
   },
   {
    "duration": 11,
    "start_time": "2022-03-24T18:10:56.845Z"
   },
   {
    "duration": 8,
    "start_time": "2022-03-24T18:10:56.857Z"
   },
   {
    "duration": 136,
    "start_time": "2022-03-24T18:10:56.866Z"
   },
   {
    "duration": 1634,
    "start_time": "2022-03-24T18:10:57.003Z"
   },
   {
    "duration": 1775,
    "start_time": "2022-03-24T18:10:58.639Z"
   },
   {
    "duration": 41478,
    "start_time": "2022-03-24T18:11:00.416Z"
   },
   {
    "duration": 11,
    "start_time": "2022-03-24T18:11:41.896Z"
   },
   {
    "duration": 8,
    "start_time": "2022-03-24T18:11:41.909Z"
   },
   {
    "duration": 130,
    "start_time": "2022-03-24T18:11:41.932Z"
   },
   {
    "duration": 675,
    "start_time": "2022-03-24T18:11:42.064Z"
   },
   {
    "duration": 805,
    "start_time": "2022-03-24T18:11:42.832Z"
   },
   {
    "duration": 17046,
    "start_time": "2022-03-24T18:11:43.639Z"
   },
   {
    "duration": 69,
    "start_time": "2022-03-24T18:12:00.687Z"
   },
   {
    "duration": 741,
    "start_time": "2022-03-24T18:12:00.758Z"
   },
   {
    "duration": 149,
    "start_time": "2022-03-24T18:12:01.501Z"
   },
   {
    "duration": 1021,
    "start_time": "2022-03-24T18:13:34.534Z"
   },
   {
    "duration": 1532,
    "start_time": "2022-04-14T18:36:30.264Z"
   },
   {
    "duration": 53,
    "start_time": "2022-04-14T18:36:31.798Z"
   },
   {
    "duration": 14,
    "start_time": "2022-04-14T18:36:31.853Z"
   },
   {
    "duration": 21,
    "start_time": "2022-04-14T18:36:31.872Z"
   },
   {
    "duration": 19,
    "start_time": "2022-04-14T18:36:31.895Z"
   },
   {
    "duration": 5,
    "start_time": "2022-04-14T18:36:31.916Z"
   },
   {
    "duration": 14,
    "start_time": "2022-04-14T18:36:31.922Z"
   },
   {
    "duration": 62,
    "start_time": "2022-04-14T18:36:31.938Z"
   },
   {
    "duration": 7,
    "start_time": "2022-04-14T18:36:32.001Z"
   },
   {
    "duration": 175,
    "start_time": "2022-04-14T18:36:32.012Z"
   },
   {
    "duration": 5,
    "start_time": "2022-04-14T18:36:32.189Z"
   },
   {
    "duration": 10,
    "start_time": "2022-04-14T18:36:32.196Z"
   },
   {
    "duration": 19,
    "start_time": "2022-04-14T18:36:32.208Z"
   },
   {
    "duration": 1444,
    "start_time": "2022-04-14T18:36:32.229Z"
   },
   {
    "duration": 1504,
    "start_time": "2022-04-14T18:36:33.676Z"
   },
   {
    "duration": 29415,
    "start_time": "2022-04-14T18:36:35.182Z"
   },
   {
    "duration": 1475,
    "start_time": "2022-04-14T18:37:04.599Z"
   },
   {
    "duration": 1550,
    "start_time": "2022-04-14T18:37:06.076Z"
   },
   {
    "duration": 30254,
    "start_time": "2022-04-14T18:37:07.627Z"
   },
   {
    "duration": 11,
    "start_time": "2022-04-14T18:37:37.883Z"
   },
   {
    "duration": 5,
    "start_time": "2022-04-14T18:37:37.896Z"
   },
   {
    "duration": 133,
    "start_time": "2022-04-14T18:37:37.902Z"
   },
   {
    "duration": 1240,
    "start_time": "2022-04-14T18:37:38.037Z"
   },
   {
    "duration": 1782,
    "start_time": "2022-04-14T18:37:39.280Z"
   },
   {
    "duration": 41000,
    "start_time": "2022-04-14T18:37:41.063Z"
   },
   {
    "duration": 15,
    "start_time": "2022-04-14T18:38:22.065Z"
   },
   {
    "duration": 8,
    "start_time": "2022-04-14T18:38:22.082Z"
   },
   {
    "duration": 139,
    "start_time": "2022-04-14T18:38:22.093Z"
   },
   {
    "duration": 1039,
    "start_time": "2022-04-14T18:38:22.234Z"
   },
   {
    "duration": 855,
    "start_time": "2022-04-14T18:38:23.281Z"
   },
   {
    "duration": 17566,
    "start_time": "2022-04-14T18:38:24.138Z"
   },
   {
    "duration": 67,
    "start_time": "2022-04-14T18:38:41.706Z"
   },
   {
    "duration": 707,
    "start_time": "2022-04-14T18:38:41.775Z"
   },
   {
    "duration": 161,
    "start_time": "2022-04-14T18:38:42.484Z"
   }
  ],
  "kernelspec": {
   "display_name": "Python 3 (ipykernel)",
   "language": "python",
   "name": "python3"
  },
  "language_info": {
   "codemirror_mode": {
    "name": "ipython",
    "version": 3
   },
   "file_extension": ".py",
   "mimetype": "text/x-python",
   "name": "python",
   "nbconvert_exporter": "python",
   "pygments_lexer": "ipython3",
   "version": "3.9.5"
  },
  "toc": {
   "base_numbering": 1,
   "nav_menu": {},
   "number_sections": true,
   "sideBar": true,
   "skip_h1_title": true,
   "title_cell": "Содержание",
   "title_sidebar": "Contents",
   "toc_cell": true,
   "toc_position": {
    "height": "calc(100% - 180px)",
    "left": "10px",
    "top": "150px",
    "width": "273px"
   },
   "toc_section_display": true,
   "toc_window_display": true
  }
 },
 "nbformat": 4,
 "nbformat_minor": 2
}
