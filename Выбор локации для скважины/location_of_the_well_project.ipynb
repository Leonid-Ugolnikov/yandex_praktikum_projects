{
 "cells": [
  {
   "cell_type": "markdown",
   "metadata": {},
   "source": [
    "# Выбор локации для скважины"
   ]
  },
  {
   "cell_type": "markdown",
   "metadata": {},
   "source": [
    "Допустим, вы работаете в добывающей компании «ГлавРосГосНефть». Нужно решить, где бурить новую скважину.\n",
    "\n",
    "Вам предоставлены пробы нефти в трёх регионах: в каждом 10 000 месторождений, где измерили качество нефти и объём её запасов. Постройте модель машинного обучения, которая поможет определить регион, где добыча принесёт наибольшую прибыль. Проанализируйте возможную прибыль и риски техникой *Bootstrap.*\n",
    "\n",
    "Шаги для выбора локации:\n",
    "\n",
    "- В избранном регионе ищут месторождения, для каждого определяют значения признаков;\n",
    "- Строят модель и оценивают объём запасов;\n",
    "- Выбирают месторождения с самым высокими оценками значений. Количество месторождений зависит от бюджета компании и стоимости разработки одной скважины;\n",
    "- Прибыль равна суммарной прибыли отобранных месторождений."
   ]
  },
  {
   "cell_type": "markdown",
   "metadata": {},
   "source": [
    "# Описание проекта:"
   ]
  },
  {
   "cell_type": "markdown",
   "metadata": {},
   "source": [
    "Допустим, мы работаем в добывающей компании «ГлавРосГосНефть». Нужно решить, где бурить новую скважину.\n",
    "\n",
    "Шаги для выбора локации обычно такие:\n",
    "\n",
    "- В избранном регионе собирают характеристики для скважин: качество нефти и объём её запасов;\n",
    "- Строят модель для предсказания объёма запасов в новых скважинах;\n",
    "- Выбирают скважины с самыми высокими оценками значений;\n",
    "- Определяют регион с максимальной суммарной прибылью отобранных скважин.\n",
    "\n",
    "Нам предоставлены пробы нефти в трёх регионах. Характеристики для каждой скважины в регионе уже известны. Построим модель для определения региона, где добыча принесёт наибольшую прибыль. Проанализируем возможную прибыль и риски техникой Bootstrap."
   ]
  },
  {
   "cell_type": "markdown",
   "metadata": {},
   "source": [
    "***Описание данных:***"
   ]
  },
  {
   "cell_type": "markdown",
   "metadata": {},
   "source": [
    "\n",
    "- id — уникальный идентификатор скважины;\n",
    "- f0, f1, f2 — три признака точек (неважно, что они означают, но сами признаки значимы);\n",
    "- product — объём запасов в скважине (тыс. баррелей)."
   ]
  },
  {
   "cell_type": "markdown",
   "metadata": {},
   "source": [
    "## Загрузка и подготовка данных"
   ]
  },
  {
   "cell_type": "markdown",
   "metadata": {},
   "source": [
    "### Импорт библиотек"
   ]
  },
  {
   "cell_type": "code",
   "execution_count": 1,
   "metadata": {},
   "outputs": [],
   "source": [
    "import pandas as pd\n",
    "import numpy as np\n",
    "import warnings\n",
    "warnings.filterwarnings('ignore')\n",
    "import matplotlib.pyplot as plt\n",
    "import seaborn as sns\n",
    "from sklearn.linear_model import LogisticRegression, LinearRegression\n",
    "from sklearn.metrics import mean_squared_error\n",
    "from sklearn.model_selection import train_test_split\n",
    "\n",
    "# импорт необходимых библиотек\n"
   ]
  },
  {
   "cell_type": "markdown",
   "metadata": {},
   "source": [
    "**Так как в нашем распоряжении 3 датасета, с которыми нам необходимо проработать по отдельности, мы будем писать функции, для исключения нагромождения кода. В каждом датасете есть столбец id, который в дальнейшем, для построения моделей нам будет не нужен, сразу далим его.**"
   ]
  },
  {
   "cell_type": "code",
   "execution_count": 2,
   "metadata": {},
   "outputs": [],
   "source": [
    "def read_csv (data):\n",
    "    df = pd.read_csv(data)\n",
    "    df = df.drop(columns='id', axis=1)\n",
    "    print(df.info(), \n",
    "          df.head(),\n",
    "          sep = '\\n')\n",
    "    return df\n",
    "# Создаем функцию которая считывет датафрейм, удаляет столбец ID и выводит информацию"
   ]
  },
  {
   "cell_type": "code",
   "execution_count": 3,
   "metadata": {
    "scrolled": false
   },
   "outputs": [
    {
     "name": "stdout",
     "output_type": "stream",
     "text": [
      "<class 'pandas.core.frame.DataFrame'>\n",
      "RangeIndex: 100000 entries, 0 to 99999\n",
      "Data columns (total 4 columns):\n",
      " #   Column   Non-Null Count   Dtype  \n",
      "---  ------   --------------   -----  \n",
      " 0   f0       100000 non-null  float64\n",
      " 1   f1       100000 non-null  float64\n",
      " 2   f2       100000 non-null  float64\n",
      " 3   product  100000 non-null  float64\n",
      "dtypes: float64(4)\n",
      "memory usage: 3.1 MB\n",
      "None\n",
      "         f0        f1        f2     product\n",
      "0  0.705745 -0.497823  1.221170  105.280062\n",
      "1  1.334711 -0.340164  4.365080   73.037750\n",
      "2  1.022732  0.151990  1.419926   85.265647\n",
      "3 -0.032172  0.139033  2.978566  168.620776\n",
      "4  1.988431  0.155413  4.751769  154.036647\n"
     ]
    }
   ],
   "source": [
    "df_0 = read_csv('/datasets/geo_data_0.csv')"
   ]
  },
  {
   "cell_type": "markdown",
   "metadata": {},
   "source": [
    "В датафрейме df_0 - 100 000 строк, пропусков нет, 3 столбца с признаками (f0, f1, f2) и один столбец с целевым признаком (product), столбец под названием 'id' мы удалили, поскольку для построения моделей он не нужен. Все столбцы имеют вещестенный формат."
   ]
  },
  {
   "cell_type": "code",
   "execution_count": 4,
   "metadata": {
    "scrolled": true
   },
   "outputs": [
    {
     "name": "stdout",
     "output_type": "stream",
     "text": [
      "<class 'pandas.core.frame.DataFrame'>\n",
      "RangeIndex: 100000 entries, 0 to 99999\n",
      "Data columns (total 4 columns):\n",
      " #   Column   Non-Null Count   Dtype  \n",
      "---  ------   --------------   -----  \n",
      " 0   f0       100000 non-null  float64\n",
      " 1   f1       100000 non-null  float64\n",
      " 2   f2       100000 non-null  float64\n",
      " 3   product  100000 non-null  float64\n",
      "dtypes: float64(4)\n",
      "memory usage: 3.1 MB\n",
      "None\n",
      "          f0         f1        f2     product\n",
      "0 -15.001348  -8.276000 -0.005876    3.179103\n",
      "1  14.272088  -3.475083  0.999183   26.953261\n",
      "2   6.263187  -5.948386  5.001160  134.766305\n",
      "3 -13.081196 -11.506057  4.999415  137.945408\n",
      "4  12.702195  -8.147433  5.004363  134.766305\n"
     ]
    }
   ],
   "source": [
    "df_1 = read_csv('/datasets/geo_data_1.csv')"
   ]
  },
  {
   "cell_type": "markdown",
   "metadata": {},
   "source": [
    "В датафрейме df_1 - 100 000 строк, пропусков нет, 3 столбца с признаками (f0, f1, f2) и один столбец с целевым признаком (product), столбец под названием 'id' мы удалили, поскольку для построения моделей он не нужен. Все столбцы имеют вещестенный формат."
   ]
  },
  {
   "cell_type": "code",
   "execution_count": 5,
   "metadata": {
    "scrolled": false
   },
   "outputs": [
    {
     "name": "stdout",
     "output_type": "stream",
     "text": [
      "<class 'pandas.core.frame.DataFrame'>\n",
      "RangeIndex: 100000 entries, 0 to 99999\n",
      "Data columns (total 4 columns):\n",
      " #   Column   Non-Null Count   Dtype  \n",
      "---  ------   --------------   -----  \n",
      " 0   f0       100000 non-null  float64\n",
      " 1   f1       100000 non-null  float64\n",
      " 2   f2       100000 non-null  float64\n",
      " 3   product  100000 non-null  float64\n",
      "dtypes: float64(4)\n",
      "memory usage: 3.1 MB\n",
      "None\n",
      "         f0        f1        f2     product\n",
      "0 -1.146987  0.963328 -0.828965   27.758673\n",
      "1  0.262778  0.269839 -2.530187   56.069697\n",
      "2  0.194587  0.289035 -5.586433   62.871910\n",
      "3  2.236060 -0.553760  0.930038  114.572842\n",
      "4 -0.515993  1.716266  5.899011  149.600746\n"
     ]
    }
   ],
   "source": [
    "df_2 = read_csv('/datasets/geo_data_2.csv')\n",
    "# считываем датафрейм и выводим информацию по нему"
   ]
  },
  {
   "cell_type": "markdown",
   "metadata": {},
   "source": [
    "В датафрейме df_2 - 100 000 строк, пропусков нет, 3 столбца с признаками (f0, f1, f2) и один столбец с целевым признаком (product), столбец под названием 'id' мы удалили, поскольку для построения моделей он не нужен. Все столбцы имеют вещестенный формат."
   ]
  },
  {
   "cell_type": "markdown",
   "metadata": {},
   "source": [
    "### Вывод"
   ]
  },
  {
   "cell_type": "markdown",
   "metadata": {},
   "source": [
    "При подготовке данных мы записали в переменые df_0, df_1, df_2 три датасета. При этом удалив из них столбец `id`, поскольку в дальнейшем для построения моделей он нам непонадобится. Так же мы узнали тип данных и убедились в отсутствии пропусков в данных."
   ]
  },
  {
   "cell_type": "markdown",
   "metadata": {},
   "source": [
    "## Обучение и проверка модели"
   ]
  },
  {
   "cell_type": "markdown",
   "metadata": {},
   "source": [
    "Напишем функцию, которая будет делить на целевой и нецелевые признаки, делить на тренировочную и валидационные выборки в соотношении 75/25, а так же обучать модель и делать предсказания на валидационной выборке, сохранять предсказания и правильные ответы на валидационной выборке.\n",
    "\n",
    "Выводить на экран средний запас истинных значений и средний запас предсказанного сырья и RMSE модели."
   ]
  },
  {
   "cell_type": "code",
   "execution_count": 6,
   "metadata": {
    "scrolled": true
   },
   "outputs": [],
   "source": [
    "def train_valid_split(df):\n",
    "    features = df.drop(['product'], axis=1)\n",
    "    target = df['product']\n",
    "    features_train, features_valid, target_train, target_valid = train_test_split(features,\n",
    "                                                                              target,\n",
    "                                                                              test_size=.25,\n",
    "                                                                              random_state=12345)\n",
    "    model = LinearRegression()\n",
    "    model.fit(features_train, target_train)\n",
    "    \n",
    "    predictions_valid = pd.Series(model.predict(features_valid))\n",
    "    \n",
    "    rmse = mean_squared_error(target_valid, predictions_valid)**0.5 # считаем значение метрики RMSE на валидационной выборке\n",
    "    \n",
    "    mean_predictions_valid = predictions_valid.mean()\n",
    "    \n",
    "    \n",
    "    print(f'Размер тренировочной выборки (строк/столбцов):{features_train.shape}',\n",
    "          f'Размер валидационной выборки (строк/столбцов):{features_valid.shape}',\n",
    "          f'Средний запас сырья на основе правильных ответов: {round(target_valid.mean(), 2)}',\n",
    "          f'Средний запас предсказанного сырья: {round(mean_predictions_valid, 2)}',\n",
    "          f'RMSE модели:{round(rmse, 2)}',\n",
    "          sep = '\\n')\n",
    "    return predictions_valid, target_valid\n",
    "# Напиcали функцию, которая будет делить на целевой и нецелевые признаки, и делить на тренировочную и валидационные выборки в соотношении 75/25.**"
   ]
  },
  {
   "cell_type": "code",
   "execution_count": 7,
   "metadata": {},
   "outputs": [
    {
     "name": "stdout",
     "output_type": "stream",
     "text": [
      "Размер тренировочной выборки (строк/столбцов):(75000, 3)\n",
      "Размер валидационной выборки (строк/столбцов):(25000, 3)\n",
      "Средний запас сырья на основе правильных ответов: 92.08\n",
      "Средний запас предсказанного сырья: 92.59\n",
      "RMSE модели:37.58\n"
     ]
    }
   ],
   "source": [
    "predictions_df0, target_df0 = train_valid_split(df_0)"
   ]
  },
  {
   "cell_type": "code",
   "execution_count": 8,
   "metadata": {},
   "outputs": [
    {
     "name": "stdout",
     "output_type": "stream",
     "text": [
      "Размер тренировочной выборки (строк/столбцов):(75000, 3)\n",
      "Размер валидационной выборки (строк/столбцов):(25000, 3)\n",
      "Средний запас сырья на основе правильных ответов: 68.72\n",
      "Средний запас предсказанного сырья: 68.73\n",
      "RMSE модели:0.89\n"
     ]
    }
   ],
   "source": [
    "predictions_df1, target_df1 = train_valid_split(df_1)"
   ]
  },
  {
   "cell_type": "code",
   "execution_count": 9,
   "metadata": {},
   "outputs": [
    {
     "name": "stdout",
     "output_type": "stream",
     "text": [
      "Размер тренировочной выборки (строк/столбцов):(75000, 3)\n",
      "Размер валидационной выборки (строк/столбцов):(25000, 3)\n",
      "Средний запас сырья на основе правильных ответов: 94.88\n",
      "Средний запас предсказанного сырья: 94.97\n",
      "RMSE модели:40.03\n"
     ]
    }
   ],
   "source": [
    "predictions_df2, target_df2 = train_valid_split(df_2)"
   ]
  },
  {
   "cell_type": "markdown",
   "metadata": {},
   "source": [
    "### Вывод"
   ]
  },
  {
   "cell_type": "markdown",
   "metadata": {},
   "source": [
    "Исходя из полученных значений можно сказать, что все модели так или иначе дают хорошие предсказания. Средние предсказаний почти равно средним правильных ответов, отличаясь лишь на сотые доли. Однако стоит отметить,что лучше всего себя показала вторая модель, там разница средних минимальна, так же как и минимальна среднеквадратичая ошибка (RMSE).\n",
    "\n",
    "RMSE моделей:\n",
    "- 1 модель: 37.58\n",
    "- 2 модель: 0.89\n",
    "- 3 модель: 40.03"
   ]
  },
  {
   "cell_type": "markdown",
   "metadata": {},
   "source": [
    "## Подготовка к расчёту прибыли"
   ]
  },
  {
   "cell_type": "markdown",
   "metadata": {},
   "source": [
    "Запишем в переменные исходные данные, которые нам были даны по условиям задания."
   ]
  },
  {
   "cell_type": "code",
   "execution_count": 10,
   "metadata": {},
   "outputs": [],
   "source": [
    "explore_point = 500 # количество исследуемых точек\n",
    "mining_point = 200 # количество точек в разработке\n",
    "budjet_mining = 10000 # бюджет разработки скважин в млн. рублей\n",
    "income_one_barrel = .45 # доход с 1 тыс баррель в млн. руб\n",
    "probability_of_losses = 2.5 # максимальная вероятность убытков\n",
    "bootstrap_value = 1000 # количесто выборок данные для расчета по условиям задания"
   ]
  },
  {
   "cell_type": "code",
   "execution_count": 11,
   "metadata": {},
   "outputs": [
    {
     "name": "stdout",
     "output_type": "stream",
     "text": [
      "Необходимый объем сырья для того, чтобы разработка скважины была окупаемой составил: 111.11 тыс. баррелей\n"
     ]
    }
   ],
   "source": [
    "price_point = budjet_mining / mining_point # цена за разработки одной точки\n",
    "break_even_point = price_point / income_one_barrel # достаточный объём сырья для безубыточной разработки новой скважины \n",
    "print(f'Необходимый объем сырья для того, чтобы разработка скважины была окупаемой составил: {round(break_even_point, 2)} тыс. баррелей')"
   ]
  },
  {
   "cell_type": "code",
   "execution_count": 12,
   "metadata": {},
   "outputs": [
    {
     "data": {
      "image/png": "[encoded data removed]",
      "text/plain": [
       "<Figure size 1152x576 with 1 Axes>"
      ]
     },
     "metadata": {},
     "output_type": "display_data"
    }
   ],
   "source": [
    "sns.set_style('darkgrid')\n",
    "values_name = ['среднее df0','среднее df1','среднее df2','безубыточный обьем']\n",
    "values_barrel = [target_df0.mean(), target_df1.mean(), target_df2.mean(),break_even_point]\n",
    "plt.figure(figsize=(16,8))\n",
    "barplot = sns.barplot(values_name,values_barrel)\n",
    "barplot.set_title('Сравнение средних значений запасов сырья и безубыточного объема', fontdict={'fontsize':18})\n",
    "plt.show()\n",
    "# строим график barplot для сравнения результатов"
   ]
  },
  {
   "cell_type": "markdown",
   "metadata": {},
   "source": [
    "### Вывод"
   ]
  },
  {
   "cell_type": "markdown",
   "metadata": {},
   "source": [
    "Необходимый объем сырья для того, чтобы разработка скважины была окупаемой составил 111 тыс. баррелей.\n",
    "\n",
    "Сравнив средние запасы сырья и достаточный объём сырья для безубыточной разработки новой скважины, можно сказать, средние значения запасов сырья для всех трех регионов ниже необходимого объема, при этом самый высокий показатель у третьей модели, однако он тоже далек до нужного значения. Есть риск, что выбранные случайным образом скважины для разработки, могут не окупить затраченные средства."
   ]
  },
  {
   "cell_type": "markdown",
   "metadata": {},
   "source": [
    "## Расчёт прибыли и рисков "
   ]
  },
  {
   "cell_type": "markdown",
   "metadata": {},
   "source": [
    "Напишем функцию для расчёта прибыли по выбранным скважинам и предсказаниям модели:"
   ]
  },
  {
   "cell_type": "code",
   "execution_count": 13,
   "metadata": {},
   "outputs": [],
   "source": [
    "def profit (predictions, target, point):\n",
    "    pred_sorted = predictions.sort_values(ascending=False) # выбираем необходимое коичество скважин с максимальным объемом нефти\n",
    "    target_sorted = target[pred_sorted.index][:point] # определяем верные значения для отобранных скважин\n",
    "    profit = target_sorted.sum() * income_one_barrel - budjet_mining # доход в млн. рублей с выбранных скважин\n",
    "    return profit\n"
   ]
  },
  {
   "cell_type": "code",
   "execution_count": 14,
   "metadata": {
    "scrolled": true
   },
   "outputs": [
    {
     "name": "stdout",
     "output_type": "stream",
     "text": [
      "Итоговая прибыль по регионам, с 200 выбранных по предсказаниям модели скважин составит:\n",
      "Первый регион: 3320.826 млн. рублей\n",
      "Второй регион: 2415.087 млн. рублей\n",
      "Третий регион: 2710.35 млн. рублей\n"
     ]
    }
   ],
   "source": [
    "print(f'Итоговая прибыль по регионам, с 200 выбранных по предсказаниям модели скважин составит:',\n",
    "      f'Первый регион: {round(profit(predictions_df0, target_df0.reset_index(drop=True), mining_point), 3)} млн. рублей',\n",
    "      f'Второй регион: {round(profit(predictions_df1, target_df1.reset_index(drop=True), mining_point), 3)} млн. рублей',\n",
    "      f'Третий регион: {round(profit(predictions_df2, target_df2.reset_index(drop=True), mining_point), 3)} млн. рублей',\n",
    "      sep='\\n')\n",
    "\n"
   ]
  },
  {
   "cell_type": "markdown",
   "metadata": {},
   "source": [
    "По итогам исследования итоговой прибыли по регионам основанной на 25000 скважинах по каждому региону, и сделав выводы по 200 скважин с максимальным объемом нефти выбранным по предсказанием модели скважин, можно сделать вывод:\n",
    "- все регионы имеют неплохую доходность от 2415 до 3320 млн. рублей\n",
    "- наиболее прибыльным можно назвать первый регион со значением 3320 млн. рублей\n",
    "\n",
    "Однако, для того чтобы получить данную доходность по 200 лучшим скважинам, нам необходимо произвести геолоразведку по 25000 точкам в каждом регионе. Данную процедуру считаю сильно затратной, в данном случае цель не поравдывает средства. По условиям задачи, нам необходимо посчитать лучший регион исходя из 500 случайно выбранных скважин в каждом, из которых с помощью машинного обучения выбирать 200 лучших для разработки. При этом бюджет на разработку скважин в регионе — не должен превышать 10 млрд рублей. Далее мы посмотрим как изменится при этом прибыль в каждом регионе."
   ]
  },
  {
   "cell_type": "markdown",
   "metadata": {},
   "source": [
    "Напишем функцию с применением техники `Bootstrap` с 1000 выборок, чтобы найти распределение прибыли, так же найдем среднюю прибыль, 95%-й доверительный интервал и риск убытков. "
   ]
  },
  {
   "cell_type": "code",
   "execution_count": 15,
   "metadata": {},
   "outputs": [],
   "source": [
    "def profit_distribution(predictions, target, bootstrap, point):\n",
    "    state = np.random.RandomState(12345)\n",
    "    profit_values = [] #список значений выручки на основе 1000 выборок\n",
    "    \n",
    "    for i in range(bootstrap_value):\n",
    "        target_subsample = target.reset_index(drop=True).sample(explore_point,\n",
    "                                         replace=True,\n",
    "                                         random_state=state)\n",
    "        predict_subsample = predictions[target_subsample.index]\n",
    "        \n",
    "        result = profit(predict_subsample, target_subsample, mining_point)\n",
    "        profit_values.append(result)\n",
    "        \n",
    "    profit_values = pd.Series(profit_values)\n",
    "    mean_profit = profit_values.mean()\n",
    "    confidence_interval = (profit_values.quantile(0.025), profit_values.quantile(0.975))\n",
    "    negative_profit_chance = ((profit_values < 0).mean())*100\n",
    "    print(f'Средняя выручка: {round(mean_profit,2)} млн рублей',\n",
    "          f'95%-ый доверительный интервал: {confidence_interval}',\n",
    "          f'Вероятность убытков равна: {negative_profit_chance}% ',\n",
    "          sep = '\\n')\n",
    "    if probability_of_losses > negative_profit_chance:\n",
    "        print('Вероятность является меньше допустимой, регион подходит по критериям')\n",
    "    else:\n",
    "        print('Вероятность является больше допустимой, регион не подходит по критериям')"
   ]
  },
  {
   "cell_type": "code",
   "execution_count": 16,
   "metadata": {
    "scrolled": true
   },
   "outputs": [
    {
     "name": "stdout",
     "output_type": "stream",
     "text": [
      "Средняя выручка: 425.94 млн рублей\n",
      "95%-ый доверительный интервал: (-102.09009483793592, 947.976353358369)\n",
      "Вероятность убытков равна: 6.0% \n",
      "Вероятность является больше допустимой, регион не подходит по критериям\n"
     ]
    }
   ],
   "source": [
    "profit_distribution(predictions_df0, target_df0, bootstrap_value, mining_point)"
   ]
  },
  {
   "cell_type": "code",
   "execution_count": 17,
   "metadata": {},
   "outputs": [
    {
     "name": "stdout",
     "output_type": "stream",
     "text": [
      "Средняя выручка: 515.22 млн рублей\n",
      "95%-ый доверительный интервал: (68.87322537050254, 931.547591257049)\n",
      "Вероятность убытков равна: 1.0% \n",
      "Вероятность является меньше допустимой, регион подходит по критериям\n"
     ]
    }
   ],
   "source": [
    "profit_distribution(predictions_df1, target_df1, bootstrap_value, mining_point)"
   ]
  },
  {
   "cell_type": "code",
   "execution_count": 18,
   "metadata": {
    "scrolled": true
   },
   "outputs": [
    {
     "name": "stdout",
     "output_type": "stream",
     "text": [
      "Средняя выручка: 435.01 млн рублей\n",
      "95%-ый доверительный интервал: (-128.88054732978893, 969.7069541802657)\n",
      "Вероятность убытков равна: 6.4% \n",
      "Вероятность является больше допустимой, регион не подходит по критериям\n"
     ]
    }
   ],
   "source": [
    "profit_distribution(predictions_df2, target_df2, bootstrap_value, mining_point)"
   ]
  },
  {
   "cell_type": "markdown",
   "metadata": {},
   "source": [
    "### Вывод"
   ]
  },
  {
   "cell_type": "markdown",
   "metadata": {},
   "source": [
    "По итогам нашего исследования, можно сделать следующие выводы:\n",
    "- При случайном исследовании 500 скважин прибыль падает почти в 6 раз, в отличие исследования основанном на 25000 скважинах, однако стоит отмечтить, что при разработке 25000 скважин, в отличии от 500 у заказчика вырастают и расходы на разработку в 50 раз.\n",
    "- По итогам исследования лучшая средняя выручка отмечена во втором регионе, ее размер составил 515.22 млн рублей. В первом регионе значение составило 425.94 млн рублей, во третьем регионе 435.01 млн рублей.\n",
    "- Рассчитав вероятность убытков, мы выяснили что наменее вероятны убытки так же во втором регионе, они составили всего 1%, по условиям задания вероятность не должна превышать более 2.5%. В первом регионе вероятность убытков 6%, в третьем 6.4%, что по условиям нашего задания является недопустимым.\n",
    "\n",
    "**Второй регион оказался лидирующем по всем показателям, в связи с этим рекомендую заказчику для дальнейшей разработки принять только второй регион**"
   ]
  }
 ],
 "metadata": {
  "ExecuteTimeLog": [
   {
    "duration": 81,
    "start_time": "2022-04-03T13:46:20.661Z"
   },
   {
    "duration": 2448,
    "start_time": "2022-04-03T13:46:24.266Z"
   },
   {
    "duration": 458,
    "start_time": "2022-04-03T13:46:26.717Z"
   },
   {
    "duration": 32,
    "start_time": "2022-04-03T13:46:36.330Z"
   },
   {
    "duration": 27,
    "start_time": "2022-04-03T13:47:20.124Z"
   },
   {
    "duration": 28,
    "start_time": "2022-04-03T13:47:22.071Z"
   },
   {
    "duration": 5,
    "start_time": "2022-04-03T14:31:01.444Z"
   },
   {
    "duration": 146,
    "start_time": "2022-04-03T14:31:34.426Z"
   },
   {
    "duration": 138,
    "start_time": "2022-04-03T14:31:38.019Z"
   },
   {
    "duration": 204,
    "start_time": "2022-04-03T14:31:51.827Z"
   },
   {
    "duration": 4,
    "start_time": "2022-04-03T14:31:56.546Z"
   },
   {
    "duration": 163,
    "start_time": "2022-04-03T14:31:57.382Z"
   },
   {
    "duration": 435,
    "start_time": "2022-04-03T14:32:40.135Z"
   },
   {
    "duration": 108,
    "start_time": "2022-04-03T14:33:07.989Z"
   },
   {
    "duration": 5,
    "start_time": "2022-04-03T14:33:11.650Z"
   },
   {
    "duration": 165,
    "start_time": "2022-04-03T15:38:45.177Z"
   },
   {
    "duration": 170,
    "start_time": "2022-04-03T15:39:05.200Z"
   },
   {
    "duration": 159,
    "start_time": "2022-04-03T15:39:22.388Z"
   },
   {
    "duration": 12,
    "start_time": "2022-04-03T19:15:52.428Z"
   },
   {
    "duration": 13,
    "start_time": "2022-04-03T19:16:53.162Z"
   },
   {
    "duration": 12,
    "start_time": "2022-04-03T19:18:50.963Z"
   },
   {
    "duration": 5,
    "start_time": "2022-04-03T19:19:46.173Z"
   },
   {
    "duration": 4,
    "start_time": "2022-04-03T19:19:46.189Z"
   },
   {
    "duration": 154,
    "start_time": "2022-04-03T19:19:46.211Z"
   },
   {
    "duration": 157,
    "start_time": "2022-04-03T19:19:46.367Z"
   },
   {
    "duration": 158,
    "start_time": "2022-04-03T19:19:46.526Z"
   },
   {
    "duration": 17,
    "start_time": "2022-04-03T19:19:46.686Z"
   },
   {
    "duration": 13,
    "start_time": "2022-04-03T19:21:11.959Z"
   },
   {
    "duration": 20,
    "start_time": "2022-04-03T19:22:03.733Z"
   },
   {
    "duration": 12,
    "start_time": "2022-04-03T19:22:29.635Z"
   },
   {
    "duration": 12,
    "start_time": "2022-04-03T19:23:24.503Z"
   },
   {
    "duration": 16,
    "start_time": "2022-04-03T19:23:34.626Z"
   },
   {
    "duration": 28,
    "start_time": "2022-04-03T19:24:07.333Z"
   },
   {
    "duration": 21,
    "start_time": "2022-04-03T19:24:23.373Z"
   },
   {
    "duration": 14,
    "start_time": "2022-04-03T19:25:56.666Z"
   },
   {
    "duration": 14,
    "start_time": "2022-04-03T19:26:15.726Z"
   },
   {
    "duration": 13,
    "start_time": "2022-04-03T19:30:12.427Z"
   },
   {
    "duration": 58,
    "start_time": "2022-04-04T18:44:58.303Z"
   },
   {
    "duration": 7,
    "start_time": "2022-04-04T18:45:04.310Z"
   },
   {
    "duration": 2824,
    "start_time": "2022-04-04T18:45:09.189Z"
   },
   {
    "duration": 3,
    "start_time": "2022-04-04T18:45:12.015Z"
   },
   {
    "duration": 290,
    "start_time": "2022-04-04T18:45:12.020Z"
   },
   {
    "duration": 151,
    "start_time": "2022-04-04T18:45:12.313Z"
   },
   {
    "duration": 154,
    "start_time": "2022-04-04T18:45:12.467Z"
   },
   {
    "duration": 18,
    "start_time": "2022-04-04T18:45:12.623Z"
   },
   {
    "duration": 35,
    "start_time": "2022-04-04T18:45:12.644Z"
   },
   {
    "duration": 16,
    "start_time": "2022-04-04T18:45:50.046Z"
   },
   {
    "duration": 15,
    "start_time": "2022-04-04T18:46:07.690Z"
   },
   {
    "duration": 13,
    "start_time": "2022-04-04T18:46:49.787Z"
   },
   {
    "duration": 15,
    "start_time": "2022-04-04T18:46:52.468Z"
   },
   {
    "duration": 15,
    "start_time": "2022-04-04T18:47:24.558Z"
   },
   {
    "duration": 15,
    "start_time": "2022-04-04T18:47:35.573Z"
   },
   {
    "duration": 78,
    "start_time": "2022-04-04T18:50:15.345Z"
   },
   {
    "duration": 22,
    "start_time": "2022-04-04T18:50:18.931Z"
   },
   {
    "duration": 141,
    "start_time": "2022-04-04T18:50:38.170Z"
   },
   {
    "duration": 16,
    "start_time": "2022-04-04T18:50:41.187Z"
   },
   {
    "duration": 4,
    "start_time": "2022-04-04T18:50:46.380Z"
   },
   {
    "duration": 3,
    "start_time": "2022-04-04T18:50:46.397Z"
   },
   {
    "duration": 140,
    "start_time": "2022-04-04T18:50:46.402Z"
   },
   {
    "duration": 135,
    "start_time": "2022-04-04T18:50:46.544Z"
   },
   {
    "duration": 136,
    "start_time": "2022-04-04T18:50:46.681Z"
   },
   {
    "duration": 27,
    "start_time": "2022-04-04T18:50:46.819Z"
   },
   {
    "duration": 18,
    "start_time": "2022-04-04T18:50:46.848Z"
   },
   {
    "duration": 13,
    "start_time": "2022-04-04T18:50:46.868Z"
   },
   {
    "duration": 13,
    "start_time": "2022-04-04T18:50:46.883Z"
   },
   {
    "duration": 3,
    "start_time": "2022-04-04T19:05:07.463Z"
   },
   {
    "duration": 140,
    "start_time": "2022-04-04T19:05:09.824Z"
   },
   {
    "duration": 145,
    "start_time": "2022-04-04T19:05:17.125Z"
   },
   {
    "duration": 131,
    "start_time": "2022-04-04T19:05:17.652Z"
   },
   {
    "duration": 3,
    "start_time": "2022-04-04T19:16:12.785Z"
   },
   {
    "duration": 3,
    "start_time": "2022-04-04T19:22:16.918Z"
   },
   {
    "duration": 3,
    "start_time": "2022-04-04T19:22:41.691Z"
   },
   {
    "duration": 3,
    "start_time": "2022-04-04T19:32:02.107Z"
   },
   {
    "duration": 4,
    "start_time": "2022-04-04T20:08:00.473Z"
   },
   {
    "duration": 26,
    "start_time": "2022-04-04T20:08:01.247Z"
   },
   {
    "duration": 5,
    "start_time": "2022-04-04T20:08:29.649Z"
   },
   {
    "duration": 24,
    "start_time": "2022-04-04T20:08:31.296Z"
   },
   {
    "duration": 5,
    "start_time": "2022-04-04T20:08:41.775Z"
   },
   {
    "duration": 55,
    "start_time": "2022-04-04T20:08:42.196Z"
   },
   {
    "duration": 5,
    "start_time": "2022-04-04T20:10:02.204Z"
   },
   {
    "duration": 25,
    "start_time": "2022-04-04T20:10:07.467Z"
   },
   {
    "duration": 5,
    "start_time": "2022-04-04T20:10:18.816Z"
   },
   {
    "duration": 24,
    "start_time": "2022-04-04T20:10:19.849Z"
   },
   {
    "duration": 5,
    "start_time": "2022-04-04T20:11:42.514Z"
   },
   {
    "duration": 20,
    "start_time": "2022-04-04T20:11:44.014Z"
   },
   {
    "duration": 8,
    "start_time": "2022-04-04T20:12:22.733Z"
   },
   {
    "duration": 25,
    "start_time": "2022-04-04T20:12:25.399Z"
   },
   {
    "duration": 4,
    "start_time": "2022-04-04T20:12:41.247Z"
   },
   {
    "duration": 22,
    "start_time": "2022-04-04T20:12:41.847Z"
   },
   {
    "duration": 5,
    "start_time": "2022-04-04T20:16:09.364Z"
   },
   {
    "duration": 29,
    "start_time": "2022-04-04T20:16:09.728Z"
   },
   {
    "duration": 25,
    "start_time": "2022-04-04T20:16:53.246Z"
   },
   {
    "duration": 27,
    "start_time": "2022-04-04T20:16:55.120Z"
   },
   {
    "duration": 3,
    "start_time": "2022-04-04T20:21:43.320Z"
   },
   {
    "duration": 9,
    "start_time": "2022-04-04T20:52:38.976Z"
   },
   {
    "duration": 3,
    "start_time": "2022-04-04T20:52:55.172Z"
   },
   {
    "duration": 3,
    "start_time": "2022-04-04T20:52:55.555Z"
   },
   {
    "duration": 11,
    "start_time": "2022-04-04T21:01:43.339Z"
   },
   {
    "duration": 11,
    "start_time": "2022-04-04T21:01:53.209Z"
   },
   {
    "duration": 9,
    "start_time": "2022-04-04T21:01:59.717Z"
   },
   {
    "duration": 15,
    "start_time": "2022-04-04T21:03:32.904Z"
   },
   {
    "duration": 10,
    "start_time": "2022-04-04T21:04:33.081Z"
   },
   {
    "duration": 10,
    "start_time": "2022-04-04T21:04:39.808Z"
   },
   {
    "duration": 13,
    "start_time": "2022-04-04T21:05:47.607Z"
   },
   {
    "duration": 48,
    "start_time": "2022-04-04T21:06:44.064Z"
   },
   {
    "duration": 1510,
    "start_time": "2022-04-04T21:06:59.888Z"
   },
   {
    "duration": 3,
    "start_time": "2022-04-04T21:07:01.400Z"
   },
   {
    "duration": 306,
    "start_time": "2022-04-04T21:07:01.494Z"
   },
   {
    "duration": 135,
    "start_time": "2022-04-04T21:07:02.310Z"
   },
   {
    "duration": 153,
    "start_time": "2022-04-04T21:07:03.216Z"
   },
   {
    "duration": 5,
    "start_time": "2022-04-04T21:07:07.070Z"
   },
   {
    "duration": 23,
    "start_time": "2022-04-04T21:07:07.416Z"
   },
   {
    "duration": 30,
    "start_time": "2022-04-04T21:07:07.804Z"
   },
   {
    "duration": 22,
    "start_time": "2022-04-04T21:07:08.111Z"
   },
   {
    "duration": 3,
    "start_time": "2022-04-04T21:07:18.257Z"
   },
   {
    "duration": 3,
    "start_time": "2022-04-04T21:07:18.751Z"
   },
   {
    "duration": 74,
    "start_time": "2022-04-04T21:07:19.287Z"
   },
   {
    "duration": 117,
    "start_time": "2022-04-04T21:11:43.406Z"
   },
   {
    "duration": 110,
    "start_time": "2022-04-04T21:11:58.045Z"
   },
   {
    "duration": 102,
    "start_time": "2022-04-04T21:12:20.346Z"
   },
   {
    "duration": 15,
    "start_time": "2022-04-04T21:14:28.359Z"
   },
   {
    "duration": 139,
    "start_time": "2022-04-04T21:15:32.612Z"
   },
   {
    "duration": 209,
    "start_time": "2022-04-04T21:16:11.292Z"
   },
   {
    "duration": 130,
    "start_time": "2022-04-04T21:17:37.804Z"
   },
   {
    "duration": 127,
    "start_time": "2022-04-04T21:18:48.764Z"
   },
   {
    "duration": 134,
    "start_time": "2022-04-04T21:19:00.651Z"
   },
   {
    "duration": 114,
    "start_time": "2022-04-04T21:19:25.105Z"
   },
   {
    "duration": 257,
    "start_time": "2022-04-04T21:22:23.043Z"
   },
   {
    "duration": 107,
    "start_time": "2022-04-04T21:24:08.587Z"
   },
   {
    "duration": 105,
    "start_time": "2022-04-04T21:24:14.240Z"
   },
   {
    "duration": 104,
    "start_time": "2022-04-04T21:24:53.916Z"
   },
   {
    "duration": 116,
    "start_time": "2022-04-04T21:25:25.288Z"
   },
   {
    "duration": 123,
    "start_time": "2022-04-04T21:25:35.456Z"
   },
   {
    "duration": 128,
    "start_time": "2022-04-04T21:25:40.297Z"
   },
   {
    "duration": 156,
    "start_time": "2022-04-04T21:28:57.950Z"
   },
   {
    "duration": 141,
    "start_time": "2022-04-04T21:29:12.925Z"
   },
   {
    "duration": 164,
    "start_time": "2022-04-04T21:29:32.531Z"
   },
   {
    "duration": 4,
    "start_time": "2022-04-04T21:38:10.563Z"
   },
   {
    "duration": 3,
    "start_time": "2022-04-04T21:38:28.781Z"
   },
   {
    "duration": 148,
    "start_time": "2022-04-04T21:39:09.209Z"
   },
   {
    "duration": 2291,
    "start_time": "2022-04-05T19:26:11.732Z"
   },
   {
    "duration": 5,
    "start_time": "2022-04-05T19:26:14.025Z"
   },
   {
    "duration": 184,
    "start_time": "2022-04-05T19:26:14.033Z"
   },
   {
    "duration": 459,
    "start_time": "2022-04-05T19:26:14.222Z"
   },
   {
    "duration": 171,
    "start_time": "2022-04-05T19:26:14.683Z"
   },
   {
    "duration": 174,
    "start_time": "2022-04-05T19:26:14.857Z"
   },
   {
    "duration": 9,
    "start_time": "2022-04-05T19:26:15.034Z"
   },
   {
    "duration": 50,
    "start_time": "2022-04-05T19:26:15.045Z"
   },
   {
    "duration": 200,
    "start_time": "2022-04-05T19:26:15.099Z"
   },
   {
    "duration": 195,
    "start_time": "2022-04-05T19:26:15.305Z"
   },
   {
    "duration": 85,
    "start_time": "2022-04-05T19:26:15.503Z"
   },
   {
    "duration": 95,
    "start_time": "2022-04-05T19:26:15.591Z"
   },
   {
    "duration": 296,
    "start_time": "2022-04-05T19:26:15.688Z"
   },
   {
    "duration": 2473,
    "start_time": "2022-04-06T08:24:44.231Z"
   },
   {
    "duration": 6,
    "start_time": "2022-04-06T08:24:46.707Z"
   },
   {
    "duration": 172,
    "start_time": "2022-04-06T08:24:46.716Z"
   },
   {
    "duration": 464,
    "start_time": "2022-04-06T08:24:46.891Z"
   },
   {
    "duration": 161,
    "start_time": "2022-04-06T08:24:47.357Z"
   },
   {
    "duration": 163,
    "start_time": "2022-04-06T08:24:47.520Z"
   },
   {
    "duration": 8,
    "start_time": "2022-04-06T08:24:47.685Z"
   },
   {
    "duration": 80,
    "start_time": "2022-04-06T08:24:47.696Z"
   },
   {
    "duration": 120,
    "start_time": "2022-04-06T08:24:47.779Z"
   },
   {
    "duration": 187,
    "start_time": "2022-04-06T08:24:47.903Z"
   },
   {
    "duration": 82,
    "start_time": "2022-04-06T08:24:48.093Z"
   },
   {
    "duration": 98,
    "start_time": "2022-04-06T08:24:48.178Z"
   },
   {
    "duration": 398,
    "start_time": "2022-04-06T08:24:48.279Z"
   },
   {
    "duration": 5,
    "start_time": "2022-04-06T08:34:36.092Z"
   },
   {
    "duration": 161,
    "start_time": "2022-04-06T08:40:55.062Z"
   },
   {
    "duration": 8,
    "start_time": "2022-04-06T08:42:30.970Z"
   },
   {
    "duration": 6,
    "start_time": "2022-04-06T08:42:33.886Z"
   },
   {
    "duration": 4,
    "start_time": "2022-04-06T08:42:33.905Z"
   },
   {
    "duration": 160,
    "start_time": "2022-04-06T08:42:33.912Z"
   },
   {
    "duration": 359,
    "start_time": "2022-04-06T08:42:34.075Z"
   },
   {
    "duration": 153,
    "start_time": "2022-04-06T08:42:34.437Z"
   },
   {
    "duration": 153,
    "start_time": "2022-04-06T08:42:34.593Z"
   },
   {
    "duration": 9,
    "start_time": "2022-04-06T08:42:34.749Z"
   },
   {
    "duration": 107,
    "start_time": "2022-04-06T08:42:34.773Z"
   },
   {
    "duration": 114,
    "start_time": "2022-04-06T08:42:34.883Z"
   },
   {
    "duration": 120,
    "start_time": "2022-04-06T08:42:35.077Z"
   },
   {
    "duration": 6,
    "start_time": "2022-04-06T08:42:35.275Z"
   },
   {
    "duration": 106,
    "start_time": "2022-04-06T08:42:35.283Z"
   },
   {
    "duration": 268,
    "start_time": "2022-04-06T08:42:35.391Z"
   },
   {
    "duration": 12,
    "start_time": "2022-04-06T08:42:35.662Z"
   },
   {
    "duration": 26,
    "start_time": "2022-04-06T08:42:35.676Z"
   },
   {
    "duration": 6,
    "start_time": "2022-04-06T08:42:52.051Z"
   },
   {
    "duration": 9,
    "start_time": "2022-04-06T08:42:53.671Z"
   },
   {
    "duration": 10,
    "start_time": "2022-04-06T08:43:10.879Z"
   },
   {
    "duration": 9,
    "start_time": "2022-04-06T08:43:21.686Z"
   },
   {
    "duration": 5,
    "start_time": "2022-04-06T08:43:29.231Z"
   },
   {
    "duration": 9,
    "start_time": "2022-04-06T08:43:30.961Z"
   },
   {
    "duration": 9,
    "start_time": "2022-04-06T08:43:37.590Z"
   },
   {
    "duration": 6,
    "start_time": "2022-04-06T08:44:42.624Z"
   },
   {
    "duration": 5,
    "start_time": "2022-04-06T08:44:42.641Z"
   },
   {
    "duration": 161,
    "start_time": "2022-04-06T08:44:42.648Z"
   },
   {
    "duration": 469,
    "start_time": "2022-04-06T08:44:42.811Z"
   },
   {
    "duration": 162,
    "start_time": "2022-04-06T08:44:43.283Z"
   },
   {
    "duration": 157,
    "start_time": "2022-04-06T08:44:43.448Z"
   },
   {
    "duration": 8,
    "start_time": "2022-04-06T08:44:43.609Z"
   },
   {
    "duration": 64,
    "start_time": "2022-04-06T08:44:43.619Z"
   },
   {
    "duration": 106,
    "start_time": "2022-04-06T08:44:43.776Z"
   },
   {
    "duration": 208,
    "start_time": "2022-04-06T08:44:43.887Z"
   },
   {
    "duration": 93,
    "start_time": "2022-04-06T08:44:44.181Z"
   },
   {
    "duration": 11,
    "start_time": "2022-04-06T08:44:44.276Z"
   },
   {
    "duration": 281,
    "start_time": "2022-04-06T08:44:44.289Z"
   },
   {
    "duration": 6,
    "start_time": "2022-04-06T08:44:44.574Z"
   },
   {
    "duration": 22,
    "start_time": "2022-04-06T08:44:44.582Z"
   },
   {
    "duration": 6,
    "start_time": "2022-04-06T08:44:57.493Z"
   },
   {
    "duration": 4,
    "start_time": "2022-04-06T08:44:57.509Z"
   },
   {
    "duration": 153,
    "start_time": "2022-04-06T08:44:57.516Z"
   },
   {
    "duration": 352,
    "start_time": "2022-04-06T08:44:57.673Z"
   },
   {
    "duration": 159,
    "start_time": "2022-04-06T08:44:58.028Z"
   },
   {
    "duration": 158,
    "start_time": "2022-04-06T08:44:58.189Z"
   },
   {
    "duration": 7,
    "start_time": "2022-04-06T08:44:58.350Z"
   },
   {
    "duration": 114,
    "start_time": "2022-04-06T08:44:58.359Z"
   },
   {
    "duration": 120,
    "start_time": "2022-04-06T08:44:58.476Z"
   },
   {
    "duration": 197,
    "start_time": "2022-04-06T08:44:58.677Z"
   },
   {
    "duration": 95,
    "start_time": "2022-04-06T08:44:58.878Z"
   },
   {
    "duration": 18,
    "start_time": "2022-04-06T08:44:58.976Z"
   },
   {
    "duration": 283,
    "start_time": "2022-04-06T08:44:58.996Z"
   },
   {
    "duration": 5,
    "start_time": "2022-04-06T08:44:59.281Z"
   },
   {
    "duration": 24,
    "start_time": "2022-04-06T08:44:59.288Z"
   },
   {
    "duration": 26,
    "start_time": "2022-04-06T08:54:45.905Z"
   },
   {
    "duration": 18,
    "start_time": "2022-04-06T08:54:48.609Z"
   },
   {
    "duration": 20,
    "start_time": "2022-04-06T08:55:03.564Z"
   },
   {
    "duration": 19,
    "start_time": "2022-04-06T08:56:05.865Z"
   },
   {
    "duration": 5,
    "start_time": "2022-04-06T09:02:10.087Z"
   },
   {
    "duration": 6,
    "start_time": "2022-04-06T09:02:18.115Z"
   },
   {
    "duration": 4,
    "start_time": "2022-04-06T09:27:27.974Z"
   },
   {
    "duration": 5,
    "start_time": "2022-04-06T09:28:44.528Z"
   },
   {
    "duration": 19,
    "start_time": "2022-04-06T09:28:45.034Z"
   },
   {
    "duration": 5,
    "start_time": "2022-04-06T09:29:01.435Z"
   },
   {
    "duration": 19,
    "start_time": "2022-04-06T09:29:02.888Z"
   },
   {
    "duration": 150,
    "start_time": "2022-04-06T09:29:10.945Z"
   },
   {
    "duration": 274,
    "start_time": "2022-04-06T09:52:25.111Z"
   },
   {
    "duration": 104,
    "start_time": "2022-04-06T09:52:46.561Z"
   },
   {
    "duration": 8,
    "start_time": "2022-04-06T09:52:55.162Z"
   },
   {
    "duration": 28,
    "start_time": "2022-04-06T09:54:07.540Z"
   },
   {
    "duration": 25,
    "start_time": "2022-04-06T09:56:09.347Z"
   },
   {
    "duration": 7,
    "start_time": "2022-04-06T09:56:12.143Z"
   },
   {
    "duration": 19,
    "start_time": "2022-04-06T09:56:12.159Z"
   },
   {
    "duration": 172,
    "start_time": "2022-04-06T09:56:12.180Z"
   },
   {
    "duration": 373,
    "start_time": "2022-04-06T09:56:12.354Z"
   },
   {
    "duration": 156,
    "start_time": "2022-04-06T09:56:12.729Z"
   },
   {
    "duration": 158,
    "start_time": "2022-04-06T09:56:12.888Z"
   },
   {
    "duration": 7,
    "start_time": "2022-04-06T09:56:13.049Z"
   },
   {
    "duration": 115,
    "start_time": "2022-04-06T09:56:13.058Z"
   },
   {
    "duration": 122,
    "start_time": "2022-04-06T09:56:13.179Z"
   },
   {
    "duration": 115,
    "start_time": "2022-04-06T09:56:13.376Z"
   },
   {
    "duration": 84,
    "start_time": "2022-04-06T09:56:13.494Z"
   },
   {
    "duration": 106,
    "start_time": "2022-04-06T09:56:13.581Z"
   },
   {
    "duration": 272,
    "start_time": "2022-04-06T09:56:13.690Z"
   },
   {
    "duration": 10,
    "start_time": "2022-04-06T09:56:13.964Z"
   },
   {
    "duration": 33,
    "start_time": "2022-04-06T09:56:13.978Z"
   },
   {
    "duration": 8,
    "start_time": "2022-04-06T09:56:14.013Z"
   },
   {
    "duration": 35,
    "start_time": "2022-04-06T09:56:14.023Z"
   },
   {
    "duration": 7,
    "start_time": "2022-04-06T09:56:59.424Z"
   },
   {
    "duration": 26,
    "start_time": "2022-04-06T09:57:00.295Z"
   },
   {
    "duration": 8,
    "start_time": "2022-04-06T09:57:37.419Z"
   },
   {
    "duration": 17,
    "start_time": "2022-04-06T09:57:38.184Z"
   },
   {
    "duration": 8,
    "start_time": "2022-04-06T09:57:50.020Z"
   },
   {
    "duration": 33,
    "start_time": "2022-04-06T09:57:51.659Z"
   },
   {
    "duration": 7,
    "start_time": "2022-04-06T09:58:32.273Z"
   },
   {
    "duration": 33,
    "start_time": "2022-04-06T09:58:32.826Z"
   },
   {
    "duration": 5,
    "start_time": "2022-04-06T10:01:31.606Z"
   },
   {
    "duration": 19,
    "start_time": "2022-04-06T10:01:32.239Z"
   },
   {
    "duration": 8,
    "start_time": "2022-04-06T10:01:35.633Z"
   },
   {
    "duration": 2069,
    "start_time": "2022-04-06T10:01:36.393Z"
   },
   {
    "duration": 8,
    "start_time": "2022-04-06T10:01:57.045Z"
   },
   {
    "duration": 2037,
    "start_time": "2022-04-06T10:01:58.672Z"
   },
   {
    "duration": 4,
    "start_time": "2022-04-06T10:03:09.806Z"
   },
   {
    "duration": 5,
    "start_time": "2022-04-06T10:03:10.695Z"
   },
   {
    "duration": 273,
    "start_time": "2022-04-06T10:03:11.437Z"
   },
   {
    "duration": 8,
    "start_time": "2022-04-06T10:06:07.343Z"
   },
   {
    "duration": 2024,
    "start_time": "2022-04-06T10:06:08.195Z"
   },
   {
    "duration": 2068,
    "start_time": "2022-04-06T10:06:38.951Z"
   },
   {
    "duration": 2041,
    "start_time": "2022-04-06T10:06:53.193Z"
   },
   {
    "duration": 9,
    "start_time": "2022-04-06T10:07:17.689Z"
   },
   {
    "duration": 2099,
    "start_time": "2022-04-06T10:07:18.741Z"
   },
   {
    "duration": 2137,
    "start_time": "2022-04-06T10:07:20.842Z"
   },
   {
    "duration": 2101,
    "start_time": "2022-04-06T10:07:22.983Z"
   },
   {
    "duration": 8,
    "start_time": "2022-04-06T10:07:41.143Z"
   },
   {
    "duration": 2052,
    "start_time": "2022-04-06T10:07:41.923Z"
   },
   {
    "duration": 8,
    "start_time": "2022-04-06T10:08:33.391Z"
   },
   {
    "duration": 2075,
    "start_time": "2022-04-06T10:08:33.980Z"
   },
   {
    "duration": 0,
    "start_time": "2022-04-06T10:08:36.057Z"
   },
   {
    "duration": 0,
    "start_time": "2022-04-06T10:08:36.059Z"
   },
   {
    "duration": 8,
    "start_time": "2022-04-06T10:08:59.274Z"
   },
   {
    "duration": 2036,
    "start_time": "2022-04-06T10:08:59.660Z"
   },
   {
    "duration": 2080,
    "start_time": "2022-04-06T10:09:01.698Z"
   },
   {
    "duration": 2015,
    "start_time": "2022-04-06T10:09:03.780Z"
   },
   {
    "duration": 2093,
    "start_time": "2022-04-06T10:25:12.720Z"
   },
   {
    "duration": 5,
    "start_time": "2022-04-06T10:25:14.815Z"
   },
   {
    "duration": 182,
    "start_time": "2022-04-06T10:25:14.822Z"
   },
   {
    "duration": 404,
    "start_time": "2022-04-06T10:25:15.007Z"
   },
   {
    "duration": 155,
    "start_time": "2022-04-06T10:25:15.413Z"
   },
   {
    "duration": 160,
    "start_time": "2022-04-06T10:25:15.574Z"
   },
   {
    "duration": 7,
    "start_time": "2022-04-06T10:25:15.736Z"
   },
   {
    "duration": 50,
    "start_time": "2022-04-06T10:25:15.746Z"
   },
   {
    "duration": 198,
    "start_time": "2022-04-06T10:25:15.877Z"
   },
   {
    "duration": 114,
    "start_time": "2022-04-06T10:25:16.081Z"
   },
   {
    "duration": 9,
    "start_time": "2022-04-06T10:25:16.276Z"
   },
   {
    "duration": 7,
    "start_time": "2022-04-06T10:25:16.374Z"
   },
   {
    "duration": 293,
    "start_time": "2022-04-06T10:25:16.383Z"
   },
   {
    "duration": 4,
    "start_time": "2022-04-06T10:25:16.679Z"
   },
   {
    "duration": 176,
    "start_time": "2022-04-06T10:25:16.685Z"
   },
   {
    "duration": 0,
    "start_time": "2022-04-06T10:25:16.863Z"
   },
   {
    "duration": 0,
    "start_time": "2022-04-06T10:25:16.865Z"
   },
   {
    "duration": 0,
    "start_time": "2022-04-06T10:25:16.873Z"
   },
   {
    "duration": 0,
    "start_time": "2022-04-06T10:25:16.875Z"
   },
   {
    "duration": 35,
    "start_time": "2022-04-06T10:26:57.321Z"
   },
   {
    "duration": 5,
    "start_time": "2022-04-06T10:27:14.907Z"
   },
   {
    "duration": 31,
    "start_time": "2022-04-06T10:27:15.436Z"
   },
   {
    "duration": 6,
    "start_time": "2022-04-06T10:28:34.466Z"
   },
   {
    "duration": 31,
    "start_time": "2022-04-06T10:28:34.918Z"
   },
   {
    "duration": 5,
    "start_time": "2022-04-06T10:33:32.028Z"
   },
   {
    "duration": 24,
    "start_time": "2022-04-06T10:33:32.490Z"
   },
   {
    "duration": 1975,
    "start_time": "2022-04-06T10:33:42.843Z"
   },
   {
    "duration": 4,
    "start_time": "2022-04-06T10:33:44.821Z"
   },
   {
    "duration": 175,
    "start_time": "2022-04-06T10:33:44.827Z"
   },
   {
    "duration": 163,
    "start_time": "2022-04-06T10:33:45.005Z"
   },
   {
    "duration": 159,
    "start_time": "2022-04-06T10:33:45.170Z"
   },
   {
    "duration": 7,
    "start_time": "2022-04-06T10:33:45.331Z"
   },
   {
    "duration": 61,
    "start_time": "2022-04-06T10:33:45.340Z"
   },
   {
    "duration": 121,
    "start_time": "2022-04-06T10:33:45.477Z"
   },
   {
    "duration": 126,
    "start_time": "2022-04-06T10:33:45.676Z"
   },
   {
    "duration": 6,
    "start_time": "2022-04-06T10:33:45.878Z"
   },
   {
    "duration": 25,
    "start_time": "2022-04-06T10:33:45.975Z"
   },
   {
    "duration": 298,
    "start_time": "2022-04-06T10:33:46.003Z"
   },
   {
    "duration": 5,
    "start_time": "2022-04-06T10:33:46.303Z"
   },
   {
    "duration": 39,
    "start_time": "2022-04-06T10:33:46.310Z"
   },
   {
    "duration": 8,
    "start_time": "2022-04-06T10:33:46.351Z"
   },
   {
    "duration": 180,
    "start_time": "2022-04-06T10:33:46.373Z"
   },
   {
    "duration": 0,
    "start_time": "2022-04-06T10:33:46.555Z"
   },
   {
    "duration": 0,
    "start_time": "2022-04-06T10:33:46.556Z"
   },
   {
    "duration": 8,
    "start_time": "2022-04-06T10:36:32.092Z"
   },
   {
    "duration": 34,
    "start_time": "2022-04-06T10:36:32.611Z"
   },
   {
    "duration": 8,
    "start_time": "2022-04-06T10:36:42.597Z"
   },
   {
    "duration": 33,
    "start_time": "2022-04-06T10:36:43.310Z"
   },
   {
    "duration": 1716,
    "start_time": "2022-04-06T15:45:14.443Z"
   },
   {
    "duration": 3,
    "start_time": "2022-04-06T15:45:16.161Z"
   },
   {
    "duration": 165,
    "start_time": "2022-04-06T15:45:16.166Z"
   },
   {
    "duration": 132,
    "start_time": "2022-04-06T15:45:16.333Z"
   },
   {
    "duration": 136,
    "start_time": "2022-04-06T15:45:16.466Z"
   },
   {
    "duration": 6,
    "start_time": "2022-04-06T15:45:16.604Z"
   },
   {
    "duration": 27,
    "start_time": "2022-04-06T15:45:16.611Z"
   },
   {
    "duration": 60,
    "start_time": "2022-04-06T15:45:16.639Z"
   },
   {
    "duration": 214,
    "start_time": "2022-04-06T15:45:16.701Z"
   },
   {
    "duration": 2,
    "start_time": "2022-04-06T15:45:16.918Z"
   },
   {
    "duration": 119,
    "start_time": "2022-04-06T15:45:16.982Z"
   },
   {
    "duration": 151,
    "start_time": "2022-04-06T15:45:17.103Z"
   },
   {
    "duration": 3,
    "start_time": "2022-04-06T15:45:17.256Z"
   },
   {
    "duration": 18,
    "start_time": "2022-04-06T15:45:17.261Z"
   },
   {
    "duration": 6,
    "start_time": "2022-04-06T15:45:17.288Z"
   },
   {
    "duration": 123,
    "start_time": "2022-04-06T15:45:17.295Z"
   },
   {
    "duration": 0,
    "start_time": "2022-04-06T15:45:17.419Z"
   },
   {
    "duration": 0,
    "start_time": "2022-04-06T15:45:17.420Z"
   },
   {
    "duration": 3,
    "start_time": "2022-04-06T15:46:18.276Z"
   },
   {
    "duration": 22,
    "start_time": "2022-04-06T15:46:22.536Z"
   },
   {
    "duration": 17,
    "start_time": "2022-04-06T15:46:33.495Z"
   },
   {
    "duration": 5,
    "start_time": "2022-04-06T15:46:42.904Z"
   },
   {
    "duration": 1296,
    "start_time": "2022-04-06T15:46:44.746Z"
   },
   {
    "duration": 1249,
    "start_time": "2022-04-06T15:46:46.263Z"
   },
   {
    "duration": 1261,
    "start_time": "2022-04-06T15:46:47.514Z"
   },
   {
    "duration": 4,
    "start_time": "2022-04-06T15:47:09.014Z"
   },
   {
    "duration": 17,
    "start_time": "2022-04-06T15:47:10.146Z"
   },
   {
    "duration": 3,
    "start_time": "2022-04-06T15:47:20.467Z"
   },
   {
    "duration": 17,
    "start_time": "2022-04-06T15:47:21.741Z"
   },
   {
    "duration": 4,
    "start_time": "2022-04-06T15:47:26.026Z"
   },
   {
    "duration": 17,
    "start_time": "2022-04-06T15:47:26.605Z"
   },
   {
    "duration": 17,
    "start_time": "2022-04-06T15:47:27.522Z"
   },
   {
    "duration": 3,
    "start_time": "2022-04-06T15:47:36.651Z"
   },
   {
    "duration": 19,
    "start_time": "2022-04-06T15:47:37.273Z"
   },
   {
    "duration": 5,
    "start_time": "2022-04-06T15:47:39.030Z"
   },
   {
    "duration": 17,
    "start_time": "2022-04-06T15:47:39.894Z"
   },
   {
    "duration": 5,
    "start_time": "2022-04-06T15:48:06.813Z"
   },
   {
    "duration": 1237,
    "start_time": "2022-04-06T15:48:07.336Z"
   },
   {
    "duration": 1246,
    "start_time": "2022-04-06T15:48:08.575Z"
   },
   {
    "duration": 3,
    "start_time": "2022-04-06T15:51:27.195Z"
   },
   {
    "duration": 2,
    "start_time": "2022-04-06T15:51:27.210Z"
   },
   {
    "duration": 137,
    "start_time": "2022-04-06T15:51:27.214Z"
   },
   {
    "duration": 124,
    "start_time": "2022-04-06T15:51:27.353Z"
   },
   {
    "duration": 125,
    "start_time": "2022-04-06T15:51:27.478Z"
   },
   {
    "duration": 5,
    "start_time": "2022-04-06T15:51:27.605Z"
   },
   {
    "duration": 26,
    "start_time": "2022-04-06T15:51:27.611Z"
   },
   {
    "duration": 110,
    "start_time": "2022-04-06T15:51:27.691Z"
   },
   {
    "duration": 200,
    "start_time": "2022-04-06T15:51:27.803Z"
   },
   {
    "duration": 102,
    "start_time": "2022-04-06T15:51:28.082Z"
   },
   {
    "duration": 18,
    "start_time": "2022-04-06T15:51:28.185Z"
   },
   {
    "duration": 141,
    "start_time": "2022-04-06T15:51:28.205Z"
   },
   {
    "duration": 3,
    "start_time": "2022-04-06T15:51:28.347Z"
   },
   {
    "duration": 21,
    "start_time": "2022-04-06T15:51:28.352Z"
   },
   {
    "duration": 14,
    "start_time": "2022-04-06T15:51:28.374Z"
   },
   {
    "duration": 1271,
    "start_time": "2022-04-06T15:51:28.390Z"
   },
   {
    "duration": 1268,
    "start_time": "2022-04-06T15:51:29.662Z"
   },
   {
    "duration": 1261,
    "start_time": "2022-04-06T15:51:30.932Z"
   },
   {
    "duration": 1538,
    "start_time": "2022-04-06T15:53:23.696Z"
   },
   {
    "duration": 3,
    "start_time": "2022-04-06T15:53:25.236Z"
   },
   {
    "duration": 137,
    "start_time": "2022-04-06T15:53:25.240Z"
   },
   {
    "duration": 131,
    "start_time": "2022-04-06T15:53:25.378Z"
   },
   {
    "duration": 131,
    "start_time": "2022-04-06T15:53:25.511Z"
   },
   {
    "duration": 5,
    "start_time": "2022-04-06T15:53:25.644Z"
   },
   {
    "duration": 35,
    "start_time": "2022-04-06T15:53:25.650Z"
   },
   {
    "duration": 192,
    "start_time": "2022-04-06T15:53:25.690Z"
   },
   {
    "duration": 139,
    "start_time": "2022-04-06T15:53:25.883Z"
   },
   {
    "duration": 10,
    "start_time": "2022-04-06T15:53:26.085Z"
   },
   {
    "duration": 100,
    "start_time": "2022-04-06T15:53:26.097Z"
   },
   {
    "duration": 148,
    "start_time": "2022-04-06T15:53:26.199Z"
   },
   {
    "duration": 3,
    "start_time": "2022-04-06T15:53:26.349Z"
   },
   {
    "duration": 18,
    "start_time": "2022-04-06T15:53:26.355Z"
   },
   {
    "duration": 12,
    "start_time": "2022-04-06T15:53:26.374Z"
   },
   {
    "duration": 1264,
    "start_time": "2022-04-06T15:53:26.387Z"
   },
   {
    "duration": 1249,
    "start_time": "2022-04-06T15:53:27.653Z"
   },
   {
    "duration": 8,
    "start_time": "2022-04-06T15:53:30.159Z"
   },
   {
    "duration": 14,
    "start_time": "2022-04-06T15:53:30.168Z"
   },
   {
    "duration": 138,
    "start_time": "2022-04-06T15:53:30.185Z"
   },
   {
    "duration": 120,
    "start_time": "2022-04-06T15:53:30.324Z"
   },
   {
    "duration": 125,
    "start_time": "2022-04-06T15:53:30.446Z"
   },
   {
    "duration": 9,
    "start_time": "2022-04-06T15:53:30.573Z"
   },
   {
    "duration": 43,
    "start_time": "2022-04-06T15:53:30.589Z"
   },
   {
    "duration": 120,
    "start_time": "2022-04-06T15:53:30.685Z"
   },
   {
    "duration": 132,
    "start_time": "2022-04-06T15:53:30.884Z"
   },
   {
    "duration": 174,
    "start_time": "2022-04-06T15:53:31.018Z"
   },
   {
    "duration": 21,
    "start_time": "2022-04-06T15:53:31.194Z"
   },
   {
    "duration": 148,
    "start_time": "2022-04-06T15:53:31.216Z"
   },
   {
    "duration": 3,
    "start_time": "2022-04-06T15:53:31.365Z"
   },
   {
    "duration": 27,
    "start_time": "2022-04-06T15:53:31.370Z"
   },
   {
    "duration": 6,
    "start_time": "2022-04-06T15:53:31.398Z"
   },
   {
    "duration": 1258,
    "start_time": "2022-04-06T15:53:31.406Z"
   },
   {
    "duration": 1251,
    "start_time": "2022-04-06T15:53:32.667Z"
   },
   {
    "duration": 1251,
    "start_time": "2022-04-06T15:53:33.919Z"
   },
   {
    "duration": 2187,
    "start_time": "2022-04-06T15:53:55.219Z"
   },
   {
    "duration": 3,
    "start_time": "2022-04-06T15:53:57.408Z"
   },
   {
    "duration": 791,
    "start_time": "2022-04-06T15:53:57.412Z"
   },
   {
    "duration": 151,
    "start_time": "2022-04-06T15:53:58.205Z"
   },
   {
    "duration": 127,
    "start_time": "2022-04-06T15:53:58.359Z"
   },
   {
    "duration": 9,
    "start_time": "2022-04-06T15:53:58.489Z"
   },
   {
    "duration": 39,
    "start_time": "2022-04-06T15:53:58.499Z"
   },
   {
    "duration": 103,
    "start_time": "2022-04-06T15:53:58.589Z"
   },
   {
    "duration": 202,
    "start_time": "2022-04-06T15:53:58.694Z"
   },
   {
    "duration": 87,
    "start_time": "2022-04-06T15:53:58.899Z"
   },
   {
    "duration": 112,
    "start_time": "2022-04-06T15:53:58.989Z"
   },
   {
    "duration": 144,
    "start_time": "2022-04-06T15:53:59.102Z"
   },
   {
    "duration": 3,
    "start_time": "2022-04-06T15:53:59.248Z"
   },
   {
    "duration": 18,
    "start_time": "2022-04-06T15:53:59.252Z"
   },
   {
    "duration": 9,
    "start_time": "2022-04-06T15:53:59.272Z"
   },
   {
    "duration": 1270,
    "start_time": "2022-04-06T15:53:59.282Z"
   },
   {
    "duration": 1272,
    "start_time": "2022-04-06T15:54:00.554Z"
   },
   {
    "duration": 1241,
    "start_time": "2022-04-06T15:54:01.827Z"
   },
   {
    "duration": 1377,
    "start_time": "2022-04-14T18:45:32.732Z"
   },
   {
    "duration": 3,
    "start_time": "2022-04-14T18:45:34.111Z"
   },
   {
    "duration": 139,
    "start_time": "2022-04-14T18:45:34.116Z"
   },
   {
    "duration": 124,
    "start_time": "2022-04-14T18:45:34.257Z"
   },
   {
    "duration": 119,
    "start_time": "2022-04-14T18:45:34.383Z"
   },
   {
    "duration": 6,
    "start_time": "2022-04-14T18:45:34.504Z"
   },
   {
    "duration": 70,
    "start_time": "2022-04-14T18:45:34.512Z"
   },
   {
    "duration": 190,
    "start_time": "2022-04-14T18:45:34.583Z"
   },
   {
    "duration": 114,
    "start_time": "2022-04-14T18:45:34.776Z"
   },
   {
    "duration": 81,
    "start_time": "2022-04-14T18:45:34.893Z"
   },
   {
    "duration": 108,
    "start_time": "2022-04-14T18:45:34.977Z"
   },
   {
    "duration": 162,
    "start_time": "2022-04-14T18:45:35.087Z"
   },
   {
    "duration": 3,
    "start_time": "2022-04-14T18:45:35.250Z"
   },
   {
    "duration": 30,
    "start_time": "2022-04-14T18:45:35.255Z"
   },
   {
    "duration": 5,
    "start_time": "2022-04-14T18:45:35.287Z"
   },
   {
    "duration": 1395,
    "start_time": "2022-04-14T18:45:35.294Z"
   },
   {
    "duration": 1371,
    "start_time": "2022-04-14T18:45:36.691Z"
   },
   {
    "duration": 1406,
    "start_time": "2022-04-14T18:45:38.064Z"
   }
  ],
  "kernelspec": {
   "display_name": "Python 3 (ipykernel)",
   "language": "python",
   "name": "python3"
  },
  "language_info": {
   "codemirror_mode": {
    "name": "ipython",
    "version": 3
   },
   "file_extension": ".py",
   "mimetype": "text/x-python",
   "name": "python",
   "nbconvert_exporter": "python",
   "pygments_lexer": "ipython3",
   "version": "3.9.5"
  },
  "toc": {
   "base_numbering": 1,
   "nav_menu": {},
   "number_sections": true,
   "sideBar": true,
   "skip_h1_title": true,
   "title_cell": "Table of Contents",
   "title_sidebar": "Contents",
   "toc_cell": false,
   "toc_position": {},
   "toc_section_display": true,
   "toc_window_display": false
  }
 },
 "nbformat": 4,
 "nbformat_minor": 2
}
