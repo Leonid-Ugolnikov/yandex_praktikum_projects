{
 "cells": [
  {
   "cell_type": "markdown",
   "metadata": {},
   "source": [
    "# Рекомендация тарифов"
   ]
  },
  {
   "cell_type": "markdown",
   "metadata": {},
   "source": [
    "В нашем распоряжении данные о поведении клиентов, которые уже перешли на эти тарифы (из проекта курса «Статистический анализ данных»). Нужно построить модель для задачи классификации, которая выберет подходящий тариф. Предобработка данных не понадобится — мы её уже сделали.\n",
    "\n",
    "Построим модель с максимально большим значением *accuracy*. Чтобы сдать проект успешно, нужно довести долю правильных ответов по крайней мере до 0.75. Проверим *accuracy* на тестовой выборке самостоятельно."
   ]
  },
  {
   "cell_type": "markdown",
   "metadata": {},
   "source": [
    "## Открываем и изучаем файл"
   ]
  },
  {
   "cell_type": "code",
   "execution_count": 1,
   "metadata": {},
   "outputs": [],
   "source": [
    "import pandas as pd\n",
    "from sklearn.model_selection import train_test_split \n",
    "from sklearn.ensemble import RandomForestClassifier\n",
    "from sklearn.linear_model import LogisticRegression\n",
    "from sklearn.tree import DecisionTreeClassifier\n",
    "from sklearn.metrics import accuracy_score\n",
    "from sklearn.dummy import DummyClassifier\n",
    "#загружаем библиотеки необходимые для дальнейшей работы"
   ]
  },
  {
   "cell_type": "code",
   "execution_count": 2,
   "metadata": {},
   "outputs": [
    {
     "data": {
      "text/plain": [
       "(3214, 5)"
      ]
     },
     "metadata": {},
     "output_type": "display_data"
    },
    {
     "data": {
      "text/html": [
       "<div>\n",
       "<style scoped>\n",
       "    .dataframe tbody tr th:only-of-type {\n",
       "        vertical-align: middle;\n",
       "    }\n",
       "\n",
       "    .dataframe tbody tr th {\n",
       "        vertical-align: top;\n",
       "    }\n",
       "\n",
       "    .dataframe thead th {\n",
       "        text-align: right;\n",
       "    }\n",
       "</style>\n",
       "<table border=\"1\" class=\"dataframe\">\n",
       "  <thead>\n",
       "    <tr style=\"text-align: right;\">\n",
       "      <th></th>\n",
       "      <th>calls</th>\n",
       "      <th>minutes</th>\n",
       "      <th>messages</th>\n",
       "      <th>mb_used</th>\n",
       "      <th>is_ultra</th>\n",
       "    </tr>\n",
       "  </thead>\n",
       "  <tbody>\n",
       "    <tr>\n",
       "      <th>0</th>\n",
       "      <td>40.0</td>\n",
       "      <td>311.90</td>\n",
       "      <td>83.0</td>\n",
       "      <td>19915.42</td>\n",
       "      <td>0</td>\n",
       "    </tr>\n",
       "    <tr>\n",
       "      <th>1</th>\n",
       "      <td>85.0</td>\n",
       "      <td>516.75</td>\n",
       "      <td>56.0</td>\n",
       "      <td>22696.96</td>\n",
       "      <td>0</td>\n",
       "    </tr>\n",
       "    <tr>\n",
       "      <th>2</th>\n",
       "      <td>77.0</td>\n",
       "      <td>467.66</td>\n",
       "      <td>86.0</td>\n",
       "      <td>21060.45</td>\n",
       "      <td>0</td>\n",
       "    </tr>\n",
       "    <tr>\n",
       "      <th>3</th>\n",
       "      <td>106.0</td>\n",
       "      <td>745.53</td>\n",
       "      <td>81.0</td>\n",
       "      <td>8437.39</td>\n",
       "      <td>1</td>\n",
       "    </tr>\n",
       "    <tr>\n",
       "      <th>4</th>\n",
       "      <td>66.0</td>\n",
       "      <td>418.74</td>\n",
       "      <td>1.0</td>\n",
       "      <td>14502.75</td>\n",
       "      <td>0</td>\n",
       "    </tr>\n",
       "  </tbody>\n",
       "</table>\n",
       "</div>"
      ],
      "text/plain": [
       "   calls  minutes  messages   mb_used  is_ultra\n",
       "0   40.0   311.90      83.0  19915.42         0\n",
       "1   85.0   516.75      56.0  22696.96         0\n",
       "2   77.0   467.66      86.0  21060.45         0\n",
       "3  106.0   745.53      81.0   8437.39         1\n",
       "4   66.0   418.74       1.0  14502.75         0"
      ]
     },
     "metadata": {},
     "output_type": "display_data"
    }
   ],
   "source": [
    "df = pd.read_csv('/datasets/users_behavior.csv')\n",
    "display(df.shape)\n",
    "display(df.head(5))\n",
    "#считываем датасет и выводим информацию по нему"
   ]
  },
  {
   "cell_type": "markdown",
   "metadata": {},
   "source": [
    "**Описание данных**\n",
    "\n",
    "Каждый объект в наборе данных — это информация о поведении одного пользователя за месяц. Известно:\n",
    "- `сalls` — количество звонков,\n",
    "- `minutes` — суммарная длительность звонков в минутах,\n",
    "- `messages` — количество sms-сообщений,\n",
    "- `mb_used` — израсходованный интернет-трафик в Мб,\n",
    "- `is_ultra` — каким тарифом пользовался в течение месяца («Ультра» — 1, «Смарт» — 0)."
   ]
  },
  {
   "cell_type": "markdown",
   "metadata": {},
   "source": [
    "## Разбиваем данные на выборки"
   ]
  },
  {
   "cell_type": "code",
   "execution_count": 3,
   "metadata": {
    "scrolled": true
   },
   "outputs": [
    {
     "data": {
      "text/plain": [
       "'Размез тренировочной выборки (строк/столбцов):(1928, 5)'"
      ]
     },
     "metadata": {},
     "output_type": "display_data"
    },
    {
     "data": {
      "text/plain": [
       "'Размез валидационной выборки (строк/столбцов):(643, 5)'"
      ]
     },
     "metadata": {},
     "output_type": "display_data"
    },
    {
     "data": {
      "text/plain": [
       "'Размез тестовой выборки (строк/столбцов):(643, 5)'"
      ]
     },
     "metadata": {},
     "output_type": "display_data"
    }
   ],
   "source": [
    "\n",
    "df_train, df_valid = train_test_split(df, test_size=.4, random_state=12345)\n",
    "df_valid, df_test = train_test_split(df_valid, test_size=.5, random_state=12345)\n",
    "display(f'Размез тренировочной выборки (строк/столбцов):{df_train.shape}')\n",
    "display(f'Размез валидационной выборки (строк/столбцов):{df_valid.shape}')\n",
    "display(f'Размез тестовой выборки (строк/столбцов):{df_test.shape}')\n",
    "# < разделяем данные на обучающую, валидационную и тестовую выборки и проверяем их размеры>\n",
    "\n",
    "features_train = df_train.drop(['is_ultra'], axis=1)\n",
    "target_train = df_train['is_ultra']\n",
    "\n",
    "features_valid = df_valid.drop(['is_ultra'], axis=1)\n",
    "target_valid = df_valid['is_ultra']\n",
    "\n",
    "features_test = df_test.drop(['is_ultra'], axis=1)\n",
    "target_test = df_test['is_ultra']\n",
    "# < создаем переменные для признаков и целевого признака >\n",
    "\n"
   ]
  },
  {
   "cell_type": "markdown",
   "metadata": {},
   "source": [
    "### Вывод\n",
    "Мы разделили данные на три выборки: тренировочную, валидационную и тестовую. Так же мы создали переменные для признаков и целевого признака."
   ]
  },
  {
   "cell_type": "markdown",
   "metadata": {},
   "source": [
    "## Исследуем модели"
   ]
  },
  {
   "cell_type": "code",
   "execution_count": 4,
   "metadata": {},
   "outputs": [
    {
     "data": {
      "text/plain": [
       "'Accuray стандартной модели \"дерево решений\" на валидационной выборке: 0.7293934681181959'"
      ]
     },
     "metadata": {},
     "output_type": "display_data"
    }
   ],
   "source": [
    "model = DecisionTreeClassifier()\n",
    "model.fit(features_train, target_train)\n",
    "result = model.score(features_valid, target_valid)\n",
    "display(f'Accuray стандартной модели \"дерево решений\" на валидационной выборке: {result}',)"
   ]
  },
  {
   "cell_type": "code",
   "execution_count": 5,
   "metadata": {},
   "outputs": [
    {
     "name": "stdout",
     "output_type": "stream",
     "text": [
      "Accuracy наилучшей модели \"дерево решений\" на валидационной выборке: 0.7293934681181959\n",
      "\n",
      "Параметры лучшей модели: DecisionTreeClassifier(max_depth=1, random_state=12345)\n"
     ]
    }
   ],
   "source": [
    "best_model_dtc = None\n",
    "best_result_dtc = 0\n",
    "for depth in range(1,20):\n",
    "    model = DecisionTreeClassifier(random_state=12345, max_depth = depth)\n",
    "    model.fit(features_train,target_train)\n",
    "    predictions_valid = model.predict(features_valid)\n",
    "    if result > best_result_dtc:\n",
    "        best_model_dtc = model\n",
    "        best_result_dtc = result\n",
    "print(f'Accuracy наилучшей модели \"дерево решений\" на валидационной выборке: {best_result_dtc}')\n",
    "print()\n",
    "print(f'Параметры лучшей модели: {best_model_dtc}')"
   ]
  },
  {
   "cell_type": "code",
   "execution_count": 6,
   "metadata": {
    "scrolled": true
   },
   "outputs": [
    {
     "data": {
      "text/plain": [
       "'Accuray модели \"случайный лес\" на валидационной выборке: 0.7869362363919129'"
      ]
     },
     "metadata": {},
     "output_type": "display_data"
    }
   ],
   "source": [
    "model = RandomForestClassifier()\n",
    "model.fit(features_train, target_train)\n",
    "result = model.score(features_valid, target_valid)\n",
    "display(f'Accuray модели \"случайный лес\" на валидационной выборке: {result}')"
   ]
  },
  {
   "cell_type": "code",
   "execution_count": 7,
   "metadata": {},
   "outputs": [
    {
     "name": "stdout",
     "output_type": "stream",
     "text": [
      "Accuracy наилучшей модели на валидационной выборке: 0.807153965785381\n",
      "\n",
      "Параметры лучшей модели: RandomForestClassifier(max_depth=7, min_samples_leaf=6, n_estimators=10,\n",
      "                       random_state=12345)\n"
     ]
    }
   ],
   "source": [
    "best_model_rfc = None\n",
    "best_result_rfc = 0\n",
    "for est in range(1, 11):\n",
    "    for dep in range(1, 11):\n",
    "        for n_samples in range(1, 11):\n",
    "            model = RandomForestClassifier(random_state=12345,\n",
    "                                       max_depth=dep,\n",
    "                                       n_estimators=est, \n",
    "                                       min_samples_leaf = n_samples) # обучите модель с заданным количеством деревьев\n",
    "            model.fit(features_train, target_train) # обучите модель на тренировочной выборке\n",
    "            result = model.score(features_valid,target_valid) # посчитайте качество модели на валидационной выборке\n",
    "            if result > best_result_rfc:\n",
    "                best_model_rfc = model\n",
    "                best_result_rfc = result#  сохраните наилучшее значение метрики accuracy на валидационных данных\n",
    "\n",
    "print(f'Accuracy наилучшей модели на валидационной выборке: {best_result_rfc}')\n",
    "print()\n",
    "print(f'Параметры лучшей модели: {best_model_rfc}')"
   ]
  },
  {
   "cell_type": "code",
   "execution_count": 8,
   "metadata": {
    "scrolled": true
   },
   "outputs": [
    {
     "data": {
      "text/plain": [
       "'Accuray модели \"логистической регрессии\" на валидационной выборке: 0.7931570762052877'"
      ]
     },
     "metadata": {},
     "output_type": "display_data"
    }
   ],
   "source": [
    "model_lr = LogisticRegression()\n",
    "model_lr.fit(features_train, target_train)\n",
    "result_lr = model.score(features_valid, target_valid)\n",
    "display(f'Accuray модели \"логистической регрессии\" на валидационной выборке: {result_lr}')"
   ]
  },
  {
   "cell_type": "markdown",
   "metadata": {},
   "source": [
    "### Вывод\n",
    "\n",
    "Мы посторили 3 модели, для некоторых из них прошлись циклом меняя гиперпараметры, по итогу лучшей моделью по качеству оказалась `RandomForestClassifier`."
   ]
  },
  {
   "cell_type": "markdown",
   "metadata": {},
   "source": [
    "## Проверяем модель на тестовой выборке"
   ]
  },
  {
   "cell_type": "code",
   "execution_count": 9,
   "metadata": {},
   "outputs": [
    {
     "name": "stdout",
     "output_type": "stream",
     "text": [
      "Accuracy наилучшей модели на валидационной выборке: 0.807153965785381\n"
     ]
    },
    {
     "data": {
      "text/plain": [
       "'Accuray модели \"случайный лес\" на тестовой выборке: 0.7900466562986003'"
      ]
     },
     "metadata": {},
     "output_type": "display_data"
    }
   ],
   "source": [
    "model = RandomForestClassifier( max_depth=7, n_estimators=10, min_samples_leaf=6, random_state=12345)\n",
    "model.fit(features_train, target_train)\n",
    "result = model.score(features_test, target_test)\n",
    "print(\"Accuracy наилучшей модели на валидационной выборке:\", best_result_rfc)\n",
    "display(f'Accuray модели \"случайный лес\" на тестовой выборке: {result}')"
   ]
  },
  {
   "cell_type": "markdown",
   "metadata": {},
   "source": [
    "### Вывод\n",
    "\n",
    "Сравнив модели по найлучшей модели на валидационной выборке, мы видим, что разница в результатах не велика, 0.8 и 0.79 соответственно."
   ]
  },
  {
   "cell_type": "markdown",
   "metadata": {},
   "source": [
    "## Проверяем модели на адекватность"
   ]
  },
  {
   "cell_type": "code",
   "execution_count": 10,
   "metadata": {
    "scrolled": true
   },
   "outputs": [
    {
     "data": {
      "text/plain": [
       "'Accuracy наилучшей модели на валидационной выборке: 0.807153965785381'"
      ]
     },
     "metadata": {},
     "output_type": "display_data"
    },
    {
     "data": {
      "text/plain": [
       "'Accuray модели \"случайный лес\" на тестовой выборке: 0.7900466562986003'"
      ]
     },
     "metadata": {},
     "output_type": "display_data"
    },
    {
     "data": {
      "text/plain": [
       "'Accuray модели \"фиктивный классификатор\" на валидацинной выборке: 0.7060653188180405'"
      ]
     },
     "metadata": {},
     "output_type": "display_data"
    }
   ],
   "source": [
    "dc_model = DummyClassifier(strategy='most_frequent', random_state=12345)\n",
    "dc_model.fit(features_train, target_train)\n",
    "result_dc = dc_model.score(features_valid, target_valid)\n",
    "display(f'Accuracy наилучшей модели на валидационной выборке: {best_result_rfc}')\n",
    "display(f'Accuray модели \"случайный лес\" на тестовой выборке: {result}')\n",
    "display(f'Accuray модели \"фиктивный классификатор\" на валидацинной выборке: {result_dc}')"
   ]
  },
  {
   "cell_type": "markdown",
   "metadata": {},
   "source": [
    "### Вывод\n",
    "\n",
    "Проверили модели на адекватность при помощи `DummyClassifier`. Судя по разности значений, наши модели вполне вменяемы. Подводя итоги, можно сказать, что наилучшей моделью оказалась модель :`RandomForestClassifier` ее значения `accuray` при определенных параметрах достигли 0.8."
   ]
  }
 ],
 "metadata": {
  "ExecuteTimeLog": [
   {
    "duration": 760,
    "start_time": "2022-03-07T12:31:14.284Z"
   },
   {
    "duration": 38,
    "start_time": "2022-03-07T12:34:21.132Z"
   },
   {
    "duration": 434,
    "start_time": "2022-03-07T12:47:31.809Z"
   },
   {
    "duration": 336,
    "start_time": "2022-03-07T12:47:40.295Z"
   },
   {
    "duration": 5,
    "start_time": "2022-03-07T12:48:41.974Z"
   },
   {
    "duration": 386,
    "start_time": "2022-03-07T12:57:17.333Z"
   },
   {
    "duration": 597,
    "start_time": "2022-03-07T12:58:20.360Z"
   },
   {
    "duration": 375,
    "start_time": "2022-03-07T12:58:23.826Z"
   },
   {
    "duration": 11,
    "start_time": "2022-03-07T12:58:41.666Z"
   },
   {
    "duration": 16,
    "start_time": "2022-03-07T12:59:47.734Z"
   },
   {
    "duration": 348,
    "start_time": "2022-03-07T13:00:30.975Z"
   },
   {
    "duration": 15,
    "start_time": "2022-03-07T13:00:59.440Z"
   },
   {
    "duration": 12,
    "start_time": "2022-03-07T13:01:38.314Z"
   },
   {
    "duration": 15,
    "start_time": "2022-03-07T13:01:57.405Z"
   },
   {
    "duration": 20,
    "start_time": "2022-03-07T13:07:10.618Z"
   },
   {
    "duration": 22,
    "start_time": "2022-03-07T13:08:52.428Z"
   },
   {
    "duration": 22,
    "start_time": "2022-03-07T13:10:26.393Z"
   },
   {
    "duration": 21,
    "start_time": "2022-03-07T13:11:37.049Z"
   },
   {
    "duration": 19,
    "start_time": "2022-03-07T13:14:54.936Z"
   },
   {
    "duration": 378,
    "start_time": "2022-03-07T13:36:39.418Z"
   },
   {
    "duration": 94,
    "start_time": "2022-03-07T13:36:46.493Z"
   },
   {
    "duration": 20,
    "start_time": "2022-03-07T13:36:50.167Z"
   },
   {
    "duration": 18,
    "start_time": "2022-03-07T13:36:52.797Z"
   },
   {
    "duration": 21,
    "start_time": "2022-03-07T13:38:00.853Z"
   },
   {
    "duration": 123,
    "start_time": "2022-03-07T13:39:23.506Z"
   },
   {
    "duration": 19,
    "start_time": "2022-03-07T13:39:31.710Z"
   },
   {
    "duration": 63,
    "start_time": "2022-03-07T13:41:04.887Z"
   },
   {
    "duration": 64,
    "start_time": "2022-03-07T13:41:39.178Z"
   },
   {
    "duration": 28,
    "start_time": "2022-03-07T13:42:21.538Z"
   },
   {
    "duration": 26,
    "start_time": "2022-03-07T13:42:37.819Z"
   },
   {
    "duration": 24,
    "start_time": "2022-03-07T13:46:48.786Z"
   },
   {
    "duration": 378,
    "start_time": "2022-03-07T13:49:44.172Z"
   },
   {
    "duration": 354,
    "start_time": "2022-03-07T13:50:05.275Z"
   },
   {
    "duration": 329,
    "start_time": "2022-03-07T13:50:36.529Z"
   },
   {
    "duration": 22,
    "start_time": "2022-03-07T13:51:37.103Z"
   },
   {
    "duration": 20,
    "start_time": "2022-03-07T13:51:45.087Z"
   },
   {
    "duration": 532,
    "start_time": "2022-03-07T16:01:15.856Z"
   },
   {
    "duration": 341,
    "start_time": "2022-03-07T16:03:37.808Z"
   },
   {
    "duration": 43,
    "start_time": "2022-03-07T16:04:30.360Z"
   },
   {
    "duration": 33,
    "start_time": "2022-03-07T16:04:39.553Z"
   },
   {
    "duration": 348,
    "start_time": "2022-03-07T16:05:19.168Z"
   },
   {
    "duration": 340,
    "start_time": "2022-03-07T16:05:29.119Z"
   },
   {
    "duration": 80,
    "start_time": "2022-03-07T16:05:35.969Z"
   },
   {
    "duration": 64,
    "start_time": "2022-03-07T16:08:26.887Z"
   },
   {
    "duration": 386,
    "start_time": "2022-03-07T16:08:46.501Z"
   },
   {
    "duration": 103,
    "start_time": "2022-03-07T16:09:47.757Z"
   },
   {
    "duration": 64,
    "start_time": "2022-03-07T16:09:51.455Z"
   },
   {
    "duration": 63,
    "start_time": "2022-03-07T16:28:14.553Z"
   },
   {
    "duration": 62,
    "start_time": "2022-03-07T16:29:25.561Z"
   },
   {
    "duration": 66,
    "start_time": "2022-03-07T16:29:41.448Z"
   },
   {
    "duration": 63,
    "start_time": "2022-03-07T16:29:55.451Z"
   },
   {
    "duration": 71,
    "start_time": "2022-03-07T16:30:21.674Z"
   },
   {
    "duration": 64,
    "start_time": "2022-03-07T16:30:37.568Z"
   },
   {
    "duration": 85,
    "start_time": "2022-03-07T16:30:44.143Z"
   },
   {
    "duration": 62,
    "start_time": "2022-03-07T16:30:50.696Z"
   },
   {
    "duration": 19,
    "start_time": "2022-03-07T16:31:15.177Z"
   },
   {
    "duration": 440,
    "start_time": "2022-03-07T16:35:21.874Z"
   },
   {
    "duration": 325,
    "start_time": "2022-03-07T16:35:54.620Z"
   },
   {
    "duration": 334,
    "start_time": "2022-03-07T16:37:08.986Z"
   },
   {
    "duration": 338,
    "start_time": "2022-03-07T16:37:32.361Z"
   },
   {
    "duration": 361,
    "start_time": "2022-03-07T16:38:06.936Z"
   },
   {
    "duration": 108,
    "start_time": "2022-03-07T16:38:22.566Z"
   },
   {
    "duration": 1856,
    "start_time": "2022-03-07T16:38:39.506Z"
   },
   {
    "duration": 1863,
    "start_time": "2022-03-07T16:38:59.369Z"
   },
   {
    "duration": 8,
    "start_time": "2022-03-07T16:39:13.858Z"
   },
   {
    "duration": 8,
    "start_time": "2022-03-07T16:39:16.974Z"
   },
   {
    "duration": 2182,
    "start_time": "2022-03-07T16:39:21.200Z"
   },
   {
    "duration": 44,
    "start_time": "2022-03-07T17:32:09.016Z"
   },
   {
    "duration": 45,
    "start_time": "2022-03-07T17:32:15.473Z"
   },
   {
    "duration": 42,
    "start_time": "2022-03-07T17:32:22.154Z"
   },
   {
    "duration": 42,
    "start_time": "2022-03-07T17:32:49.875Z"
   },
   {
    "duration": 163,
    "start_time": "2022-03-07T17:44:08.543Z"
   },
   {
    "duration": 125,
    "start_time": "2022-03-07T17:44:21.496Z"
   },
   {
    "duration": 2350,
    "start_time": "2022-03-07T17:48:17.310Z"
   },
   {
    "duration": 2346,
    "start_time": "2022-03-07T17:48:17.315Z"
   },
   {
    "duration": 21140,
    "start_time": "2022-03-07T17:48:33.632Z"
   },
   {
    "duration": 28,
    "start_time": "2022-03-07T17:51:24.665Z"
   },
   {
    "duration": 42,
    "start_time": "2022-03-07T17:52:10.276Z"
   },
   {
    "duration": 45,
    "start_time": "2022-03-07T17:52:24.644Z"
   },
   {
    "duration": 48,
    "start_time": "2022-03-07T17:52:59.851Z"
   },
   {
    "duration": 70,
    "start_time": "2022-03-07T17:53:03.814Z"
   },
   {
    "duration": 49,
    "start_time": "2022-03-07T17:53:47.964Z"
   },
   {
    "duration": 369,
    "start_time": "2022-03-07T18:11:57.124Z"
   },
   {
    "duration": 49,
    "start_time": "2022-03-07T18:12:04.776Z"
   },
   {
    "duration": 10,
    "start_time": "2022-03-07T18:12:08.805Z"
   },
   {
    "duration": 11,
    "start_time": "2022-03-07T18:14:56.911Z"
   },
   {
    "duration": 9,
    "start_time": "2022-03-07T18:15:05.331Z"
   },
   {
    "duration": 49,
    "start_time": "2022-03-07T18:18:04.596Z"
   },
   {
    "duration": 18,
    "start_time": "2022-03-07T18:18:04.648Z"
   },
   {
    "duration": 18,
    "start_time": "2022-03-07T18:18:04.669Z"
   },
   {
    "duration": 93,
    "start_time": "2022-03-07T18:18:04.690Z"
   },
   {
    "duration": 79,
    "start_time": "2022-03-07T18:18:04.785Z"
   },
   {
    "duration": 22017,
    "start_time": "2022-03-07T18:18:04.867Z"
   },
   {
    "duration": 28,
    "start_time": "2022-03-07T18:18:26.887Z"
   },
   {
    "duration": 46,
    "start_time": "2022-03-07T18:18:26.934Z"
   },
   {
    "duration": 8,
    "start_time": "2022-03-07T18:18:26.982Z"
   },
   {
    "duration": 64,
    "start_time": "2022-03-07T18:18:41.065Z"
   },
   {
    "duration": 21723,
    "start_time": "2022-03-07T18:18:56.764Z"
   },
   {
    "duration": 9,
    "start_time": "2022-03-07T18:19:51.774Z"
   },
   {
    "duration": 50,
    "start_time": "2022-03-07T18:19:53.752Z"
   },
   {
    "duration": 53,
    "start_time": "2022-03-07T18:20:42.327Z"
   },
   {
    "duration": 12,
    "start_time": "2022-03-07T18:20:46.114Z"
   },
   {
    "duration": 16,
    "start_time": "2022-03-07T18:20:55.217Z"
   },
   {
    "duration": 11,
    "start_time": "2022-03-07T18:21:24.644Z"
   },
   {
    "duration": 14,
    "start_time": "2022-03-07T18:21:34.106Z"
   },
   {
    "duration": 21844,
    "start_time": "2022-03-07T18:21:53.005Z"
   },
   {
    "duration": 32,
    "start_time": "2022-03-07T18:33:08.540Z"
   },
   {
    "duration": 181,
    "start_time": "2022-03-07T18:48:01.073Z"
   },
   {
    "duration": 4,
    "start_time": "2022-03-07T18:48:32.358Z"
   },
   {
    "duration": 31,
    "start_time": "2022-03-07T18:48:32.371Z"
   },
   {
    "duration": 19,
    "start_time": "2022-03-07T18:48:32.404Z"
   },
   {
    "duration": 19,
    "start_time": "2022-03-07T18:48:32.469Z"
   },
   {
    "duration": 171,
    "start_time": "2022-03-07T18:48:32.490Z"
   },
   {
    "duration": 76,
    "start_time": "2022-03-07T18:48:32.664Z"
   },
   {
    "duration": 21573,
    "start_time": "2022-03-07T18:48:32.743Z"
   },
   {
    "duration": 33,
    "start_time": "2022-03-07T18:48:54.318Z"
   },
   {
    "duration": 47,
    "start_time": "2022-03-07T18:48:54.353Z"
   },
   {
    "duration": 40,
    "start_time": "2022-03-07T18:48:54.403Z"
   },
   {
    "duration": 1319,
    "start_time": "2022-03-07T18:49:06.875Z"
   },
   {
    "duration": 44,
    "start_time": "2022-03-07T18:49:08.197Z"
   },
   {
    "duration": 21,
    "start_time": "2022-03-07T18:49:08.245Z"
   },
   {
    "duration": 18,
    "start_time": "2022-03-07T18:49:08.269Z"
   },
   {
    "duration": 223,
    "start_time": "2022-03-07T18:49:08.289Z"
   },
   {
    "duration": 72,
    "start_time": "2022-03-07T18:49:08.514Z"
   },
   {
    "duration": 21146,
    "start_time": "2022-03-07T18:49:08.588Z"
   },
   {
    "duration": 29,
    "start_time": "2022-03-07T18:49:29.737Z"
   },
   {
    "duration": 81,
    "start_time": "2022-03-07T18:49:29.769Z"
   },
   {
    "duration": 11,
    "start_time": "2022-03-07T18:49:29.853Z"
   },
   {
    "duration": 10,
    "start_time": "2022-03-22T12:00:08.698Z"
   },
   {
    "duration": 1201,
    "start_time": "2022-04-14T18:20:11.390Z"
   },
   {
    "duration": 30,
    "start_time": "2022-04-14T18:20:12.593Z"
   },
   {
    "duration": 13,
    "start_time": "2022-04-14T18:20:12.625Z"
   },
   {
    "duration": 15,
    "start_time": "2022-04-14T18:20:12.640Z"
   },
   {
    "duration": 153,
    "start_time": "2022-04-14T18:20:12.675Z"
   },
   {
    "duration": 386,
    "start_time": "2022-04-14T18:20:12.829Z"
   },
   {
    "duration": 16092,
    "start_time": "2022-04-14T18:20:13.217Z"
   },
   {
    "duration": 31,
    "start_time": "2022-04-14T18:20:29.313Z"
   },
   {
    "duration": 50,
    "start_time": "2022-04-14T18:20:29.345Z"
   },
   {
    "duration": 9,
    "start_time": "2022-04-14T18:20:29.397Z"
   }
  ],
  "kernelspec": {
   "display_name": "Python 3 (ipykernel)",
   "language": "python",
   "name": "python3"
  },
  "language_info": {
   "codemirror_mode": {
    "name": "ipython",
    "version": 3
   },
   "file_extension": ".py",
   "mimetype": "text/x-python",
   "name": "python",
   "nbconvert_exporter": "python",
   "pygments_lexer": "ipython3",
   "version": "3.9.5"
  },
  "toc": {
   "base_numbering": 1,
   "nav_menu": {},
   "number_sections": true,
   "sideBar": true,
   "skip_h1_title": true,
   "title_cell": "Table of Contents",
   "title_sidebar": "Contents",
   "toc_cell": false,
   "toc_position": {},
   "toc_section_display": true,
   "toc_window_display": false
  }
 },
 "nbformat": 4,
 "nbformat_minor": 2
}
