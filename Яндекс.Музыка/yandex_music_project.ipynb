{
 "cells": [
  {
   "cell_type": "markdown",
   "metadata": {
    "id": "E0vqbgi9ay0H"
   },
   "source": [
    "# Яндекс.Музыка"
   ]
  },
  {
   "cell_type": "markdown",
   "metadata": {
    "id": "VUC88oWjTJw2"
   },
   "source": [
    "Сравнение Москвы и Петербурга окружено мифами. Например:\n",
    " * Москва — мегаполис, подчинённый жёсткому ритму рабочей недели;\n",
    " * Петербург — культурная столица, со своими вкусами.\n",
    "\n",
    "На данных Яндекс.Музыки вы сравните поведение пользователей двух столиц.\n",
    "\n",
    "**Цель исследования** — проверьте три гипотезы:\n",
    "1. Активность пользователей зависит от дня недели. Причём в Москве и Петербурге это проявляется по-разному.\n",
    "2. В понедельник утром в Москве преобладают одни жанры, а в Петербурге — другие. Так же и вечером пятницы преобладают разные жанры — в зависимости от города. \n",
    "3. Москва и Петербург предпочитают разные жанры музыки. В Москве чаще слушают поп-музыку, в Петербурге — русский рэп.\n",
    "\n",
    "**Ход исследования**\n",
    "\n",
    "Данные о поведении пользователей вы получите из файла `yandex_music_project.csv`. О качестве данных ничего не известно. Поэтому перед проверкой гипотез понадобится обзор данных. \n",
    "\n",
    "Вы проверите данные на ошибки и оцените их влияние на исследование. Затем, на этапе предобработки вы поищете возможность исправить самые критичные ошибки данных.\n",
    " \n",
    "Таким образом, исследование пройдёт в три этапа:\n",
    " 1. Обзор данных.\n",
    " 2. Предобработка данных.\n",
    " 3. Проверка гипотез.\n",
    "\n"
   ]
  },
  {
   "cell_type": "markdown",
   "metadata": {
    "id": "Ml1hmfXC_Zcs"
   },
   "source": [
    "## Обзор данных\n",
    "\n",
    "Составим первое представление о данных Яндекс.Музыки.\n",
    "\n",
    "\n"
   ]
  },
  {
   "cell_type": "code",
   "execution_count": 1,
   "metadata": {
    "id": "AXN7PHPN_Zcs"
   },
   "outputs": [],
   "source": [
    "import pandas as pd\n",
    "# импорт библиотеки pandas"
   ]
  },
  {
   "cell_type": "code",
   "execution_count": 2,
   "metadata": {
    "id": "fFVu7vqh_Zct"
   },
   "outputs": [],
   "source": [
    "df = pd.read_csv('/datasets/yandex_music_project.csv')\n",
    "# чтение файла с данными и сохранение в df"
   ]
  },
  {
   "cell_type": "code",
   "execution_count": 3,
   "metadata": {
    "id": "oWTVX3gW_Zct"
   },
   "outputs": [
    {
     "data": {
      "text/html": [
       "<div>\n",
       "<style scoped>\n",
       "    .dataframe tbody tr th:only-of-type {\n",
       "        vertical-align: middle;\n",
       "    }\n",
       "\n",
       "    .dataframe tbody tr th {\n",
       "        vertical-align: top;\n",
       "    }\n",
       "\n",
       "    .dataframe thead th {\n",
       "        text-align: right;\n",
       "    }\n",
       "</style>\n",
       "<table border=\"1\" class=\"dataframe\">\n",
       "  <thead>\n",
       "    <tr style=\"text-align: right;\">\n",
       "      <th></th>\n",
       "      <th>userID</th>\n",
       "      <th>Track</th>\n",
       "      <th>artist</th>\n",
       "      <th>genre</th>\n",
       "      <th>City</th>\n",
       "      <th>time</th>\n",
       "      <th>Day</th>\n",
       "    </tr>\n",
       "  </thead>\n",
       "  <tbody>\n",
       "    <tr>\n",
       "      <th>0</th>\n",
       "      <td>FFB692EC</td>\n",
       "      <td>Kamigata To Boots</td>\n",
       "      <td>The Mass Missile</td>\n",
       "      <td>rock</td>\n",
       "      <td>Saint-Petersburg</td>\n",
       "      <td>20:28:33</td>\n",
       "      <td>Wednesday</td>\n",
       "    </tr>\n",
       "    <tr>\n",
       "      <th>1</th>\n",
       "      <td>55204538</td>\n",
       "      <td>Delayed Because of Accident</td>\n",
       "      <td>Andreas Rönnberg</td>\n",
       "      <td>rock</td>\n",
       "      <td>Moscow</td>\n",
       "      <td>14:07:09</td>\n",
       "      <td>Friday</td>\n",
       "    </tr>\n",
       "    <tr>\n",
       "      <th>2</th>\n",
       "      <td>20EC38</td>\n",
       "      <td>Funiculì funiculà</td>\n",
       "      <td>Mario Lanza</td>\n",
       "      <td>pop</td>\n",
       "      <td>Saint-Petersburg</td>\n",
       "      <td>20:58:07</td>\n",
       "      <td>Wednesday</td>\n",
       "    </tr>\n",
       "    <tr>\n",
       "      <th>3</th>\n",
       "      <td>A3DD03C9</td>\n",
       "      <td>Dragons in the Sunset</td>\n",
       "      <td>Fire + Ice</td>\n",
       "      <td>folk</td>\n",
       "      <td>Saint-Petersburg</td>\n",
       "      <td>08:37:09</td>\n",
       "      <td>Monday</td>\n",
       "    </tr>\n",
       "    <tr>\n",
       "      <th>4</th>\n",
       "      <td>E2DC1FAE</td>\n",
       "      <td>Soul People</td>\n",
       "      <td>Space Echo</td>\n",
       "      <td>dance</td>\n",
       "      <td>Moscow</td>\n",
       "      <td>08:34:34</td>\n",
       "      <td>Monday</td>\n",
       "    </tr>\n",
       "    <tr>\n",
       "      <th>5</th>\n",
       "      <td>842029A1</td>\n",
       "      <td>Преданная</td>\n",
       "      <td>IMPERVTOR</td>\n",
       "      <td>rusrap</td>\n",
       "      <td>Saint-Petersburg</td>\n",
       "      <td>13:09:41</td>\n",
       "      <td>Friday</td>\n",
       "    </tr>\n",
       "    <tr>\n",
       "      <th>6</th>\n",
       "      <td>4CB90AA5</td>\n",
       "      <td>True</td>\n",
       "      <td>Roman Messer</td>\n",
       "      <td>dance</td>\n",
       "      <td>Moscow</td>\n",
       "      <td>13:00:07</td>\n",
       "      <td>Wednesday</td>\n",
       "    </tr>\n",
       "    <tr>\n",
       "      <th>7</th>\n",
       "      <td>F03E1C1F</td>\n",
       "      <td>Feeling This Way</td>\n",
       "      <td>Polina Griffith</td>\n",
       "      <td>dance</td>\n",
       "      <td>Moscow</td>\n",
       "      <td>20:47:49</td>\n",
       "      <td>Wednesday</td>\n",
       "    </tr>\n",
       "    <tr>\n",
       "      <th>8</th>\n",
       "      <td>8FA1D3BE</td>\n",
       "      <td>И вновь продолжается бой</td>\n",
       "      <td>NaN</td>\n",
       "      <td>ruspop</td>\n",
       "      <td>Moscow</td>\n",
       "      <td>09:17:40</td>\n",
       "      <td>Friday</td>\n",
       "    </tr>\n",
       "    <tr>\n",
       "      <th>9</th>\n",
       "      <td>E772D5C0</td>\n",
       "      <td>Pessimist</td>\n",
       "      <td>NaN</td>\n",
       "      <td>dance</td>\n",
       "      <td>Saint-Petersburg</td>\n",
       "      <td>21:20:49</td>\n",
       "      <td>Wednesday</td>\n",
       "    </tr>\n",
       "  </tbody>\n",
       "</table>\n",
       "</div>"
      ],
      "text/plain": [
       "     userID                        Track            artist   genre  \\\n",
       "0  FFB692EC            Kamigata To Boots  The Mass Missile    rock   \n",
       "1  55204538  Delayed Because of Accident  Andreas Rönnberg    rock   \n",
       "2    20EC38            Funiculì funiculà       Mario Lanza     pop   \n",
       "3  A3DD03C9        Dragons in the Sunset        Fire + Ice    folk   \n",
       "4  E2DC1FAE                  Soul People        Space Echo   dance   \n",
       "5  842029A1                    Преданная         IMPERVTOR  rusrap   \n",
       "6  4CB90AA5                         True      Roman Messer   dance   \n",
       "7  F03E1C1F             Feeling This Way   Polina Griffith   dance   \n",
       "8  8FA1D3BE     И вновь продолжается бой               NaN  ruspop   \n",
       "9  E772D5C0                    Pessimist               NaN   dance   \n",
       "\n",
       "             City        time        Day  \n",
       "0  Saint-Petersburg  20:28:33  Wednesday  \n",
       "1            Moscow  14:07:09     Friday  \n",
       "2  Saint-Petersburg  20:58:07  Wednesday  \n",
       "3  Saint-Petersburg  08:37:09     Monday  \n",
       "4            Moscow  08:34:34     Monday  \n",
       "5  Saint-Petersburg  13:09:41     Friday  \n",
       "6            Moscow  13:00:07  Wednesday  \n",
       "7            Moscow  20:47:49  Wednesday  \n",
       "8            Moscow  09:17:40     Friday  \n",
       "9  Saint-Petersburg  21:20:49  Wednesday  "
      ]
     },
     "execution_count": 3,
     "metadata": {},
     "output_type": "execute_result"
    }
   ],
   "source": [
    "df.head(10)\n",
    "# получение первых 10 строк таблицы df"
   ]
  },
  {
   "cell_type": "markdown",
   "metadata": {
    "id": "EO73Kwic_Zct"
   },
   "source": [
    "Получим общую информацию о таблице:"
   ]
  },
  {
   "cell_type": "code",
   "execution_count": 4,
   "metadata": {
    "id": "DSf2kIb-_Zct"
   },
   "outputs": [
    {
     "name": "stdout",
     "output_type": "stream",
     "text": [
      "<class 'pandas.core.frame.DataFrame'>\n",
      "RangeIndex: 65079 entries, 0 to 65078\n",
      "Data columns (total 7 columns):\n",
      " #   Column    Non-Null Count  Dtype \n",
      "---  ------    --------------  ----- \n",
      " 0     userID  65079 non-null  object\n",
      " 1   Track     63848 non-null  object\n",
      " 2   artist    57876 non-null  object\n",
      " 3   genre     63881 non-null  object\n",
      " 4     City    65079 non-null  object\n",
      " 5   time      65079 non-null  object\n",
      " 6   Day       65079 non-null  object\n",
      "dtypes: object(7)\n",
      "memory usage: 3.5+ MB\n"
     ]
    }
   ],
   "source": [
    "df.info()\n",
    "# получение общей информации о данных в таблице df"
   ]
  },
  {
   "cell_type": "markdown",
   "metadata": {
    "id": "TaQ2Iwbr_Zct"
   },
   "source": [
    "Итак, в таблице семь столбцов. Тип данных во всех столбцах — `object`.\n",
    "\n",
    "Согласно документации к данным:\n",
    "* `userID` — идентификатор пользователя;\n",
    "* `Track` — название трека;  \n",
    "* `artist` — имя исполнителя;\n",
    "* `genre` — название жанра;\n",
    "* `City` — город пользователя;\n",
    "* `time` — время начала прослушивания;\n",
    "* `Day` — день недели.\n",
    "\n",
    "В названиях колонок видны три нарушения стиля:\n",
    "1. Строчные буквы сочетаются с прописными.\n",
    "2. Встречаются пробелы.\n",
    "3. Возможно, стиль нарушен из-за того, что некоторые названия колонок начинаются со строчных букв.\n",
    "Так же в названии столбца userID рекомендуется использовать \"змеиный регистр\" user_id.\n",
    "\n",
    "\n",
    "\n",
    "Количество значений в столбцах различается. Значит, в данных есть пропущенные значения.\n"
   ]
  },
  {
   "cell_type": "markdown",
   "metadata": {
    "id": "MCB6-dXG_Zct"
   },
   "source": [
    "**Выводы**\n",
    "\n",
    "В каждой строке таблицы — данные о прослушанном треке. Часть колонок описывает саму композицию: название, исполнителя и жанр. Остальные данные рассказывают о пользователе: из какого он города, когда он слушал музыку. \n",
    "\n",
    "Предварительно можно утверждать, что, данных достаточно для проверки гипотез. Но встречаются пропуски в данных, а в названиях колонок — расхождения с хорошим стилем.\n",
    "\n",
    "Чтобы двигаться дальше, нужно устранить проблемы в данных."
   ]
  },
  {
   "cell_type": "markdown",
   "metadata": {
    "id": "SjYF6Ub9_Zct"
   },
   "source": [
    "## Предобработка данных\n",
    "Исправьте стиль в заголовках столбцов, исключите пропуски. Затем проверьте данные на дубликаты."
   ]
  },
  {
   "cell_type": "markdown",
   "metadata": {
    "id": "dIaKXr29_Zct"
   },
   "source": [
    "### Стиль заголовков\n",
    "Выведем на экран названия столбцов:"
   ]
  },
  {
   "cell_type": "code",
   "execution_count": 5,
   "metadata": {
    "id": "oKOTdF_Q_Zct"
   },
   "outputs": [
    {
     "data": {
      "text/plain": [
       "Index(['  userID', 'Track', 'artist', 'genre', '  City  ', 'time', 'Day'], dtype='object')"
      ]
     },
     "metadata": {},
     "output_type": "display_data"
    }
   ],
   "source": [
    "display(df.columns)\n",
    "# перечень названий столбцов таблицы df"
   ]
  },
  {
   "cell_type": "markdown",
   "metadata": {
    "id": "zj5534cv_Zct"
   },
   "source": [
    "Приведите названия в соответствие с хорошим стилем:\n",
    "* несколько слов в названии запишите в «змеином_регистре»,\n",
    "* все символы сделайте строчными,\n",
    "* устраните пробелы.\n",
    "\n",
    "Для этого переименуйте колонки так:\n",
    "* `'  userID'` → `'user_id'`;\n",
    "* `'Track'` → `'track'`;\n",
    "* `'  City  '` → `'city'`;\n",
    "* `'Day'` → `'day'`."
   ]
  },
  {
   "cell_type": "code",
   "execution_count": 6,
   "metadata": {
    "id": "ISlFqs5y_Zct"
   },
   "outputs": [],
   "source": [
    "df.rename(columns={'  userID':'user_id',\n",
    "                   'Track':'track',\n",
    "                   '  City  ':'city',\n",
    "                   'Day':'day'},\n",
    "          inplace=True)\n",
    "# переименование столбцов"
   ]
  },
  {
   "cell_type": "markdown",
   "metadata": {
    "id": "1dqbh00J_Zct"
   },
   "source": [
    "Проверим результат. Для этого ещё раз выведем на экран названия столбцов:"
   ]
  },
  {
   "cell_type": "code",
   "execution_count": 7,
   "metadata": {
    "id": "d4NOAmTW_Zct",
    "scrolled": false
   },
   "outputs": [
    {
     "data": {
      "text/plain": [
       "Index(['user_id', 'track', 'artist', 'genre', 'city', 'time', 'day'], dtype='object')"
      ]
     },
     "metadata": {},
     "output_type": "display_data"
    }
   ],
   "source": [
    "display(df.columns)\n",
    "# проверка результатов - перечень названий столбцов"
   ]
  },
  {
   "cell_type": "markdown",
   "metadata": {
    "id": "5ISfbcfY_Zct"
   },
   "source": [
    "### Пропуски значений\n",
    "Сначала посчитаем, сколько в таблице пропущенных значений. Для этого достаточно двух методов `pandas`:"
   ]
  },
  {
   "cell_type": "code",
   "execution_count": 8,
   "metadata": {
    "id": "RskX29qr_Zct"
   },
   "outputs": [
    {
     "data": {
      "text/plain": [
       "user_id       0\n",
       "track      1231\n",
       "artist     7203\n",
       "genre      1198\n",
       "city          0\n",
       "time          0\n",
       "day           0\n",
       "dtype: int64"
      ]
     },
     "execution_count": 8,
     "metadata": {},
     "output_type": "execute_result"
    }
   ],
   "source": [
    "df.isna().sum()\n",
    "# подсчёт пропусков"
   ]
  },
  {
   "cell_type": "markdown",
   "metadata": {
    "id": "qubhgnlO_Zct"
   },
   "source": [
    "Не все пропущенные значения влияют на исследование. Так в `track` и `artist` пропуски не важны для вашей работы. Достаточно заменить их явными обозначениями.\n",
    "\n",
    "Но пропуски в `genre` могут помешать сравнению музыкальных вкусов в Москве и Санкт-Петербурге. На практике было бы правильно установить причину пропусков и восстановить данные. Такой возможности нет в учебном проекте. Придётся:\n",
    "* заполнить и эти пропуски явными обозначениями,\n",
    "* оценить, насколько они повредят расчётам. "
   ]
  },
  {
   "cell_type": "markdown",
   "metadata": {
    "id": "fSv2laPA_Zct"
   },
   "source": [
    "Заменим пропущенные значения в столбцах `track`, `artist` и `genre` на строку `'unknown'`. Для этого создайте список `columns_to_replace`, переберите его элементы циклом `for` и для каждого столбца выполните замену пропущенных значений:"
   ]
  },
  {
   "cell_type": "code",
   "execution_count": 9,
   "metadata": {
    "id": "KplB5qWs_Zct"
   },
   "outputs": [],
   "source": [
    "columns_to_replace = ['track','artist','genre']\n",
    "for column in columns_to_replace:\n",
    "    df[column] = df[column].fillna('unknown')\n",
    "    # перебор названий столбцов в цикле и замена пропущенных значений на 'unknown'"
   ]
  },
  {
   "cell_type": "markdown",
   "metadata": {
    "id": "Ilsm-MZo_Zct"
   },
   "source": [
    "Убедимся, что в таблице не осталось пропусков. Для этого ещё раз посчитаем пропущенные значения."
   ]
  },
  {
   "cell_type": "code",
   "execution_count": 10,
   "metadata": {
    "id": "Tq4nYRX4_Zct"
   },
   "outputs": [
    {
     "data": {
      "text/plain": [
       "user_id    0\n",
       "track      0\n",
       "artist     0\n",
       "genre      0\n",
       "city       0\n",
       "time       0\n",
       "day        0\n",
       "dtype: int64"
      ]
     },
     "execution_count": 10,
     "metadata": {},
     "output_type": "execute_result"
    }
   ],
   "source": [
    "df.isna().sum()\n",
    "# подсчёт пропусков"
   ]
  },
  {
   "cell_type": "markdown",
   "metadata": {
    "id": "BWKRtBJ3_Zct"
   },
   "source": [
    "### Дубликаты\n",
    "Посчитаем явные дубликаты в таблице одной командой:"
   ]
  },
  {
   "cell_type": "code",
   "execution_count": 11,
   "metadata": {
    "id": "36eES_S0_Zct"
   },
   "outputs": [
    {
     "data": {
      "text/plain": [
       "3826"
      ]
     },
     "execution_count": 11,
     "metadata": {},
     "output_type": "execute_result"
    }
   ],
   "source": [
    "df.duplicated().sum()\n",
    "# подсчёт явных дубликатов"
   ]
  },
  {
   "cell_type": "markdown",
   "metadata": {
    "id": "Ot25h6XR_Zct"
   },
   "source": [
    "Вызовим специальный метод `pandas`, чтобы удалить явные дубликаты:"
   ]
  },
  {
   "cell_type": "code",
   "execution_count": 12,
   "metadata": {
    "id": "exFHq6tt_Zct"
   },
   "outputs": [],
   "source": [
    "df = df.drop_duplicates().reset_index(drop=True)\n",
    "# удаление явных дубликатов (с удалением старых индексов и формированием новых)"
   ]
  },
  {
   "cell_type": "markdown",
   "metadata": {
    "id": "Im2YwBEG_Zct"
   },
   "source": [
    "Ещё раз посчитаем явные дубликаты в таблице — убедимся, что полностью от них избавились:"
   ]
  },
  {
   "cell_type": "code",
   "execution_count": 13,
   "metadata": {
    "id": "-8PuNWQ0_Zct"
   },
   "outputs": [
    {
     "data": {
      "text/plain": [
       "0"
      ]
     },
     "execution_count": 13,
     "metadata": {},
     "output_type": "execute_result"
    }
   ],
   "source": [
    "df.duplicated().sum()\n",
    "# проверка на отсутствие дубликатов"
   ]
  },
  {
   "cell_type": "markdown",
   "metadata": {
    "id": "QlFBsxAr_Zct"
   },
   "source": [
    "Теперь избавимся от неявных дубликатов в колонке `genre`. Например, название одного и того же жанра может быть записано немного по-разному. Такие ошибки тоже повлияют на результат исследования."
   ]
  },
  {
   "cell_type": "markdown",
   "metadata": {
    "id": "eSjWwsOh_Zct"
   },
   "source": [
    "Выведем на экран список уникальных названий жанров, отсортированный в алфавитном порядке. Для этого:\n",
    "* извлеките нужный столбец датафрейма, \n",
    "* примените к нему метод сортировки,\n",
    "* для отсортированного столбца вызовите метод, который вернёт уникальные значения из столбца."
   ]
  },
  {
   "cell_type": "code",
   "execution_count": 14,
   "metadata": {
    "id": "JIUcqzZN_Zct"
   },
   "outputs": [
    {
     "data": {
      "text/plain": [
       "array(['acid', 'acoustic', 'action', 'adult', 'africa', 'afrikaans',\n",
       "       'alternative', 'alternativepunk', 'ambient', 'americana',\n",
       "       'animated', 'anime', 'arabesk', 'arabic', 'arena',\n",
       "       'argentinetango', 'art', 'audiobook', 'author', 'avantgarde',\n",
       "       'axé', 'baile', 'balkan', 'beats', 'bigroom', 'black', 'bluegrass',\n",
       "       'blues', 'bollywood', 'bossa', 'brazilian', 'breakbeat', 'breaks',\n",
       "       'broadway', 'cantautori', 'cantopop', 'canzone', 'caribbean',\n",
       "       'caucasian', 'celtic', 'chamber', 'chanson', 'children', 'chill',\n",
       "       'chinese', 'choral', 'christian', 'christmas', 'classical',\n",
       "       'classicmetal', 'club', 'colombian', 'comedy', 'conjazz',\n",
       "       'contemporary', 'country', 'cuban', 'dance', 'dancehall',\n",
       "       'dancepop', 'dark', 'death', 'deep', 'deutschrock', 'deutschspr',\n",
       "       'dirty', 'disco', 'dnb', 'documentary', 'downbeat', 'downtempo',\n",
       "       'drum', 'dub', 'dubstep', 'eastern', 'easy', 'electronic',\n",
       "       'electropop', 'emo', 'entehno', 'epicmetal', 'estrada', 'ethnic',\n",
       "       'eurofolk', 'european', 'experimental', 'extrememetal', 'fado',\n",
       "       'fairytail', 'film', 'fitness', 'flamenco', 'folk', 'folklore',\n",
       "       'folkmetal', 'folkrock', 'folktronica', 'forró', 'frankreich',\n",
       "       'französisch', 'french', 'funk', 'future', 'gangsta', 'garage',\n",
       "       'german', 'ghazal', 'gitarre', 'glitch', 'gospel', 'gothic',\n",
       "       'grime', 'grunge', 'gypsy', 'handsup', \"hard'n'heavy\", 'hardcore',\n",
       "       'hardstyle', 'hardtechno', 'hip', 'hip-hop', 'hiphop',\n",
       "       'historisch', 'holiday', 'hop', 'horror', 'house', 'hymn', 'idm',\n",
       "       'independent', 'indian', 'indie', 'indipop', 'industrial',\n",
       "       'inspirational', 'instrumental', 'international', 'irish', 'jam',\n",
       "       'japanese', 'jazz', 'jewish', 'jpop', 'jungle', 'k-pop',\n",
       "       'karadeniz', 'karaoke', 'kayokyoku', 'korean', 'laiko', 'latin',\n",
       "       'latino', 'leftfield', 'local', 'lounge', 'loungeelectronic',\n",
       "       'lovers', 'malaysian', 'mandopop', 'marschmusik', 'meditative',\n",
       "       'mediterranean', 'melodic', 'metal', 'metalcore', 'mexican',\n",
       "       'middle', 'minimal', 'miscellaneous', 'modern', 'mood', 'mpb',\n",
       "       'muslim', 'native', 'neoklassik', 'neue', 'new', 'newage',\n",
       "       'newwave', 'nu', 'nujazz', 'numetal', 'oceania', 'old', 'opera',\n",
       "       'orchestral', 'other', 'piano', 'podcasts', 'pop', 'popdance',\n",
       "       'popelectronic', 'popeurodance', 'poprussian', 'post',\n",
       "       'posthardcore', 'postrock', 'power', 'progmetal', 'progressive',\n",
       "       'psychedelic', 'punjabi', 'punk', 'quebecois', 'ragga', 'ram',\n",
       "       'rancheras', 'rap', 'rave', 'reggae', 'reggaeton', 'regional',\n",
       "       'relax', 'religious', 'retro', 'rhythm', 'rnb', 'rnr', 'rock',\n",
       "       'rockabilly', 'rockalternative', 'rockindie', 'rockother',\n",
       "       'romance', 'roots', 'ruspop', 'rusrap', 'rusrock', 'russian',\n",
       "       'salsa', 'samba', 'scenic', 'schlager', 'self', 'sertanejo',\n",
       "       'shanson', 'shoegazing', 'showtunes', 'singer', 'ska', 'skarock',\n",
       "       'slow', 'smooth', 'soft', 'soul', 'soulful', 'sound', 'soundtrack',\n",
       "       'southern', 'specialty', 'speech', 'spiritual', 'sport',\n",
       "       'stonerrock', 'surf', 'swing', 'synthpop', 'synthrock',\n",
       "       'sängerportrait', 'tango', 'tanzorchester', 'taraftar', 'tatar',\n",
       "       'tech', 'techno', 'teen', 'thrash', 'top', 'traditional',\n",
       "       'tradjazz', 'trance', 'tribal', 'trip', 'triphop', 'tropical',\n",
       "       'türk', 'türkçe', 'ukrrock', 'unknown', 'urban', 'uzbek',\n",
       "       'variété', 'vi', 'videogame', 'vocal', 'western', 'world',\n",
       "       'worldbeat', 'ïîï', 'электроника'], dtype=object)"
      ]
     },
     "metadata": {},
     "output_type": "display_data"
    }
   ],
   "source": [
    "filtered_genre = df['genre'].sort_values().unique()\n",
    "# Просмотр уникальных названий жанров\n",
    "display(filtered_genre)"
   ]
  },
  {
   "cell_type": "markdown",
   "metadata": {
    "id": "qej-Qmuo_Zct"
   },
   "source": [
    "Просмотрим список и найдем неявные дубликаты названия `hiphop`. Это могут быть названия с ошибками или альтернативные названия того же жанра.\n",
    "\n",
    "Мы увидим следующие неявные дубликаты:\n",
    "* *hip*,\n",
    "* *hop*,\n",
    "* *hip-hop*.\n",
    "\n",
    "Чтобы очистить от них таблицу, напишем функцию `replace_wrong_genres()` с двумя параметрами: \n",
    "* `wrong_genres` — список дубликатов,\n",
    "* `correct_genre` — строка с правильным значением.\n",
    "\n",
    "Функция должна исправить колонку `genre` в таблице `df`: заменить каждое значение из списка `wrong_genres` на значение из `correct_genre`."
   ]
  },
  {
   "cell_type": "code",
   "execution_count": 15,
   "metadata": {
    "id": "ErNDkmns_Zct"
   },
   "outputs": [],
   "source": [
    "def replace_wrong_genres(wrong_genres, correct_genre):\n",
    "    for wrong_genre in wrong_genres:\n",
    "        df['genre'] = df['genre'].replace(wrong_genre, correct_genre)\n",
    "         # Функция для замены неявных дубликатов\n",
    "        "
   ]
  },
  {
   "cell_type": "markdown",
   "metadata": {
    "id": "aDoBJxbA_Zct"
   },
   "source": [
    "Вызовим `replace_wrong_genres()` и передадим ей такие аргументы, чтобы она устранила неявные дубликаты: вместо `hip`, `hop` и `hip-hop` в таблице должно быть значение `hiphop`:"
   ]
  },
  {
   "cell_type": "code",
   "execution_count": 16,
   "metadata": {
    "id": "YN5i2hpmSo09"
   },
   "outputs": [],
   "source": [
    "replace_wrong_genres(['hip', 'hop', 'hip-hop'], 'hiphop')\n",
    "# Устранение неявных дубликатов"
   ]
  },
  {
   "cell_type": "markdown",
   "metadata": {
    "id": "zQKF16_RG15m"
   },
   "source": [
    "Проверим, что заменили неправильные названия:\n",
    "\n",
    "*   hip\n",
    "*   hop\n",
    "*   hip-hop\n",
    "\n",
    "Выведем отсортированный список уникальных значений столбца `genre`:"
   ]
  },
  {
   "cell_type": "code",
   "execution_count": 17,
   "metadata": {
    "id": "wvixALnFG15m"
   },
   "outputs": [
    {
     "data": {
      "text/plain": [
       "array(['acid', 'acoustic', 'action', 'adult', 'africa', 'afrikaans',\n",
       "       'alternative', 'alternativepunk', 'ambient', 'americana',\n",
       "       'animated', 'anime', 'arabesk', 'arabic', 'arena',\n",
       "       'argentinetango', 'art', 'audiobook', 'author', 'avantgarde',\n",
       "       'axé', 'baile', 'balkan', 'beats', 'bigroom', 'black', 'bluegrass',\n",
       "       'blues', 'bollywood', 'bossa', 'brazilian', 'breakbeat', 'breaks',\n",
       "       'broadway', 'cantautori', 'cantopop', 'canzone', 'caribbean',\n",
       "       'caucasian', 'celtic', 'chamber', 'chanson', 'children', 'chill',\n",
       "       'chinese', 'choral', 'christian', 'christmas', 'classical',\n",
       "       'classicmetal', 'club', 'colombian', 'comedy', 'conjazz',\n",
       "       'contemporary', 'country', 'cuban', 'dance', 'dancehall',\n",
       "       'dancepop', 'dark', 'death', 'deep', 'deutschrock', 'deutschspr',\n",
       "       'dirty', 'disco', 'dnb', 'documentary', 'downbeat', 'downtempo',\n",
       "       'drum', 'dub', 'dubstep', 'eastern', 'easy', 'electronic',\n",
       "       'electropop', 'emo', 'entehno', 'epicmetal', 'estrada', 'ethnic',\n",
       "       'eurofolk', 'european', 'experimental', 'extrememetal', 'fado',\n",
       "       'fairytail', 'film', 'fitness', 'flamenco', 'folk', 'folklore',\n",
       "       'folkmetal', 'folkrock', 'folktronica', 'forró', 'frankreich',\n",
       "       'französisch', 'french', 'funk', 'future', 'gangsta', 'garage',\n",
       "       'german', 'ghazal', 'gitarre', 'glitch', 'gospel', 'gothic',\n",
       "       'grime', 'grunge', 'gypsy', 'handsup', \"hard'n'heavy\", 'hardcore',\n",
       "       'hardstyle', 'hardtechno', 'hiphop', 'historisch', 'holiday',\n",
       "       'horror', 'house', 'hymn', 'idm', 'independent', 'indian', 'indie',\n",
       "       'indipop', 'industrial', 'inspirational', 'instrumental',\n",
       "       'international', 'irish', 'jam', 'japanese', 'jazz', 'jewish',\n",
       "       'jpop', 'jungle', 'k-pop', 'karadeniz', 'karaoke', 'kayokyoku',\n",
       "       'korean', 'laiko', 'latin', 'latino', 'leftfield', 'local',\n",
       "       'lounge', 'loungeelectronic', 'lovers', 'malaysian', 'mandopop',\n",
       "       'marschmusik', 'meditative', 'mediterranean', 'melodic', 'metal',\n",
       "       'metalcore', 'mexican', 'middle', 'minimal', 'miscellaneous',\n",
       "       'modern', 'mood', 'mpb', 'muslim', 'native', 'neoklassik', 'neue',\n",
       "       'new', 'newage', 'newwave', 'nu', 'nujazz', 'numetal', 'oceania',\n",
       "       'old', 'opera', 'orchestral', 'other', 'piano', 'podcasts', 'pop',\n",
       "       'popdance', 'popelectronic', 'popeurodance', 'poprussian', 'post',\n",
       "       'posthardcore', 'postrock', 'power', 'progmetal', 'progressive',\n",
       "       'psychedelic', 'punjabi', 'punk', 'quebecois', 'ragga', 'ram',\n",
       "       'rancheras', 'rap', 'rave', 'reggae', 'reggaeton', 'regional',\n",
       "       'relax', 'religious', 'retro', 'rhythm', 'rnb', 'rnr', 'rock',\n",
       "       'rockabilly', 'rockalternative', 'rockindie', 'rockother',\n",
       "       'romance', 'roots', 'ruspop', 'rusrap', 'rusrock', 'russian',\n",
       "       'salsa', 'samba', 'scenic', 'schlager', 'self', 'sertanejo',\n",
       "       'shanson', 'shoegazing', 'showtunes', 'singer', 'ska', 'skarock',\n",
       "       'slow', 'smooth', 'soft', 'soul', 'soulful', 'sound', 'soundtrack',\n",
       "       'southern', 'specialty', 'speech', 'spiritual', 'sport',\n",
       "       'stonerrock', 'surf', 'swing', 'synthpop', 'synthrock',\n",
       "       'sängerportrait', 'tango', 'tanzorchester', 'taraftar', 'tatar',\n",
       "       'tech', 'techno', 'teen', 'thrash', 'top', 'traditional',\n",
       "       'tradjazz', 'trance', 'tribal', 'trip', 'triphop', 'tropical',\n",
       "       'türk', 'türkçe', 'ukrrock', 'unknown', 'urban', 'uzbek',\n",
       "       'variété', 'vi', 'videogame', 'vocal', 'western', 'world',\n",
       "       'worldbeat', 'ïîï', 'электроника'], dtype=object)"
      ]
     },
     "metadata": {},
     "output_type": "display_data"
    }
   ],
   "source": [
    "display(df['genre'].sort_values().unique())\n",
    "# Проверка на неявные дубликаты"
   ]
  },
  {
   "cell_type": "markdown",
   "metadata": {
    "id": "jz6a9-7HQUDd"
   },
   "source": [
    "**Выводы**\n",
    "\n",
    "Предобработка обнаружила три проблемы в данных:\n",
    "\n",
    "- нарушения в стиле заголовков,\n",
    "- пропущенные значения,\n",
    "- дубликаты — явные и неявные.\n",
    "\n",
    "Вы исправили заголовки, чтобы упростить работу с таблицей. Без дубликатов исследование станет более точным.\n",
    "\n",
    "Пропущенные значения вы заменили на `'unknown'`. Ещё предстоит увидеть, не повредят ли исследованию пропуски в колонке `genre`.\n",
    "\n",
    "Теперь можно перейти к проверке гипотез. "
   ]
  },
  {
   "cell_type": "markdown",
   "metadata": {
    "id": "WttZHXH0SqKk"
   },
   "source": [
    "## Проверка гипотез"
   ]
  },
  {
   "cell_type": "markdown",
   "metadata": {
    "id": "Im936VVi_Zcu"
   },
   "source": [
    "### Сравнение поведения пользователей двух столиц"
   ]
  },
  {
   "cell_type": "markdown",
   "metadata": {
    "id": "nwt_MuaL_Zcu"
   },
   "source": [
    "Первая гипотеза утверждает, что пользователи по-разному слушают музыку в Москве и Санкт-Петербурге. Проверим это предположение по данным о трёх днях недели — понедельнике, среде и пятнице. Для этого:\n",
    "\n",
    "* Разделим пользователей Москвы и Санкт-Петербурга\n",
    "* Сравним, сколько треков послушала каждая группа пользователей в понедельник, среду и пятницу.\n"
   ]
  },
  {
   "cell_type": "markdown",
   "metadata": {
    "id": "8Dw_YMmT_Zcu"
   },
   "source": [
    "Для тренировки сначала выполним каждый из расчётов по отдельности. \n",
    "\n",
    "Оценим активность пользователей в каждом городе. Сгруппируем данные по городу и посчитаем прослушивания в каждой группе.\n",
    "\n"
   ]
  },
  {
   "cell_type": "code",
   "execution_count": 18,
   "metadata": {
    "id": "0_Qs96oh_Zcu",
    "scrolled": true
   },
   "outputs": [
    {
     "data": {
      "text/plain": [
       "city\n",
       "Moscow              42741\n",
       "Saint-Petersburg    18512\n",
       "Name: user_id, dtype: int64"
      ]
     },
     "execution_count": 18,
     "metadata": {},
     "output_type": "execute_result"
    }
   ],
   "source": [
    "df.groupby('city')['user_id'].count()\n",
    "# Подсчёт прослушиваний в каждом городе"
   ]
  },
  {
   "cell_type": "markdown",
   "metadata": {
    "id": "dzli3w8o_Zcu"
   },
   "source": [
    "В Москве прослушиваний больше, чем в Петербурге. Из этого не следует, что московские пользователи чаще слушают музыку. Просто самих пользователей в Москве больше.\n",
    "\n",
    "Теперь сгруппируйте данные по дню недели и подсчитайте прослушивания в понедельник, среду и пятницу. Учтите, что в данных есть информация только о прослушиваниях только за эти дни.\n"
   ]
  },
  {
   "cell_type": "code",
   "execution_count": 19,
   "metadata": {
    "id": "uZMKjiJz_Zcu"
   },
   "outputs": [
    {
     "data": {
      "text/plain": [
       "day\n",
       "Friday       21840\n",
       "Monday       21354\n",
       "Wednesday    18059\n",
       "Name: user_id, dtype: int64"
      ]
     },
     "execution_count": 19,
     "metadata": {},
     "output_type": "execute_result"
    }
   ],
   "source": [
    "df.groupby('day')['user_id'].count()\n",
    "# Подсчёт прослушиваний в каждый из трёх дней"
   ]
  },
  {
   "cell_type": "markdown",
   "metadata": {
    "id": "cC2tNrlL_Zcu"
   },
   "source": [
    "В среднем пользователи из двух городов менее активны по средам. Но картина может измениться, если рассмотреть каждый город в отдельности."
   ]
  },
  {
   "cell_type": "markdown",
   "metadata": {
    "id": "POzs8bGa_Zcu"
   },
   "source": [
    "Вы видели, как работает группировка по городу и по дням недели. Теперь напишите функцию, которая объединит два эти расчёта.\n",
    "\n",
    "Создадим функцию `number_tracks()`, которая посчитает прослушивания для заданного дня и города. Ей понадобятся два параметра:\n",
    "* день недели,\n",
    "* название города.\n",
    "\n",
    "В функции сохраним в переменную строки исходной таблицы, у которых значение:\n",
    "  * в колонке `day` равно параметру `day`,\n",
    "  * в колонке `city` равно параметру `city`.\n",
    "\n",
    "Для этого применим последовательную фильтрацию с логической индексацией.\n",
    "\n",
    "Затем посчитаем значения в столбце `user_id` получившейся таблицы. Результат сохраним в новую переменную. Вернем эту переменную из функции."
   ]
  },
  {
   "cell_type": "code",
   "execution_count": 20,
   "metadata": {
    "id": "Nz3GdQB1_Zcu"
   },
   "outputs": [],
   "source": [
    "# <создание функции number_tracks()>\n",
    "def number_tracks(day, city):\n",
    "    track_list = df[df['day'] == day] \n",
    "    track_list = track_list[track_list['city'] == city]\n",
    "    track_list_count = track_list['user_id'].count()\n",
    "    return(track_list_count)\n",
    "# Объявляется функция с двумя параметрами: day, city.\n",
    "# В переменной track_list сохраняются те строки таблицы df, для которых \n",
    "# значение в столбце 'day' равно параметру day и одновременно значение\n",
    "# в столбце 'city' равно параметру city (используйте последовательную фильтрацию\n",
    "# с помощью логической индексации).\n",
    "# В переменной track_list_count сохраняется число значений столбца 'user_id',\n",
    "# рассчитанное методом count() для таблицы track_list.\n",
    "# Функция возвращает число - значение track_list_count.\n",
    "\n",
    "# Функция для подсчёта прослушиваний для конкретного города и дня.\n",
    "# С помощью последовательной фильтрации с логической индексацией она \n",
    "# сначала получит из исходной таблицы строки с нужным днём,\n",
    "# затем из результата отфильтрует строки с нужным городом,\n",
    "# методом count() посчитает количество значений в колонке user_id. \n",
    "# Это количество функция вернёт в качестве результата"
   ]
  },
  {
   "cell_type": "markdown",
   "metadata": {
    "id": "ytf7xFrFJQ2r"
   },
   "source": [
    "Вызовем `number_tracks()` шесть раз, меняя значение параметров — так, чтобы получить данные для каждого города в каждый из трёх дней."
   ]
  },
  {
   "cell_type": "code",
   "execution_count": 21,
   "metadata": {
    "id": "rJcRATNQ_Zcu"
   },
   "outputs": [
    {
     "data": {
      "text/plain": [
       "15740"
      ]
     },
     "execution_count": 21,
     "metadata": {},
     "output_type": "execute_result"
    }
   ],
   "source": [
    "number_tracks('Monday', 'Moscow')\n",
    "# количество прослушиваний в Москве по понедельникам"
   ]
  },
  {
   "cell_type": "code",
   "execution_count": 22,
   "metadata": {
    "id": "hq_ncZ5T_Zcu"
   },
   "outputs": [
    {
     "data": {
      "text/plain": [
       "5614"
      ]
     },
     "execution_count": 22,
     "metadata": {},
     "output_type": "execute_result"
    }
   ],
   "source": [
    "number_tracks('Monday', 'Saint-Petersburg')\n",
    "# количество прослушиваний в Санкт-Петербурге по понедельникам"
   ]
  },
  {
   "cell_type": "code",
   "execution_count": 23,
   "metadata": {
    "id": "_NTy2VPU_Zcu"
   },
   "outputs": [
    {
     "data": {
      "text/plain": [
       "11056"
      ]
     },
     "execution_count": 23,
     "metadata": {},
     "output_type": "execute_result"
    }
   ],
   "source": [
    "number_tracks('Wednesday', 'Moscow')\n",
    "# количество прослушиваний в Москве по средам"
   ]
  },
  {
   "cell_type": "code",
   "execution_count": 24,
   "metadata": {
    "id": "j2y3TAwo_Zcu"
   },
   "outputs": [
    {
     "data": {
      "text/plain": [
       "7003"
      ]
     },
     "execution_count": 24,
     "metadata": {},
     "output_type": "execute_result"
    }
   ],
   "source": [
    "number_tracks('Wednesday', 'Saint-Petersburg')\n",
    "# количество прослушиваний в Санкт-Петербурге по средам"
   ]
  },
  {
   "cell_type": "code",
   "execution_count": 25,
   "metadata": {
    "id": "vYDw5u_K_Zcu"
   },
   "outputs": [
    {
     "data": {
      "text/plain": [
       "15945"
      ]
     },
     "execution_count": 25,
     "metadata": {},
     "output_type": "execute_result"
    }
   ],
   "source": [
    "number_tracks('Friday', 'Moscow')\n",
    "# количество прослушиваний в Москве по пятницам"
   ]
  },
  {
   "cell_type": "code",
   "execution_count": 26,
   "metadata": {
    "id": "8_yzFtW3_Zcu"
   },
   "outputs": [
    {
     "data": {
      "text/plain": [
       "5895"
      ]
     },
     "execution_count": 26,
     "metadata": {},
     "output_type": "execute_result"
    }
   ],
   "source": [
    "number_tracks('Friday', 'Saint-Petersburg')\n",
    "# количество прослушиваний в Санкт-Петербурге по пятницам"
   ]
  },
  {
   "cell_type": "markdown",
   "metadata": {
    "id": "7QXffbO-_Zcu"
   },
   "source": [
    "Создадим c помощью конструктора `pd.DataFrame` таблицу, где\n",
    "* названия колонок — `['city', 'monday', 'wednesday', 'friday']`;\n",
    "* данные — результаты, которые вы получили с помощью `number_tracks`."
   ]
  },
  {
   "cell_type": "code",
   "execution_count": 27,
   "metadata": {
    "id": "APAcLpOr_Zcu"
   },
   "outputs": [
    {
     "data": {
      "text/html": [
       "<div>\n",
       "<style scoped>\n",
       "    .dataframe tbody tr th:only-of-type {\n",
       "        vertical-align: middle;\n",
       "    }\n",
       "\n",
       "    .dataframe tbody tr th {\n",
       "        vertical-align: top;\n",
       "    }\n",
       "\n",
       "    .dataframe thead th {\n",
       "        text-align: right;\n",
       "    }\n",
       "</style>\n",
       "<table border=\"1\" class=\"dataframe\">\n",
       "  <thead>\n",
       "    <tr style=\"text-align: right;\">\n",
       "      <th></th>\n",
       "      <th>city</th>\n",
       "      <th>monday</th>\n",
       "      <th>wensdey</th>\n",
       "      <th>friday</th>\n",
       "    </tr>\n",
       "  </thead>\n",
       "  <tbody>\n",
       "    <tr>\n",
       "      <th>0</th>\n",
       "      <td>Moscow</td>\n",
       "      <td>15740</td>\n",
       "      <td>11056</td>\n",
       "      <td>15945</td>\n",
       "    </tr>\n",
       "    <tr>\n",
       "      <th>1</th>\n",
       "      <td>Saint-Petersburg</td>\n",
       "      <td>5614</td>\n",
       "      <td>7003</td>\n",
       "      <td>5895</td>\n",
       "    </tr>\n",
       "  </tbody>\n",
       "</table>\n",
       "</div>"
      ],
      "text/plain": [
       "               city  monday  wensdey  friday\n",
       "0            Moscow   15740    11056   15945\n",
       "1  Saint-Petersburg    5614     7003    5895"
      ]
     },
     "execution_count": 27,
     "metadata": {},
     "output_type": "execute_result"
    }
   ],
   "source": [
    "pd.DataFrame({'city':['Moscow','Saint-Petersburg'],\n",
    "             'monday':[15740,5614],\n",
    "             'wensdey':[11056,7003],\n",
    "             'friday':[15945,5895]})\n",
    "\n",
    "# Таблица с результатами"
   ]
  },
  {
   "cell_type": "markdown",
   "metadata": {
    "id": "-EgPIHYu_Zcu"
   },
   "source": [
    "**Выводы**\n",
    "\n",
    "Данные показывают разницу поведения пользователей:\n",
    "\n",
    "- В Москве пик прослушиваний приходится на понедельник и пятницу, а в среду заметен спад.\n",
    "- В Петербурге, наоборот, больше слушают музыку по средам. Активность в понедельник и пятницу здесь почти в равной мере уступает среде.\n",
    "\n",
    "Значит, данные говорят в пользу первой гипотезы."
   ]
  },
  {
   "cell_type": "markdown",
   "metadata": {
    "id": "atZAxtq4_Zcu"
   },
   "source": [
    "### Музыка в начале и в конце недели"
   ]
  },
  {
   "cell_type": "markdown",
   "metadata": {
    "id": "eXrQqXFH_Zcu"
   },
   "source": [
    "Согласно второй гипотезе, утром в понедельник в Москве преобладают одни жанры, а в Петербурге — другие. Так же и вечером пятницы преобладают разные жанры — в зависимости от города."
   ]
  },
  {
   "cell_type": "markdown",
   "metadata": {
    "id": "S8UcW6Hw_Zcu"
   },
   "source": [
    "Сохраним таблицы с данными в две переменные:\n",
    "* по Москве — в `moscow_general`;\n",
    "* по Санкт-Петербургу — в `spb_general`."
   ]
  },
  {
   "cell_type": "code",
   "execution_count": 28,
   "metadata": {
    "id": "qeaFfM_P_Zcu"
   },
   "outputs": [],
   "source": [
    "moscow_general = df[df['city'] == 'Moscow']\n",
    "# получение таблицы moscow_general из тех строк таблицы df, \n",
    "# для которых значение в столбце 'city' равно 'Moscow'\n"
   ]
  },
  {
   "cell_type": "code",
   "execution_count": 29,
   "metadata": {
    "id": "ORaVRKto_Zcu"
   },
   "outputs": [],
   "source": [
    "spb_general = df[df['city'] == 'Saint-Petersburg']\n",
    "# получение таблицы spb_general из тех строк таблицы df,\n",
    "# для которых значение в столбце 'city' равно 'Saint-Petersburg'\n"
   ]
  },
  {
   "cell_type": "markdown",
   "metadata": {
    "id": "MEJV-CX2_Zcu"
   },
   "source": [
    "Создадим функцию `genre_weekday()` с четырьмя параметрами:\n",
    "* таблица (датафрейм) с данными,\n",
    "* день недели,\n",
    "* начальная временная метка в формате 'hh:mm', \n",
    "* последняя временная метка в формате 'hh:mm'.\n",
    "\n",
    "Функция должна вернуть информацию о топ-10 жанров тех треков, которые прослушивали в указанный день, в промежутке между двумя отметками времени."
   ]
  },
  {
   "cell_type": "code",
   "execution_count": null,
   "metadata": {},
   "outputs": [],
   "source": []
  },
  {
   "cell_type": "code",
   "execution_count": 30,
   "metadata": {
    "id": "laJT9BYl_Zcu"
   },
   "outputs": [],
   "source": [
    "def genre_weekday(table, day, time1, time2):\n",
    "    genre_df = table[table['day'] == day]\n",
    "    genre_df = genre_df[genre_df['time'] > time1]\n",
    "    genre_df = genre_df[genre_df['time'] < time2]\n",
    "    genre_df_count = genre_df.groupby('genre')['genre'].count()\n",
    "    genre_df_sorted = genre_df_count.sort_values(ascending=False)\n",
    "    return genre_df_sorted.head(10)\n",
    "# Объявление функции genre_weekday() с параметрами table, day, time1, time2,\n",
    "# которая возвращает информацию о самых популярных жанрах в указанный день в\n",
    "# заданное время:\n",
    "# 1) в переменную genre_df сохраняются те строки переданного датафрейма table, для\n",
    "#    которых одновременно:\n",
    "#    - значение в столбце day равно значению аргумента day\n",
    "#    - значение в столбце time больше значения аргумента time1\n",
    "#    - значение в столбце time меньше значения аргумента time2\n",
    "#    Используйте последовательную фильтрацию с помощью логической индексации.\n",
    "# 2) сгруппировать датафрейм genre_df по столбцу genre, взять один из его\n",
    "#    столбцов и посчитать методом count() количество записей для каждого из\n",
    "#    присутствующих жанров, получившийся Series записать в переменную\n",
    "#    genre_df_count\n",
    "# 3) отсортировать genre_df_count по убыванию встречаемости и сохранить\n",
    "#    в переменную genre_df_sorted\n",
    "# 4) вернуть Series из 10 первых значений genre_df_sorted, это будут топ-10\n",
    "#    популярных жанров (в указанный день, в заданное время)"
   ]
  },
  {
   "cell_type": "markdown",
   "metadata": {
    "id": "la2s2_PF_Zcu"
   },
   "source": [
    "Cравним результаты функции `genre_weekday()` для Москвы и Санкт-Петербурга в понедельник утром (с 7:00 до 11:00) и в пятницу вечером (с 17:00 до 23:00):"
   ]
  },
  {
   "cell_type": "code",
   "execution_count": 31,
   "metadata": {
    "id": "yz7itPUQ_Zcu"
   },
   "outputs": [
    {
     "data": {
      "text/plain": [
       "genre\n",
       "pop            781\n",
       "dance          549\n",
       "electronic     480\n",
       "rock           474\n",
       "hiphop         286\n",
       "ruspop         186\n",
       "world          181\n",
       "rusrap         175\n",
       "alternative    164\n",
       "unknown        161\n",
       "Name: genre, dtype: int64"
      ]
     },
     "execution_count": 31,
     "metadata": {},
     "output_type": "execute_result"
    }
   ],
   "source": [
    "genre_weekday(moscow_general, 'Monday', '07:00', '11:00')\n",
    "# вызов функции для утра понедельника в Москве (вместо df — таблица moscow_general)\n",
    "# объекты, хранящие время, являются строками и сравниваются как строки\n",
    "# пример вызова: genre_weekday(moscow_general, 'Monday', '07:00', '11:00')"
   ]
  },
  {
   "cell_type": "code",
   "execution_count": 32,
   "metadata": {
    "id": "kwUcHPdy_Zcu"
   },
   "outputs": [
    {
     "data": {
      "text/plain": [
       "genre\n",
       "pop            218\n",
       "dance          182\n",
       "rock           162\n",
       "electronic     147\n",
       "hiphop          80\n",
       "ruspop          64\n",
       "alternative     58\n",
       "rusrap          55\n",
       "jazz            44\n",
       "classical       40\n",
       "Name: genre, dtype: int64"
      ]
     },
     "execution_count": 32,
     "metadata": {},
     "output_type": "execute_result"
    }
   ],
   "source": [
    "genre_weekday(spb_general, 'Monday', '07:00', '11:00')\n",
    "# вызов функции для утра понедельника в Петербурге (вместо df — таблица spb_general)"
   ]
  },
  {
   "cell_type": "code",
   "execution_count": 33,
   "metadata": {
    "id": "EzXVRE1o_Zcu"
   },
   "outputs": [
    {
     "data": {
      "text/plain": [
       "genre\n",
       "pop            713\n",
       "rock           517\n",
       "dance          495\n",
       "electronic     482\n",
       "hiphop         273\n",
       "world          208\n",
       "ruspop         170\n",
       "alternative    163\n",
       "classical      163\n",
       "rusrap         142\n",
       "Name: genre, dtype: int64"
      ]
     },
     "execution_count": 33,
     "metadata": {},
     "output_type": "execute_result"
    }
   ],
   "source": [
    "genre_weekday(moscow_general, 'Friday', '17:00', '23:00')\n",
    "# вызов функции для вечера пятницы в Москве"
   ]
  },
  {
   "cell_type": "code",
   "execution_count": 34,
   "metadata": {
    "id": "JZaEKu5v_Zcu"
   },
   "outputs": [
    {
     "data": {
      "text/plain": [
       "genre\n",
       "pop            256\n",
       "electronic     216\n",
       "rock           216\n",
       "dance          210\n",
       "hiphop          97\n",
       "alternative     63\n",
       "jazz            61\n",
       "classical       60\n",
       "rusrap          59\n",
       "world           54\n",
       "Name: genre, dtype: int64"
      ]
     },
     "execution_count": 34,
     "metadata": {},
     "output_type": "execute_result"
    }
   ],
   "source": [
    "genre_weekday(spb_general, 'Friday', '17:00', '23:00')\n",
    "# вызов функции для вечера пятницы в Петербурге"
   ]
  },
  {
   "cell_type": "markdown",
   "metadata": {
    "id": "wrCe4MNX_Zcu"
   },
   "source": [
    "**Выводы**\n",
    "\n",
    "Если сравнить топ-10 жанров в понедельник утром, можно сделать такие выводы:\n",
    "\n",
    "1. В Москве и Петербурге слушают похожую музыку. Единственное отличие — в московский рейтинг вошёл жанр “world”, а в петербургский — джаз и классика.\n",
    "\n",
    "2. В Москве пропущенных значений оказалось так много, что значение `'unknown'` заняло десятое место среди самых популярных жанров. Значит, пропущенные значения занимают существенную долю в данных и угрожают достоверности исследования.\n",
    "\n",
    "Вечер пятницы не меняет эту картину. Некоторые жанры поднимаются немного выше, другие спускаются, но в целом топ-10 остаётся тем же самым.\n",
    "\n",
    "Таким образом, вторая гипотеза подтвердилась лишь частично:\n",
    "* Пользователи слушают похожую музыку в начале недели и в конце.\n",
    "* Разница между Москвой и Петербургом не слишком выражена. В Москве чаще слушают русскую популярную музыку, в Петербурге — джаз.\n",
    "\n",
    "Однако пропуски в данных ставят под сомнение этот результат. В Москве их так много, что рейтинг топ-10 мог бы выглядеть иначе, если бы не утерянные  данные о жанрах."
   ]
  },
  {
   "cell_type": "markdown",
   "metadata": {
    "id": "JolODAqr_Zcu"
   },
   "source": [
    "### Жанровые предпочтения в Москве и Петербурге\n",
    "\n",
    "Гипотеза: Петербург — столица рэпа, музыку этого жанра там слушают чаще, чем в Москве.  А Москва — город контрастов, в котором, тем не менее, преобладает поп-музыка."
   ]
  },
  {
   "cell_type": "markdown",
   "metadata": {
    "id": "DlegSvaT_Zcu"
   },
   "source": [
    "Сгруппируйем таблицу `moscow_general` по жанру и посчитаем прослушивания треков каждого жанра методом `count()`. Затем отсортируем результат в порядке убывания и сохраним его в таблице `moscow_genres`."
   ]
  },
  {
   "cell_type": "code",
   "execution_count": 35,
   "metadata": {
    "id": "r19lIPke_Zcu",
    "scrolled": true
   },
   "outputs": [
    {
     "data": {
      "text/plain": [
       "genre\n",
       "pop            5892\n",
       "dance          4435\n",
       "rock           3965\n",
       "electronic     3786\n",
       "hiphop         2096\n",
       "               ... \n",
       "neoklassik        1\n",
       "mood              1\n",
       "metalcore         1\n",
       "marschmusik       1\n",
       "ïîï               1\n",
       "Name: genre, Length: 267, dtype: int64"
      ]
     },
     "metadata": {},
     "output_type": "display_data"
    }
   ],
   "source": [
    "moscow_general = moscow_general.groupby('genre')['genre'].count()\n",
    "moscow_genres = moscow_general.sort_values(ascending=False)\n",
    "\n",
    "display(moscow_genres)\n",
    "# одной строкой: группировка таблицы moscow_general по столбцу 'genre', \n",
    "# подсчёт числа значений 'genre' в этой группировке методом count(), \n",
    "# сортировка получившегося Series в порядке убывания и сохранение в moscow_genres"
   ]
  },
  {
   "cell_type": "markdown",
   "metadata": {
    "id": "6kMuomxTiIr8"
   },
   "source": [
    "Выведем на экран первые десять строк `moscow_genres`:"
   ]
  },
  {
   "cell_type": "code",
   "execution_count": 36,
   "metadata": {
    "id": "WhCSooF8_Zcv"
   },
   "outputs": [
    {
     "data": {
      "text/plain": [
       "genre\n",
       "pop            5892\n",
       "dance          4435\n",
       "rock           3965\n",
       "electronic     3786\n",
       "hiphop         2096\n",
       "classical      1616\n",
       "world          1432\n",
       "alternative    1379\n",
       "ruspop         1372\n",
       "rusrap         1161\n",
       "Name: genre, dtype: int64"
      ]
     },
     "metadata": {},
     "output_type": "display_data"
    }
   ],
   "source": [
    "display(moscow_genres.head(10))\n",
    "# просмотр первых 10 строк moscow_genres"
   ]
  },
  {
   "cell_type": "markdown",
   "metadata": {
    "id": "cnPG2vnN_Zcv"
   },
   "source": [
    "Теперь повторите то же и для Петербурга.\n",
    "\n",
    "Сгруппируем таблицу `spb_general` по жанру. Посчитаем прослушивания треков каждого жанра. Результат отсортируйем в порядке убывания и сохраним в таблице `spb_genres`:\n"
   ]
  },
  {
   "cell_type": "code",
   "execution_count": 37,
   "metadata": {
    "id": "gluLIpE7_Zcv"
   },
   "outputs": [],
   "source": [
    "spb_general = spb_general.groupby('genre')['genre'].count()\n",
    "spb_genres = spb_general.sort_values(ascending=False)\n",
    "# одной строкой: группировка таблицы spb_general по столбцу 'genre', \n",
    "# подсчёт числа значений 'genre' в этой группировке методом count(), \n",
    "# сортировка получившегося Series в порядке убывания и сохранение в spb_genres"
   ]
  },
  {
   "cell_type": "markdown",
   "metadata": {
    "id": "5Doha_ODgyQ8"
   },
   "source": [
    "Выведем на экран первые десять строк `spb_genres`:"
   ]
  },
  {
   "cell_type": "code",
   "execution_count": 38,
   "metadata": {
    "id": "uaGJHjVU_Zcv"
   },
   "outputs": [
    {
     "data": {
      "text/plain": [
       "genre\n",
       "pop            2431\n",
       "dance          1932\n",
       "rock           1879\n",
       "electronic     1736\n",
       "hiphop          960\n",
       "alternative     649\n",
       "classical       646\n",
       "rusrap          564\n",
       "ruspop          538\n",
       "world           515\n",
       "Name: genre, dtype: int64"
      ]
     },
     "metadata": {},
     "output_type": "display_data"
    }
   ],
   "source": [
    "display(spb_genres.head(10))\n",
    "# просмотр первых 10 строк spb_genres"
   ]
  },
  {
   "cell_type": "markdown",
   "metadata": {
    "id": "RY51YJYu_Zcv"
   },
   "source": [
    "**Выводы**"
   ]
  },
  {
   "cell_type": "markdown",
   "metadata": {
    "id": "nVhnJEm__Zcv"
   },
   "source": [
    "Гипотеза частично подтвердилась:\n",
    "* Поп-музыка — самый популярный жанр в Москве, как и предполагала гипотеза. Более того, в топ-10 жанров встречается близкий жанр — русская популярная музыка.\n",
    "* Вопреки ожиданиям, рэп одинаково популярен в Москве и Петербурге. \n"
   ]
  },
  {
   "cell_type": "markdown",
   "metadata": {
    "id": "ykKQ0N65_Zcv"
   },
   "source": [
    "## Итоги исследования"
   ]
  },
  {
   "cell_type": "markdown",
   "metadata": {
    "id": "tjUwbHb3_Zcv"
   },
   "source": [
    "Мы проверили три гипотезы и установили:\n",
    "\n",
    "1. День недели по-разному влияет на активность пользователей в Москве и Петербурге. \n",
    "\n",
    "Первая гипотеза полностью подтвердилась.\n",
    "\n",
    "2. Музыкальные предпочтения не сильно меняются в течение недели — будь то Москва или Петербург. Небольшие различия заметны в начале недели, по понедельникам:\n",
    "* в Москве слушают музыку жанра “world”,\n",
    "* в Петербурге — джаз и классику.\n",
    "\n",
    "Таким образом, вторая гипотеза подтвердилась лишь отчасти. Этот результат мог оказаться иным, если бы не пропуски в данных.\n",
    "\n",
    "3. Во вкусах пользователей Москвы и Петербурга больше общего чем различий. Вопреки ожиданиям, предпочтения жанров в Петербурге напоминают московские.\n",
    "\n",
    "Третья гипотеза не подтвердилась. Если различия в предпочтениях и существуют, на основной массе пользователей они незаметны.\n",
    "\n",
    "**На практике исследования содержат проверки статистических гипотез.**\n",
    "Из данных одного сервиса не всегда можно сделать вывод о всех жителях города.\n",
    "Проверки статистических гипотез покажут, насколько они достоверны, исходя из имеющихся данных. "
   ]
  }
 ],
 "metadata": {
  "ExecuteTimeLog": [
   {
    "duration": 259,
    "start_time": "2021-12-12T21:06:43.051Z"
   },
   {
    "duration": 598,
    "start_time": "2021-12-12T21:06:48.075Z"
   },
   {
    "duration": 92,
    "start_time": "2021-12-12T21:06:51.154Z"
   },
   {
    "duration": 628,
    "start_time": "2021-12-12T21:07:19.244Z"
   },
   {
    "duration": 79,
    "start_time": "2021-12-12T21:07:29.414Z"
   },
   {
    "duration": 326,
    "start_time": "2021-12-12T21:07:33.163Z"
   },
   {
    "duration": 1655,
    "start_time": "2021-12-12T21:10:07.120Z"
   },
   {
    "duration": 142,
    "start_time": "2021-12-12T21:10:26.079Z"
   },
   {
    "duration": 16,
    "start_time": "2021-12-12T21:10:38.010Z"
   },
   {
    "duration": 255,
    "start_time": "2021-12-12T21:27:06.037Z"
   },
   {
    "duration": 239,
    "start_time": "2021-12-12T21:27:12.664Z"
   },
   {
    "duration": 10,
    "start_time": "2021-12-12T21:27:37.413Z"
   },
   {
    "duration": 25,
    "start_time": "2021-12-12T21:27:56.251Z"
   },
   {
    "duration": 23,
    "start_time": "2021-12-12T21:28:03.205Z"
   },
   {
    "duration": 5,
    "start_time": "2021-12-12T21:31:40.960Z"
   },
   {
    "duration": 4,
    "start_time": "2021-12-12T21:31:50.094Z"
   },
   {
    "duration": 4,
    "start_time": "2021-12-12T21:32:04.072Z"
   },
   {
    "duration": 574,
    "start_time": "2021-12-12T21:42:57.862Z"
   },
   {
    "duration": 589,
    "start_time": "2021-12-12T21:43:17.872Z"
   },
   {
    "duration": 12,
    "start_time": "2021-12-12T21:43:48.343Z"
   },
   {
    "duration": 4,
    "start_time": "2021-12-12T21:44:11.887Z"
   },
   {
    "duration": 29,
    "start_time": "2021-12-12T21:46:53.268Z"
   },
   {
    "duration": 22,
    "start_time": "2021-12-12T21:47:03.709Z"
   },
   {
    "duration": 23,
    "start_time": "2021-12-12T21:47:11.475Z"
   },
   {
    "duration": 18,
    "start_time": "2021-12-12T22:06:54.605Z"
   },
   {
    "duration": 23,
    "start_time": "2021-12-12T22:07:13.821Z"
   },
   {
    "duration": 66,
    "start_time": "2021-12-12T22:10:05.692Z"
   },
   {
    "duration": 76,
    "start_time": "2021-12-12T22:11:54.698Z"
   },
   {
    "duration": 54,
    "start_time": "2021-12-12T22:12:38.663Z"
   },
   {
    "duration": 74,
    "start_time": "2021-12-12T22:14:31.567Z"
   },
   {
    "duration": 53,
    "start_time": "2021-12-12T22:14:34.608Z"
   },
   {
    "duration": 7,
    "start_time": "2021-12-12T22:17:47.345Z"
   },
   {
    "duration": 7,
    "start_time": "2021-12-12T22:19:05.375Z"
   },
   {
    "duration": 242,
    "start_time": "2021-12-12T22:21:33.631Z"
   },
   {
    "duration": 226,
    "start_time": "2021-12-12T22:21:48.290Z"
   },
   {
    "duration": 278,
    "start_time": "2021-12-12T22:29:14.725Z"
   },
   {
    "duration": 72,
    "start_time": "2021-12-12T22:31:36.549Z"
   },
   {
    "duration": 339,
    "start_time": "2021-12-12T22:31:42.187Z"
   },
   {
    "duration": 55,
    "start_time": "2021-12-12T22:32:16.083Z"
   },
   {
    "duration": 103,
    "start_time": "2021-12-12T22:34:55.303Z"
   },
   {
    "duration": 78,
    "start_time": "2021-12-12T22:37:04.062Z"
   },
   {
    "duration": 37,
    "start_time": "2021-12-12T22:42:13.344Z"
   },
   {
    "duration": 38,
    "start_time": "2021-12-12T22:42:41.526Z"
   },
   {
    "duration": 36,
    "start_time": "2021-12-12T22:44:35.731Z"
   },
   {
    "duration": 40,
    "start_time": "2021-12-12T22:45:49.165Z"
   },
   {
    "duration": 3,
    "start_time": "2021-12-12T22:54:05.981Z"
   },
   {
    "duration": 1097,
    "start_time": "2021-12-12T22:58:19.142Z"
   },
   {
    "duration": 3,
    "start_time": "2021-12-12T22:58:22.485Z"
   },
   {
    "duration": 537,
    "start_time": "2021-12-12T22:58:25.190Z"
   },
   {
    "duration": 10,
    "start_time": "2021-12-12T22:58:53.401Z"
   },
   {
    "duration": 10,
    "start_time": "2021-12-12T22:58:57.459Z"
   },
   {
    "duration": 96,
    "start_time": "2021-12-12T23:00:29.242Z"
   },
   {
    "duration": 79,
    "start_time": "2021-12-12T23:00:35.484Z"
   },
   {
    "duration": 41,
    "start_time": "2021-12-12T23:00:41.582Z"
   },
   {
    "duration": 222,
    "start_time": "2021-12-13T13:04:39.711Z"
   },
   {
    "duration": 164,
    "start_time": "2021-12-13T13:05:27.280Z"
   },
   {
    "duration": 169,
    "start_time": "2021-12-13T13:05:44.290Z"
   },
   {
    "duration": 179,
    "start_time": "2021-12-13T13:07:13.432Z"
   },
   {
    "duration": 170,
    "start_time": "2021-12-13T13:07:52.959Z"
   },
   {
    "duration": 624,
    "start_time": "2021-12-13T13:07:58.185Z"
   },
   {
    "duration": 135,
    "start_time": "2021-12-13T13:07:58.811Z"
   },
   {
    "duration": 23,
    "start_time": "2021-12-13T13:07:58.948Z"
   },
   {
    "duration": 36,
    "start_time": "2021-12-13T13:07:58.973Z"
   },
   {
    "duration": 4,
    "start_time": "2021-12-13T13:07:59.011Z"
   },
   {
    "duration": 14,
    "start_time": "2021-12-13T13:07:59.017Z"
   },
   {
    "duration": 9,
    "start_time": "2021-12-13T13:07:59.033Z"
   },
   {
    "duration": 58,
    "start_time": "2021-12-13T13:07:59.045Z"
   },
   {
    "duration": 22,
    "start_time": "2021-12-13T13:07:59.106Z"
   },
   {
    "duration": 23,
    "start_time": "2021-12-13T13:07:59.129Z"
   },
   {
    "duration": 89,
    "start_time": "2021-12-13T13:07:59.153Z"
   },
   {
    "duration": 78,
    "start_time": "2021-12-13T13:07:59.244Z"
   },
   {
    "duration": 70,
    "start_time": "2021-12-13T13:07:59.324Z"
   },
   {
    "duration": 59,
    "start_time": "2021-12-13T13:07:59.397Z"
   },
   {
    "duration": 3,
    "start_time": "2021-12-13T13:07:59.458Z"
   },
   {
    "duration": 33,
    "start_time": "2021-12-13T13:07:59.463Z"
   },
   {
    "duration": 52,
    "start_time": "2021-12-13T13:07:59.498Z"
   },
   {
    "duration": 225,
    "start_time": "2021-12-13T13:07:59.552Z"
   },
   {
    "duration": 2023,
    "start_time": "2021-12-13T13:07:57.757Z"
   },
   {
    "duration": 2018,
    "start_time": "2021-12-13T13:07:57.763Z"
   },
   {
    "duration": 2012,
    "start_time": "2021-12-13T13:07:57.770Z"
   },
   {
    "duration": 2008,
    "start_time": "2021-12-13T13:07:57.776Z"
   },
   {
    "duration": 2001,
    "start_time": "2021-12-13T13:07:57.784Z"
   },
   {
    "duration": 1996,
    "start_time": "2021-12-13T13:07:57.790Z"
   },
   {
    "duration": 1991,
    "start_time": "2021-12-13T13:07:57.796Z"
   },
   {
    "duration": 1972,
    "start_time": "2021-12-13T13:07:57.816Z"
   },
   {
    "duration": 1966,
    "start_time": "2021-12-13T13:07:57.824Z"
   },
   {
    "duration": 1961,
    "start_time": "2021-12-13T13:07:57.830Z"
   },
   {
    "duration": 1954,
    "start_time": "2021-12-13T13:07:57.837Z"
   },
   {
    "duration": 1949,
    "start_time": "2021-12-13T13:07:57.843Z"
   },
   {
    "duration": 1943,
    "start_time": "2021-12-13T13:07:57.850Z"
   },
   {
    "duration": 1937,
    "start_time": "2021-12-13T13:07:57.856Z"
   },
   {
    "duration": 1932,
    "start_time": "2021-12-13T13:07:57.862Z"
   },
   {
    "duration": 1927,
    "start_time": "2021-12-13T13:07:57.868Z"
   },
   {
    "duration": 1920,
    "start_time": "2021-12-13T13:07:57.875Z"
   },
   {
    "duration": 1914,
    "start_time": "2021-12-13T13:07:57.882Z"
   },
   {
    "duration": 1909,
    "start_time": "2021-12-13T13:07:57.888Z"
   },
   {
    "duration": 1903,
    "start_time": "2021-12-13T13:07:57.894Z"
   },
   {
    "duration": 197,
    "start_time": "2021-12-13T13:08:44.123Z"
   },
   {
    "duration": 169,
    "start_time": "2021-12-13T13:13:11.628Z"
   },
   {
    "duration": 9,
    "start_time": "2021-12-13T13:14:21.106Z"
   },
   {
    "duration": 3,
    "start_time": "2021-12-13T13:14:36.303Z"
   },
   {
    "duration": 31,
    "start_time": "2021-12-13T13:14:42.852Z"
   },
   {
    "duration": 9,
    "start_time": "2021-12-13T13:19:10.649Z"
   },
   {
    "duration": 29,
    "start_time": "2021-12-13T13:20:35.001Z"
   },
   {
    "duration": 29,
    "start_time": "2021-12-13T13:20:44.304Z"
   },
   {
    "duration": 38,
    "start_time": "2021-12-13T13:31:58.860Z"
   },
   {
    "duration": 38,
    "start_time": "2021-12-13T13:33:37.897Z"
   },
   {
    "duration": 3,
    "start_time": "2021-12-13T14:01:21.007Z"
   },
   {
    "duration": 184,
    "start_time": "2021-12-13T14:02:03.895Z"
   },
   {
    "duration": 899,
    "start_time": "2021-12-13T14:02:24.290Z"
   },
   {
    "duration": 4,
    "start_time": "2021-12-13T14:03:50.500Z"
   },
   {
    "duration": 595,
    "start_time": "2021-12-13T14:03:53.342Z"
   },
   {
    "duration": 4,
    "start_time": "2021-12-13T14:05:38.751Z"
   },
   {
    "duration": 876,
    "start_time": "2021-12-13T14:05:41.285Z"
   },
   {
    "duration": 197,
    "start_time": "2021-12-13T14:06:16.261Z"
   },
   {
    "duration": 3,
    "start_time": "2021-12-13T14:10:37.673Z"
   },
   {
    "duration": 1493,
    "start_time": "2021-12-13T14:10:59.204Z"
   },
   {
    "duration": 69,
    "start_time": "2021-12-13T14:11:51.025Z"
   },
   {
    "duration": 426,
    "start_time": "2021-12-13T14:12:32.569Z"
   },
   {
    "duration": 3,
    "start_time": "2021-12-13T14:13:41.483Z"
   },
   {
    "duration": 198,
    "start_time": "2021-12-13T14:13:44.552Z"
   },
   {
    "duration": 180,
    "start_time": "2021-12-13T14:14:04.878Z"
   },
   {
    "duration": 3,
    "start_time": "2021-12-13T14:14:19.858Z"
   },
   {
    "duration": 71,
    "start_time": "2021-12-13T14:14:29.228Z"
   },
   {
    "duration": 39,
    "start_time": "2021-12-13T14:15:39.013Z"
   },
   {
    "duration": 4,
    "start_time": "2021-12-13T14:31:25.553Z"
   },
   {
    "duration": 23,
    "start_time": "2021-12-13T14:31:28.179Z"
   },
   {
    "duration": 21,
    "start_time": "2021-12-13T14:31:32.907Z"
   },
   {
    "duration": 19,
    "start_time": "2021-12-13T14:31:36.601Z"
   },
   {
    "duration": 19,
    "start_time": "2021-12-13T14:31:38.860Z"
   },
   {
    "duration": 23,
    "start_time": "2021-12-13T14:31:40.138Z"
   },
   {
    "duration": 22,
    "start_time": "2021-12-13T14:31:41.160Z"
   },
   {
    "duration": 3,
    "start_time": "2021-12-13T14:34:22.849Z"
   },
   {
    "duration": 413,
    "start_time": "2021-12-13T14:34:25.604Z"
   },
   {
    "duration": 4,
    "start_time": "2021-12-13T14:34:52.858Z"
   },
   {
    "duration": 55,
    "start_time": "2021-12-13T14:34:55.756Z"
   },
   {
    "duration": 30,
    "start_time": "2021-12-13T14:35:11.400Z"
   },
   {
    "duration": 53,
    "start_time": "2021-12-13T14:35:17.621Z"
   },
   {
    "duration": 30,
    "start_time": "2021-12-13T14:35:21.324Z"
   },
   {
    "duration": 3,
    "start_time": "2021-12-13T14:39:26.459Z"
   },
   {
    "duration": 376,
    "start_time": "2021-12-13T14:39:28.772Z"
   },
   {
    "duration": 6,
    "start_time": "2021-12-13T14:39:42.182Z"
   },
   {
    "duration": 349,
    "start_time": "2021-12-13T14:39:45.760Z"
   },
   {
    "duration": 4,
    "start_time": "2021-12-13T14:39:59.163Z"
   },
   {
    "duration": 1166,
    "start_time": "2021-12-13T14:40:01.084Z"
   },
   {
    "duration": 4,
    "start_time": "2021-12-13T14:40:11.268Z"
   },
   {
    "duration": 392,
    "start_time": "2021-12-13T14:40:13.220Z"
   },
   {
    "duration": 3,
    "start_time": "2021-12-13T14:40:22.124Z"
   },
   {
    "duration": 17,
    "start_time": "2021-12-13T14:40:24.238Z"
   },
   {
    "duration": 3,
    "start_time": "2021-12-13T14:40:44.487Z"
   },
   {
    "duration": 343,
    "start_time": "2021-12-13T14:40:47.961Z"
   },
   {
    "duration": 3,
    "start_time": "2021-12-13T14:40:54.120Z"
   },
   {
    "duration": 38,
    "start_time": "2021-12-13T14:40:56.767Z"
   },
   {
    "duration": 4,
    "start_time": "2021-12-13T14:41:11.516Z"
   },
   {
    "duration": 17,
    "start_time": "2021-12-13T14:41:16.225Z"
   },
   {
    "duration": 3,
    "start_time": "2021-12-13T14:41:25.169Z"
   },
   {
    "duration": 14,
    "start_time": "2021-12-13T14:41:29.053Z"
   },
   {
    "duration": 3,
    "start_time": "2021-12-13T14:41:33.393Z"
   },
   {
    "duration": 134,
    "start_time": "2021-12-13T14:41:33.417Z"
   },
   {
    "duration": 10,
    "start_time": "2021-12-13T14:41:33.553Z"
   },
   {
    "duration": 44,
    "start_time": "2021-12-13T14:41:33.565Z"
   },
   {
    "duration": 5,
    "start_time": "2021-12-13T14:41:33.611Z"
   },
   {
    "duration": 15,
    "start_time": "2021-12-13T14:41:33.617Z"
   },
   {
    "duration": 4,
    "start_time": "2021-12-13T14:41:33.633Z"
   },
   {
    "duration": 53,
    "start_time": "2021-12-13T14:41:33.639Z"
   },
   {
    "duration": 19,
    "start_time": "2021-12-13T14:41:33.694Z"
   },
   {
    "duration": 23,
    "start_time": "2021-12-13T14:41:33.716Z"
   },
   {
    "duration": 80,
    "start_time": "2021-12-13T14:41:33.741Z"
   },
   {
    "duration": 80,
    "start_time": "2021-12-13T14:41:33.823Z"
   },
   {
    "duration": 49,
    "start_time": "2021-12-13T14:41:33.904Z"
   },
   {
    "duration": 47,
    "start_time": "2021-12-13T14:41:33.954Z"
   },
   {
    "duration": 2,
    "start_time": "2021-12-13T14:41:34.002Z"
   },
   {
    "duration": 13,
    "start_time": "2021-12-13T14:41:34.006Z"
   },
   {
    "duration": 40,
    "start_time": "2021-12-13T14:41:34.020Z"
   },
   {
    "duration": 52,
    "start_time": "2021-12-13T14:41:34.062Z"
   },
   {
    "duration": 30,
    "start_time": "2021-12-13T14:41:34.115Z"
   },
   {
    "duration": 3,
    "start_time": "2021-12-13T14:41:34.147Z"
   },
   {
    "duration": 32,
    "start_time": "2021-12-13T14:41:34.152Z"
   },
   {
    "duration": 22,
    "start_time": "2021-12-13T14:41:34.185Z"
   },
   {
    "duration": 24,
    "start_time": "2021-12-13T14:41:34.209Z"
   },
   {
    "duration": 21,
    "start_time": "2021-12-13T14:41:34.234Z"
   },
   {
    "duration": 17,
    "start_time": "2021-12-13T14:41:34.258Z"
   },
   {
    "duration": 23,
    "start_time": "2021-12-13T14:41:34.277Z"
   },
   {
    "duration": 70,
    "start_time": "2021-12-13T14:41:34.302Z"
   },
   {
    "duration": 1564,
    "start_time": "2021-12-13T14:41:32.810Z"
   },
   {
    "duration": 1558,
    "start_time": "2021-12-13T14:41:32.817Z"
   },
   {
    "duration": 1551,
    "start_time": "2021-12-13T14:41:32.825Z"
   },
   {
    "duration": 1547,
    "start_time": "2021-12-13T14:41:32.830Z"
   },
   {
    "duration": 1529,
    "start_time": "2021-12-13T14:41:32.849Z"
   },
   {
    "duration": 1524,
    "start_time": "2021-12-13T14:41:32.855Z"
   },
   {
    "duration": 1518,
    "start_time": "2021-12-13T14:41:32.862Z"
   },
   {
    "duration": 1512,
    "start_time": "2021-12-13T14:41:32.869Z"
   },
   {
    "duration": 1506,
    "start_time": "2021-12-13T14:41:32.876Z"
   },
   {
    "duration": 1499,
    "start_time": "2021-12-13T14:41:32.883Z"
   },
   {
    "duration": 1492,
    "start_time": "2021-12-13T14:41:32.891Z"
   },
   {
    "duration": 424,
    "start_time": "2021-12-13T14:44:00.584Z"
   },
   {
    "duration": 181,
    "start_time": "2021-12-13T14:44:27.278Z"
   },
   {
    "duration": 183,
    "start_time": "2021-12-13T14:45:03.050Z"
   },
   {
    "duration": 179,
    "start_time": "2021-12-13T14:45:15.027Z"
   },
   {
    "duration": 611,
    "start_time": "2021-12-13T14:49:50.451Z"
   },
   {
    "duration": 494,
    "start_time": "2021-12-13T14:51:10.186Z"
   },
   {
    "duration": 557,
    "start_time": "2021-12-13T14:51:33.159Z"
   },
   {
    "duration": 66,
    "start_time": "2021-12-13T14:51:43.382Z"
   },
   {
    "duration": 488,
    "start_time": "2021-12-13T14:51:59.013Z"
   },
   {
    "duration": 456,
    "start_time": "2021-12-13T14:52:10.597Z"
   },
   {
    "duration": 8,
    "start_time": "2021-12-13T14:57:01.080Z"
   },
   {
    "duration": 58,
    "start_time": "2021-12-13T15:03:40.803Z"
   },
   {
    "duration": 199,
    "start_time": "2021-12-13T15:03:58.338Z"
   },
   {
    "duration": 177,
    "start_time": "2021-12-13T15:06:35.490Z"
   },
   {
    "duration": 9,
    "start_time": "2021-12-13T15:09:15.320Z"
   },
   {
    "duration": 8,
    "start_time": "2021-12-13T15:09:48.582Z"
   },
   {
    "duration": 9,
    "start_time": "2021-12-13T15:24:20.218Z"
   },
   {
    "duration": 57,
    "start_time": "2021-12-13T15:24:25.731Z"
   },
   {
    "duration": 11,
    "start_time": "2021-12-13T15:24:37.642Z"
   },
   {
    "duration": 12,
    "start_time": "2021-12-13T15:24:41.215Z"
   },
   {
    "duration": 20,
    "start_time": "2021-12-13T15:25:04.528Z"
   },
   {
    "duration": 4,
    "start_time": "2021-12-13T15:39:02.246Z"
   },
   {
    "duration": 20,
    "start_time": "2021-12-13T15:40:18.427Z"
   },
   {
    "duration": 3,
    "start_time": "2021-12-13T15:42:34.588Z"
   },
   {
    "duration": 140,
    "start_time": "2021-12-13T15:42:34.607Z"
   },
   {
    "duration": 10,
    "start_time": "2021-12-13T15:42:34.749Z"
   },
   {
    "duration": 43,
    "start_time": "2021-12-13T15:42:34.762Z"
   },
   {
    "duration": 5,
    "start_time": "2021-12-13T15:42:34.807Z"
   },
   {
    "duration": 16,
    "start_time": "2021-12-13T15:42:34.813Z"
   },
   {
    "duration": 9,
    "start_time": "2021-12-13T15:42:34.831Z"
   },
   {
    "duration": 49,
    "start_time": "2021-12-13T15:42:34.842Z"
   },
   {
    "duration": 17,
    "start_time": "2021-12-13T15:42:34.893Z"
   },
   {
    "duration": 20,
    "start_time": "2021-12-13T15:42:34.913Z"
   },
   {
    "duration": 68,
    "start_time": "2021-12-13T15:42:34.935Z"
   },
   {
    "duration": 59,
    "start_time": "2021-12-13T15:42:35.005Z"
   },
   {
    "duration": 64,
    "start_time": "2021-12-13T15:42:35.065Z"
   },
   {
    "duration": 39,
    "start_time": "2021-12-13T15:42:35.130Z"
   },
   {
    "duration": 2,
    "start_time": "2021-12-13T15:42:35.171Z"
   },
   {
    "duration": 23,
    "start_time": "2021-12-13T15:42:35.175Z"
   },
   {
    "duration": 43,
    "start_time": "2021-12-13T15:42:35.199Z"
   },
   {
    "duration": 30,
    "start_time": "2021-12-13T15:42:35.243Z"
   },
   {
    "duration": 30,
    "start_time": "2021-12-13T15:42:35.292Z"
   },
   {
    "duration": 3,
    "start_time": "2021-12-13T15:42:35.324Z"
   },
   {
    "duration": 19,
    "start_time": "2021-12-13T15:42:35.328Z"
   },
   {
    "duration": 13,
    "start_time": "2021-12-13T15:42:35.348Z"
   },
   {
    "duration": 37,
    "start_time": "2021-12-13T15:42:35.363Z"
   },
   {
    "duration": 15,
    "start_time": "2021-12-13T15:42:35.402Z"
   },
   {
    "duration": 20,
    "start_time": "2021-12-13T15:42:35.418Z"
   },
   {
    "duration": 17,
    "start_time": "2021-12-13T15:42:35.439Z"
   },
   {
    "duration": 7,
    "start_time": "2021-12-13T15:42:35.458Z"
   },
   {
    "duration": 36,
    "start_time": "2021-12-13T15:42:35.468Z"
   },
   {
    "duration": 8,
    "start_time": "2021-12-13T15:42:35.506Z"
   },
   {
    "duration": 4,
    "start_time": "2021-12-13T15:42:35.516Z"
   },
   {
    "duration": 22,
    "start_time": "2021-12-13T15:42:35.521Z"
   },
   {
    "duration": 11,
    "start_time": "2021-12-13T15:42:35.544Z"
   },
   {
    "duration": 41,
    "start_time": "2021-12-13T15:42:35.556Z"
   },
   {
    "duration": 11,
    "start_time": "2021-12-13T15:42:35.598Z"
   },
   {
    "duration": 2,
    "start_time": "2021-12-13T15:42:35.611Z"
   },
   {
    "duration": 5,
    "start_time": "2021-12-13T15:42:35.614Z"
   },
   {
    "duration": 5,
    "start_time": "2021-12-13T15:42:35.621Z"
   },
   {
    "duration": 5,
    "start_time": "2021-12-13T15:42:35.628Z"
   },
   {
    "duration": 172,
    "start_time": "2021-12-13T15:50:15.803Z"
   },
   {
    "duration": 191,
    "start_time": "2021-12-13T15:50:19.312Z"
   },
   {
    "duration": 173,
    "start_time": "2021-12-13T15:50:24.885Z"
   },
   {
    "duration": 57,
    "start_time": "2021-12-13T15:51:39.072Z"
   },
   {
    "duration": 195,
    "start_time": "2021-12-13T15:51:45.539Z"
   },
   {
    "duration": 202,
    "start_time": "2021-12-13T15:54:47.192Z"
   },
   {
    "duration": 50,
    "start_time": "2021-12-13T15:55:02.194Z"
   },
   {
    "duration": 11,
    "start_time": "2021-12-13T15:55:05.654Z"
   },
   {
    "duration": 24,
    "start_time": "2021-12-13T15:56:01.581Z"
   },
   {
    "duration": 8,
    "start_time": "2021-12-13T15:56:07.173Z"
   },
   {
    "duration": 167,
    "start_time": "2021-12-13T15:56:13.952Z"
   },
   {
    "duration": 6,
    "start_time": "2021-12-13T15:56:27.528Z"
   },
   {
    "duration": 6,
    "start_time": "2021-12-13T15:57:26.945Z"
   },
   {
    "duration": 9,
    "start_time": "2021-12-13T15:57:35.232Z"
   },
   {
    "duration": 5,
    "start_time": "2021-12-13T15:59:07.234Z"
   },
   {
    "duration": 8,
    "start_time": "2021-12-13T15:59:10.114Z"
   },
   {
    "duration": 5,
    "start_time": "2021-12-13T15:59:16.913Z"
   },
   {
    "duration": 8,
    "start_time": "2021-12-13T15:59:20.002Z"
   },
   {
    "duration": 5,
    "start_time": "2021-12-13T15:59:22.114Z"
   },
   {
    "duration": 8,
    "start_time": "2021-12-13T15:59:26.538Z"
   },
   {
    "duration": 5,
    "start_time": "2021-12-13T16:01:25.754Z"
   },
   {
    "duration": 9,
    "start_time": "2021-12-13T16:01:27.655Z"
   },
   {
    "duration": 6,
    "start_time": "2021-12-13T16:01:37.698Z"
   },
   {
    "duration": 8,
    "start_time": "2021-12-13T16:01:40.888Z"
   },
   {
    "duration": 5,
    "start_time": "2021-12-13T16:02:38.103Z"
   },
   {
    "duration": 3,
    "start_time": "2021-12-13T16:02:42.131Z"
   },
   {
    "duration": 151,
    "start_time": "2021-12-13T16:02:42.150Z"
   },
   {
    "duration": 11,
    "start_time": "2021-12-13T16:02:42.303Z"
   },
   {
    "duration": 50,
    "start_time": "2021-12-13T16:02:42.316Z"
   },
   {
    "duration": 18,
    "start_time": "2021-12-13T16:02:42.368Z"
   },
   {
    "duration": 34,
    "start_time": "2021-12-13T16:02:42.388Z"
   },
   {
    "duration": 17,
    "start_time": "2021-12-13T16:02:42.424Z"
   },
   {
    "duration": 38,
    "start_time": "2021-12-13T16:02:42.442Z"
   },
   {
    "duration": 23,
    "start_time": "2021-12-13T16:02:42.482Z"
   },
   {
    "duration": 27,
    "start_time": "2021-12-13T16:02:42.508Z"
   },
   {
    "duration": 71,
    "start_time": "2021-12-13T16:02:42.537Z"
   },
   {
    "duration": 69,
    "start_time": "2021-12-13T16:02:42.609Z"
   },
   {
    "duration": 64,
    "start_time": "2021-12-13T16:02:42.679Z"
   },
   {
    "duration": 52,
    "start_time": "2021-12-13T16:02:42.745Z"
   },
   {
    "duration": 2,
    "start_time": "2021-12-13T16:02:42.798Z"
   },
   {
    "duration": 20,
    "start_time": "2021-12-13T16:02:42.802Z"
   },
   {
    "duration": 40,
    "start_time": "2021-12-13T16:02:42.823Z"
   },
   {
    "duration": 41,
    "start_time": "2021-12-13T16:02:42.865Z"
   },
   {
    "duration": 30,
    "start_time": "2021-12-13T16:02:42.908Z"
   },
   {
    "duration": 6,
    "start_time": "2021-12-13T16:02:42.940Z"
   },
   {
    "duration": 19,
    "start_time": "2021-12-13T16:02:42.947Z"
   },
   {
    "duration": 14,
    "start_time": "2021-12-13T16:02:42.992Z"
   },
   {
    "duration": 34,
    "start_time": "2021-12-13T16:02:43.008Z"
   },
   {
    "duration": 22,
    "start_time": "2021-12-13T16:02:43.044Z"
   },
   {
    "duration": 23,
    "start_time": "2021-12-13T16:02:43.068Z"
   },
   {
    "duration": 16,
    "start_time": "2021-12-13T16:02:43.093Z"
   },
   {
    "duration": 9,
    "start_time": "2021-12-13T16:02:43.110Z"
   },
   {
    "duration": 12,
    "start_time": "2021-12-13T16:02:43.122Z"
   },
   {
    "duration": 10,
    "start_time": "2021-12-13T16:02:43.136Z"
   },
   {
    "duration": 3,
    "start_time": "2021-12-13T16:02:43.148Z"
   },
   {
    "duration": 51,
    "start_time": "2021-12-13T16:02:43.152Z"
   },
   {
    "duration": 11,
    "start_time": "2021-12-13T16:02:43.204Z"
   },
   {
    "duration": 18,
    "start_time": "2021-12-13T16:02:43.217Z"
   },
   {
    "duration": 11,
    "start_time": "2021-12-13T16:02:43.236Z"
   },
   {
    "duration": 53,
    "start_time": "2021-12-13T16:02:43.248Z"
   },
   {
    "duration": 8,
    "start_time": "2021-12-13T16:02:43.302Z"
   },
   {
    "duration": 6,
    "start_time": "2021-12-13T16:02:43.311Z"
   },
   {
    "duration": 5,
    "start_time": "2021-12-13T16:02:43.319Z"
   },
   {
    "duration": 4,
    "start_time": "2021-12-13T16:03:04.353Z"
   },
   {
    "duration": 152,
    "start_time": "2021-12-13T16:03:04.371Z"
   },
   {
    "duration": 12,
    "start_time": "2021-12-13T16:03:04.525Z"
   },
   {
    "duration": 53,
    "start_time": "2021-12-13T16:03:04.539Z"
   },
   {
    "duration": 5,
    "start_time": "2021-12-13T16:03:04.594Z"
   },
   {
    "duration": 16,
    "start_time": "2021-12-13T16:03:04.601Z"
   },
   {
    "duration": 8,
    "start_time": "2021-12-13T16:03:04.619Z"
   },
   {
    "duration": 27,
    "start_time": "2021-12-13T16:03:04.629Z"
   },
   {
    "duration": 48,
    "start_time": "2021-12-13T16:03:04.658Z"
   },
   {
    "duration": 26,
    "start_time": "2021-12-13T16:03:04.709Z"
   },
   {
    "duration": 75,
    "start_time": "2021-12-13T16:03:04.737Z"
   },
   {
    "duration": 66,
    "start_time": "2021-12-13T16:03:04.814Z"
   },
   {
    "duration": 50,
    "start_time": "2021-12-13T16:03:04.892Z"
   },
   {
    "duration": 49,
    "start_time": "2021-12-13T16:03:04.944Z"
   },
   {
    "duration": 3,
    "start_time": "2021-12-13T16:03:04.994Z"
   },
   {
    "duration": 16,
    "start_time": "2021-12-13T16:03:04.998Z"
   },
   {
    "duration": 38,
    "start_time": "2021-12-13T16:03:05.015Z"
   },
   {
    "duration": 52,
    "start_time": "2021-12-13T16:03:05.055Z"
   },
   {
    "duration": 31,
    "start_time": "2021-12-13T16:03:05.108Z"
   },
   {
    "duration": 3,
    "start_time": "2021-12-13T16:03:05.141Z"
   },
   {
    "duration": 34,
    "start_time": "2021-12-13T16:03:05.145Z"
   },
   {
    "duration": 17,
    "start_time": "2021-12-13T16:03:05.180Z"
   },
   {
    "duration": 15,
    "start_time": "2021-12-13T16:03:05.198Z"
   },
   {
    "duration": 12,
    "start_time": "2021-12-13T16:03:05.214Z"
   },
   {
    "duration": 19,
    "start_time": "2021-12-13T16:03:05.228Z"
   },
   {
    "duration": 14,
    "start_time": "2021-12-13T16:03:05.249Z"
   },
   {
    "duration": 7,
    "start_time": "2021-12-13T16:03:05.292Z"
   },
   {
    "duration": 13,
    "start_time": "2021-12-13T16:03:05.302Z"
   },
   {
    "duration": 14,
    "start_time": "2021-12-13T16:03:05.316Z"
   },
   {
    "duration": 3,
    "start_time": "2021-12-13T16:03:05.332Z"
   },
   {
    "duration": 28,
    "start_time": "2021-12-13T16:03:05.337Z"
   },
   {
    "duration": 27,
    "start_time": "2021-12-13T16:03:05.367Z"
   },
   {
    "duration": 14,
    "start_time": "2021-12-13T16:03:05.396Z"
   },
   {
    "duration": 10,
    "start_time": "2021-12-13T16:03:05.412Z"
   },
   {
    "duration": 23,
    "start_time": "2021-12-13T16:03:05.424Z"
   },
   {
    "duration": 7,
    "start_time": "2021-12-13T16:03:05.448Z"
   },
   {
    "duration": 34,
    "start_time": "2021-12-13T16:03:05.457Z"
   },
   {
    "duration": 11,
    "start_time": "2021-12-13T16:03:05.493Z"
   },
   {
    "duration": 172,
    "start_time": "2021-12-13T16:06:10.670Z"
   },
   {
    "duration": 182,
    "start_time": "2021-12-13T16:06:20.288Z"
   },
   {
    "duration": 203,
    "start_time": "2021-12-13T16:06:29.990Z"
   },
   {
    "duration": 171,
    "start_time": "2021-12-13T16:06:51.683Z"
   },
   {
    "duration": 17,
    "start_time": "2021-12-13T16:06:56.862Z"
   },
   {
    "duration": 9,
    "start_time": "2021-12-13T16:07:00.427Z"
   },
   {
    "duration": 3,
    "start_time": "2021-12-13T16:15:38.418Z"
   },
   {
    "duration": 139,
    "start_time": "2021-12-13T16:15:38.514Z"
   },
   {
    "duration": 10,
    "start_time": "2021-12-13T16:15:38.655Z"
   },
   {
    "duration": 41,
    "start_time": "2021-12-13T16:15:38.667Z"
   },
   {
    "duration": 3,
    "start_time": "2021-12-13T16:15:38.710Z"
   },
   {
    "duration": 18,
    "start_time": "2021-12-13T16:15:38.714Z"
   },
   {
    "duration": 8,
    "start_time": "2021-12-13T16:15:38.734Z"
   },
   {
    "duration": 31,
    "start_time": "2021-12-13T16:15:38.743Z"
   },
   {
    "duration": 27,
    "start_time": "2021-12-13T16:15:38.776Z"
   },
   {
    "duration": 24,
    "start_time": "2021-12-13T16:15:38.806Z"
   },
   {
    "duration": 82,
    "start_time": "2021-12-13T16:15:38.832Z"
   },
   {
    "duration": 65,
    "start_time": "2021-12-13T16:15:38.915Z"
   },
   {
    "duration": 51,
    "start_time": "2021-12-13T16:15:38.991Z"
   },
   {
    "duration": 52,
    "start_time": "2021-12-13T16:15:39.043Z"
   },
   {
    "duration": 3,
    "start_time": "2021-12-13T16:15:39.097Z"
   },
   {
    "duration": 19,
    "start_time": "2021-12-13T16:15:39.101Z"
   },
   {
    "duration": 39,
    "start_time": "2021-12-13T16:15:39.121Z"
   },
   {
    "duration": 53,
    "start_time": "2021-12-13T16:15:39.161Z"
   },
   {
    "duration": 29,
    "start_time": "2021-12-13T16:15:39.217Z"
   },
   {
    "duration": 4,
    "start_time": "2021-12-13T16:15:39.248Z"
   },
   {
    "duration": 23,
    "start_time": "2021-12-13T16:15:39.253Z"
   },
   {
    "duration": 26,
    "start_time": "2021-12-13T16:15:39.277Z"
   },
   {
    "duration": 14,
    "start_time": "2021-12-13T16:15:39.304Z"
   },
   {
    "duration": 13,
    "start_time": "2021-12-13T16:15:39.319Z"
   },
   {
    "duration": 15,
    "start_time": "2021-12-13T16:15:39.333Z"
   },
   {
    "duration": 44,
    "start_time": "2021-12-13T16:15:39.349Z"
   },
   {
    "duration": 9,
    "start_time": "2021-12-13T16:15:39.394Z"
   },
   {
    "duration": 13,
    "start_time": "2021-12-13T16:15:39.405Z"
   },
   {
    "duration": 30,
    "start_time": "2021-12-13T16:15:39.420Z"
   },
   {
    "duration": 5,
    "start_time": "2021-12-13T16:15:39.451Z"
   },
   {
    "duration": 23,
    "start_time": "2021-12-13T16:15:39.458Z"
   },
   {
    "duration": 12,
    "start_time": "2021-12-13T16:15:39.482Z"
   },
   {
    "duration": 14,
    "start_time": "2021-12-13T16:15:39.495Z"
   },
   {
    "duration": 10,
    "start_time": "2021-12-13T16:15:39.511Z"
   },
   {
    "duration": 23,
    "start_time": "2021-12-13T16:15:39.523Z"
   },
   {
    "duration": 7,
    "start_time": "2021-12-13T16:15:39.547Z"
   },
   {
    "duration": 45,
    "start_time": "2021-12-13T16:15:39.556Z"
   },
   {
    "duration": 8,
    "start_time": "2021-12-13T16:15:39.603Z"
   },
   {
    "duration": 692,
    "start_time": "2021-12-14T16:15:02.001Z"
   },
   {
    "duration": 148,
    "start_time": "2021-12-14T16:15:02.695Z"
   },
   {
    "duration": 24,
    "start_time": "2021-12-14T16:15:02.848Z"
   },
   {
    "duration": 45,
    "start_time": "2021-12-14T16:15:02.873Z"
   },
   {
    "duration": 4,
    "start_time": "2021-12-14T16:15:02.920Z"
   },
   {
    "duration": 14,
    "start_time": "2021-12-14T16:15:02.925Z"
   },
   {
    "duration": 6,
    "start_time": "2021-12-14T16:15:02.941Z"
   },
   {
    "duration": 23,
    "start_time": "2021-12-14T16:15:02.950Z"
   },
   {
    "duration": 41,
    "start_time": "2021-12-14T16:15:02.976Z"
   },
   {
    "duration": 23,
    "start_time": "2021-12-14T16:15:03.019Z"
   },
   {
    "duration": 75,
    "start_time": "2021-12-14T16:15:03.043Z"
   },
   {
    "duration": 61,
    "start_time": "2021-12-14T16:15:03.120Z"
   },
   {
    "duration": 62,
    "start_time": "2021-12-14T16:15:03.183Z"
   },
   {
    "duration": 40,
    "start_time": "2021-12-14T16:15:03.247Z"
   },
   {
    "duration": 17,
    "start_time": "2021-12-14T16:15:03.289Z"
   },
   {
    "duration": 9,
    "start_time": "2021-12-14T16:15:03.308Z"
   },
   {
    "duration": 41,
    "start_time": "2021-12-14T16:15:03.319Z"
   },
   {
    "duration": 47,
    "start_time": "2021-12-14T16:15:03.362Z"
   },
   {
    "duration": 32,
    "start_time": "2021-12-14T16:15:03.411Z"
   },
   {
    "duration": 3,
    "start_time": "2021-12-14T16:15:03.445Z"
   },
   {
    "duration": 22,
    "start_time": "2021-12-14T16:15:03.450Z"
   },
   {
    "duration": 35,
    "start_time": "2021-12-14T16:15:03.473Z"
   },
   {
    "duration": 15,
    "start_time": "2021-12-14T16:15:03.510Z"
   },
   {
    "duration": 14,
    "start_time": "2021-12-14T16:15:03.526Z"
   },
   {
    "duration": 22,
    "start_time": "2021-12-14T16:15:03.542Z"
   },
   {
    "duration": 55,
    "start_time": "2021-12-14T16:15:03.566Z"
   },
   {
    "duration": 8,
    "start_time": "2021-12-14T16:15:03.625Z"
   },
   {
    "duration": 17,
    "start_time": "2021-12-14T16:15:03.635Z"
   },
   {
    "duration": 11,
    "start_time": "2021-12-14T16:15:03.654Z"
   },
   {
    "duration": 6,
    "start_time": "2021-12-14T16:15:03.667Z"
   },
   {
    "duration": 42,
    "start_time": "2021-12-14T16:15:03.675Z"
   },
   {
    "duration": 17,
    "start_time": "2021-12-14T16:15:03.719Z"
   },
   {
    "duration": 23,
    "start_time": "2021-12-14T16:15:03.738Z"
   },
   {
    "duration": 16,
    "start_time": "2021-12-14T16:15:03.763Z"
   },
   {
    "duration": 39,
    "start_time": "2021-12-14T16:15:03.806Z"
   },
   {
    "duration": 12,
    "start_time": "2021-12-14T16:15:03.847Z"
   },
   {
    "duration": 18,
    "start_time": "2021-12-14T16:15:03.861Z"
   },
   {
    "duration": 26,
    "start_time": "2021-12-14T16:15:03.881Z"
   },
   {
    "duration": 98,
    "start_time": "2021-12-14T17:22:41.517Z"
   },
   {
    "duration": 97,
    "start_time": "2021-12-14T17:22:55.318Z"
   },
   {
    "duration": 105,
    "start_time": "2021-12-14T17:23:11.560Z"
   },
   {
    "duration": 403,
    "start_time": "2021-12-14T17:24:21.281Z"
   },
   {
    "duration": 810,
    "start_time": "2021-12-14T17:24:33.335Z"
   },
   {
    "duration": 195,
    "start_time": "2021-12-14T17:24:34.148Z"
   },
   {
    "duration": 32,
    "start_time": "2021-12-14T17:24:34.346Z"
   },
   {
    "duration": 32,
    "start_time": "2021-12-14T17:24:34.380Z"
   },
   {
    "duration": 6,
    "start_time": "2021-12-14T17:24:34.415Z"
   },
   {
    "duration": 52,
    "start_time": "2021-12-14T17:24:34.424Z"
   },
   {
    "duration": 11,
    "start_time": "2021-12-14T17:24:34.478Z"
   },
   {
    "duration": 34,
    "start_time": "2021-12-14T17:24:34.494Z"
   },
   {
    "duration": 62,
    "start_time": "2021-12-14T17:24:34.532Z"
   },
   {
    "duration": 44,
    "start_time": "2021-12-14T17:24:34.597Z"
   },
   {
    "duration": 123,
    "start_time": "2021-12-14T17:24:34.643Z"
   },
   {
    "duration": 122,
    "start_time": "2021-12-14T17:24:34.769Z"
   },
   {
    "duration": 99,
    "start_time": "2021-12-14T17:24:34.894Z"
   },
   {
    "duration": 75,
    "start_time": "2021-12-14T17:24:34.996Z"
   },
   {
    "duration": 4,
    "start_time": "2021-12-14T17:24:35.073Z"
   },
   {
    "duration": 24,
    "start_time": "2021-12-14T17:24:35.079Z"
   },
   {
    "duration": 75,
    "start_time": "2021-12-14T17:24:35.105Z"
   },
   {
    "duration": 48,
    "start_time": "2021-12-14T17:24:35.183Z"
   },
   {
    "duration": 71,
    "start_time": "2021-12-14T17:24:35.234Z"
   },
   {
    "duration": 5,
    "start_time": "2021-12-14T17:24:35.309Z"
   },
   {
    "duration": 28,
    "start_time": "2021-12-14T17:24:35.318Z"
   },
   {
    "duration": 23,
    "start_time": "2021-12-14T17:24:35.368Z"
   },
   {
    "duration": 25,
    "start_time": "2021-12-14T17:24:35.399Z"
   },
   {
    "duration": 55,
    "start_time": "2021-12-14T17:24:35.428Z"
   },
   {
    "duration": 24,
    "start_time": "2021-12-14T17:24:35.486Z"
   },
   {
    "duration": 56,
    "start_time": "2021-12-14T17:24:35.513Z"
   },
   {
    "duration": 14,
    "start_time": "2021-12-14T17:24:35.572Z"
   },
   {
    "duration": 28,
    "start_time": "2021-12-14T17:24:35.590Z"
   },
   {
    "duration": 17,
    "start_time": "2021-12-14T17:24:35.620Z"
   },
   {
    "duration": 28,
    "start_time": "2021-12-14T17:24:35.639Z"
   },
   {
    "duration": 47,
    "start_time": "2021-12-14T17:24:35.671Z"
   },
   {
    "duration": 21,
    "start_time": "2021-12-14T17:24:35.721Z"
   },
   {
    "duration": 39,
    "start_time": "2021-12-14T17:24:35.745Z"
   },
   {
    "duration": 19,
    "start_time": "2021-12-14T17:24:35.787Z"
   },
   {
    "duration": 74,
    "start_time": "2021-12-14T17:24:35.809Z"
   },
   {
    "duration": 14,
    "start_time": "2021-12-14T17:24:35.885Z"
   },
   {
    "duration": 30,
    "start_time": "2021-12-14T17:24:35.901Z"
   },
   {
    "duration": 36,
    "start_time": "2021-12-14T17:24:35.933Z"
   },
   {
    "duration": 93,
    "start_time": "2021-12-14T17:35:49.573Z"
   },
   {
    "duration": 108,
    "start_time": "2021-12-14T17:35:53.781Z"
   },
   {
    "duration": 20,
    "start_time": "2021-12-14T17:35:57.590Z"
   },
   {
    "duration": 111,
    "start_time": "2021-12-14T17:40:51.048Z"
   },
   {
    "duration": 513,
    "start_time": "2021-12-14T17:42:13.468Z"
   },
   {
    "duration": 361,
    "start_time": "2021-12-14T17:42:52.422Z"
   },
   {
    "duration": 3,
    "start_time": "2021-12-14T17:42:57.308Z"
   },
   {
    "duration": 193,
    "start_time": "2021-12-14T17:42:57.404Z"
   },
   {
    "duration": 16,
    "start_time": "2021-12-14T17:42:57.600Z"
   },
   {
    "duration": 58,
    "start_time": "2021-12-14T17:42:57.621Z"
   },
   {
    "duration": 5,
    "start_time": "2021-12-14T17:42:57.682Z"
   },
   {
    "duration": 16,
    "start_time": "2021-12-14T17:42:57.689Z"
   },
   {
    "duration": 5,
    "start_time": "2021-12-14T17:42:57.707Z"
   },
   {
    "duration": 73,
    "start_time": "2021-12-14T17:42:57.715Z"
   },
   {
    "duration": 24,
    "start_time": "2021-12-14T17:42:57.790Z"
   },
   {
    "duration": 65,
    "start_time": "2021-12-14T17:42:57.819Z"
   },
   {
    "duration": 104,
    "start_time": "2021-12-14T17:42:57.887Z"
   },
   {
    "duration": 111,
    "start_time": "2021-12-14T17:42:57.993Z"
   },
   {
    "duration": 90,
    "start_time": "2021-12-14T17:42:58.106Z"
   },
   {
    "duration": 71,
    "start_time": "2021-12-14T17:42:58.198Z"
   },
   {
    "duration": 4,
    "start_time": "2021-12-14T17:42:58.272Z"
   },
   {
    "duration": 21,
    "start_time": "2021-12-14T17:42:58.279Z"
   },
   {
    "duration": 98,
    "start_time": "2021-12-14T17:42:58.303Z"
   },
   {
    "duration": 67,
    "start_time": "2021-12-14T17:42:58.404Z"
   },
   {
    "duration": 16,
    "start_time": "2021-12-14T17:42:58.475Z"
   },
   {
    "duration": 5,
    "start_time": "2021-12-14T17:42:58.493Z"
   },
   {
    "duration": 26,
    "start_time": "2021-12-14T17:42:58.500Z"
   },
   {
    "duration": 54,
    "start_time": "2021-12-14T17:42:58.528Z"
   },
   {
    "duration": 20,
    "start_time": "2021-12-14T17:42:58.585Z"
   },
   {
    "duration": 20,
    "start_time": "2021-12-14T17:42:58.608Z"
   },
   {
    "duration": 25,
    "start_time": "2021-12-14T17:42:58.668Z"
   },
   {
    "duration": 22,
    "start_time": "2021-12-14T17:42:58.696Z"
   },
   {
    "duration": 12,
    "start_time": "2021-12-14T17:42:58.721Z"
   },
   {
    "duration": 16,
    "start_time": "2021-12-14T17:42:58.766Z"
   },
   {
    "duration": 13,
    "start_time": "2021-12-14T17:42:58.785Z"
   },
   {
    "duration": 5,
    "start_time": "2021-12-14T17:42:58.801Z"
   },
   {
    "duration": 67,
    "start_time": "2021-12-14T17:42:58.809Z"
   },
   {
    "duration": 18,
    "start_time": "2021-12-14T17:42:58.878Z"
   },
   {
    "duration": 33,
    "start_time": "2021-12-14T17:42:58.900Z"
   },
   {
    "duration": 44,
    "start_time": "2021-12-14T17:42:58.938Z"
   },
   {
    "duration": 349,
    "start_time": "2021-12-14T17:42:58.985Z"
   },
   {
    "duration": 2680,
    "start_time": "2021-12-14T17:42:56.656Z"
   },
   {
    "duration": 2671,
    "start_time": "2021-12-14T17:42:56.666Z"
   },
   {
    "duration": 2661,
    "start_time": "2021-12-14T17:42:56.678Z"
   },
   {
    "duration": 274,
    "start_time": "2021-12-14T17:43:27.539Z"
   },
   {
    "duration": 285,
    "start_time": "2021-12-14T17:43:51.912Z"
   },
   {
    "duration": 21,
    "start_time": "2021-12-14T17:43:57.064Z"
   },
   {
    "duration": 2836,
    "start_time": "2021-12-14T17:46:34.999Z"
   },
   {
    "duration": 13,
    "start_time": "2021-12-14T17:46:40.115Z"
   },
   {
    "duration": 325,
    "start_time": "2021-12-14T17:47:25.365Z"
   },
   {
    "duration": 366,
    "start_time": "2021-12-14T17:47:37.521Z"
   },
   {
    "duration": 313,
    "start_time": "2021-12-14T17:47:43.567Z"
   },
   {
    "duration": 314,
    "start_time": "2021-12-14T17:48:03.231Z"
   },
   {
    "duration": 112,
    "start_time": "2021-12-14T17:48:30.462Z"
   },
   {
    "duration": 12,
    "start_time": "2021-12-14T17:48:35.522Z"
   },
   {
    "duration": 93,
    "start_time": "2021-12-14T17:51:38.700Z"
   },
   {
    "duration": 104,
    "start_time": "2021-12-14T17:57:28.806Z"
   },
   {
    "duration": 3,
    "start_time": "2021-12-14T17:58:15.196Z"
   },
   {
    "duration": 222,
    "start_time": "2021-12-14T17:58:15.208Z"
   },
   {
    "duration": 16,
    "start_time": "2021-12-14T17:58:15.432Z"
   },
   {
    "duration": 37,
    "start_time": "2021-12-14T17:58:15.467Z"
   },
   {
    "duration": 15,
    "start_time": "2021-12-14T17:58:15.507Z"
   },
   {
    "duration": 24,
    "start_time": "2021-12-14T17:58:15.524Z"
   },
   {
    "duration": 24,
    "start_time": "2021-12-14T17:58:15.550Z"
   },
   {
    "duration": 50,
    "start_time": "2021-12-14T17:58:15.577Z"
   },
   {
    "duration": 34,
    "start_time": "2021-12-14T17:58:15.631Z"
   },
   {
    "duration": 46,
    "start_time": "2021-12-14T17:58:15.668Z"
   },
   {
    "duration": 102,
    "start_time": "2021-12-14T17:58:15.716Z"
   },
   {
    "duration": 101,
    "start_time": "2021-12-14T17:58:15.821Z"
   },
   {
    "duration": 91,
    "start_time": "2021-12-14T17:58:15.924Z"
   },
   {
    "duration": 65,
    "start_time": "2021-12-14T17:58:16.017Z"
   },
   {
    "duration": 6,
    "start_time": "2021-12-14T17:58:16.085Z"
   },
   {
    "duration": 24,
    "start_time": "2021-12-14T17:58:16.094Z"
   },
   {
    "duration": 81,
    "start_time": "2021-12-14T17:58:16.120Z"
   },
   {
    "duration": 63,
    "start_time": "2021-12-14T17:58:16.204Z"
   },
   {
    "duration": 18,
    "start_time": "2021-12-14T17:58:16.270Z"
   },
   {
    "duration": 6,
    "start_time": "2021-12-14T17:58:16.291Z"
   },
   {
    "duration": 53,
    "start_time": "2021-12-14T17:58:16.300Z"
   },
   {
    "duration": 40,
    "start_time": "2021-12-14T17:58:16.356Z"
   },
   {
    "duration": 52,
    "start_time": "2021-12-14T17:58:16.399Z"
   },
   {
    "duration": 20,
    "start_time": "2021-12-14T17:58:16.459Z"
   },
   {
    "duration": 24,
    "start_time": "2021-12-14T17:58:16.483Z"
   },
   {
    "duration": 39,
    "start_time": "2021-12-14T17:58:16.510Z"
   },
   {
    "duration": 23,
    "start_time": "2021-12-14T17:58:16.551Z"
   },
   {
    "duration": 31,
    "start_time": "2021-12-14T17:58:16.576Z"
   },
   {
    "duration": 27,
    "start_time": "2021-12-14T17:58:16.610Z"
   },
   {
    "duration": 18,
    "start_time": "2021-12-14T17:58:16.640Z"
   },
   {
    "duration": 63,
    "start_time": "2021-12-14T17:58:16.660Z"
   },
   {
    "duration": 28,
    "start_time": "2021-12-14T17:58:16.725Z"
   },
   {
    "duration": 28,
    "start_time": "2021-12-14T17:58:16.755Z"
   },
   {
    "duration": 21,
    "start_time": "2021-12-14T17:58:16.786Z"
   },
   {
    "duration": 443,
    "start_time": "2021-12-14T17:58:16.809Z"
   },
   {
    "duration": 2182,
    "start_time": "2021-12-14T17:58:15.074Z"
   },
   {
    "duration": 2086,
    "start_time": "2021-12-14T17:58:15.172Z"
   },
   {
    "duration": 2079,
    "start_time": "2021-12-14T17:58:15.181Z"
   },
   {
    "duration": 2075,
    "start_time": "2021-12-14T17:58:15.188Z"
   },
   {
    "duration": 879,
    "start_time": "2021-12-15T17:46:20.468Z"
   },
   {
    "duration": 203,
    "start_time": "2021-12-15T17:46:21.349Z"
   },
   {
    "duration": 35,
    "start_time": "2021-12-15T17:46:21.556Z"
   },
   {
    "duration": 33,
    "start_time": "2021-12-15T17:46:21.594Z"
   },
   {
    "duration": 33,
    "start_time": "2021-12-15T17:46:21.629Z"
   },
   {
    "duration": 16,
    "start_time": "2021-12-15T17:46:21.664Z"
   },
   {
    "duration": 19,
    "start_time": "2021-12-15T17:46:21.682Z"
   },
   {
    "duration": 64,
    "start_time": "2021-12-15T17:46:21.704Z"
   },
   {
    "duration": 29,
    "start_time": "2021-12-15T17:46:21.774Z"
   },
   {
    "duration": 61,
    "start_time": "2021-12-15T17:46:21.807Z"
   },
   {
    "duration": 105,
    "start_time": "2021-12-15T17:46:21.871Z"
   },
   {
    "duration": 120,
    "start_time": "2021-12-15T17:46:21.979Z"
   },
   {
    "duration": 94,
    "start_time": "2021-12-15T17:46:22.101Z"
   },
   {
    "duration": 76,
    "start_time": "2021-12-15T17:46:22.197Z"
   },
   {
    "duration": 4,
    "start_time": "2021-12-15T17:46:22.276Z"
   },
   {
    "duration": 18,
    "start_time": "2021-12-15T17:46:22.282Z"
   },
   {
    "duration": 92,
    "start_time": "2021-12-15T17:46:22.302Z"
   },
   {
    "duration": 44,
    "start_time": "2021-12-15T17:46:22.396Z"
   },
   {
    "duration": 33,
    "start_time": "2021-12-15T17:46:22.442Z"
   },
   {
    "duration": 7,
    "start_time": "2021-12-15T17:46:22.479Z"
   },
   {
    "duration": 28,
    "start_time": "2021-12-15T17:46:22.488Z"
   },
   {
    "duration": 62,
    "start_time": "2021-12-15T17:46:22.519Z"
   },
   {
    "duration": 21,
    "start_time": "2021-12-15T17:46:22.584Z"
   },
   {
    "duration": 57,
    "start_time": "2021-12-15T17:46:22.608Z"
   },
   {
    "duration": 25,
    "start_time": "2021-12-15T17:46:22.669Z"
   },
   {
    "duration": 19,
    "start_time": "2021-12-15T17:46:22.696Z"
   },
   {
    "duration": 45,
    "start_time": "2021-12-15T17:46:22.720Z"
   },
   {
    "duration": 21,
    "start_time": "2021-12-15T17:46:22.769Z"
   },
   {
    "duration": 12,
    "start_time": "2021-12-15T17:46:22.792Z"
   },
   {
    "duration": 6,
    "start_time": "2021-12-15T17:46:22.807Z"
   },
   {
    "duration": 68,
    "start_time": "2021-12-15T17:46:22.815Z"
   },
   {
    "duration": 19,
    "start_time": "2021-12-15T17:46:22.885Z"
   },
   {
    "duration": 24,
    "start_time": "2021-12-15T17:46:22.907Z"
   },
   {
    "duration": 24,
    "start_time": "2021-12-15T17:46:22.961Z"
   },
   {
    "duration": 447,
    "start_time": "2021-12-15T17:46:22.988Z"
   },
   {
    "duration": -861,
    "start_time": "2021-12-15T17:46:24.299Z"
   },
   {
    "duration": -868,
    "start_time": "2021-12-15T17:46:24.308Z"
   },
   {
    "duration": -869,
    "start_time": "2021-12-15T17:46:24.310Z"
   },
   {
    "duration": 429,
    "start_time": "2021-12-15T17:50:28.022Z"
   },
   {
    "duration": 359,
    "start_time": "2021-12-15T17:50:31.864Z"
   },
   {
    "duration": 535,
    "start_time": "2021-12-15T17:50:45.271Z"
   },
   {
    "duration": 290,
    "start_time": "2021-12-15T17:50:51.432Z"
   },
   {
    "duration": 318,
    "start_time": "2021-12-15T17:52:15.674Z"
   },
   {
    "duration": 301,
    "start_time": "2021-12-15T17:52:22.056Z"
   },
   {
    "duration": 21,
    "start_time": "2021-12-15T17:53:17.216Z"
   },
   {
    "duration": 292,
    "start_time": "2021-12-15T17:54:27.582Z"
   },
   {
    "duration": 752,
    "start_time": "2021-12-15T17:54:34.165Z"
   },
   {
    "duration": 197,
    "start_time": "2021-12-15T17:54:34.920Z"
   },
   {
    "duration": 40,
    "start_time": "2021-12-15T17:54:35.121Z"
   },
   {
    "duration": 32,
    "start_time": "2021-12-15T17:54:35.164Z"
   },
   {
    "duration": 5,
    "start_time": "2021-12-15T17:54:35.199Z"
   },
   {
    "duration": 15,
    "start_time": "2021-12-15T17:54:35.206Z"
   },
   {
    "duration": 7,
    "start_time": "2021-12-15T17:54:35.261Z"
   },
   {
    "duration": 33,
    "start_time": "2021-12-15T17:54:35.271Z"
   },
   {
    "duration": 57,
    "start_time": "2021-12-15T17:54:35.308Z"
   },
   {
    "duration": 31,
    "start_time": "2021-12-15T17:54:35.368Z"
   },
   {
    "duration": 111,
    "start_time": "2021-12-15T17:54:35.401Z"
   },
   {
    "duration": 115,
    "start_time": "2021-12-15T17:54:35.514Z"
   },
   {
    "duration": 96,
    "start_time": "2021-12-15T17:54:35.631Z"
   },
   {
    "duration": 63,
    "start_time": "2021-12-15T17:54:35.729Z"
   },
   {
    "duration": 4,
    "start_time": "2021-12-15T17:54:35.795Z"
   },
   {
    "duration": 17,
    "start_time": "2021-12-15T17:54:35.801Z"
   },
   {
    "duration": 81,
    "start_time": "2021-12-15T17:54:35.820Z"
   },
   {
    "duration": 64,
    "start_time": "2021-12-15T17:54:35.904Z"
   },
   {
    "duration": 15,
    "start_time": "2021-12-15T17:54:35.971Z"
   },
   {
    "duration": 5,
    "start_time": "2021-12-15T17:54:35.988Z"
   },
   {
    "duration": 35,
    "start_time": "2021-12-15T17:54:35.996Z"
   },
   {
    "duration": 28,
    "start_time": "2021-12-15T17:54:36.058Z"
   },
   {
    "duration": 29,
    "start_time": "2021-12-15T17:54:36.089Z"
   },
   {
    "duration": 50,
    "start_time": "2021-12-15T17:54:36.121Z"
   },
   {
    "duration": 30,
    "start_time": "2021-12-15T17:54:36.175Z"
   },
   {
    "duration": 62,
    "start_time": "2021-12-15T17:54:36.208Z"
   },
   {
    "duration": 14,
    "start_time": "2021-12-15T17:54:36.277Z"
   },
   {
    "duration": 15,
    "start_time": "2021-12-15T17:54:36.294Z"
   },
   {
    "duration": 11,
    "start_time": "2021-12-15T17:54:36.311Z"
   },
   {
    "duration": 5,
    "start_time": "2021-12-15T17:54:36.325Z"
   },
   {
    "duration": 31,
    "start_time": "2021-12-15T17:54:36.360Z"
   },
   {
    "duration": 16,
    "start_time": "2021-12-15T17:54:36.393Z"
   },
   {
    "duration": 50,
    "start_time": "2021-12-15T17:54:36.411Z"
   },
   {
    "duration": 17,
    "start_time": "2021-12-15T17:54:36.463Z"
   },
   {
    "duration": 429,
    "start_time": "2021-12-15T17:54:36.482Z"
   },
   {
    "duration": -865,
    "start_time": "2021-12-15T17:54:37.779Z"
   },
   {
    "duration": -866,
    "start_time": "2021-12-15T17:54:37.781Z"
   },
   {
    "duration": -869,
    "start_time": "2021-12-15T17:54:37.786Z"
   },
   {
    "duration": 298,
    "start_time": "2021-12-15T17:56:32.296Z"
   },
   {
    "duration": 18,
    "start_time": "2021-12-15T17:56:33.268Z"
   },
   {
    "duration": 12,
    "start_time": "2021-12-15T17:56:34.430Z"
   },
   {
    "duration": 402,
    "start_time": "2021-12-15T17:56:44.343Z"
   },
   {
    "duration": 7,
    "start_time": "2021-12-15T17:56:49.640Z"
   },
   {
    "duration": 13,
    "start_time": "2021-12-15T17:56:50.812Z"
   },
   {
    "duration": 813,
    "start_time": "2021-12-15T17:56:57.653Z"
   },
   {
    "duration": 184,
    "start_time": "2021-12-15T17:56:58.469Z"
   },
   {
    "duration": 27,
    "start_time": "2021-12-15T17:56:58.656Z"
   },
   {
    "duration": 34,
    "start_time": "2021-12-15T17:56:58.685Z"
   },
   {
    "duration": 37,
    "start_time": "2021-12-15T17:56:58.722Z"
   },
   {
    "duration": 15,
    "start_time": "2021-12-15T17:56:58.761Z"
   },
   {
    "duration": 11,
    "start_time": "2021-12-15T17:56:58.778Z"
   },
   {
    "duration": 31,
    "start_time": "2021-12-15T17:56:58.794Z"
   },
   {
    "duration": 47,
    "start_time": "2021-12-15T17:56:58.829Z"
   },
   {
    "duration": 30,
    "start_time": "2021-12-15T17:56:58.879Z"
   },
   {
    "duration": 106,
    "start_time": "2021-12-15T17:56:58.912Z"
   },
   {
    "duration": 135,
    "start_time": "2021-12-15T17:56:59.021Z"
   },
   {
    "duration": 111,
    "start_time": "2021-12-15T17:56:59.160Z"
   },
   {
    "duration": 104,
    "start_time": "2021-12-15T17:56:59.274Z"
   },
   {
    "duration": 5,
    "start_time": "2021-12-15T17:56:59.381Z"
   },
   {
    "duration": 16,
    "start_time": "2021-12-15T17:56:59.389Z"
   },
   {
    "duration": 98,
    "start_time": "2021-12-15T17:56:59.407Z"
   },
   {
    "duration": 61,
    "start_time": "2021-12-15T17:56:59.508Z"
   },
   {
    "duration": 15,
    "start_time": "2021-12-15T17:56:59.571Z"
   },
   {
    "duration": 5,
    "start_time": "2021-12-15T17:56:59.588Z"
   },
   {
    "duration": 26,
    "start_time": "2021-12-15T17:56:59.595Z"
   },
   {
    "duration": 47,
    "start_time": "2021-12-15T17:56:59.623Z"
   },
   {
    "duration": 20,
    "start_time": "2021-12-15T17:56:59.675Z"
   },
   {
    "duration": 18,
    "start_time": "2021-12-15T17:56:59.699Z"
   },
   {
    "duration": 50,
    "start_time": "2021-12-15T17:56:59.719Z"
   },
   {
    "duration": 30,
    "start_time": "2021-12-15T17:56:59.772Z"
   },
   {
    "duration": 17,
    "start_time": "2021-12-15T17:56:59.805Z"
   },
   {
    "duration": 44,
    "start_time": "2021-12-15T17:56:59.824Z"
   },
   {
    "duration": 11,
    "start_time": "2021-12-15T17:56:59.870Z"
   },
   {
    "duration": 5,
    "start_time": "2021-12-15T17:56:59.884Z"
   },
   {
    "duration": 32,
    "start_time": "2021-12-15T17:56:59.892Z"
   },
   {
    "duration": 46,
    "start_time": "2021-12-15T17:56:59.926Z"
   },
   {
    "duration": 23,
    "start_time": "2021-12-15T17:56:59.974Z"
   },
   {
    "duration": 18,
    "start_time": "2021-12-15T17:57:00.000Z"
   },
   {
    "duration": 545,
    "start_time": "2021-12-15T17:57:00.020Z"
   },
   {
    "duration": -869,
    "start_time": "2021-12-15T17:57:01.437Z"
   },
   {
    "duration": -868,
    "start_time": "2021-12-15T17:57:01.439Z"
   },
   {
    "duration": -869,
    "start_time": "2021-12-15T17:57:01.441Z"
   },
   {
    "duration": 300,
    "start_time": "2021-12-15T17:57:04.332Z"
   },
   {
    "duration": 19,
    "start_time": "2021-12-15T17:57:05.771Z"
   },
   {
    "duration": 12,
    "start_time": "2021-12-15T17:57:06.696Z"
   },
   {
    "duration": 90,
    "start_time": "2021-12-15T18:50:34.667Z"
   },
   {
    "duration": 660,
    "start_time": "2021-12-15T18:50:37.364Z"
   },
   {
    "duration": 147,
    "start_time": "2021-12-15T18:50:38.026Z"
   },
   {
    "duration": 17,
    "start_time": "2021-12-15T18:50:38.176Z"
   },
   {
    "duration": 30,
    "start_time": "2021-12-15T18:50:38.195Z"
   },
   {
    "duration": 6,
    "start_time": "2021-12-15T18:50:38.227Z"
   },
   {
    "duration": 40,
    "start_time": "2021-12-15T18:50:38.235Z"
   },
   {
    "duration": 6,
    "start_time": "2021-12-15T18:50:38.277Z"
   },
   {
    "duration": 25,
    "start_time": "2021-12-15T18:50:38.286Z"
   },
   {
    "duration": 18,
    "start_time": "2021-12-15T18:50:38.314Z"
   },
   {
    "duration": 48,
    "start_time": "2021-12-15T18:50:38.334Z"
   },
   {
    "duration": 61,
    "start_time": "2021-12-15T18:50:38.383Z"
   },
   {
    "duration": 142,
    "start_time": "2021-12-15T18:50:38.464Z"
   },
   {
    "duration": 110,
    "start_time": "2021-12-15T18:50:38.608Z"
   },
   {
    "duration": 67,
    "start_time": "2021-12-15T18:50:38.720Z"
   },
   {
    "duration": 3,
    "start_time": "2021-12-15T18:50:38.789Z"
   },
   {
    "duration": 13,
    "start_time": "2021-12-15T18:50:38.794Z"
   },
   {
    "duration": 63,
    "start_time": "2021-12-15T18:50:38.809Z"
   },
   {
    "duration": 36,
    "start_time": "2021-12-15T18:50:38.873Z"
   },
   {
    "duration": 11,
    "start_time": "2021-12-15T18:50:38.910Z"
   },
   {
    "duration": 3,
    "start_time": "2021-12-15T18:50:38.923Z"
   },
   {
    "duration": 52,
    "start_time": "2021-12-15T18:50:38.928Z"
   },
   {
    "duration": 15,
    "start_time": "2021-12-15T18:50:38.982Z"
   },
   {
    "duration": 25,
    "start_time": "2021-12-15T18:50:39.001Z"
   },
   {
    "duration": 57,
    "start_time": "2021-12-15T18:50:39.029Z"
   },
   {
    "duration": 20,
    "start_time": "2021-12-15T18:50:39.088Z"
   },
   {
    "duration": 23,
    "start_time": "2021-12-15T18:50:39.110Z"
   },
   {
    "duration": 34,
    "start_time": "2021-12-15T18:50:39.135Z"
   },
   {
    "duration": 34,
    "start_time": "2021-12-15T18:50:39.171Z"
   },
   {
    "duration": 16,
    "start_time": "2021-12-15T18:50:39.207Z"
   },
   {
    "duration": 13,
    "start_time": "2021-12-15T18:50:39.225Z"
   },
   {
    "duration": 31,
    "start_time": "2021-12-15T18:50:39.240Z"
   },
   {
    "duration": 38,
    "start_time": "2021-12-15T18:50:39.274Z"
   },
   {
    "duration": 29,
    "start_time": "2021-12-15T18:50:39.315Z"
   },
   {
    "duration": 29,
    "start_time": "2021-12-15T18:50:39.346Z"
   },
   {
    "duration": 111,
    "start_time": "2021-12-15T18:50:39.377Z"
   },
   {
    "duration": -955,
    "start_time": "2021-12-15T18:50:40.446Z"
   },
   {
    "duration": -962,
    "start_time": "2021-12-15T18:50:40.454Z"
   },
   {
    "duration": -970,
    "start_time": "2021-12-15T18:50:40.464Z"
   },
   {
    "duration": 3,
    "start_time": "2021-12-15T18:51:03.367Z"
   },
   {
    "duration": 161,
    "start_time": "2021-12-15T18:51:03.435Z"
   },
   {
    "duration": 11,
    "start_time": "2021-12-15T18:51:03.598Z"
   },
   {
    "duration": 52,
    "start_time": "2021-12-15T18:51:03.611Z"
   },
   {
    "duration": 4,
    "start_time": "2021-12-15T18:51:03.665Z"
   },
   {
    "duration": 25,
    "start_time": "2021-12-15T18:51:03.671Z"
   },
   {
    "duration": 24,
    "start_time": "2021-12-15T18:51:03.698Z"
   },
   {
    "duration": 41,
    "start_time": "2021-12-15T18:51:03.724Z"
   },
   {
    "duration": 31,
    "start_time": "2021-12-15T18:51:03.767Z"
   },
   {
    "duration": 39,
    "start_time": "2021-12-15T18:51:03.803Z"
   },
   {
    "duration": 80,
    "start_time": "2021-12-15T18:51:03.844Z"
   },
   {
    "duration": 80,
    "start_time": "2021-12-15T18:51:03.926Z"
   },
   {
    "duration": 70,
    "start_time": "2021-12-15T18:51:04.008Z"
   },
   {
    "duration": 41,
    "start_time": "2021-12-15T18:51:04.080Z"
   },
   {
    "duration": 6,
    "start_time": "2021-12-15T18:51:04.124Z"
   },
   {
    "duration": 35,
    "start_time": "2021-12-15T18:51:04.132Z"
   },
   {
    "duration": 63,
    "start_time": "2021-12-15T18:51:04.169Z"
   },
   {
    "duration": 56,
    "start_time": "2021-12-15T18:51:04.234Z"
   },
   {
    "duration": 19,
    "start_time": "2021-12-15T18:51:04.293Z"
   },
   {
    "duration": 7,
    "start_time": "2021-12-15T18:51:04.316Z"
   },
   {
    "duration": 43,
    "start_time": "2021-12-15T18:51:04.324Z"
   },
   {
    "duration": 20,
    "start_time": "2021-12-15T18:51:04.369Z"
   },
   {
    "duration": 32,
    "start_time": "2021-12-15T18:51:04.391Z"
   },
   {
    "duration": 17,
    "start_time": "2021-12-15T18:51:04.425Z"
   },
   {
    "duration": 46,
    "start_time": "2021-12-15T18:51:04.444Z"
   },
   {
    "duration": 27,
    "start_time": "2021-12-15T18:51:04.493Z"
   },
   {
    "duration": 12,
    "start_time": "2021-12-15T18:51:04.523Z"
   },
   {
    "duration": 33,
    "start_time": "2021-12-15T18:51:04.539Z"
   },
   {
    "duration": 11,
    "start_time": "2021-12-15T18:51:04.574Z"
   },
   {
    "duration": 5,
    "start_time": "2021-12-15T18:51:04.587Z"
   },
   {
    "duration": 30,
    "start_time": "2021-12-15T18:51:04.594Z"
   },
   {
    "duration": 46,
    "start_time": "2021-12-15T18:51:04.627Z"
   },
   {
    "duration": 34,
    "start_time": "2021-12-15T18:51:04.676Z"
   },
   {
    "duration": 17,
    "start_time": "2021-12-15T18:51:04.712Z"
   },
   {
    "duration": 39,
    "start_time": "2021-12-15T18:51:04.732Z"
   },
   {
    "duration": 5,
    "start_time": "2021-12-15T18:51:04.773Z"
   },
   {
    "duration": 22,
    "start_time": "2021-12-15T18:51:04.780Z"
   },
   {
    "duration": 9,
    "start_time": "2021-12-15T18:51:04.804Z"
   },
   {
    "duration": 317,
    "start_time": "2021-12-15T18:52:04.436Z"
   },
   {
    "duration": 2,
    "start_time": "2021-12-15T18:52:18.820Z"
   },
   {
    "duration": 154,
    "start_time": "2021-12-15T18:52:18.848Z"
   },
   {
    "duration": 11,
    "start_time": "2021-12-15T18:52:19.004Z"
   },
   {
    "duration": 46,
    "start_time": "2021-12-15T18:52:19.017Z"
   },
   {
    "duration": 4,
    "start_time": "2021-12-15T18:52:19.066Z"
   },
   {
    "duration": 21,
    "start_time": "2021-12-15T18:52:19.072Z"
   },
   {
    "duration": 4,
    "start_time": "2021-12-15T18:52:19.095Z"
   },
   {
    "duration": 27,
    "start_time": "2021-12-15T18:52:19.100Z"
   },
   {
    "duration": 47,
    "start_time": "2021-12-15T18:52:19.129Z"
   },
   {
    "duration": 22,
    "start_time": "2021-12-15T18:52:19.180Z"
   },
   {
    "duration": 85,
    "start_time": "2021-12-15T18:52:19.204Z"
   },
   {
    "duration": 81,
    "start_time": "2021-12-15T18:52:19.291Z"
   },
   {
    "duration": 51,
    "start_time": "2021-12-15T18:52:19.374Z"
   },
   {
    "duration": 53,
    "start_time": "2021-12-15T18:52:19.427Z"
   },
   {
    "duration": 3,
    "start_time": "2021-12-15T18:52:19.482Z"
   },
   {
    "duration": 18,
    "start_time": "2021-12-15T18:52:19.487Z"
   },
   {
    "duration": 56,
    "start_time": "2021-12-15T18:52:19.508Z"
   },
   {
    "duration": 31,
    "start_time": "2021-12-15T18:52:19.566Z"
   },
   {
    "duration": 11,
    "start_time": "2021-12-15T18:52:19.599Z"
   },
   {
    "duration": 4,
    "start_time": "2021-12-15T18:52:19.612Z"
   },
   {
    "duration": 57,
    "start_time": "2021-12-15T18:52:19.618Z"
   },
   {
    "duration": 16,
    "start_time": "2021-12-15T18:52:19.676Z"
   },
   {
    "duration": 17,
    "start_time": "2021-12-15T18:52:19.693Z"
   },
   {
    "duration": 14,
    "start_time": "2021-12-15T18:52:19.712Z"
   },
   {
    "duration": 47,
    "start_time": "2021-12-15T18:52:19.727Z"
   },
   {
    "duration": 15,
    "start_time": "2021-12-15T18:52:19.776Z"
   },
   {
    "duration": 9,
    "start_time": "2021-12-15T18:52:19.793Z"
   },
   {
    "duration": 11,
    "start_time": "2021-12-15T18:52:19.805Z"
   },
   {
    "duration": 9,
    "start_time": "2021-12-15T18:52:19.818Z"
   },
   {
    "duration": 34,
    "start_time": "2021-12-15T18:52:19.829Z"
   },
   {
    "duration": 29,
    "start_time": "2021-12-15T18:52:19.866Z"
   },
   {
    "duration": 13,
    "start_time": "2021-12-15T18:52:19.897Z"
   },
   {
    "duration": 17,
    "start_time": "2021-12-15T18:52:19.912Z"
   },
   {
    "duration": 38,
    "start_time": "2021-12-15T18:52:19.931Z"
   },
   {
    "duration": 461,
    "start_time": "2021-12-15T18:52:19.971Z"
   },
   {
    "duration": -483,
    "start_time": "2021-12-15T18:52:20.917Z"
   },
   {
    "duration": -510,
    "start_time": "2021-12-15T18:52:20.945Z"
   },
   {
    "duration": -520,
    "start_time": "2021-12-15T18:52:20.956Z"
   },
   {
    "duration": 3,
    "start_time": "2021-12-15T18:53:57.487Z"
   },
   {
    "duration": 150,
    "start_time": "2021-12-15T18:53:57.511Z"
   },
   {
    "duration": 13,
    "start_time": "2021-12-15T18:53:57.663Z"
   },
   {
    "duration": 27,
    "start_time": "2021-12-15T18:53:57.678Z"
   },
   {
    "duration": 5,
    "start_time": "2021-12-15T18:53:57.707Z"
   },
   {
    "duration": 9,
    "start_time": "2021-12-15T18:53:57.713Z"
   },
   {
    "duration": 45,
    "start_time": "2021-12-15T18:53:57.724Z"
   },
   {
    "duration": 32,
    "start_time": "2021-12-15T18:53:57.771Z"
   },
   {
    "duration": 17,
    "start_time": "2021-12-15T18:53:57.805Z"
   },
   {
    "duration": 51,
    "start_time": "2021-12-15T18:53:57.825Z"
   },
   {
    "duration": 121,
    "start_time": "2021-12-15T18:53:57.879Z"
   },
   {
    "duration": 82,
    "start_time": "2021-12-15T18:53:58.002Z"
   },
   {
    "duration": 55,
    "start_time": "2021-12-15T18:53:58.086Z"
   },
   {
    "duration": 51,
    "start_time": "2021-12-15T18:53:58.143Z"
   },
   {
    "duration": 3,
    "start_time": "2021-12-15T18:53:58.197Z"
   },
   {
    "duration": 11,
    "start_time": "2021-12-15T18:53:58.202Z"
   },
   {
    "duration": 60,
    "start_time": "2021-12-15T18:53:58.214Z"
   },
   {
    "duration": 62,
    "start_time": "2021-12-15T18:53:58.277Z"
   },
   {
    "duration": 28,
    "start_time": "2021-12-15T18:53:58.340Z"
   },
   {
    "duration": 5,
    "start_time": "2021-12-15T18:53:58.371Z"
   },
   {
    "duration": 23,
    "start_time": "2021-12-15T18:53:58.378Z"
   },
   {
    "duration": 15,
    "start_time": "2021-12-15T18:53:58.402Z"
   },
   {
    "duration": 50,
    "start_time": "2021-12-15T18:53:58.419Z"
   },
   {
    "duration": 26,
    "start_time": "2021-12-15T18:53:58.472Z"
   },
   {
    "duration": 29,
    "start_time": "2021-12-15T18:53:58.500Z"
   },
   {
    "duration": 47,
    "start_time": "2021-12-15T18:53:58.531Z"
   },
   {
    "duration": 9,
    "start_time": "2021-12-15T18:53:58.580Z"
   },
   {
    "duration": 12,
    "start_time": "2021-12-15T18:53:58.592Z"
   },
   {
    "duration": 11,
    "start_time": "2021-12-15T18:53:58.607Z"
   },
   {
    "duration": 4,
    "start_time": "2021-12-15T18:53:58.620Z"
   },
   {
    "duration": 61,
    "start_time": "2021-12-15T18:53:58.625Z"
   },
   {
    "duration": 19,
    "start_time": "2021-12-15T18:53:58.689Z"
   },
   {
    "duration": 19,
    "start_time": "2021-12-15T18:53:58.711Z"
   },
   {
    "duration": 46,
    "start_time": "2021-12-15T18:53:58.732Z"
   },
   {
    "duration": 16,
    "start_time": "2021-12-15T18:53:58.781Z"
   },
   {
    "duration": 5,
    "start_time": "2021-12-15T18:53:58.799Z"
   },
   {
    "duration": 20,
    "start_time": "2021-12-15T18:53:58.805Z"
   },
   {
    "duration": 7,
    "start_time": "2021-12-15T18:53:58.827Z"
   },
   {
    "duration": 3,
    "start_time": "2021-12-15T18:56:13.111Z"
   },
   {
    "duration": 153,
    "start_time": "2021-12-15T18:56:13.168Z"
   },
   {
    "duration": 11,
    "start_time": "2021-12-15T18:56:13.323Z"
   },
   {
    "duration": 45,
    "start_time": "2021-12-15T18:56:13.336Z"
   },
   {
    "duration": 4,
    "start_time": "2021-12-15T18:56:13.383Z"
   },
   {
    "duration": 22,
    "start_time": "2021-12-15T18:56:13.389Z"
   },
   {
    "duration": 7,
    "start_time": "2021-12-15T18:56:13.413Z"
   },
   {
    "duration": 29,
    "start_time": "2021-12-15T18:56:13.422Z"
   },
   {
    "duration": 39,
    "start_time": "2021-12-15T18:56:13.453Z"
   },
   {
    "duration": 25,
    "start_time": "2021-12-15T18:56:13.495Z"
   },
   {
    "duration": 95,
    "start_time": "2021-12-15T18:56:13.523Z"
   },
   {
    "duration": 84,
    "start_time": "2021-12-15T18:56:13.621Z"
   },
   {
    "duration": 83,
    "start_time": "2021-12-15T18:56:13.707Z"
   },
   {
    "duration": 55,
    "start_time": "2021-12-15T18:56:13.793Z"
   },
   {
    "duration": 3,
    "start_time": "2021-12-15T18:56:13.849Z"
   },
   {
    "duration": 20,
    "start_time": "2021-12-15T18:56:13.868Z"
   },
   {
    "duration": 41,
    "start_time": "2021-12-15T18:56:13.891Z"
   },
   {
    "duration": 60,
    "start_time": "2021-12-15T18:56:13.934Z"
   },
   {
    "duration": 11,
    "start_time": "2021-12-15T18:56:13.996Z"
   },
   {
    "duration": 4,
    "start_time": "2021-12-15T18:56:14.009Z"
   },
   {
    "duration": 22,
    "start_time": "2021-12-15T18:56:14.015Z"
   },
   {
    "duration": 46,
    "start_time": "2021-12-15T18:56:14.039Z"
   },
   {
    "duration": 16,
    "start_time": "2021-12-15T18:56:14.088Z"
   },
   {
    "duration": 16,
    "start_time": "2021-12-15T18:56:14.106Z"
   },
   {
    "duration": 49,
    "start_time": "2021-12-15T18:56:14.124Z"
   },
   {
    "duration": 17,
    "start_time": "2021-12-15T18:56:14.177Z"
   },
   {
    "duration": 12,
    "start_time": "2021-12-15T18:56:14.196Z"
   },
   {
    "duration": 18,
    "start_time": "2021-12-15T18:56:14.210Z"
   },
   {
    "duration": 41,
    "start_time": "2021-12-15T18:56:14.231Z"
   },
   {
    "duration": 5,
    "start_time": "2021-12-15T18:56:14.275Z"
   },
   {
    "duration": 39,
    "start_time": "2021-12-15T18:56:14.283Z"
   },
   {
    "duration": 19,
    "start_time": "2021-12-15T18:56:14.325Z"
   },
   {
    "duration": 44,
    "start_time": "2021-12-15T18:56:14.347Z"
   },
   {
    "duration": 13,
    "start_time": "2021-12-15T18:56:14.392Z"
   },
   {
    "duration": 13,
    "start_time": "2021-12-15T18:56:14.407Z"
   },
   {
    "duration": 5,
    "start_time": "2021-12-15T18:56:14.421Z"
   },
   {
    "duration": 303,
    "start_time": "2021-12-15T18:56:14.427Z"
   },
   {
    "duration": -1408,
    "start_time": "2021-12-15T18:56:16.140Z"
   },
   {
    "duration": 2,
    "start_time": "2021-12-15T18:56:48.523Z"
   },
   {
    "duration": 164,
    "start_time": "2021-12-15T18:56:48.547Z"
   },
   {
    "duration": 13,
    "start_time": "2021-12-15T18:56:48.713Z"
   },
   {
    "duration": 74,
    "start_time": "2021-12-15T18:56:48.728Z"
   },
   {
    "duration": 7,
    "start_time": "2021-12-15T18:56:48.805Z"
   },
   {
    "duration": 25,
    "start_time": "2021-12-15T18:56:48.814Z"
   },
   {
    "duration": 12,
    "start_time": "2021-12-15T18:56:48.841Z"
   },
   {
    "duration": 36,
    "start_time": "2021-12-15T18:56:48.854Z"
   },
   {
    "duration": 48,
    "start_time": "2021-12-15T18:56:48.892Z"
   },
   {
    "duration": 52,
    "start_time": "2021-12-15T18:56:48.945Z"
   },
   {
    "duration": 69,
    "start_time": "2021-12-15T18:56:48.999Z"
   },
   {
    "duration": 75,
    "start_time": "2021-12-15T18:56:49.070Z"
   },
   {
    "duration": 79,
    "start_time": "2021-12-15T18:56:49.147Z"
   },
   {
    "duration": 54,
    "start_time": "2021-12-15T18:56:49.228Z"
   },
   {
    "duration": 4,
    "start_time": "2021-12-15T18:56:49.284Z"
   },
   {
    "duration": 11,
    "start_time": "2021-12-15T18:56:49.290Z"
   },
   {
    "duration": 62,
    "start_time": "2021-12-15T18:56:49.303Z"
   },
   {
    "duration": 43,
    "start_time": "2021-12-15T18:56:49.367Z"
   },
   {
    "duration": 17,
    "start_time": "2021-12-15T18:56:49.412Z"
   },
   {
    "duration": 4,
    "start_time": "2021-12-15T18:56:49.431Z"
   },
   {
    "duration": 51,
    "start_time": "2021-12-15T18:56:49.437Z"
   },
   {
    "duration": 23,
    "start_time": "2021-12-15T18:56:49.490Z"
   },
   {
    "duration": 54,
    "start_time": "2021-12-15T18:56:49.515Z"
   },
   {
    "duration": 27,
    "start_time": "2021-12-15T18:56:49.571Z"
   },
   {
    "duration": 18,
    "start_time": "2021-12-15T18:56:49.600Z"
   },
   {
    "duration": 16,
    "start_time": "2021-12-15T18:56:49.620Z"
   },
   {
    "duration": 34,
    "start_time": "2021-12-15T18:56:49.638Z"
   },
   {
    "duration": 19,
    "start_time": "2021-12-15T18:56:49.677Z"
   },
   {
    "duration": 16,
    "start_time": "2021-12-15T18:56:49.699Z"
   },
   {
    "duration": 6,
    "start_time": "2021-12-15T18:56:49.717Z"
   },
   {
    "duration": 64,
    "start_time": "2021-12-15T18:56:49.725Z"
   },
   {
    "duration": 13,
    "start_time": "2021-12-15T18:56:49.790Z"
   },
   {
    "duration": 15,
    "start_time": "2021-12-15T18:56:49.805Z"
   },
   {
    "duration": 11,
    "start_time": "2021-12-15T18:56:49.822Z"
   },
   {
    "duration": 39,
    "start_time": "2021-12-15T18:56:49.835Z"
   },
   {
    "duration": 5,
    "start_time": "2021-12-15T18:56:49.876Z"
   },
   {
    "duration": 27,
    "start_time": "2021-12-15T18:56:49.882Z"
   },
   {
    "duration": 5,
    "start_time": "2021-12-15T18:56:49.911Z"
   },
   {
    "duration": 2,
    "start_time": "2021-12-15T18:57:58.762Z"
   },
   {
    "duration": 197,
    "start_time": "2021-12-15T18:57:58.783Z"
   },
   {
    "duration": 11,
    "start_time": "2021-12-15T18:57:58.983Z"
   },
   {
    "duration": 35,
    "start_time": "2021-12-15T18:57:58.996Z"
   },
   {
    "duration": 4,
    "start_time": "2021-12-15T18:57:59.034Z"
   },
   {
    "duration": 31,
    "start_time": "2021-12-15T18:57:59.040Z"
   },
   {
    "duration": 8,
    "start_time": "2021-12-15T18:57:59.074Z"
   },
   {
    "duration": 27,
    "start_time": "2021-12-15T18:57:59.084Z"
   },
   {
    "duration": 19,
    "start_time": "2021-12-15T18:57:59.113Z"
   },
   {
    "duration": 57,
    "start_time": "2021-12-15T18:57:59.136Z"
   },
   {
    "duration": 82,
    "start_time": "2021-12-15T18:57:59.196Z"
   },
   {
    "duration": 130,
    "start_time": "2021-12-15T18:57:59.281Z"
   },
   {
    "duration": 56,
    "start_time": "2021-12-15T18:57:59.412Z"
   },
   {
    "duration": 45,
    "start_time": "2021-12-15T18:57:59.470Z"
   },
   {
    "duration": 3,
    "start_time": "2021-12-15T18:57:59.516Z"
   },
   {
    "duration": 12,
    "start_time": "2021-12-15T18:57:59.521Z"
   },
   {
    "duration": 71,
    "start_time": "2021-12-15T18:57:59.535Z"
   },
   {
    "duration": 82,
    "start_time": "2021-12-15T18:57:59.607Z"
   },
   {
    "duration": -843,
    "start_time": "2021-12-15T18:58:00.535Z"
   },
   {
    "duration": -852,
    "start_time": "2021-12-15T18:58:00.545Z"
   },
   {
    "duration": -864,
    "start_time": "2021-12-15T18:58:00.557Z"
   },
   {
    "duration": -872,
    "start_time": "2021-12-15T18:58:00.566Z"
   },
   {
    "duration": -879,
    "start_time": "2021-12-15T18:58:00.575Z"
   },
   {
    "duration": -890,
    "start_time": "2021-12-15T18:58:00.587Z"
   },
   {
    "duration": -900,
    "start_time": "2021-12-15T18:58:00.598Z"
   },
   {
    "duration": -944,
    "start_time": "2021-12-15T18:58:00.644Z"
   },
   {
    "duration": -955,
    "start_time": "2021-12-15T18:58:00.656Z"
   },
   {
    "duration": -967,
    "start_time": "2021-12-15T18:58:00.669Z"
   },
   {
    "duration": -977,
    "start_time": "2021-12-15T18:58:00.680Z"
   },
   {
    "duration": -993,
    "start_time": "2021-12-15T18:58:00.697Z"
   },
   {
    "duration": -1003,
    "start_time": "2021-12-15T18:58:00.708Z"
   },
   {
    "duration": -1011,
    "start_time": "2021-12-15T18:58:00.717Z"
   },
   {
    "duration": -1035,
    "start_time": "2021-12-15T18:58:00.742Z"
   },
   {
    "duration": -1069,
    "start_time": "2021-12-15T18:58:00.777Z"
   },
   {
    "duration": -1079,
    "start_time": "2021-12-15T18:58:00.788Z"
   },
   {
    "duration": -1093,
    "start_time": "2021-12-15T18:58:00.803Z"
   },
   {
    "duration": -1102,
    "start_time": "2021-12-15T18:58:00.813Z"
   },
   {
    "duration": -1111,
    "start_time": "2021-12-15T18:58:00.822Z"
   },
   {
    "duration": 89,
    "start_time": "2021-12-15T19:00:38.893Z"
   },
   {
    "duration": 87,
    "start_time": "2021-12-15T19:02:37.465Z"
   },
   {
    "duration": 4,
    "start_time": "2021-12-15T19:02:46.373Z"
   },
   {
    "duration": 151,
    "start_time": "2021-12-15T19:02:46.476Z"
   },
   {
    "duration": 12,
    "start_time": "2021-12-15T19:02:46.629Z"
   },
   {
    "duration": 54,
    "start_time": "2021-12-15T19:02:46.644Z"
   },
   {
    "duration": 4,
    "start_time": "2021-12-15T19:02:46.701Z"
   },
   {
    "duration": 17,
    "start_time": "2021-12-15T19:02:46.707Z"
   },
   {
    "duration": 7,
    "start_time": "2021-12-15T19:02:46.726Z"
   },
   {
    "duration": 53,
    "start_time": "2021-12-15T19:02:46.735Z"
   },
   {
    "duration": 17,
    "start_time": "2021-12-15T19:02:46.791Z"
   },
   {
    "duration": 28,
    "start_time": "2021-12-15T19:02:46.811Z"
   },
   {
    "duration": 68,
    "start_time": "2021-12-15T19:02:46.864Z"
   },
   {
    "duration": 97,
    "start_time": "2021-12-15T19:02:46.934Z"
   },
   {
    "duration": 68,
    "start_time": "2021-12-15T19:02:47.032Z"
   },
   {
    "duration": 40,
    "start_time": "2021-12-15T19:02:47.101Z"
   },
   {
    "duration": 2,
    "start_time": "2021-12-15T19:02:47.143Z"
   },
   {
    "duration": 20,
    "start_time": "2021-12-15T19:02:47.163Z"
   },
   {
    "duration": 69,
    "start_time": "2021-12-15T19:02:47.185Z"
   },
   {
    "duration": 87,
    "start_time": "2021-12-15T19:02:47.256Z"
   },
   {
    "duration": -1019,
    "start_time": "2021-12-15T19:02:48.365Z"
   },
   {
    "duration": -1028,
    "start_time": "2021-12-15T19:02:48.375Z"
   },
   {
    "duration": -1039,
    "start_time": "2021-12-15T19:02:48.387Z"
   },
   {
    "duration": -1047,
    "start_time": "2021-12-15T19:02:48.396Z"
   },
   {
    "duration": -1062,
    "start_time": "2021-12-15T19:02:48.412Z"
   },
   {
    "duration": -1072,
    "start_time": "2021-12-15T19:02:48.423Z"
   },
   {
    "duration": -1085,
    "start_time": "2021-12-15T19:02:48.437Z"
   },
   {
    "duration": -1097,
    "start_time": "2021-12-15T19:02:48.450Z"
   },
   {
    "duration": -1119,
    "start_time": "2021-12-15T19:02:48.473Z"
   },
   {
    "duration": -1132,
    "start_time": "2021-12-15T19:02:48.487Z"
   },
   {
    "duration": -1143,
    "start_time": "2021-12-15T19:02:48.499Z"
   },
   {
    "duration": -1155,
    "start_time": "2021-12-15T19:02:48.512Z"
   },
   {
    "duration": -1165,
    "start_time": "2021-12-15T19:02:48.523Z"
   },
   {
    "duration": -1176,
    "start_time": "2021-12-15T19:02:48.535Z"
   },
   {
    "duration": -1185,
    "start_time": "2021-12-15T19:02:48.545Z"
   },
   {
    "duration": -1196,
    "start_time": "2021-12-15T19:02:48.557Z"
   },
   {
    "duration": -1207,
    "start_time": "2021-12-15T19:02:48.569Z"
   },
   {
    "duration": -1228,
    "start_time": "2021-12-15T19:02:48.591Z"
   },
   {
    "duration": -1260,
    "start_time": "2021-12-15T19:02:48.624Z"
   },
   {
    "duration": -1268,
    "start_time": "2021-12-15T19:02:48.633Z"
   },
   {
    "duration": 147,
    "start_time": "2021-12-15T19:05:12.109Z"
   },
   {
    "duration": 10,
    "start_time": "2021-12-15T19:05:15.447Z"
   },
   {
    "duration": 3,
    "start_time": "2021-12-15T19:07:37.130Z"
   },
   {
    "duration": 158,
    "start_time": "2021-12-15T19:07:37.158Z"
   },
   {
    "duration": 12,
    "start_time": "2021-12-15T19:07:37.318Z"
   },
   {
    "duration": 47,
    "start_time": "2021-12-15T19:07:37.332Z"
   },
   {
    "duration": 9,
    "start_time": "2021-12-15T19:07:37.381Z"
   },
   {
    "duration": 11,
    "start_time": "2021-12-15T19:07:37.391Z"
   },
   {
    "duration": 6,
    "start_time": "2021-12-15T19:07:37.404Z"
   },
   {
    "duration": 23,
    "start_time": "2021-12-15T19:07:37.412Z"
   },
   {
    "duration": 53,
    "start_time": "2021-12-15T19:07:37.437Z"
   },
   {
    "duration": 22,
    "start_time": "2021-12-15T19:07:37.493Z"
   },
   {
    "duration": 108,
    "start_time": "2021-12-15T19:07:37.518Z"
   },
   {
    "duration": 140,
    "start_time": "2021-12-15T19:07:37.628Z"
   },
   {
    "duration": 99,
    "start_time": "2021-12-15T19:07:37.771Z"
   },
   {
    "duration": 60,
    "start_time": "2021-12-15T19:07:37.872Z"
   },
   {
    "duration": 3,
    "start_time": "2021-12-15T19:07:37.934Z"
   },
   {
    "duration": 33,
    "start_time": "2021-12-15T19:07:37.939Z"
   },
   {
    "duration": 46,
    "start_time": "2021-12-15T19:07:37.976Z"
   },
   {
    "duration": 10,
    "start_time": "2021-12-15T19:07:38.024Z"
   },
   {
    "duration": 32,
    "start_time": "2021-12-15T19:07:38.036Z"
   },
   {
    "duration": 8,
    "start_time": "2021-12-15T19:07:38.071Z"
   },
   {
    "duration": 20,
    "start_time": "2021-12-15T19:07:38.083Z"
   },
   {
    "duration": 23,
    "start_time": "2021-12-15T19:07:38.106Z"
   },
   {
    "duration": 48,
    "start_time": "2021-12-15T19:07:38.134Z"
   },
   {
    "duration": 15,
    "start_time": "2021-12-15T19:07:38.185Z"
   },
   {
    "duration": 18,
    "start_time": "2021-12-15T19:07:38.202Z"
   },
   {
    "duration": 44,
    "start_time": "2021-12-15T19:07:38.222Z"
   },
   {
    "duration": 11,
    "start_time": "2021-12-15T19:07:38.268Z"
   },
   {
    "duration": 14,
    "start_time": "2021-12-15T19:07:38.281Z"
   },
   {
    "duration": 9,
    "start_time": "2021-12-15T19:07:38.297Z"
   },
   {
    "duration": 3,
    "start_time": "2021-12-15T19:07:38.308Z"
   },
   {
    "duration": 56,
    "start_time": "2021-12-15T19:07:38.313Z"
   },
   {
    "duration": 17,
    "start_time": "2021-12-15T19:07:38.372Z"
   },
   {
    "duration": 17,
    "start_time": "2021-12-15T19:07:38.391Z"
   },
   {
    "duration": 12,
    "start_time": "2021-12-15T19:07:38.410Z"
   },
   {
    "duration": 50,
    "start_time": "2021-12-15T19:07:38.424Z"
   },
   {
    "duration": 7,
    "start_time": "2021-12-15T19:07:38.477Z"
   },
   {
    "duration": 11,
    "start_time": "2021-12-15T19:07:38.488Z"
   },
   {
    "duration": 7,
    "start_time": "2021-12-15T19:07:38.501Z"
   },
   {
    "duration": 541,
    "start_time": "2021-12-15T22:07:20.632Z"
   },
   {
    "duration": 145,
    "start_time": "2021-12-15T22:07:21.175Z"
   },
   {
    "duration": 18,
    "start_time": "2021-12-15T22:07:21.322Z"
   },
   {
    "duration": 41,
    "start_time": "2021-12-15T22:07:21.342Z"
   },
   {
    "duration": 8,
    "start_time": "2021-12-15T22:07:21.385Z"
   },
   {
    "duration": 13,
    "start_time": "2021-12-15T22:07:21.395Z"
   },
   {
    "duration": 6,
    "start_time": "2021-12-15T22:07:21.409Z"
   },
   {
    "duration": 26,
    "start_time": "2021-12-15T22:07:21.418Z"
   },
   {
    "duration": 18,
    "start_time": "2021-12-15T22:07:21.446Z"
   },
   {
    "duration": 48,
    "start_time": "2021-12-15T22:07:21.466Z"
   },
   {
    "duration": 62,
    "start_time": "2021-12-15T22:07:21.516Z"
   },
   {
    "duration": 72,
    "start_time": "2021-12-15T22:07:21.592Z"
   },
   {
    "duration": 65,
    "start_time": "2021-12-15T22:07:21.666Z"
   },
   {
    "duration": 41,
    "start_time": "2021-12-15T22:07:21.733Z"
   },
   {
    "duration": 16,
    "start_time": "2021-12-15T22:07:21.776Z"
   },
   {
    "duration": 12,
    "start_time": "2021-12-15T22:07:21.793Z"
   },
   {
    "duration": 41,
    "start_time": "2021-12-15T22:07:21.807Z"
   },
   {
    "duration": 11,
    "start_time": "2021-12-15T22:07:21.849Z"
   },
   {
    "duration": 34,
    "start_time": "2021-12-15T22:07:21.862Z"
   },
   {
    "duration": 3,
    "start_time": "2021-12-15T22:07:21.898Z"
   },
   {
    "duration": 24,
    "start_time": "2021-12-15T22:07:21.903Z"
   },
   {
    "duration": 14,
    "start_time": "2021-12-15T22:07:21.928Z"
   },
   {
    "duration": 13,
    "start_time": "2021-12-15T22:07:21.945Z"
   },
   {
    "duration": 44,
    "start_time": "2021-12-15T22:07:21.960Z"
   },
   {
    "duration": 26,
    "start_time": "2021-12-15T22:07:22.005Z"
   },
   {
    "duration": 23,
    "start_time": "2021-12-15T22:07:22.033Z"
   },
   {
    "duration": 7,
    "start_time": "2021-12-15T22:07:22.058Z"
   },
   {
    "duration": 28,
    "start_time": "2021-12-15T22:07:22.066Z"
   },
   {
    "duration": 26,
    "start_time": "2021-12-15T22:07:22.095Z"
   },
   {
    "duration": 13,
    "start_time": "2021-12-15T22:07:22.123Z"
   },
   {
    "duration": 46,
    "start_time": "2021-12-15T22:07:22.138Z"
   },
   {
    "duration": 15,
    "start_time": "2021-12-15T22:07:22.187Z"
   },
   {
    "duration": 18,
    "start_time": "2021-12-15T22:07:22.203Z"
   },
   {
    "duration": 12,
    "start_time": "2021-12-15T22:07:22.222Z"
   },
   {
    "duration": 12,
    "start_time": "2021-12-15T22:07:22.236Z"
   },
   {
    "duration": 4,
    "start_time": "2021-12-15T22:07:22.250Z"
   },
   {
    "duration": 40,
    "start_time": "2021-12-15T22:07:22.256Z"
   },
   {
    "duration": 5,
    "start_time": "2021-12-15T22:07:22.298Z"
   },
   {
    "duration": 476,
    "start_time": "2022-04-13T20:07:45.639Z"
   },
   {
    "duration": 214,
    "start_time": "2022-04-13T20:07:46.119Z"
   },
   {
    "duration": 28,
    "start_time": "2022-04-13T20:07:46.335Z"
   },
   {
    "duration": 42,
    "start_time": "2022-04-13T20:07:46.395Z"
   },
   {
    "duration": 6,
    "start_time": "2022-04-13T20:07:46.440Z"
   },
   {
    "duration": 7,
    "start_time": "2022-04-13T20:07:46.448Z"
   },
   {
    "duration": 37,
    "start_time": "2022-04-13T20:07:46.457Z"
   },
   {
    "duration": 57,
    "start_time": "2022-04-13T20:07:46.497Z"
   },
   {
    "duration": 57,
    "start_time": "2022-04-13T20:07:46.557Z"
   },
   {
    "duration": 73,
    "start_time": "2022-04-13T20:07:46.619Z"
   },
   {
    "duration": 128,
    "start_time": "2022-04-13T20:07:46.696Z"
   },
   {
    "duration": 121,
    "start_time": "2022-04-13T20:07:46.826Z"
   },
   {
    "duration": 102,
    "start_time": "2022-04-13T20:07:46.950Z"
   },
   {
    "duration": 67,
    "start_time": "2022-04-13T20:07:47.054Z"
   },
   {
    "duration": 5,
    "start_time": "2022-04-13T20:07:47.124Z"
   },
   {
    "duration": 18,
    "start_time": "2022-04-13T20:07:47.131Z"
   },
   {
    "duration": 79,
    "start_time": "2022-04-13T20:07:47.152Z"
   },
   {
    "duration": 17,
    "start_time": "2022-04-13T20:07:47.233Z"
   },
   {
    "duration": 43,
    "start_time": "2022-04-13T20:07:47.252Z"
   },
   {
    "duration": 7,
    "start_time": "2022-04-13T20:07:47.298Z"
   },
   {
    "duration": 22,
    "start_time": "2022-04-13T20:07:47.428Z"
   },
   {
    "duration": 21,
    "start_time": "2022-04-13T20:07:47.456Z"
   },
   {
    "duration": 28,
    "start_time": "2022-04-13T20:07:47.481Z"
   },
   {
    "duration": 23,
    "start_time": "2022-04-13T20:07:47.512Z"
   },
   {
    "duration": 22,
    "start_time": "2022-04-13T20:07:47.538Z"
   },
   {
    "duration": 43,
    "start_time": "2022-04-13T20:07:47.562Z"
   },
   {
    "duration": 12,
    "start_time": "2022-04-13T20:07:47.654Z"
   },
   {
    "duration": 17,
    "start_time": "2022-04-13T20:07:47.772Z"
   },
   {
    "duration": 14,
    "start_time": "2022-04-13T20:07:47.804Z"
   },
   {
    "duration": 6,
    "start_time": "2022-04-13T20:07:47.880Z"
   },
   {
    "duration": 28,
    "start_time": "2022-04-13T20:07:47.970Z"
   },
   {
    "duration": 19,
    "start_time": "2022-04-13T20:07:48.002Z"
   },
   {
    "duration": 24,
    "start_time": "2022-04-13T20:07:48.024Z"
   },
   {
    "duration": 53,
    "start_time": "2022-04-13T20:07:48.052Z"
   },
   {
    "duration": 20,
    "start_time": "2022-04-13T20:07:48.108Z"
   },
   {
    "duration": 7,
    "start_time": "2022-04-13T20:07:48.187Z"
   },
   {
    "duration": 13,
    "start_time": "2022-04-13T20:07:48.294Z"
   },
   {
    "duration": 9,
    "start_time": "2022-04-13T20:07:48.383Z"
   },
   {
    "duration": 540,
    "start_time": "2022-04-13T20:10:02.024Z"
   },
   {
    "duration": 207,
    "start_time": "2022-04-13T20:10:02.567Z"
   },
   {
    "duration": 32,
    "start_time": "2022-04-13T20:10:02.776Z"
   },
   {
    "duration": 40,
    "start_time": "2022-04-13T20:10:02.811Z"
   },
   {
    "duration": 6,
    "start_time": "2022-04-13T20:10:02.854Z"
   },
   {
    "duration": 4,
    "start_time": "2022-04-13T20:10:02.893Z"
   },
   {
    "duration": 8,
    "start_time": "2022-04-13T20:10:02.900Z"
   },
   {
    "duration": 41,
    "start_time": "2022-04-13T20:10:02.910Z"
   },
   {
    "duration": 49,
    "start_time": "2022-04-13T20:10:02.953Z"
   },
   {
    "duration": 35,
    "start_time": "2022-04-13T20:10:03.006Z"
   },
   {
    "duration": 120,
    "start_time": "2022-04-13T20:10:03.043Z"
   },
   {
    "duration": 128,
    "start_time": "2022-04-13T20:10:03.165Z"
   },
   {
    "duration": 102,
    "start_time": "2022-04-13T20:10:03.295Z"
   },
   {
    "duration": 57,
    "start_time": "2022-04-13T20:10:03.399Z"
   },
   {
    "duration": 4,
    "start_time": "2022-04-13T20:10:03.459Z"
   },
   {
    "duration": 44,
    "start_time": "2022-04-13T20:10:03.466Z"
   },
   {
    "duration": 103,
    "start_time": "2022-04-13T20:10:03.514Z"
   },
   {
    "duration": 27,
    "start_time": "2022-04-13T20:10:03.619Z"
   },
   {
    "duration": 50,
    "start_time": "2022-04-13T20:10:03.649Z"
   },
   {
    "duration": 7,
    "start_time": "2022-04-13T20:10:03.702Z"
   },
   {
    "duration": 27,
    "start_time": "2022-04-13T20:10:03.712Z"
   },
   {
    "duration": 22,
    "start_time": "2022-04-13T20:10:03.742Z"
   },
   {
    "duration": 21,
    "start_time": "2022-04-13T20:10:03.792Z"
   },
   {
    "duration": 20,
    "start_time": "2022-04-13T20:10:03.815Z"
   },
   {
    "duration": 57,
    "start_time": "2022-04-13T20:10:03.837Z"
   },
   {
    "duration": 21,
    "start_time": "2022-04-13T20:10:03.896Z"
   },
   {
    "duration": 12,
    "start_time": "2022-04-13T20:10:03.919Z"
   },
   {
    "duration": 16,
    "start_time": "2022-04-13T20:10:03.936Z"
   },
   {
    "duration": 42,
    "start_time": "2022-04-13T20:10:03.954Z"
   },
   {
    "duration": 6,
    "start_time": "2022-04-13T20:10:03.998Z"
   },
   {
    "duration": 34,
    "start_time": "2022-04-13T20:10:04.006Z"
   },
   {
    "duration": 52,
    "start_time": "2022-04-13T20:10:04.043Z"
   },
   {
    "duration": 37,
    "start_time": "2022-04-13T20:10:04.098Z"
   },
   {
    "duration": 24,
    "start_time": "2022-04-13T20:10:04.139Z"
   },
   {
    "duration": 52,
    "start_time": "2022-04-13T20:10:04.166Z"
   },
   {
    "duration": 8,
    "start_time": "2022-04-13T20:10:04.221Z"
   },
   {
    "duration": 16,
    "start_time": "2022-04-13T20:10:04.232Z"
   },
   {
    "duration": 42,
    "start_time": "2022-04-13T20:10:04.251Z"
   }
  ],
  "colab": {
   "collapsed_sections": [
    "E0vqbgi9ay0H",
    "VUC88oWjTJw2"
   ],
   "name": "yandex_music_project_2021.2.ipynb",
   "provenance": []
  },
  "kernelspec": {
   "display_name": "Python 3 (ipykernel)",
   "language": "python",
   "name": "python3"
  },
  "language_info": {
   "codemirror_mode": {
    "name": "ipython",
    "version": 3
   },
   "file_extension": ".py",
   "mimetype": "text/x-python",
   "name": "python",
   "nbconvert_exporter": "python",
   "pygments_lexer": "ipython3",
   "version": "3.9.5"
  },
  "toc": {
   "base_numbering": 1,
   "nav_menu": {},
   "number_sections": true,
   "sideBar": true,
   "skip_h1_title": true,
   "title_cell": "Table of Contents",
   "title_sidebar": "Contents",
   "toc_cell": false,
   "toc_position": {
    "height": "calc(100% - 180px)",
    "left": "10px",
    "top": "150px",
    "width": "165px"
   },
   "toc_section_display": true,
   "toc_window_display": true
  }
 },
 "nbformat": 4,
 "nbformat_minor": 1
}
